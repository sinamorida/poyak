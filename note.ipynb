{
 "cells": [
  {
   "cell_type": "code",
   "execution_count": null,
   "id": "b2caffcb",
   "metadata": {},
   "outputs": [
    {
     "name": "stdout",
     "output_type": "stream",
     "text": [
      "--- ۱. ساخت ویژگی‌های مهندسی برای تحلیل عملکرد محصول ---\n",
      "ویژگی‌های 'سن کنتور' و 'شاخص کیفیت داده (DQI)' با موفقیت محاسبه شدند.\n",
      "\n",
      "--- ۲. تحلیل تأثیر 'سن کنتور' بر عملکرد و قابلیت اطمینان ---\n",
      "ضریب همبستگی پیرسون بین سن کنتور و شاخص کیفیت داده (DQI): 0.631\n",
      "\n",
      "میانگین شاخص کیفیت داده (DQI) به تفکیک گروه سنی کنتور:\n",
      "  Age_Group    DQI\n",
      "0   < 1 سال  0.000\n",
      "1   1-2 سال  0.071\n",
      "2   2-3 سال  0.021\n",
      "3   > 3 سال  0.734\n"
     ]
    },
    {
     "name": "stderr",
     "output_type": "stream",
     "text": [
      "/tmp/ipykernel_80000/3109964279.py:46: FutureWarning: The default of observed=False is deprecated and will be changed to True in a future version of pandas. Pass observed=False to retain current behavior or observed=True to adopt the future default and silence this warning.\n",
      "  dqi_by_age = df_aged.groupby('Age_Group')['DQI'].mean().reset_index()\n"
     ]
    },
    {
     "data": {
      "application/vnd.plotly.v1+json": {
       "config": {
        "plotlyServerURL": "https://plot.ly"
       },
       "data": [
        {
         "hovertemplate": "سن کنتور (روز)=%{x}<br>شاخص کیفیت داده (DQI)=%{y}<extra></extra>",
         "legendgroup": "",
         "marker": {
          "color": "#636efa",
          "opacity": 0.6,
          "size": 8,
          "symbol": "circle"
         },
         "mode": "markers",
         "name": "",
         "orientation": "v",
         "showlegend": false,
         "type": "scatter",
         "x": {
          "bdata": "PgIsBtYBPAQaBDIGNgLTAUAD+wUnA3kFdwX6Bb8CfwX+BQQG5Qb7BpoFMwf3BuQGewXHA/QG9AYdBrYF0gPiBWkFRQdmBfIB9QW3BWAFpQMBBuYDvgIoBvYBlAWaA9QDIgRxBUoCrAWGBbMFGweOBQMGgwOlBesG2gVBB0ICogOYBRIFKwb8BhwGVQUlBucF+Qb8Bf0D6AUCBoUFggWFBQYHBgc1A38FEAPzBfAF7wWWBSgGIgdqBZcCqQOXBVgE6AUtBjwC+Ab+BagFAgN+BV0FCQNcBVsFUQFPAUgBQgFLBEsEDARLBAsEUAhQCPgD9AP2A/kD9QPvAmABUAgeAYoE8ALKA8cClgOVA7MGPQFMAaQAPgFMATIBPAFQCFAImAIxA5ADkQOOA5EDhgNqA4UDaANpA24DhgOOA48DhQOEA4cDhwNrA20DjQNsA2cDbgNtA2YCZwKnAWoHCwEjASABBwEHAb8AFQERAR0BJwEPAQoBLAErARYBFwEvARcBKgEXAQgBNAHmABgB",
          "dtype": "i2"
         },
         "xaxis": "x",
         "y": {
          "bdata": "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",
          "dtype": "f8"
         },
         "yaxis": "y"
        },
        {
         "hovertemplate": "<b>OLS trendline</b><br>DQI = 0.000547773 * Meter_Age_Days + -0.239508<br>R<sup>2</sup>=0.398408<br><br>سن کنتور (روز)=%{x}<br>شاخص کیفیت داده (DQI)=%{y} <b>(trend)</b><extra></extra>",
         "legendgroup": "",
         "marker": {
          "color": "#636efa",
          "symbol": "circle"
         },
         "mode": "lines",
         "name": "",
         "showlegend": false,
         "type": "scatter",
         "x": {
          "bdata": "pAC/AOYABwEHAQgBCgELAQ8BEQEVARYBFwEXARcBGAEdAR4BIAEjAScBKgErASwBLwEyATQBPAE9AT4BQgFIAUwBTAFPAVEBYAGnAdMB1gHyAfYBNgI8Aj4CQgJKAmYCZwKXApgCvgK/AscC7wLwAgIDCQMQAycDMQM1A0ADZwNoA2kDagNrA2wDbQNtA24DbgODA4QDhQOFA4YDhgOHA4cDjQOOA44DjwOQA5EDkQOVA5YDmgOiA6UDqQPHA8oD0gPUA+YD9AP1A/YD+AP5A/0DCwQMBBoEIgQ8BEsESwRLBFgEigQSBVUFWwVcBV0FYAVmBWkFagVxBXcFeQV7BX4FfwV/BYIFhQWFBYYFjgWUBZYFlwWYBZoFpQWoBawFswW2BbcF2gXiBecF6AXoBe8F8AXzBfUF+gX7BfwF/gX+BQEGAgYDBgQGHAYdBiUGKAYoBisGLAYtBjIGswbkBuUG6wb0BvQG9wb4BvkG+wb8BgYHBgcbByIHMwdBB0UHagdQCFAIUAhQCFAI",
          "dtype": "i2"
         },
         "xaxis": "x",
         "y": {
          "bdata": "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",
          "dtype": "f8"
         },
         "yaxis": "y"
        }
       ],
       "layout": {
        "font": {
         "family": "Tahoma"
        },
        "legend": {
         "tracegroupgap": 0
        },
        "paper_bgcolor": "white",
        "plot_bgcolor": "white",
        "template": {
         "data": {
          "bar": [
           {
            "error_x": {
             "color": "#2a3f5f"
            },
            "error_y": {
             "color": "#2a3f5f"
            },
            "marker": {
             "line": {
              "color": "#E5ECF6",
              "width": 0.5
             },
             "pattern": {
              "fillmode": "overlay",
              "size": 10,
              "solidity": 0.2
             }
            },
            "type": "bar"
           }
          ],
          "barpolar": [
           {
            "marker": {
             "line": {
              "color": "#E5ECF6",
              "width": 0.5
             },
             "pattern": {
              "fillmode": "overlay",
              "size": 10,
              "solidity": 0.2
             }
            },
            "type": "barpolar"
           }
          ],
          "carpet": [
           {
            "aaxis": {
             "endlinecolor": "#2a3f5f",
             "gridcolor": "white",
             "linecolor": "white",
             "minorgridcolor": "white",
             "startlinecolor": "#2a3f5f"
            },
            "baxis": {
             "endlinecolor": "#2a3f5f",
             "gridcolor": "white",
             "linecolor": "white",
             "minorgridcolor": "white",
             "startlinecolor": "#2a3f5f"
            },
            "type": "carpet"
           }
          ],
          "choropleth": [
           {
            "colorbar": {
             "outlinewidth": 0,
             "ticks": ""
            },
            "type": "choropleth"
           }
          ],
          "contour": [
           {
            "colorbar": {
             "outlinewidth": 0,
             "ticks": ""
            },
            "colorscale": [
             [
              0,
              "#0d0887"
             ],
             [
              0.1111111111111111,
              "#46039f"
             ],
             [
              0.2222222222222222,
              "#7201a8"
             ],
             [
              0.3333333333333333,
              "#9c179e"
             ],
             [
              0.4444444444444444,
              "#bd3786"
             ],
             [
              0.5555555555555556,
              "#d8576b"
             ],
             [
              0.6666666666666666,
              "#ed7953"
             ],
             [
              0.7777777777777778,
              "#fb9f3a"
             ],
             [
              0.8888888888888888,
              "#fdca26"
             ],
             [
              1,
              "#f0f921"
             ]
            ],
            "type": "contour"
           }
          ],
          "contourcarpet": [
           {
            "colorbar": {
             "outlinewidth": 0,
             "ticks": ""
            },
            "type": "contourcarpet"
           }
          ],
          "heatmap": [
           {
            "colorbar": {
             "outlinewidth": 0,
             "ticks": ""
            },
            "colorscale": [
             [
              0,
              "#0d0887"
             ],
             [
              0.1111111111111111,
              "#46039f"
             ],
             [
              0.2222222222222222,
              "#7201a8"
             ],
             [
              0.3333333333333333,
              "#9c179e"
             ],
             [
              0.4444444444444444,
              "#bd3786"
             ],
             [
              0.5555555555555556,
              "#d8576b"
             ],
             [
              0.6666666666666666,
              "#ed7953"
             ],
             [
              0.7777777777777778,
              "#fb9f3a"
             ],
             [
              0.8888888888888888,
              "#fdca26"
             ],
             [
              1,
              "#f0f921"
             ]
            ],
            "type": "heatmap"
           }
          ],
          "histogram": [
           {
            "marker": {
             "pattern": {
              "fillmode": "overlay",
              "size": 10,
              "solidity": 0.2
             }
            },
            "type": "histogram"
           }
          ],
          "histogram2d": [
           {
            "colorbar": {
             "outlinewidth": 0,
             "ticks": ""
            },
            "colorscale": [
             [
              0,
              "#0d0887"
             ],
             [
              0.1111111111111111,
              "#46039f"
             ],
             [
              0.2222222222222222,
              "#7201a8"
             ],
             [
              0.3333333333333333,
              "#9c179e"
             ],
             [
              0.4444444444444444,
              "#bd3786"
             ],
             [
              0.5555555555555556,
              "#d8576b"
             ],
             [
              0.6666666666666666,
              "#ed7953"
             ],
             [
              0.7777777777777778,
              "#fb9f3a"
             ],
             [
              0.8888888888888888,
              "#fdca26"
             ],
             [
              1,
              "#f0f921"
             ]
            ],
            "type": "histogram2d"
           }
          ],
          "histogram2dcontour": [
           {
            "colorbar": {
             "outlinewidth": 0,
             "ticks": ""
            },
            "colorscale": [
             [
              0,
              "#0d0887"
             ],
             [
              0.1111111111111111,
              "#46039f"
             ],
             [
              0.2222222222222222,
              "#7201a8"
             ],
             [
              0.3333333333333333,
              "#9c179e"
             ],
             [
              0.4444444444444444,
              "#bd3786"
             ],
             [
              0.5555555555555556,
              "#d8576b"
             ],
             [
              0.6666666666666666,
              "#ed7953"
             ],
             [
              0.7777777777777778,
              "#fb9f3a"
             ],
             [
              0.8888888888888888,
              "#fdca26"
             ],
             [
              1,
              "#f0f921"
             ]
            ],
            "type": "histogram2dcontour"
           }
          ],
          "mesh3d": [
           {
            "colorbar": {
             "outlinewidth": 0,
             "ticks": ""
            },
            "type": "mesh3d"
           }
          ],
          "parcoords": [
           {
            "line": {
             "colorbar": {
              "outlinewidth": 0,
              "ticks": ""
             }
            },
            "type": "parcoords"
           }
          ],
          "pie": [
           {
            "automargin": true,
            "type": "pie"
           }
          ],
          "scatter": [
           {
            "fillpattern": {
             "fillmode": "overlay",
             "size": 10,
             "solidity": 0.2
            },
            "type": "scatter"
           }
          ],
          "scatter3d": [
           {
            "line": {
             "colorbar": {
              "outlinewidth": 0,
              "ticks": ""
             }
            },
            "marker": {
             "colorbar": {
              "outlinewidth": 0,
              "ticks": ""
             }
            },
            "type": "scatter3d"
           }
          ],
          "scattercarpet": [
           {
            "marker": {
             "colorbar": {
              "outlinewidth": 0,
              "ticks": ""
             }
            },
            "type": "scattercarpet"
           }
          ],
          "scattergeo": [
           {
            "marker": {
             "colorbar": {
              "outlinewidth": 0,
              "ticks": ""
             }
            },
            "type": "scattergeo"
           }
          ],
          "scattergl": [
           {
            "marker": {
             "colorbar": {
              "outlinewidth": 0,
              "ticks": ""
             }
            },
            "type": "scattergl"
           }
          ],
          "scattermap": [
           {
            "marker": {
             "colorbar": {
              "outlinewidth": 0,
              "ticks": ""
             }
            },
            "type": "scattermap"
           }
          ],
          "scattermapbox": [
           {
            "marker": {
             "colorbar": {
              "outlinewidth": 0,
              "ticks": ""
             }
            },
            "type": "scattermapbox"
           }
          ],
          "scatterpolar": [
           {
            "marker": {
             "colorbar": {
              "outlinewidth": 0,
              "ticks": ""
             }
            },
            "type": "scatterpolar"
           }
          ],
          "scatterpolargl": [
           {
            "marker": {
             "colorbar": {
              "outlinewidth": 0,
              "ticks": ""
             }
            },
            "type": "scatterpolargl"
           }
          ],
          "scatterternary": [
           {
            "marker": {
             "colorbar": {
              "outlinewidth": 0,
              "ticks": ""
             }
            },
            "type": "scatterternary"
           }
          ],
          "surface": [
           {
            "colorbar": {
             "outlinewidth": 0,
             "ticks": ""
            },
            "colorscale": [
             [
              0,
              "#0d0887"
             ],
             [
              0.1111111111111111,
              "#46039f"
             ],
             [
              0.2222222222222222,
              "#7201a8"
             ],
             [
              0.3333333333333333,
              "#9c179e"
             ],
             [
              0.4444444444444444,
              "#bd3786"
             ],
             [
              0.5555555555555556,
              "#d8576b"
             ],
             [
              0.6666666666666666,
              "#ed7953"
             ],
             [
              0.7777777777777778,
              "#fb9f3a"
             ],
             [
              0.8888888888888888,
              "#fdca26"
             ],
             [
              1,
              "#f0f921"
             ]
            ],
            "type": "surface"
           }
          ],
          "table": [
           {
            "cells": {
             "fill": {
              "color": "#EBF0F8"
             },
             "line": {
              "color": "white"
             }
            },
            "header": {
             "fill": {
              "color": "#C8D4E3"
             },
             "line": {
              "color": "white"
             }
            },
            "type": "table"
           }
          ]
         },
         "layout": {
          "annotationdefaults": {
           "arrowcolor": "#2a3f5f",
           "arrowhead": 0,
           "arrowwidth": 1
          },
          "autotypenumbers": "strict",
          "coloraxis": {
           "colorbar": {
            "outlinewidth": 0,
            "ticks": ""
           }
          },
          "colorscale": {
           "diverging": [
            [
             0,
             "#8e0152"
            ],
            [
             0.1,
             "#c51b7d"
            ],
            [
             0.2,
             "#de77ae"
            ],
            [
             0.3,
             "#f1b6da"
            ],
            [
             0.4,
             "#fde0ef"
            ],
            [
             0.5,
             "#f7f7f7"
            ],
            [
             0.6,
             "#e6f5d0"
            ],
            [
             0.7,
             "#b8e186"
            ],
            [
             0.8,
             "#7fbc41"
            ],
            [
             0.9,
             "#4d9221"
            ],
            [
             1,
             "#276419"
            ]
           ],
           "sequential": [
            [
             0,
             "#0d0887"
            ],
            [
             0.1111111111111111,
             "#46039f"
            ],
            [
             0.2222222222222222,
             "#7201a8"
            ],
            [
             0.3333333333333333,
             "#9c179e"
            ],
            [
             0.4444444444444444,
             "#bd3786"
            ],
            [
             0.5555555555555556,
             "#d8576b"
            ],
            [
             0.6666666666666666,
             "#ed7953"
            ],
            [
             0.7777777777777778,
             "#fb9f3a"
            ],
            [
             0.8888888888888888,
             "#fdca26"
            ],
            [
             1,
             "#f0f921"
            ]
           ],
           "sequentialminus": [
            [
             0,
             "#0d0887"
            ],
            [
             0.1111111111111111,
             "#46039f"
            ],
            [
             0.2222222222222222,
             "#7201a8"
            ],
            [
             0.3333333333333333,
             "#9c179e"
            ],
            [
             0.4444444444444444,
             "#bd3786"
            ],
            [
             0.5555555555555556,
             "#d8576b"
            ],
            [
             0.6666666666666666,
             "#ed7953"
            ],
            [
             0.7777777777777778,
             "#fb9f3a"
            ],
            [
             0.8888888888888888,
             "#fdca26"
            ],
            [
             1,
             "#f0f921"
            ]
           ]
          },
          "colorway": [
           "#636efa",
           "#EF553B",
           "#00cc96",
           "#ab63fa",
           "#FFA15A",
           "#19d3f3",
           "#FF6692",
           "#B6E880",
           "#FF97FF",
           "#FECB52"
          ],
          "font": {
           "color": "#2a3f5f"
          },
          "geo": {
           "bgcolor": "white",
           "lakecolor": "white",
           "landcolor": "#E5ECF6",
           "showlakes": true,
           "showland": true,
           "subunitcolor": "white"
          },
          "hoverlabel": {
           "align": "left"
          },
          "hovermode": "closest",
          "mapbox": {
           "style": "light"
          },
          "paper_bgcolor": "white",
          "plot_bgcolor": "#E5ECF6",
          "polar": {
           "angularaxis": {
            "gridcolor": "white",
            "linecolor": "white",
            "ticks": ""
           },
           "bgcolor": "#E5ECF6",
           "radialaxis": {
            "gridcolor": "white",
            "linecolor": "white",
            "ticks": ""
           }
          },
          "scene": {
           "xaxis": {
            "backgroundcolor": "#E5ECF6",
            "gridcolor": "white",
            "gridwidth": 2,
            "linecolor": "white",
            "showbackground": true,
            "ticks": "",
            "zerolinecolor": "white"
           },
           "yaxis": {
            "backgroundcolor": "#E5ECF6",
            "gridcolor": "white",
            "gridwidth": 2,
            "linecolor": "white",
            "showbackground": true,
            "ticks": "",
            "zerolinecolor": "white"
           },
           "zaxis": {
            "backgroundcolor": "#E5ECF6",
            "gridcolor": "white",
            "gridwidth": 2,
            "linecolor": "white",
            "showbackground": true,
            "ticks": "",
            "zerolinecolor": "white"
           }
          },
          "shapedefaults": {
           "line": {
            "color": "#2a3f5f"
           }
          },
          "ternary": {
           "aaxis": {
            "gridcolor": "white",
            "linecolor": "white",
            "ticks": ""
           },
           "baxis": {
            "gridcolor": "white",
            "linecolor": "white",
            "ticks": ""
           },
           "bgcolor": "#E5ECF6",
           "caxis": {
            "gridcolor": "white",
            "linecolor": "white",
            "ticks": ""
           }
          },
          "title": {
           "x": 0.05
          },
          "xaxis": {
           "automargin": true,
           "gridcolor": "white",
           "linecolor": "white",
           "ticks": "",
           "title": {
            "standoff": 15
           },
           "zerolinecolor": "white",
           "zerolinewidth": 2
          },
          "yaxis": {
           "automargin": true,
           "gridcolor": "white",
           "linecolor": "white",
           "ticks": "",
           "title": {
            "standoff": 15
           },
           "zerolinecolor": "white",
           "zerolinewidth": 2
          }
         }
        },
        "title": {
         "font": {
          "size": 20
         },
         "text": "رابطه بین سن کنتور و شاخص کیفیت داده (DQI)",
         "x": 0.5
        },
        "xaxis": {
         "anchor": "y",
         "domain": [
          0,
          1
         ],
         "title": {
          "text": "سن کنتور (روز)"
         }
        },
        "yaxis": {
         "anchor": "x",
         "domain": [
          0,
          1
         ],
         "title": {
          "text": "شاخص کیفیت داده (DQI)"
         }
        }
       }
      }
     },
     "metadata": {},
     "output_type": "display_data"
    },
    {
     "name": "stdout",
     "output_type": "stream",
     "text": [
      "\n",
      "--- ۳. ریشه‌یابی دلایل اصلی افت عملکرد در کنتورهای ضعیف ---\n",
      "تحلیل دلایل خرابی برای کنتورهای با DQI پایین:\n",
      "Failure_Mode\n",
      "خطای سخت‌افزار/باتری    126\n",
      "Name: count, dtype: int64\n"
     ]
    },
    {
     "data": {
      "application/vnd.plotly.v1+json": {
       "config": {
        "plotlyServerURL": "https://plot.ly"
       },
       "data": [
        {
         "labels": [
          "خطای سخت‌افزار/باتری"
         ],
         "marker": {
          "colors": [
           "#ff9999",
           "#66b3ff",
           "#99ff99"
          ]
         },
         "textinfo": "label+percent",
         "textposition": "inside",
         "type": "pie",
         "values": {
          "bdata": "fg==",
          "dtype": "i1"
         }
        }
       ],
       "layout": {
        "font": {
         "family": "Tahoma"
        },
        "template": {
         "data": {
          "bar": [
           {
            "error_x": {
             "color": "#2a3f5f"
            },
            "error_y": {
             "color": "#2a3f5f"
            },
            "marker": {
             "line": {
              "color": "#E5ECF6",
              "width": 0.5
             },
             "pattern": {
              "fillmode": "overlay",
              "size": 10,
              "solidity": 0.2
             }
            },
            "type": "bar"
           }
          ],
          "barpolar": [
           {
            "marker": {
             "line": {
              "color": "#E5ECF6",
              "width": 0.5
             },
             "pattern": {
              "fillmode": "overlay",
              "size": 10,
              "solidity": 0.2
             }
            },
            "type": "barpolar"
           }
          ],
          "carpet": [
           {
            "aaxis": {
             "endlinecolor": "#2a3f5f",
             "gridcolor": "white",
             "linecolor": "white",
             "minorgridcolor": "white",
             "startlinecolor": "#2a3f5f"
            },
            "baxis": {
             "endlinecolor": "#2a3f5f",
             "gridcolor": "white",
             "linecolor": "white",
             "minorgridcolor": "white",
             "startlinecolor": "#2a3f5f"
            },
            "type": "carpet"
           }
          ],
          "choropleth": [
           {
            "colorbar": {
             "outlinewidth": 0,
             "ticks": ""
            },
            "type": "choropleth"
           }
          ],
          "contour": [
           {
            "colorbar": {
             "outlinewidth": 0,
             "ticks": ""
            },
            "colorscale": [
             [
              0,
              "#0d0887"
             ],
             [
              0.1111111111111111,
              "#46039f"
             ],
             [
              0.2222222222222222,
              "#7201a8"
             ],
             [
              0.3333333333333333,
              "#9c179e"
             ],
             [
              0.4444444444444444,
              "#bd3786"
             ],
             [
              0.5555555555555556,
              "#d8576b"
             ],
             [
              0.6666666666666666,
              "#ed7953"
             ],
             [
              0.7777777777777778,
              "#fb9f3a"
             ],
             [
              0.8888888888888888,
              "#fdca26"
             ],
             [
              1,
              "#f0f921"
             ]
            ],
            "type": "contour"
           }
          ],
          "contourcarpet": [
           {
            "colorbar": {
             "outlinewidth": 0,
             "ticks": ""
            },
            "type": "contourcarpet"
           }
          ],
          "heatmap": [
           {
            "colorbar": {
             "outlinewidth": 0,
             "ticks": ""
            },
            "colorscale": [
             [
              0,
              "#0d0887"
             ],
             [
              0.1111111111111111,
              "#46039f"
             ],
             [
              0.2222222222222222,
              "#7201a8"
             ],
             [
              0.3333333333333333,
              "#9c179e"
             ],
             [
              0.4444444444444444,
              "#bd3786"
             ],
             [
              0.5555555555555556,
              "#d8576b"
             ],
             [
              0.6666666666666666,
              "#ed7953"
             ],
             [
              0.7777777777777778,
              "#fb9f3a"
             ],
             [
              0.8888888888888888,
              "#fdca26"
             ],
             [
              1,
              "#f0f921"
             ]
            ],
            "type": "heatmap"
           }
          ],
          "histogram": [
           {
            "marker": {
             "pattern": {
              "fillmode": "overlay",
              "size": 10,
              "solidity": 0.2
             }
            },
            "type": "histogram"
           }
          ],
          "histogram2d": [
           {
            "colorbar": {
             "outlinewidth": 0,
             "ticks": ""
            },
            "colorscale": [
             [
              0,
              "#0d0887"
             ],
             [
              0.1111111111111111,
              "#46039f"
             ],
             [
              0.2222222222222222,
              "#7201a8"
             ],
             [
              0.3333333333333333,
              "#9c179e"
             ],
             [
              0.4444444444444444,
              "#bd3786"
             ],
             [
              0.5555555555555556,
              "#d8576b"
             ],
             [
              0.6666666666666666,
              "#ed7953"
             ],
             [
              0.7777777777777778,
              "#fb9f3a"
             ],
             [
              0.8888888888888888,
              "#fdca26"
             ],
             [
              1,
              "#f0f921"
             ]
            ],
            "type": "histogram2d"
           }
          ],
          "histogram2dcontour": [
           {
            "colorbar": {
             "outlinewidth": 0,
             "ticks": ""
            },
            "colorscale": [
             [
              0,
              "#0d0887"
             ],
             [
              0.1111111111111111,
              "#46039f"
             ],
             [
              0.2222222222222222,
              "#7201a8"
             ],
             [
              0.3333333333333333,
              "#9c179e"
             ],
             [
              0.4444444444444444,
              "#bd3786"
             ],
             [
              0.5555555555555556,
              "#d8576b"
             ],
             [
              0.6666666666666666,
              "#ed7953"
             ],
             [
              0.7777777777777778,
              "#fb9f3a"
             ],
             [
              0.8888888888888888,
              "#fdca26"
             ],
             [
              1,
              "#f0f921"
             ]
            ],
            "type": "histogram2dcontour"
           }
          ],
          "mesh3d": [
           {
            "colorbar": {
             "outlinewidth": 0,
             "ticks": ""
            },
            "type": "mesh3d"
           }
          ],
          "parcoords": [
           {
            "line": {
             "colorbar": {
              "outlinewidth": 0,
              "ticks": ""
             }
            },
            "type": "parcoords"
           }
          ],
          "pie": [
           {
            "automargin": true,
            "type": "pie"
           }
          ],
          "scatter": [
           {
            "fillpattern": {
             "fillmode": "overlay",
             "size": 10,
             "solidity": 0.2
            },
            "type": "scatter"
           }
          ],
          "scatter3d": [
           {
            "line": {
             "colorbar": {
              "outlinewidth": 0,
              "ticks": ""
             }
            },
            "marker": {
             "colorbar": {
              "outlinewidth": 0,
              "ticks": ""
             }
            },
            "type": "scatter3d"
           }
          ],
          "scattercarpet": [
           {
            "marker": {
             "colorbar": {
              "outlinewidth": 0,
              "ticks": ""
             }
            },
            "type": "scattercarpet"
           }
          ],
          "scattergeo": [
           {
            "marker": {
             "colorbar": {
              "outlinewidth": 0,
              "ticks": ""
             }
            },
            "type": "scattergeo"
           }
          ],
          "scattergl": [
           {
            "marker": {
             "colorbar": {
              "outlinewidth": 0,
              "ticks": ""
             }
            },
            "type": "scattergl"
           }
          ],
          "scattermap": [
           {
            "marker": {
             "colorbar": {
              "outlinewidth": 0,
              "ticks": ""
             }
            },
            "type": "scattermap"
           }
          ],
          "scattermapbox": [
           {
            "marker": {
             "colorbar": {
              "outlinewidth": 0,
              "ticks": ""
             }
            },
            "type": "scattermapbox"
           }
          ],
          "scatterpolar": [
           {
            "marker": {
             "colorbar": {
              "outlinewidth": 0,
              "ticks": ""
             }
            },
            "type": "scatterpolar"
           }
          ],
          "scatterpolargl": [
           {
            "marker": {
             "colorbar": {
              "outlinewidth": 0,
              "ticks": ""
             }
            },
            "type": "scatterpolargl"
           }
          ],
          "scatterternary": [
           {
            "marker": {
             "colorbar": {
              "outlinewidth": 0,
              "ticks": ""
             }
            },
            "type": "scatterternary"
           }
          ],
          "surface": [
           {
            "colorbar": {
             "outlinewidth": 0,
             "ticks": ""
            },
            "colorscale": [
             [
              0,
              "#0d0887"
             ],
             [
              0.1111111111111111,
              "#46039f"
             ],
             [
              0.2222222222222222,
              "#7201a8"
             ],
             [
              0.3333333333333333,
              "#9c179e"
             ],
             [
              0.4444444444444444,
              "#bd3786"
             ],
             [
              0.5555555555555556,
              "#d8576b"
             ],
             [
              0.6666666666666666,
              "#ed7953"
             ],
             [
              0.7777777777777778,
              "#fb9f3a"
             ],
             [
              0.8888888888888888,
              "#fdca26"
             ],
             [
              1,
              "#f0f921"
             ]
            ],
            "type": "surface"
           }
          ],
          "table": [
           {
            "cells": {
             "fill": {
              "color": "#EBF0F8"
             },
             "line": {
              "color": "white"
             }
            },
            "header": {
             "fill": {
              "color": "#C8D4E3"
             },
             "line": {
              "color": "white"
             }
            },
            "type": "table"
           }
          ]
         },
         "layout": {
          "annotationdefaults": {
           "arrowcolor": "#2a3f5f",
           "arrowhead": 0,
           "arrowwidth": 1
          },
          "autotypenumbers": "strict",
          "coloraxis": {
           "colorbar": {
            "outlinewidth": 0,
            "ticks": ""
           }
          },
          "colorscale": {
           "diverging": [
            [
             0,
             "#8e0152"
            ],
            [
             0.1,
             "#c51b7d"
            ],
            [
             0.2,
             "#de77ae"
            ],
            [
             0.3,
             "#f1b6da"
            ],
            [
             0.4,
             "#fde0ef"
            ],
            [
             0.5,
             "#f7f7f7"
            ],
            [
             0.6,
             "#e6f5d0"
            ],
            [
             0.7,
             "#b8e186"
            ],
            [
             0.8,
             "#7fbc41"
            ],
            [
             0.9,
             "#4d9221"
            ],
            [
             1,
             "#276419"
            ]
           ],
           "sequential": [
            [
             0,
             "#0d0887"
            ],
            [
             0.1111111111111111,
             "#46039f"
            ],
            [
             0.2222222222222222,
             "#7201a8"
            ],
            [
             0.3333333333333333,
             "#9c179e"
            ],
            [
             0.4444444444444444,
             "#bd3786"
            ],
            [
             0.5555555555555556,
             "#d8576b"
            ],
            [
             0.6666666666666666,
             "#ed7953"
            ],
            [
             0.7777777777777778,
             "#fb9f3a"
            ],
            [
             0.8888888888888888,
             "#fdca26"
            ],
            [
             1,
             "#f0f921"
            ]
           ],
           "sequentialminus": [
            [
             0,
             "#0d0887"
            ],
            [
             0.1111111111111111,
             "#46039f"
            ],
            [
             0.2222222222222222,
             "#7201a8"
            ],
            [
             0.3333333333333333,
             "#9c179e"
            ],
            [
             0.4444444444444444,
             "#bd3786"
            ],
            [
             0.5555555555555556,
             "#d8576b"
            ],
            [
             0.6666666666666666,
             "#ed7953"
            ],
            [
             0.7777777777777778,
             "#fb9f3a"
            ],
            [
             0.8888888888888888,
             "#fdca26"
            ],
            [
             1,
             "#f0f921"
            ]
           ]
          },
          "colorway": [
           "#636efa",
           "#EF553B",
           "#00cc96",
           "#ab63fa",
           "#FFA15A",
           "#19d3f3",
           "#FF6692",
           "#B6E880",
           "#FF97FF",
           "#FECB52"
          ],
          "font": {
           "color": "#2a3f5f"
          },
          "geo": {
           "bgcolor": "white",
           "lakecolor": "white",
           "landcolor": "#E5ECF6",
           "showlakes": true,
           "showland": true,
           "subunitcolor": "white"
          },
          "hoverlabel": {
           "align": "left"
          },
          "hovermode": "closest",
          "mapbox": {
           "style": "light"
          },
          "paper_bgcolor": "white",
          "plot_bgcolor": "#E5ECF6",
          "polar": {
           "angularaxis": {
            "gridcolor": "white",
            "linecolor": "white",
            "ticks": ""
           },
           "bgcolor": "#E5ECF6",
           "radialaxis": {
            "gridcolor": "white",
            "linecolor": "white",
            "ticks": ""
           }
          },
          "scene": {
           "xaxis": {
            "backgroundcolor": "#E5ECF6",
            "gridcolor": "white",
            "gridwidth": 2,
            "linecolor": "white",
            "showbackground": true,
            "ticks": "",
            "zerolinecolor": "white"
           },
           "yaxis": {
            "backgroundcolor": "#E5ECF6",
            "gridcolor": "white",
            "gridwidth": 2,
            "linecolor": "white",
            "showbackground": true,
            "ticks": "",
            "zerolinecolor": "white"
           },
           "zaxis": {
            "backgroundcolor": "#E5ECF6",
            "gridcolor": "white",
            "gridwidth": 2,
            "linecolor": "white",
            "showbackground": true,
            "ticks": "",
            "zerolinecolor": "white"
           }
          },
          "shapedefaults": {
           "line": {
            "color": "#2a3f5f"
           }
          },
          "ternary": {
           "aaxis": {
            "gridcolor": "white",
            "linecolor": "white",
            "ticks": ""
           },
           "baxis": {
            "gridcolor": "white",
            "linecolor": "white",
            "ticks": ""
           },
           "bgcolor": "#E5ECF6",
           "caxis": {
            "gridcolor": "white",
            "linecolor": "white",
            "ticks": ""
           }
          },
          "title": {
           "x": 0.05
          },
          "xaxis": {
           "automargin": true,
           "gridcolor": "white",
           "linecolor": "white",
           "ticks": "",
           "title": {
            "standoff": 15
           },
           "zerolinecolor": "white",
           "zerolinewidth": 2
          },
          "yaxis": {
           "automargin": true,
           "gridcolor": "white",
           "linecolor": "white",
           "ticks": "",
           "title": {
            "standoff": 15
           },
           "zerolinecolor": "white",
           "zerolinewidth": 2
          }
         }
        },
        "title": {
         "font": {
          "size": 20
         },
         "text": "تفکیک دلایل اصلی افت عملکرد در کنتورهای ضعیف",
         "x": 0.5
        }
       }
      }
     },
     "metadata": {},
     "output_type": "display_data"
    },
    {
     "name": "stdout",
     "output_type": "stream",
     "text": [
      "\n",
      "--- ۴. تحلیل عملکرد کنتورها بر اساس تاریخ نصب (به عنوان نماینده بچ تولیدی) ---\n",
      "میانگین کیفیت داده به تفکیک ماه نصب:\n",
      "   Installation_Month  میانگین DQI  تعداد نصب\n",
      "0             2019-08     0.000000          5\n",
      "1             2020-03     0.000000          1\n",
      "2             2020-05     1.000000          3\n",
      "3             2020-06     0.800000          2\n",
      "4             2020-07     0.666667          9\n",
      "5             2020-08     0.200000          3\n",
      "6             2020-09     0.174180          1\n",
      "7             2021-02     0.860929          9\n",
      "8             2021-03     0.872043          6\n",
      "9             2021-04     0.890909         11\n",
      "10            2021-05     1.000000          1\n",
      "11            2021-06     0.999758          6\n",
      "12            2021-07     0.851619          9\n",
      "13            2021-08     0.941799         11\n",
      "14            2021-09     0.771505          5\n",
      "15            2021-11     1.000000          1\n",
      "16            2022-04     0.000000          1\n",
      "17            2022-05     0.600000          1\n",
      "18            2022-06     0.000000          4\n",
      "19            2022-07     0.000000          2\n",
      "20            2022-08     0.000000          5\n",
      "21            2022-09     0.000000          4\n",
      "22            2022-10     0.150000          4\n",
      "23            2022-11     0.000000          3\n",
      "24            2022-12     0.000000         18\n",
      "25            2023-01     0.000000         10\n",
      "26            2023-03     0.000000          4\n",
      "27            2023-04     0.300000          2\n",
      "28            2023-05     0.000000          3\n",
      "29            2023-07     0.000000          3\n",
      "30            2023-08     0.000000          2\n",
      "31            2023-10     0.000000          2\n",
      "32            2023-11     0.120000          5\n",
      "33            2024-01     0.300000          2\n",
      "34            2024-02     0.000000          1\n",
      "35            2024-03     0.000000          1\n",
      "36            2024-04     0.000000          1\n",
      "37            2024-06     0.000000          1\n",
      "38            2024-07     0.000000          9\n",
      "39            2024-08     0.000000         11\n",
      "40            2024-09     0.000000         13\n",
      "41            2024-10     0.000000          1\n",
      "42            2024-12     0.000000          2\n",
      "\n",
      "هشدار: دوره‌های نصب زیر عملکرد ضعیف‌تری نسبت به میانگین داشته‌اند:\n",
      "   Installation_Month  میانگین DQI  تعداد نصب\n",
      "0             2019-08      0.00000          5\n",
      "1             2020-03      0.00000          1\n",
      "5             2020-08      0.20000          3\n",
      "6             2020-09      0.17418          1\n",
      "16            2022-04      0.00000          1\n",
      "18            2022-06      0.00000          4\n",
      "19            2022-07      0.00000          2\n",
      "20            2022-08      0.00000          5\n",
      "21            2022-09      0.00000          4\n",
      "22            2022-10      0.15000          4\n",
      "23            2022-11      0.00000          3\n",
      "24            2022-12      0.00000         18\n",
      "25            2023-01      0.00000         10\n",
      "26            2023-03      0.00000          4\n",
      "27            2023-04      0.30000          2\n",
      "28            2023-05      0.00000          3\n",
      "29            2023-07      0.00000          3\n",
      "30            2023-08      0.00000          2\n",
      "31            2023-10      0.00000          2\n",
      "32            2023-11      0.12000          5\n",
      "33            2024-01      0.30000          2\n",
      "34            2024-02      0.00000          1\n",
      "35            2024-03      0.00000          1\n",
      "36            2024-04      0.00000          1\n",
      "37            2024-06      0.00000          1\n",
      "38            2024-07      0.00000          9\n",
      "39            2024-08      0.00000         11\n",
      "40            2024-09      0.00000         13\n",
      "41            2024-10      0.00000          1\n",
      "42            2024-12      0.00000          2\n",
      "\n",
      "============================================================\n",
      "خلاصه مدیریتی: گزارش عملکرد و قابلیت اطمینان محصول POOYAB-SM4\n",
      "============================================================\n",
      "این گزارش به منظور ارزیابی سلامت محصولات شرکت در میدان تهیه شده است.\n",
      "\n",
      "یافته ۱ (عمر محصول): تحلیل داده‌ها (ضریب همبستگی 0.631) همبستگی قوی مشاهده نشد، اما تحلیل گروه‌های سنی همچنان مهم است.\n",
      "    - پیشنهاد: تدوین سیاست گارانتی و برنامه تعویض پیشگیرانه برای کنتورهای با عمر بیش از 2-3 سال.\n",
      "\n",
      "یافته ۲ (ریشه‌یابی خرابی): شایع‌ترین حالت خرابی در کنتورهای ضعیف، 'خطای سخت‌افزار/باتری' با سهم 100.0% است.\n",
      "    - پیشنهاد: تمرکز تیم تحقیق و توسعه (R&D) بر روی بهبود ماژول‌های ارتباطی و آنتن‌دهی در نسل بعدی محصول.\n",
      "\n",
      "یافته ۳ (کنترل کیفیت): کنتورهای نصب‌شده در ماه‌های 2019-08, 2020-03, 2020-08, 2020-09, 2022-04, 2022-06, 2022-07, 2022-08, 2022-09, 2022-10, 2022-11, 2022-12, 2023-01, 2023-03, 2023-04, 2023-05, 2023-07, 2023-08, 2023-10, 2023-11, 2024-01, 2024-02, 2024-03, 2024-04, 2024-06, 2024-07, 2024-08, 2024-09, 2024-10, 2024-12 عملکرد پایین‌تری داشته‌اند.\n",
      "    - پیشنهاد: بررسی سوابق تولید و تیم‌های نصب مربوط به این دوره‌ها برای شناسایی مشکلات احتمالی در کنترل کیفیت.\n",
      "\n",
      "============================================================\n",
      "\n"
     ]
    }
   ],
   "source": [
    "import pandas as pd\n",
    "import numpy as np\n",
    "import plotly.express as px\n",
    "import plotly.graph_objects as go\n",
    "from plotly.subplots import make_subplots\n",
    "from io import StringIO\n",
    "df = pd.read_csv('sample.csv')\n",
    "df.dropna(subset=['Installation Date'], inplace=True)\n",
    "df.fillna(0, inplace=True)\n",
    "\n",
    "# --- بخش ۱: مهندسی ویژگی‌های کلیدی برای تحلیل عملکرد ---\n",
    "# این ویژگی‌ها به ما اجازه می‌دهند تا سلامت محصول را به صورت کمی اندازه‌گیری کنیم.\n",
    "print(\"--- ۱. ساخت ویژگی‌های مهندسی برای تحلیل عملکرد محصول ---\")\n",
    "def jalali_to_gregorian_approx(jalali_str):\n",
    "    try:\n",
    "        parts = list(map(int, str(jalali_str).split('/')))\n",
    "        if len(parts) == 3 and 1300 < parts[0] < 1500 and 0 < parts[1] < 13 and 0 < parts[2] < 32:\n",
    "            return pd.Timestamp(year=parts[0] + 621, month=parts[1], day=parts[2])\n",
    "    except (ValueError, IndexError):\n",
    "        pass\n",
    "    return pd.NaT\n",
    "df['Installation_Date_G'] = df['Installation Date'].apply(jalali_to_gregorian_approx)\n",
    "df.dropna(subset=['Installation_Date_G'], inplace=True)\n",
    "df['Meter_Age_Days'] = (pd.to_datetime('2025-06-11') - df['Installation_Date_G']).dt.days # Using current date for age calculation\n",
    "\n",
    "total_hours_in_month = 31 * 24\n",
    "df['Uptime_Percentage'] = np.clip((df['Operating Hours (h)'] / total_hours_in_month) * 100, 0, 100)\n",
    "df['DQI'] = 0.6 * (df['درصد اطلاعات موجود'] / 100) + 0.4 * (df['Uptime_Percentage'] / 100)\n",
    "print(\"ویژگی‌های 'سن کنتور' و 'شاخص کیفیت داده (DQI)' با موفقیت محاسبه شدند.\\n\")\n",
    "\n",
    "\n",
    "# --- بخش ۲: تحلیل رابطه عمر محصول با قابلیت اطمینان آن ---\n",
    "print(\"--- ۲. تحلیل تأثیر 'سن کنتور' بر عملکرد و قابلیت اطمینان ---\")\n",
    "# حذف کنتورهای تازه نصب شده برای تحلیل بهتر\n",
    "df_aged = df[df['Meter_Age_Days'] > 30].copy()\n",
    "correlation = df_aged['Meter_Age_Days'].corr(df_aged['DQI'])\n",
    "print(f\"ضریب همبستگی پیرسون بین سن کنتور و شاخص کیفیت داده (DQI): {correlation:.3f}\")\n",
    "\n",
    "# دسته‌بندی کنتورها بر اساس سن\n",
    "age_bins = [0, 365, 730, 1095, np.inf]\n",
    "age_labels = ['< 1 سال', '1-2 سال', '2-3 سال', '> 3 سال']\n",
    "df_aged['Age_Group'] = pd.cut(df_aged['Meter_Age_Days'], bins=age_bins, labels=age_labels, right=False)\n",
    "dqi_by_age = df_aged.groupby('Age_Group')['DQI'].mean().reset_index()\n",
    "print(\"\\nمیانگین شاخص کیفیت داده (DQI) به تفکیک گروه سنی کنتور:\")\n",
    "print(dqi_by_age.round(3))\n",
    "\n",
    "# مصورسازی با Plotly\n",
    "fig = px.scatter(df_aged, \n",
    "                x='Meter_Age_Days', \n",
    "                y='DQI',\n",
    "                trendline=\"ols\",\n",
    "                labels={\n",
    "                    'Meter_Age_Days': 'سن کنتور (روز)',\n",
    "                    'DQI': 'شاخص کیفیت داده (DQI)'\n",
    "                },\n",
    "                title='رابطه بین سن کنتور و شاخص کیفیت داده (DQI)')\n",
    "\n",
    "fig.update_layout(\n",
    "    font_family=\"Tahoma\",\n",
    "    title_font_size=20,\n",
    "    title_x=0.5,\n",
    "    plot_bgcolor='white',\n",
    "    paper_bgcolor='white'\n",
    ")\n",
    "\n",
    "fig.update_traces(\n",
    "    marker=dict(size=8, opacity=0.6),\n",
    "    selector=dict(mode='markers')\n",
    ")\n",
    "\n",
    "fig.show()\n",
    "\n",
    "\n",
    "# --- بخش ۳: ریشه‌یابی دلایل اصلی افت عملکرد ---\n",
    "print(\"\\n--- ۳. ریشه‌یابی دلایل اصلی افت عملکرد در کنتورهای ضعیف ---\")\n",
    "df_low_dqi = df[df['DQI'] < 0.5].copy() # تعریف کنتور ضعیف: DQI کمتر از 50%\n",
    "\n",
    "def get_failure_mode(row):\n",
    "    # اگر درصد اطلاعات موجود پایین باشد اما آپتایم بالا باشد، مشکل از ارتباطات است\n",
    "    if row['درصد اطلاعات موجود'] < 50 and row['Uptime_Percentage'] > 50:\n",
    "        return 'خطای ارتباطی (GPRS/SIM)'\n",
    "    # اگر آپتایم پایین باشد، مشکل از سخت‌افزار یا باتری است\n",
    "    if row['Uptime_Percentage'] < 10: # آستانه سخت‌گیرانه برای خرابی قطعی\n",
    "        return 'خطای سخت‌افزار/باتری'\n",
    "    return 'ترکیبی / نامشخص'\n",
    "\n",
    "if not df_low_dqi.empty:\n",
    "    df_low_dqi['Failure_Mode'] = df_low_dqi.apply(get_failure_mode, axis=1)\n",
    "    failure_counts = df_low_dqi['Failure_Mode'].value_counts()\n",
    "    print(\"تحلیل دلایل خرابی برای کنتورهای با DQI پایین:\")\n",
    "    print(failure_counts)\n",
    "\n",
    "    # مصورسازی دلایل خرابی با Plotly\n",
    "    fig = go.Figure(data=[go.Pie(\n",
    "        labels=failure_counts.index,\n",
    "        values=failure_counts.values,\n",
    "        textinfo='label+percent',\n",
    "        textposition='inside',\n",
    "        marker=dict(colors=['#ff9999','#66b3ff','#99ff99'])\n",
    "    )])\n",
    "\n",
    "    fig.update_layout(\n",
    "        title='تفکیک دلایل اصلی افت عملکرد در کنتورهای ضعیف',\n",
    "        font_family=\"Tahoma\",\n",
    "        title_font_size=20,\n",
    "        title_x=0.5\n",
    "    )\n",
    "\n",
    "    fig.show()\n",
    "else:\n",
    "    print(\"هیچ کنتور با عملکرد ضعیف (DQI < 0.5) برای ریشه‌یابی یافت نشد.\")\n",
    "\n",
    "\n",
    "# --- بخش ۴: تحلیل عملکرد بر اساس بچ تولیدی (با تقریب تاریخ نصب) ---\n",
    "print(\"\\n--- ۴. تحلیل عملکرد کنتورها بر اساس تاریخ نصب (به عنوان نماینده بچ تولیدی) ---\")\n",
    "df['Installation_Month'] = df['Installation_Date_G'].dt.to_period('M')\n",
    "dqi_by_batch = df.groupby('Installation_Month')['DQI'].agg(['mean', 'count']).reset_index()\n",
    "dqi_by_batch.rename(columns={'mean': 'میانگین DQI', 'count': 'تعداد نصب'}, inplace=True)\n",
    "print(\"میانگین کیفیت داده به تفکیک ماه نصب:\")\n",
    "print(dqi_by_batch.sort_values('Installation_Month'))\n",
    "\n",
    "# شناسایی دوره‌های نصب با عملکرد ضعیف\n",
    "problematic_batches = dqi_by_batch[dqi_by_batch['میانگین DQI'] < 0.6] # آستانه برای عملکرد ضعیف\n",
    "if not problematic_batches.empty:\n",
    "    print(\"\\nهشدار: دوره‌های نصب زیر عملکرد ضعیف‌تری نسبت به میانگین داشته‌اند:\")\n",
    "    print(problematic_batches)\n",
    "else:\n",
    "    print(\"\\nهیچ دوره نصب با عملکرد به شدت ضعیف شناسایی نشد.\")\n",
    "\n",
    "# --- بخش ۵: خلاصه مدیریتی برای مدیرعامل پویاک ---\n",
    "print(\"\\n\" + \"=\"*60)\n",
    "print(\"خلاصه مدیریتی: گزارش عملکرد و قابلیت اطمینان محصول POOYAB-SM4\")\n",
    "print(\"=\"*60)\n",
    "print(\"این گزارش به منظور ارزیابی سلامت محصولات شرکت در میدان تهیه شده است.\\n\")\n",
    "\n",
    "# یافته ۱: عمر محصول\n",
    "corr_text = f\"ضریب همبستگی {correlation:.3f}\"\n",
    "if correlation < -0.5:\n",
    "    corr_desc = \"یک همبستگی منفی قوی را نشان می‌دهد. به این معنی که با افزایش عمر کنتور، عملکرد آن به شکل محسوسی کاهش می‌یابد.\"\n",
    "elif correlation < -0.2:\n",
    "    corr_desc = \"یک همبستگی منفی متوسط را نشان می‌دهد. محصولات با گذشت زمان دچار افت عملکرد می‌شوند.\"\n",
    "else:\n",
    "    corr_desc = \"همبستگی قوی مشاهده نشد، اما تحلیل گروه‌های سنی همچنان مهم است.\"\n",
    "print(f\"یافته ۱ (عمر محصول): تحلیل داده‌ها ({corr_text}) {corr_desc}\")\n",
    "print(f\"    - پیشنهاد: تدوین سیاست گارانتی و برنامه تعویض پیشگیرانه برای کنتورهای با عمر بیش از {age_labels[-2]}.\")\n",
    "\n",
    "# یافته ۲: دلایل خرابی\n",
    "if not df_low_dqi.empty:\n",
    "    dominant_failure = failure_counts.idxmax()\n",
    "    dominant_percentage = (failure_counts.max() / failure_counts.sum()) * 100\n",
    "    print(f\"\\nیافته ۲ (ریشه‌یابی خرابی): شایع‌ترین حالت خرابی در کنتورهای ضعیف، '{dominant_failure}' با سهم {dominant_percentage:.1f}% است.\")\n",
    "    print(\"    - پیشنهاد: تمرکز تیم تحقیق و توسعه (R&D) بر روی بهبود ماژول‌های ارتباطی و آنتن‌دهی در نسل بعدی محصول.\")\n",
    "else:\n",
    "    print(\"\\nیافته ۲ (ریشه‌یابی خرابی): در این مجموعه داده، تعداد کنتورهای با عملکرد بسیار ضعیف برای نتیجه‌گیری قطعی کافی نبود.\")\n",
    "\n",
    "# یافته ۳: کنترل کیفیت\n",
    "if not problematic_batches.empty:\n",
    "    batch_dates = ', '.join(problematic_batches['Installation_Month'].astype(str).tolist())\n",
    "    print(f\"\\nیافته ۳ (کنترل کیفیت): کنتورهای نصب‌شده در ماه‌های {batch_dates} عملکرد پایین‌تری داشته‌اند.\")\n",
    "    print(\"    - پیشنهاد: بررسی سوابق تولید و تیم‌های نصب مربوط به این دوره‌ها برای شناسایی مشکلات احتمالی در کنترل کیفیت.\")\n",
    "else:\n",
    "    print(\"\\nیافته ۳ (کنترل کیفیت): تفاوت چشمگیری در عملکرد بچ‌های مختلف نصب مشاهده نشد.\")\n",
    "print(\"\\n\" + \"=\"*60 + \"\\n\")"
   ]
  },
  {
   "cell_type": "code",
   "execution_count": null,
   "id": "8484e629",
   "metadata": {},
   "outputs": [],
   "source": []
  },
  {
   "cell_type": "code",
   "execution_count": 5,
   "id": "7004387e",
   "metadata": {},
   "outputs": [
    {
     "name": "stdout",
     "output_type": "stream",
     "text": [
      "--- ۱. شناسایی نقاط مشکوک به هدررفت آب جهت کاهش آب بدون درآمد (NRW) ---\n",
      "هدف: شناسایی مشترکینی که مصرفشان به طور غیرعادی بالاتر از همتایانشان است.\n",
      "\n",
      "گزارش مطالعه موردی: شناسایی پتانسیل‌های کاهش NRW\n",
      "کنتورهای زیر مصرف بسیار بالاتری نسبت به گروه همتای خود دارند و کاندیدای بررسی نشت یا مصرف غیرمجاز هستند:\n",
      "  Subscription Code               Peer_Group  Actual_Consumption  \\\n",
      "4            515530          کشاورزی - 150mm           248740.01   \n",
      "2            514579          کشاورزی - 100mm           193203.30   \n",
      "1            517638          کشاورزی - 100mm           113348.60   \n",
      "5            603020          کشاورزی - 150mm           129221.48   \n",
      "3            514505          کشاورزی - 125mm            54595.60   \n",
      "0            911593  شرب و بهداشت دام - 50mm            11507.03   \n",
      "\n",
      "   Peer_Group_Median_Consumption  Excess_Consumption  \\\n",
      "4                       39231.70           209508.31   \n",
      "2                       17073.53           176129.77   \n",
      "1                       17073.53            96275.07   \n",
      "5                       39231.70            89989.78   \n",
      "3                       21851.05            32744.55   \n",
      "0                           0.10            11506.93   \n",
      "\n",
      "   Potential_Annual_Loss_Rials  \n",
      "4                 1.257050e+10  \n",
      "2                 1.056779e+10  \n",
      "1                 5.776504e+09  \n",
      "5                 5.399387e+09  \n",
      "3                 1.964673e+09  \n",
      "0                 6.904158e+08  \n"
     ]
    },
    {
     "data": {
      "application/vnd.plotly.v1+json": {
       "config": {
        "plotlyServerURL": "https://plot.ly"
       },
       "data": [
        {
         "alignmentgroup": "True",
         "hovertemplate": "Consumption (m³)=%{x}<br>Peer_Group=%{y}<extra></extra>",
         "legendgroup": "",
         "marker": {
          "color": "#636efa"
         },
         "name": "",
         "notched": false,
         "offsetgroup": "",
         "orientation": "h",
         "showlegend": false,
         "type": "box",
         "x": {
          "bdata": "hetRuJ5crUBmZmZm9ifjQGZmZmaG/9hAAAAAAEAO6UCPwvUoXBTDQJqZmZnZvc5AmpmZmUms+0BxPQrX48TTQJqZmZl5xdZApHA9Ctf50UDNzMzM7JjmQFyPwvVkoPxAMzMzM7PE6kDsUbgepQ3kQDMzMzNzqOpAzczMzAzo00CamZmZedPXQPyp8dLNc7lAAAAAAAgl8kDNzMzMjHTRQGZmZmaalQdBH4XrUbgeBUDNzMzMjHXUQJqZmZk5v9hASOF6FCBdDkE9Ctej8PqtQDMzMzPj++RAMzMzM4Nb4EBcj8L1qBniQAAAAAAAAAAA4XoUrleM/0Bcj8L1KCO2QAAAAAAAAAAA",
          "dtype": "f8"
         },
         "x0": " ",
         "xaxis": "x",
         "y": [
          "کشاورزی - 100mm",
          "کشاورزی - 150mm",
          "کشاورزی - 125mm",
          "کشاورزی - 150mm",
          "کشاورزی - 100mm",
          "کشاورزی - 100mm",
          "کشاورزی - 100mm",
          "کشاورزی - 125mm",
          "کشاورزی - 125mm",
          "کشاورزی - 100mm",
          "کشاورزی - 125mm",
          "کشاورزی - 150mm",
          "کشاورزی - 150mm",
          "کشاورزی - 100mm",
          "کشاورزی - 125mm",
          "کشاورزی - 125mm",
          "کشاورزی - 100mm",
          "کشاورزی - 100mm",
          "کشاورزی - 150mm",
          "کشاورزی - 125mm",
          "کشاورزی - 100mm",
          "کشاورزی - 150mm",
          "کشاورزی - 150mm",
          "کشاورزی - 150mm",
          "کشاورزی - 150mm",
          "کشاورزی - 125mm",
          "کشاورزی - 150mm",
          "کشاورزی - 150mm",
          "کشاورزی - 150mm",
          "کشاورزی - 100mm",
          "کشاورزی - 150mm",
          "کشاورزی - 150mm",
          "کشاورزی - 150mm"
         ],
         "y0": " ",
         "yaxis": "y"
        }
       ],
       "layout": {
        "boxmode": "group",
        "font": {
         "family": "Tahoma"
        },
        "legend": {
         "tracegroupgap": 0
        },
        "paper_bgcolor": "white",
        "plot_bgcolor": "white",
        "template": {
         "data": {
          "bar": [
           {
            "error_x": {
             "color": "#2a3f5f"
            },
            "error_y": {
             "color": "#2a3f5f"
            },
            "marker": {
             "line": {
              "color": "#E5ECF6",
              "width": 0.5
             },
             "pattern": {
              "fillmode": "overlay",
              "size": 10,
              "solidity": 0.2
             }
            },
            "type": "bar"
           }
          ],
          "barpolar": [
           {
            "marker": {
             "line": {
              "color": "#E5ECF6",
              "width": 0.5
             },
             "pattern": {
              "fillmode": "overlay",
              "size": 10,
              "solidity": 0.2
             }
            },
            "type": "barpolar"
           }
          ],
          "carpet": [
           {
            "aaxis": {
             "endlinecolor": "#2a3f5f",
             "gridcolor": "white",
             "linecolor": "white",
             "minorgridcolor": "white",
             "startlinecolor": "#2a3f5f"
            },
            "baxis": {
             "endlinecolor": "#2a3f5f",
             "gridcolor": "white",
             "linecolor": "white",
             "minorgridcolor": "white",
             "startlinecolor": "#2a3f5f"
            },
            "type": "carpet"
           }
          ],
          "choropleth": [
           {
            "colorbar": {
             "outlinewidth": 0,
             "ticks": ""
            },
            "type": "choropleth"
           }
          ],
          "contour": [
           {
            "colorbar": {
             "outlinewidth": 0,
             "ticks": ""
            },
            "colorscale": [
             [
              0,
              "#0d0887"
             ],
             [
              0.1111111111111111,
              "#46039f"
             ],
             [
              0.2222222222222222,
              "#7201a8"
             ],
             [
              0.3333333333333333,
              "#9c179e"
             ],
             [
              0.4444444444444444,
              "#bd3786"
             ],
             [
              0.5555555555555556,
              "#d8576b"
             ],
             [
              0.6666666666666666,
              "#ed7953"
             ],
             [
              0.7777777777777778,
              "#fb9f3a"
             ],
             [
              0.8888888888888888,
              "#fdca26"
             ],
             [
              1,
              "#f0f921"
             ]
            ],
            "type": "contour"
           }
          ],
          "contourcarpet": [
           {
            "colorbar": {
             "outlinewidth": 0,
             "ticks": ""
            },
            "type": "contourcarpet"
           }
          ],
          "heatmap": [
           {
            "colorbar": {
             "outlinewidth": 0,
             "ticks": ""
            },
            "colorscale": [
             [
              0,
              "#0d0887"
             ],
             [
              0.1111111111111111,
              "#46039f"
             ],
             [
              0.2222222222222222,
              "#7201a8"
             ],
             [
              0.3333333333333333,
              "#9c179e"
             ],
             [
              0.4444444444444444,
              "#bd3786"
             ],
             [
              0.5555555555555556,
              "#d8576b"
             ],
             [
              0.6666666666666666,
              "#ed7953"
             ],
             [
              0.7777777777777778,
              "#fb9f3a"
             ],
             [
              0.8888888888888888,
              "#fdca26"
             ],
             [
              1,
              "#f0f921"
             ]
            ],
            "type": "heatmap"
           }
          ],
          "histogram": [
           {
            "marker": {
             "pattern": {
              "fillmode": "overlay",
              "size": 10,
              "solidity": 0.2
             }
            },
            "type": "histogram"
           }
          ],
          "histogram2d": [
           {
            "colorbar": {
             "outlinewidth": 0,
             "ticks": ""
            },
            "colorscale": [
             [
              0,
              "#0d0887"
             ],
             [
              0.1111111111111111,
              "#46039f"
             ],
             [
              0.2222222222222222,
              "#7201a8"
             ],
             [
              0.3333333333333333,
              "#9c179e"
             ],
             [
              0.4444444444444444,
              "#bd3786"
             ],
             [
              0.5555555555555556,
              "#d8576b"
             ],
             [
              0.6666666666666666,
              "#ed7953"
             ],
             [
              0.7777777777777778,
              "#fb9f3a"
             ],
             [
              0.8888888888888888,
              "#fdca26"
             ],
             [
              1,
              "#f0f921"
             ]
            ],
            "type": "histogram2d"
           }
          ],
          "histogram2dcontour": [
           {
            "colorbar": {
             "outlinewidth": 0,
             "ticks": ""
            },
            "colorscale": [
             [
              0,
              "#0d0887"
             ],
             [
              0.1111111111111111,
              "#46039f"
             ],
             [
              0.2222222222222222,
              "#7201a8"
             ],
             [
              0.3333333333333333,
              "#9c179e"
             ],
             [
              0.4444444444444444,
              "#bd3786"
             ],
             [
              0.5555555555555556,
              "#d8576b"
             ],
             [
              0.6666666666666666,
              "#ed7953"
             ],
             [
              0.7777777777777778,
              "#fb9f3a"
             ],
             [
              0.8888888888888888,
              "#fdca26"
             ],
             [
              1,
              "#f0f921"
             ]
            ],
            "type": "histogram2dcontour"
           }
          ],
          "mesh3d": [
           {
            "colorbar": {
             "outlinewidth": 0,
             "ticks": ""
            },
            "type": "mesh3d"
           }
          ],
          "parcoords": [
           {
            "line": {
             "colorbar": {
              "outlinewidth": 0,
              "ticks": ""
             }
            },
            "type": "parcoords"
           }
          ],
          "pie": [
           {
            "automargin": true,
            "type": "pie"
           }
          ],
          "scatter": [
           {
            "fillpattern": {
             "fillmode": "overlay",
             "size": 10,
             "solidity": 0.2
            },
            "type": "scatter"
           }
          ],
          "scatter3d": [
           {
            "line": {
             "colorbar": {
              "outlinewidth": 0,
              "ticks": ""
             }
            },
            "marker": {
             "colorbar": {
              "outlinewidth": 0,
              "ticks": ""
             }
            },
            "type": "scatter3d"
           }
          ],
          "scattercarpet": [
           {
            "marker": {
             "colorbar": {
              "outlinewidth": 0,
              "ticks": ""
             }
            },
            "type": "scattercarpet"
           }
          ],
          "scattergeo": [
           {
            "marker": {
             "colorbar": {
              "outlinewidth": 0,
              "ticks": ""
             }
            },
            "type": "scattergeo"
           }
          ],
          "scattergl": [
           {
            "marker": {
             "colorbar": {
              "outlinewidth": 0,
              "ticks": ""
             }
            },
            "type": "scattergl"
           }
          ],
          "scattermap": [
           {
            "marker": {
             "colorbar": {
              "outlinewidth": 0,
              "ticks": ""
             }
            },
            "type": "scattermap"
           }
          ],
          "scattermapbox": [
           {
            "marker": {
             "colorbar": {
              "outlinewidth": 0,
              "ticks": ""
             }
            },
            "type": "scattermapbox"
           }
          ],
          "scatterpolar": [
           {
            "marker": {
             "colorbar": {
              "outlinewidth": 0,
              "ticks": ""
             }
            },
            "type": "scatterpolar"
           }
          ],
          "scatterpolargl": [
           {
            "marker": {
             "colorbar": {
              "outlinewidth": 0,
              "ticks": ""
             }
            },
            "type": "scatterpolargl"
           }
          ],
          "scatterternary": [
           {
            "marker": {
             "colorbar": {
              "outlinewidth": 0,
              "ticks": ""
             }
            },
            "type": "scatterternary"
           }
          ],
          "surface": [
           {
            "colorbar": {
             "outlinewidth": 0,
             "ticks": ""
            },
            "colorscale": [
             [
              0,
              "#0d0887"
             ],
             [
              0.1111111111111111,
              "#46039f"
             ],
             [
              0.2222222222222222,
              "#7201a8"
             ],
             [
              0.3333333333333333,
              "#9c179e"
             ],
             [
              0.4444444444444444,
              "#bd3786"
             ],
             [
              0.5555555555555556,
              "#d8576b"
             ],
             [
              0.6666666666666666,
              "#ed7953"
             ],
             [
              0.7777777777777778,
              "#fb9f3a"
             ],
             [
              0.8888888888888888,
              "#fdca26"
             ],
             [
              1,
              "#f0f921"
             ]
            ],
            "type": "surface"
           }
          ],
          "table": [
           {
            "cells": {
             "fill": {
              "color": "#EBF0F8"
             },
             "line": {
              "color": "white"
             }
            },
            "header": {
             "fill": {
              "color": "#C8D4E3"
             },
             "line": {
              "color": "white"
             }
            },
            "type": "table"
           }
          ]
         },
         "layout": {
          "annotationdefaults": {
           "arrowcolor": "#2a3f5f",
           "arrowhead": 0,
           "arrowwidth": 1
          },
          "autotypenumbers": "strict",
          "coloraxis": {
           "colorbar": {
            "outlinewidth": 0,
            "ticks": ""
           }
          },
          "colorscale": {
           "diverging": [
            [
             0,
             "#8e0152"
            ],
            [
             0.1,
             "#c51b7d"
            ],
            [
             0.2,
             "#de77ae"
            ],
            [
             0.3,
             "#f1b6da"
            ],
            [
             0.4,
             "#fde0ef"
            ],
            [
             0.5,
             "#f7f7f7"
            ],
            [
             0.6,
             "#e6f5d0"
            ],
            [
             0.7,
             "#b8e186"
            ],
            [
             0.8,
             "#7fbc41"
            ],
            [
             0.9,
             "#4d9221"
            ],
            [
             1,
             "#276419"
            ]
           ],
           "sequential": [
            [
             0,
             "#0d0887"
            ],
            [
             0.1111111111111111,
             "#46039f"
            ],
            [
             0.2222222222222222,
             "#7201a8"
            ],
            [
             0.3333333333333333,
             "#9c179e"
            ],
            [
             0.4444444444444444,
             "#bd3786"
            ],
            [
             0.5555555555555556,
             "#d8576b"
            ],
            [
             0.6666666666666666,
             "#ed7953"
            ],
            [
             0.7777777777777778,
             "#fb9f3a"
            ],
            [
             0.8888888888888888,
             "#fdca26"
            ],
            [
             1,
             "#f0f921"
            ]
           ],
           "sequentialminus": [
            [
             0,
             "#0d0887"
            ],
            [
             0.1111111111111111,
             "#46039f"
            ],
            [
             0.2222222222222222,
             "#7201a8"
            ],
            [
             0.3333333333333333,
             "#9c179e"
            ],
            [
             0.4444444444444444,
             "#bd3786"
            ],
            [
             0.5555555555555556,
             "#d8576b"
            ],
            [
             0.6666666666666666,
             "#ed7953"
            ],
            [
             0.7777777777777778,
             "#fb9f3a"
            ],
            [
             0.8888888888888888,
             "#fdca26"
            ],
            [
             1,
             "#f0f921"
            ]
           ]
          },
          "colorway": [
           "#636efa",
           "#EF553B",
           "#00cc96",
           "#ab63fa",
           "#FFA15A",
           "#19d3f3",
           "#FF6692",
           "#B6E880",
           "#FF97FF",
           "#FECB52"
          ],
          "font": {
           "color": "#2a3f5f"
          },
          "geo": {
           "bgcolor": "white",
           "lakecolor": "white",
           "landcolor": "#E5ECF6",
           "showlakes": true,
           "showland": true,
           "subunitcolor": "white"
          },
          "hoverlabel": {
           "align": "left"
          },
          "hovermode": "closest",
          "mapbox": {
           "style": "light"
          },
          "paper_bgcolor": "white",
          "plot_bgcolor": "#E5ECF6",
          "polar": {
           "angularaxis": {
            "gridcolor": "white",
            "linecolor": "white",
            "ticks": ""
           },
           "bgcolor": "#E5ECF6",
           "radialaxis": {
            "gridcolor": "white",
            "linecolor": "white",
            "ticks": ""
           }
          },
          "scene": {
           "xaxis": {
            "backgroundcolor": "#E5ECF6",
            "gridcolor": "white",
            "gridwidth": 2,
            "linecolor": "white",
            "showbackground": true,
            "ticks": "",
            "zerolinecolor": "white"
           },
           "yaxis": {
            "backgroundcolor": "#E5ECF6",
            "gridcolor": "white",
            "gridwidth": 2,
            "linecolor": "white",
            "showbackground": true,
            "ticks": "",
            "zerolinecolor": "white"
           },
           "zaxis": {
            "backgroundcolor": "#E5ECF6",
            "gridcolor": "white",
            "gridwidth": 2,
            "linecolor": "white",
            "showbackground": true,
            "ticks": "",
            "zerolinecolor": "white"
           }
          },
          "shapedefaults": {
           "line": {
            "color": "#2a3f5f"
           }
          },
          "ternary": {
           "aaxis": {
            "gridcolor": "white",
            "linecolor": "white",
            "ticks": ""
           },
           "baxis": {
            "gridcolor": "white",
            "linecolor": "white",
            "ticks": ""
           },
           "bgcolor": "#E5ECF6",
           "caxis": {
            "gridcolor": "white",
            "linecolor": "white",
            "ticks": ""
           }
          },
          "title": {
           "x": 0.05
          },
          "xaxis": {
           "automargin": true,
           "gridcolor": "white",
           "linecolor": "white",
           "ticks": "",
           "title": {
            "standoff": 15
           },
           "zerolinecolor": "white",
           "zerolinewidth": 2
          },
          "yaxis": {
           "automargin": true,
           "gridcolor": "white",
           "linecolor": "white",
           "ticks": "",
           "title": {
            "standoff": 15
           },
           "zerolinecolor": "white",
           "zerolinewidth": 2
          }
         }
        },
        "title": {
         "font": {
          "size": 20
         },
         "text": "توزیع مصرف در گروه‌های همتا و شناسایی نقاط پرت (پتانسیل NRW)",
         "x": 0.5
        },
        "xaxis": {
         "anchor": "y",
         "domain": [
          0,
          1
         ],
         "gridcolor": "lightgray",
         "gridwidth": 1,
         "showgrid": true,
         "title": {
          "text": "مصرف ماهانه (m³)"
         }
        },
        "yaxis": {
         "anchor": "x",
         "domain": [
          0,
          1
         ],
         "gridcolor": "lightgray",
         "gridwidth": 1,
         "showgrid": true,
         "title": {
          "text": "گروه همتا (نوع پروانه و سایز کنتور)"
         }
        }
       }
      }
     },
     "metadata": {},
     "output_type": "display_data"
    },
    {
     "name": "stdout",
     "output_type": "stream",
     "text": [
      "\n",
      "\n",
      "--- ۲. نمایش ارزش کنتور پویاک به عنوان ابزار تشخیص سلامت شبکه ---\n",
      "هدف: تبدیل ویژگی فنی 'جریان منفی' به یک هشدار عملیاتی ارزشمند برای مشتری.\n",
      "\n",
      "هشدار تشخیصی سلامت شبکه برای تیم بهره‌برداری مشتری:\n",
      "--------------------------------------------------\n",
      "کنتور با سریال: 909801034997 (اشتراک: 514059)\n",
      "تعداد رویداد جریان معکوس ثبت شده: 21 بار\n",
      "\n",
      "توصیه عملیاتی:\n",
      "  این هشدار لزوماً خطای کنتور نیست، بلکه یک سیگنال تشخیصی ارزشمند است.\n",
      "  بر اساس اسناد فنی، این پدیده می‌تواند ناشی از مشکلات هیدرولیکی در شبکه (مانند نوسان فشار یا خرابی شیر یکطرفه) باشد.\n",
      "  **پیشنهاد می‌شود یک بازرسی میدانی برای ریشه‌یابی علت این پدیده انجام شود.**\n",
      "  این قابلیت تشخیصی، یکی از مزایای رقابتی کنتور POOYAB-SM4 است.\n",
      "--------------------------------------------------\n",
      "--------------------------------------------------\n",
      "کنتور با سریال: 909801036264 (اشتراک: 515122)\n",
      "تعداد رویداد جریان معکوس ثبت شده: 1 بار\n",
      "\n",
      "توصیه عملیاتی:\n",
      "  این هشدار لزوماً خطای کنتور نیست، بلکه یک سیگنال تشخیصی ارزشمند است.\n",
      "  بر اساس اسناد فنی، این پدیده می‌تواند ناشی از مشکلات هیدرولیکی در شبکه (مانند نوسان فشار یا خرابی شیر یکطرفه) باشد.\n",
      "  **پیشنهاد می‌شود یک بازرسی میدانی برای ریشه‌یابی علت این پدیده انجام شود.**\n",
      "  این قابلیت تشخیصی، یکی از مزایای رقابتی کنتور POOYAB-SM4 است.\n",
      "--------------------------------------------------\n",
      "--------------------------------------------------\n",
      "کنتور با سریال: 909801034850 (اشتراک: 805221)\n",
      "تعداد رویداد جریان معکوس ثبت شده: 5 بار\n",
      "\n",
      "توصیه عملیاتی:\n",
      "  این هشدار لزوماً خطای کنتور نیست، بلکه یک سیگنال تشخیصی ارزشمند است.\n",
      "  بر اساس اسناد فنی، این پدیده می‌تواند ناشی از مشکلات هیدرولیکی در شبکه (مانند نوسان فشار یا خرابی شیر یکطرفه) باشد.\n",
      "  **پیشنهاد می‌شود یک بازرسی میدانی برای ریشه‌یابی علت این پدیده انجام شود.**\n",
      "  این قابلیت تشخیصی، یکی از مزایای رقابتی کنتور POOYAB-SM4 است.\n",
      "--------------------------------------------------\n",
      "--------------------------------------------------\n",
      "کنتور با سریال: 909801035303 (اشتراک: 301144)\n",
      "تعداد رویداد جریان معکوس ثبت شده: 1 بار\n",
      "\n",
      "توصیه عملیاتی:\n",
      "  این هشدار لزوماً خطای کنتور نیست، بلکه یک سیگنال تشخیصی ارزشمند است.\n",
      "  بر اساس اسناد فنی، این پدیده می‌تواند ناشی از مشکلات هیدرولیکی در شبکه (مانند نوسان فشار یا خرابی شیر یکطرفه) باشد.\n",
      "  **پیشنهاد می‌شود یک بازرسی میدانی برای ریشه‌یابی علت این پدیده انجام شود.**\n",
      "  این قابلیت تشخیصی، یکی از مزایای رقابتی کنتور POOYAB-SM4 است.\n",
      "--------------------------------------------------\n",
      "--------------------------------------------------\n",
      "کنتور با سریال: 909801032736 (اشتراک: 515530)\n",
      "تعداد رویداد جریان معکوس ثبت شده: 5 بار\n",
      "\n",
      "توصیه عملیاتی:\n",
      "  این هشدار لزوماً خطای کنتور نیست، بلکه یک سیگنال تشخیصی ارزشمند است.\n",
      "  بر اساس اسناد فنی، این پدیده می‌تواند ناشی از مشکلات هیدرولیکی در شبکه (مانند نوسان فشار یا خرابی شیر یکطرفه) باشد.\n",
      "  **پیشنهاد می‌شود یک بازرسی میدانی برای ریشه‌یابی علت این پدیده انجام شود.**\n",
      "  این قابلیت تشخیصی، یکی از مزایای رقابتی کنتور POOYAB-SM4 است.\n",
      "--------------------------------------------------\n",
      "--------------------------------------------------\n",
      "کنتور با سریال: 909801035576 (اشتراک: 102799)\n",
      "تعداد رویداد جریان معکوس ثبت شده: 2 بار\n",
      "\n",
      "توصیه عملیاتی:\n",
      "  این هشدار لزوماً خطای کنتور نیست، بلکه یک سیگنال تشخیصی ارزشمند است.\n",
      "  بر اساس اسناد فنی، این پدیده می‌تواند ناشی از مشکلات هیدرولیکی در شبکه (مانند نوسان فشار یا خرابی شیر یکطرفه) باشد.\n",
      "  **پیشنهاد می‌شود یک بازرسی میدانی برای ریشه‌یابی علت این پدیده انجام شود.**\n",
      "  این قابلیت تشخیصی، یکی از مزایای رقابتی کنتور POOYAB-SM4 است.\n",
      "--------------------------------------------------\n",
      "--------------------------------------------------\n",
      "کنتور با سریال: 909801034571 (اشتراک: 515565)\n",
      "تعداد رویداد جریان معکوس ثبت شده: 3 بار\n",
      "\n",
      "توصیه عملیاتی:\n",
      "  این هشدار لزوماً خطای کنتور نیست، بلکه یک سیگنال تشخیصی ارزشمند است.\n",
      "  بر اساس اسناد فنی، این پدیده می‌تواند ناشی از مشکلات هیدرولیکی در شبکه (مانند نوسان فشار یا خرابی شیر یکطرفه) باشد.\n",
      "  **پیشنهاد می‌شود یک بازرسی میدانی برای ریشه‌یابی علت این پدیده انجام شود.**\n",
      "  این قابلیت تشخیصی، یکی از مزایای رقابتی کنتور POOYAB-SM4 است.\n",
      "--------------------------------------------------\n",
      "\n",
      "======================================================================\n",
      "خلاصه اجرایی برای تیم فروش: چگونه ارزش محصول پویاک را به مشتری بفروشیم؟\n",
      "======================================================================\n",
      "این تحلیل، داده‌ها را به دو ابزار فروش قدرتمند تبدیل می‌کند:\n",
      "\n",
      "ابزار فروش ۱: ارائه گزارش کاهش آب بدون درآمد (NRW)\n",
      "-------------------------------------------------------\n",
      "گفتگوی نمونه با مشتری:\n",
      "  'بر اساس تحلیل ما از داده‌هایتان، کنتور اشتراک 515530 به تنهایی در ماه گذشته 209508 متر مکعب بیشتر از همتایان خود مصرف کرده است.\n",
      "   این مصرف مازاد می‌تواند سالانه هزینه‌ای بالغ بر 12,570,498,600 ریال به دلیل نشت یا مصرف غیرمجاز به شما تحمیل کند.\n",
      "   ما به شما کمک می‌کنیم تا این نقاط را به سرعت شناسایی و منابع خود را بهینه مدیریت کنید.'\n",
      "\n",
      "ابزار فروش ۲: نمایش کنتور به عنوان سنسور سلامت شبکه\n",
      "-------------------------------------------------------\n",
      "گفتگوی نمونه با مشتری:\n",
      "  'کنتور ما برای اشتراک 514059، چندین مورد جریان معکوس را ثبت کرده است. این یک قابلیت تشخیصی منحصر به فرد است.\n",
      "   این یعنی محصول ما فراتر از یک ابزار صورتحساب، یک سنسور هوشمند برای پایش سلامت شبکه شماست و به شما در شناسایی مشکلات پنهان کمک می‌کند.'\n",
      "\n",
      "پیام نهایی: ما سخت‌افزار نمی‌فروشیم، ما **هوش عملیاتی (Actionable Intelligence)** می‌فروشیم.\n",
      "======================================================================\n"
     ]
    }
   ],
   "source": [
    "# --- بخش ۱: ساخت مطالعه موردی (Case Study) برای کاهش آب بدون درآمد (NRW) ---\n",
    "print(\"--- ۱. شناسایی نقاط مشکوک به هدررفت آب جهت کاهش آب بدون درآمد (NRW) ---\")\n",
    "print(\"هدف: شناسایی مشترکینی که مصرفشان به طور غیرعادی بالاتر از همتایانشان است.\")\n",
    "\n",
    "# برای تحلیل دقیق‌تر، فقط کنتورهای با داده سالم را در نظر می‌گیریم\n",
    "df_healthy = df[df['درصد اطلاعات موجود'] > 90].copy()\n",
    "\n",
    "# تعریف گروه‌های همتا بر اساس نوع پروانه و سایز کنتور\n",
    "df_healthy['Peer_Group'] = df_healthy['License Type'] + ' - ' + df_healthy['Meter Size'].astype(int).astype(str) + 'mm'\n",
    "\n",
    "anomalies_list = []\n",
    "# استفاده از روش IQR برای شناسایی داده‌های پرت در هر گروه همتا\n",
    "for group_name, group_data in df_healthy.groupby('Peer_Group'):\n",
    "    if len(group_data) < 5: continue # از گروه‌های کوچک صرف‌نظر می‌کنیم\n",
    "\n",
    "    q1 = group_data['Consumption (m³)'].quantile(0.25)\n",
    "    q3 = group_data['Consumption (m³)'].quantile(0.75)\n",
    "    iqr = q3 - q1\n",
    "    upper_bound = q3 + 1.5 * iqr\n",
    "    \n",
    "    # شناسایی ناهنجاری (مصرف بالاتر از حد انتظار)\n",
    "    anomalies = group_data[group_data['Consumption (m³)'] > upper_bound]\n",
    "    if not anomalies.empty:\n",
    "        for index, row in anomalies.iterrows():\n",
    "            anomalies_list.append({\n",
    "                'Subscription Code': row['Subscription Code'],\n",
    "                'Peer_Group': row['Peer_Group'],\n",
    "                'Actual_Consumption': row['Consumption (m³)'],\n",
    "                'Peer_Group_Median_Consumption': group_data['Consumption (m³)'].median(),\n",
    "                'Excess_Consumption': row['Consumption (m³)'] - group_data['Consumption (m³)'].median()\n",
    "            })\n",
    "\n",
    "if anomalies_list:\n",
    "    anomaly_df = pd.DataFrame(anomalies_list)\n",
    "    TARIFF_PER_M3_ANNUAL = 5000 * 12 # تعرفه فرضی سالانه\n",
    "    anomaly_df['Potential_Annual_Loss_Rials'] = anomaly_df['Excess_Consumption'] * TARIFF_PER_M3_ANNUAL\n",
    "    \n",
    "    print(\"\\nگزارش مطالعه موردی: شناسایی پتانسیل‌های کاهش NRW\")\n",
    "    print(\"کنتورهای زیر مصرف بسیار بالاتری نسبت به گروه همتای خود دارند و کاندیدای بررسی نشت یا مصرف غیرمجاز هستند:\")\n",
    "    print(anomaly_df.sort_values('Potential_Annual_Loss_Rials', ascending=False).round(2))\n",
    "else:\n",
    "    print(\"\\nدر این مجموعه داده، ناهنجاری مصرف قابل توجهی شناسایی نشد.\")\n",
    "\n",
    "# مصورسازی: نمایش توزیع مصرف در چند گروه همتای کلیدی برای نشان دادن نقاط پرت با Plotly\n",
    "major_groups = df_healthy['Peer_Group'].value_counts().nlargest(3).index\n",
    "df_filtered = df_healthy[df_healthy['Peer_Group'].isin(major_groups)]\n",
    "\n",
    "fig = px.box(df_filtered, \n",
    "             x='Consumption (m³)', \n",
    "             y='Peer_Group',\n",
    "             title='توزیع مصرف در گروه‌های همتا و شناسایی نقاط پرت (پتانسیل NRW)')\n",
    "\n",
    "fig.update_layout(\n",
    "    font_family=\"Tahoma\",\n",
    "    title_font_size=20,\n",
    "    title_x=0.5,\n",
    "    plot_bgcolor='white',\n",
    "    paper_bgcolor='white',\n",
    "    yaxis_title='گروه همتا (نوع پروانه و سایز کنتور)',\n",
    "    xaxis_title='مصرف ماهانه (m³)'\n",
    ")\n",
    "\n",
    "fig.update_xaxes(showgrid=True, gridwidth=1, gridcolor='lightgray')\n",
    "fig.update_yaxes(showgrid=True, gridwidth=1, gridcolor='lightgray')\n",
    "\n",
    "fig.show()\n",
    "\n",
    "\n",
    "# --- بخش ۲: نمایش ارزش ویژگی \"شناسایی جریان منفی\" ---\n",
    "print(\"\\n\\n--- ۲. نمایش ارزش کنتور پویاک به عنوان ابزار تشخیص سلامت شبکه ---\")\n",
    "print(\"هدف: تبدیل ویژگی فنی 'جریان منفی' به یک هشدار عملیاتی ارزشمند برای مشتری.\")\n",
    "\n",
    "df['Negative_Flow_Flag'] = (df['Number of Negative Flows'] > 0).astype(int)\n",
    "negative_flow_meters = df[df['Negative_Flow_Flag'] == 1]\n",
    "\n",
    "if not negative_flow_meters.empty:\n",
    "    print(\"\\nهشدار تشخیصی سلامت شبکه برای تیم بهره‌برداری مشتری:\")\n",
    "    for index, row in negative_flow_meters.iterrows():\n",
    "        print(\"-\" * 50)\n",
    "        print(f\"کنتور با سریال: {row['Meter Serial']:.0f} (اشتراک: {row['Subscription Code']})\")\n",
    "        print(f\"تعداد رویداد جریان معکوس ثبت شده: {row['Number of Negative Flows']:.0f} بار\")\n",
    "        print(\"\\nتوصیه عملیاتی:\")\n",
    "        print(\"  این هشدار لزوماً خطای کنتور نیست، بلکه یک سیگنال تشخیصی ارزشمند است.\")\n",
    "        print(\"  بر اساس اسناد فنی، این پدیده می‌تواند ناشی از مشکلات هیدرولیکی در شبکه (مانند نوسان فشار یا خرابی شیر یکطرفه) باشد.\")\n",
    "        print(\"  **پیشنهاد می‌شود یک بازرسی میدانی برای ریشه‌یابی علت این پدیده انجام شود.**\")\n",
    "        print(\"  این قابلیت تشخیصی، یکی از مزایای رقابتی کنتور POOYAB-SM4 است.\")\n",
    "        print(\"-\" * 50)\n",
    "else:\n",
    "    print(\"\\nدر این مجموعه داده، هیچ کنتوری با سابقه جریان منفی یافت نشد.\")\n",
    "    print(\"سیستم تحلیلی پویاک آماده است تا به محض ثبت چنین رویدادی، هشدارهای تشخیصی لازم را صادر کند.\")\n",
    "\n",
    "\n",
    "# --- بخش ۳: خلاصه مدیریتی برای تیم فروش و بازاریابی پویاک ---\n",
    "print(\"\\n\" + \"=\"*70)\n",
    "print(\"خلاصه اجرایی برای تیم فروش: چگونه ارزش محصول پویاک را به مشتری بفروشیم؟\")\n",
    "print(\"=\"*70)\n",
    "print(\"این تحلیل، داده‌ها را به دو ابزار فروش قدرتمند تبدیل می‌کند:\\n\")\n",
    "\n",
    "print(\"ابزار فروش ۱: ارائه گزارش کاهش آب بدون درآمد (NRW)\")\n",
    "print(\"-\" * 55)\n",
    "if anomalies_list:\n",
    "    top_anomaly = anomaly_df.sort_values('Potential_Annual_Loss_Rials', ascending=False).iloc[0]\n",
    "    print(\"گفتگوی نمونه با مشتری:\")\n",
    "    print(f\"  'بر اساس تحلیل ما از داده‌هایتان، کنتور اشتراک {top_anomaly['Subscription Code']} به تنهایی در ماه گذشته {top_anomaly['Excess_Consumption']:.0f} متر مکعب بیشتر از همتایان خود مصرف کرده است.\")\n",
    "    print(f\"   این مصرف مازاد می‌تواند سالانه هزینه‌ای بالغ بر {top_anomaly['Potential_Annual_Loss_Rials']:,.0f} ریال به دلیل نشت یا مصرف غیرمجاز به شما تحمیل کند.\")\n",
    "    print(\"   ما به شما کمک می‌کنیم تا این نقاط را به سرعت شناسایی و منابع خود را بهینه مدیریت کنید.'\\n\")\n",
    "else:\n",
    "    print(\"  (در این دیتاست ناهنجاری مشخصی برای ساخت نمونه یافت نشد، اما متدولوژی آماده است.)\\n\")\n",
    "\n",
    "print(\"ابزار فروش ۲: نمایش کنتور به عنوان سنسور سلامت شبکه\")\n",
    "print(\"-\" * 55)\n",
    "print(\"گفتگوی نمونه با مشتری:\")\n",
    "if not negative_flow_meters.empty:\n",
    "    top_neg_flow = negative_flow_meters.iloc[0]\n",
    "    print(f\"  'کنتور ما برای اشتراک {top_neg_flow['Subscription Code']}، چندین مورد جریان معکوس را ثبت کرده است. این یک قابلیت تشخیصی منحصر به فرد است.\")\n",
    "    print(\"   این یعنی محصول ما فراتر از یک ابزار صورتحساب، یک سنسور هوشمند برای پایش سلامت شبکه شماست و به شما در شناسایی مشکلات پنهان کمک می‌کند.'\\n\")\n",
    "else:\n",
    "    print(\"  'محصول ما قابلیت شناسایی جریان معکوس را دارد. این ویژگی به شما کمک می‌کند تا مشکلات هیدرولیکی شبکه را قبل از اینکه جدی شوند، تشخیص دهید.\")\n",
    "    print(\"   این یعنی کنتور ما یک سرمایه‌گذاری در جهت پایداری و سلامت کل شبکه شماست.'\\n\")\n",
    "\n",
    "print(\"پیام نهایی: ما سخت‌افزار نمی‌فروشیم، ما **هوش عملیاتی (Actionable Intelligence)** می‌فروشیم.\")\n",
    "print(\"=\"*70)"
   ]
  },
  {
   "cell_type": "code",
   "execution_count": null,
   "id": "7957aafb",
   "metadata": {},
   "outputs": [
    {
     "name": "stdout",
     "output_type": "stream",
     "text": [
      "--- ۱. هوش تجاری: پروفایل‌سازی بخش‌های مختلف بازار ---\n",
      "هدف: شناسایی ارزشمندترین گروه‌های مشتری برای تمرکز استراتژیک تیم فروش.\n",
      "\n",
      "پروفایل سگمنت‌های مشتریان کشف شده توسط هوش مصنوعی:\n",
      "----------------------------------------\n",
      "خوشه 0: پتانسیل رشد (فرصت‌های Upsell)\n",
      "  - تعداد اعضا: 31\n",
      "  - میانگین مصرف: 7786 m³\n",
      "  - میانگین کیفیت داده: 0.98\n",
      "  - نوع پروانه غالب: کشاورزی\n",
      "  - توصیه استراتژیک:\n",
      "      تیم فروش می‌تواند با ارائه خدمات جانبی، درآمد از این بخش را افزایش دهد.\n",
      "----------------------------------------\n",
      "خوشه 1: نگهداری پرهزینه (نیازمند توجه فنی)\n",
      "  - تعداد اعضا: 12\n",
      "  - میانگین مصرف: 7 m³\n",
      "  - میانگین کیفیت داده: 0.61\n",
      "  - نوع پروانه غالب: شرب و بهداشت دام\n",
      "  - توصیه استراتژیک:\n",
      "      تیم فنی باید برای بهبود DQI این گروه اقدام کند تا از زیان جلوگیری شود.\n",
      "----------------------------------------\n",
      "خوشه 2: ستاره طلایی (مشتریان کلیدی و وفادار)\n",
      "  - تعداد اعضا: 29\n",
      "  - میانگین مصرف: 63584 m³\n",
      "  - میانگین کیفیت داده: 1.00\n",
      "  - نوع پروانه غالب: کشاورزی\n",
      "  - توصیه استراتژیک:\n",
      "      حفظ این مشتریان و ارائه خدمات ویژه به آنها در اولویت است.\n",
      "\n",
      "\n",
      "--- ۲. فرصت درآمدی جدید: نمونه اولیه گزارش 'Analytics as a Service' ---\n",
      "هدف: طراحی یک محصول داده‌محور برای فروش به مشتریان به عنوان یک سرویس اشتراکی.\n",
      "\n",
      "======================================================================\n",
      "      گزارش ماهیانه سلامت و بهره‌وری کنتور - ویژه مشترک\n",
      "                   اشتراک شماره: 517963\n",
      "                  تهیه شده توسط پلتفرم هوشمند پویاک\n",
      "======================================================================\n",
      "\n",
      "بخش الف: کارت امتیازی عملکرد کنتور شما\n",
      "  - شاخص کیفیت داده (DQI): 100.00% (نشان‌دهنده سلامت کلی ارتباط و سخت‌افزار)\n",
      "    وضعیت: عالی. کنتور شما با بالاترین قابلیت اطمینان در حال کار است.\n",
      "\n",
      "بخش ب: تحلیل مقایسه‌ای مصرف (پتانسیل نشت یا هدررفت)\n",
      "  (در این نمونه اولیه، این بخش برای نمایش مفهوم طراحی شده است.)\n",
      "  - تحلیل‌های پیشرفته پویاک می‌تواند مصرف شما را با همتایانتان مقایسه کرده و هشدارهای مربوط به مصرف غیرعادی را صادر کند.\n",
      "\n",
      "بخش پ: گزارش رویدادهای خاص شبکه\n",
      "  - در این ماه هیچ رویداد جریان معکوس ثبت نشده است.\n",
      "\n",
      "----------------------------------------------------------------------\n",
      "این گزارش نمونه‌ای از 'سرویس تحلیلی پرمیوم پویاک' است.\n",
      "برای دریافت گزارش‌های ماهانه و دسترسی به داشبورد تحلیلی با ما تماس بگیرید.\n",
      "======================================================================\n",
      "\n",
      "======================================================================\n",
      "خلاصه اجرایی برای مدیرعامل: چگونه از داده برای رشد شرکت استفاده کنیم؟\n",
      "======================================================================\n",
      "فرصت ۱: تمرکز هوشمند در بازار\n",
      "----------------------------------------\n",
      "  - تحلیل ما به طور خودکار پرسودترین و وفادارترین بخش‌های بازار را شناسایی می‌کند.\n",
      "  - پیشنهاد مشخص: تمرکز تیم فروش بر روی مشتریان با پروفایل مشابه خوشه 'ستاره طلایی (مشتریان کلیدی و وفادار)'، که مشخصاً 'کشاورزی' هستند، می‌تواند نرخ موفقیت را به شدت افزایش دهد.\n",
      "\n",
      "فرصت ۲: خلق جریان درآمدی جدید و پایدار\n",
      "----------------------------------------\n",
      "  - ما صرفاً یک شرکت سخت‌افزاری نیستیم. ما یک شرکت داده‌محور هستیم.\n",
      "  - نمونه اولیه گزارش 'Analytics as a Service' نشان می‌دهد که ما محصولی ارزشمند برای فروش داریم که فراتر از کنتور است.\n",
      "  - پیشنهاد مشخص: اجرای یک برنامه پایلوت با ۳ الی ۵ مشتری کلیدی برای ارائه این سرویس تحلیلی به صورت اشتراکی.\n",
      "    این اقدام، مدل کسب‌وکار ما را به سمت فروش خدمات با حاشیه سود بالا متحول می‌کند.\n",
      "\n",
      "استراتژی نهایی: تبدیل داده به سود خالص از طریق هوش تجاری.\n",
      "======================================================================\n"
     ]
    }
   ],
   "source": [
    "from sklearn.preprocessing import StandardScaler\n",
    "from sklearn.cluster import KMeans\n",
    "# اجرای مهندسی ویژگی\n",
    "def jalali_to_gregorian_approx(jalali_str):\n",
    "    try:\n",
    "        parts = list(map(int, str(jalali_str).split('/')))\n",
    "        if len(parts) == 3 and 1300 < parts[0] < 1500 and 0 < parts[1] < 13 and 0 < parts[2] < 32:\n",
    "            return pd.Timestamp(year=parts[0] + 621, month=parts[1], day=parts[2])\n",
    "    except: return pd.NaT\n",
    "df['Installation_Date_G'] = df['Installation Date'].apply(jalali_to_gregorian_approx)\n",
    "df.dropna(subset=['Installation_Date_G'], inplace=True)\n",
    "df['Meter_Age_Days'] = (pd.to_datetime('2025-06-11') - df['Installation_Date_G']).dt.days\n",
    "df['DQI'] = 0.6 * (df['درصد اطلاعات موجود'] / 100) + 0.4 * (np.clip((df['Operating Hours (h)'] / (31*24)) * 100, 0, 100) / 100)\n",
    "\n",
    "# اجرای خوشه‌بندی\n",
    "df_healthy = df[df['DQI'] > 0.5].copy()\n",
    "if len(df_healthy) > 3: # K-Means needs at least n_clusters samples\n",
    "    features_for_clustering = df_healthy[['Consumption (m³)', 'Meter Size', 'DQI', 'Meter_Age_Days']]\n",
    "    scaler = StandardScaler()\n",
    "    features_scaled = scaler.fit_transform(features_for_clustering)\n",
    "    kmeans = KMeans(n_clusters=3, random_state=42, n_init=10)\n",
    "    df_healthy['Cluster'] = kmeans.fit_predict(features_scaled)\n",
    "    # Drop any existing Cluster column in df before merge to avoid duplicates\n",
    "    if 'Cluster' in df.columns:\n",
    "        df = df.drop('Cluster', axis=1)\n",
    "    df = df.merge(df_healthy[['Subscription Code', 'Cluster']], on='Subscription Code', how='left')\n",
    "\n",
    "\n",
    "# --- بخش ۱: شناسایی و پروفایل‌سازی سگمنت‌های استراتژیک بازار ---\n",
    "print(\"--- ۱. هوش تجاری: پروفایل‌سازی بخش‌های مختلف بازار ---\")\n",
    "print(\"هدف: شناسایی ارزشمندترین گروه‌های مشتری برای تمرکز استراتژیک تیم فروش.\")\n",
    "\n",
    "if 'Cluster' in df.columns:\n",
    "    # تعریف پرسونای هر خوشه\n",
    "    cluster_profiles = {}\n",
    "    for i in range(3): # Assuming 3 clusters\n",
    "        cluster_data = df_healthy[df_healthy['Cluster'] == i]\n",
    "        profile = {\n",
    "            'avg_consumption': cluster_data['Consumption (m³)'].mean(),\n",
    "            'avg_dqi': cluster_data['DQI'].mean(),\n",
    "            'avg_meter_size': cluster_data['Meter Size'].mean(),\n",
    "            'dominant_license': cluster_data['License Type'].mode()[0] if not cluster_data.empty else 'N/A',\n",
    "            'count': len(cluster_data)\n",
    "        }\n",
    "        # نام‌گذاری هوشمند بر اساس ویژگی‌ها\n",
    "        if profile['avg_consumption'] > df_healthy['Consumption (m³)'].mean() and profile['avg_dqi'] > 0.9:\n",
    "            persona = \"ستاره طلایی (مشتریان کلیدی و وفادار)\"\n",
    "        elif profile['avg_dqi'] < 0.7:\n",
    "            persona = \"نگهداری پرهزینه (نیازمند توجه فنی)\"\n",
    "        else:\n",
    "            persona = \"پتانسیل رشد (فرصت‌های Upsell)\"\n",
    "        cluster_profiles[i] = {'persona': persona, 'profile': profile}\n",
    "\n",
    "    print(\"\\nپروفایل سگمنت‌های مشتریان کشف شده توسط هوش مصنوعی:\")\n",
    "    for cid, data in cluster_profiles.items():\n",
    "        print(\"-\" * 40)\n",
    "        print(f\"خوشه {cid}: {data['persona']}\")\n",
    "        print(f\"  - تعداد اعضا: {data['profile']['count']}\")\n",
    "        print(f\"  - میانگین مصرف: {data['profile']['avg_consumption']:.0f} m³\")\n",
    "        print(f\"  - میانگین کیفیت داده: {data['profile']['avg_dqi']:.2f}\")\n",
    "        print(f\"  - نوع پروانه غالب: {data['profile']['dominant_license']}\")\n",
    "        print(f\"  - توصیه استراتژیک:\")\n",
    "        if \"ستاره طلایی\" in data['persona']:\n",
    "            print(\"      حفظ این مشتریان و ارائه خدمات ویژه به آنها در اولویت است.\")\n",
    "        elif \"نگهداری پرهزینه\" in data['persona']:\n",
    "            print(\"      تیم فنی باید برای بهبود DQI این گروه اقدام کند تا از زیان جلوگیری شود.\")\n",
    "        else:\n",
    "            print(\"      تیم فروش می‌تواند با ارائه خدمات جانبی، درآمد از این بخش را افزایش دهد.\")\n",
    "else:\n",
    "    print(\"\\nداده کافی برای پروفایل‌سازی سگمنت‌ها وجود نداشت.\")\n",
    "\n",
    "# --- بخش ۲: طراحی نمونه اولیه سرویس \"تحلیل داده به عنوان خدمت\" (AaaS) ---\n",
    "print(\"\\n\\n--- ۲. فرصت درآمدی جدید: نمونه اولیه گزارش 'Analytics as a Service' ---\")\n",
    "print(\"هدف: طراحی یک محصول داده‌محور برای فروش به مشتریان به عنوان یک سرویس اشتراکی.\")\n",
    "\n",
    "def generate_customer_report(customer_code):\n",
    "    customer_data = df[df['Subscription Code'] == customer_code].iloc[0]\n",
    "    \n",
    "    print(\"\\n\" + \"=\"*70)\n",
    "    print(\"      گزارش ماهیانه سلامت و بهره‌وری کنتور - ویژه مشترک\")\n",
    "    print(f\"                   اشتراک شماره: {customer_code}\")\n",
    "    print(\"                  تهیه شده توسط پلتفرم هوشمند پویاک\")\n",
    "    print(\"=\"*70)\n",
    "\n",
    "    # بخش A: عملکرد و قابلیت اطمینان کنتور\n",
    "    print(\"\\nبخش الف: کارت امتیازی عملکرد کنتور شما\")\n",
    "    print(f\"  - شاخص کیفیت داده (DQI): {customer_data['DQI']:.2%} (نشان‌دهنده سلامت کلی ارتباط و سخت‌افزار)\")\n",
    "    if customer_data['DQI'] > 0.9:\n",
    "        print(\"    وضعیت: عالی. کنتور شما با بالاترین قابلیت اطمینان در حال کار است.\")\n",
    "    elif customer_data['DQI'] > 0.7:\n",
    "        print(\"    وضعیت: خوب. عملکرد کنتور شما پایدار است.\")\n",
    "    else:\n",
    "        print(\"    وضعیت: نیازمند توجه. ممکن است در ارسال داده اختلالاتی وجود داشته باشد.\")\n",
    "\n",
    "    # بخش B: هشدار پتانسیل هدررفت آب\n",
    "    print(\"\\nبخش ب: تحلیل مقایسه‌ای مصرف (پتانسیل نشت یا هدررفت)\")\n",
    "    # این بخش می‌تواند با تحلیل ناهنجاری از محور ۲ تکمیل شود\n",
    "    print(\"  (در این نمونه اولیه، این بخش برای نمایش مفهوم طراحی شده است.)\")\n",
    "    print(\"  - تحلیل‌های پیشرفته پویاک می‌تواند مصرف شما را با همتایانتان مقایسه کرده و هشدارهای مربوط به مصرف غیرعادی را صادر کند.\")\n",
    "    \n",
    "    # بخش C: هشدار سلامت شبکه\n",
    "    print(\"\\nبخش پ: گزارش رویدادهای خاص شبکه\")\n",
    "    if customer_data['Number of Negative Flows'] > 0:\n",
    "        print(f\"  - هشدار: {int(customer_data['Number of Negative Flows'])} مورد جریان معکوس در کنتور شما ثبت شده است.\")\n",
    "        print(\"    این یک قابلیت تشخیصی است که می‌تواند نشانگر مشکلات هیدرولیکی در شبکه داخلی شما باشد.\")\n",
    "    else:\n",
    "        print(\"  - در این ماه هیچ رویداد جریان معکوس ثبت نشده است.\")\n",
    "        \n",
    "    print(\"\\n\" + \"-\"*70)\n",
    "    print(\"این گزارش نمونه‌ای از 'سرویس تحلیلی پرمیوم پویاک' است.\")\n",
    "    print(\"برای دریافت گزارش‌های ماهانه و دسترسی به داشبورد تحلیلی با ما تماس بگیرید.\")\n",
    "    print(\"=\"*70)\n",
    "\n",
    "# نمایش گزارش برای یک مشتری نمونه (مثلاً از خوشه ستاره طلایی)\n",
    "if 'Cluster' in df.columns:\n",
    "    golden_star_cluster_id = [cid for cid, data in cluster_profiles.items() if 'ستاره طلایی' in data['persona']]\n",
    "    if golden_star_cluster_id:\n",
    "        sample_customer = df[df['Cluster'] == golden_star_cluster_id[0]].iloc[0]['Subscription Code']\n",
    "        generate_customer_report(sample_customer)\n",
    "\n",
    "# --- بخش ۳: خلاصه مدیریتی برای مدیرعامل پویاک ---\n",
    "print(\"\\n\" + \"=\"*70)\n",
    "print(\"خلاصه اجرایی برای مدیرعامل: چگونه از داده برای رشد شرکت استفاده کنیم؟\")\n",
    "print(\"=\"*70)\n",
    "\n",
    "print(\"فرصت ۱: تمرکز هوشمند در بازار\")\n",
    "print(\"-\" * 40)\n",
    "print(\"  - تحلیل ما به طور خودکار پرسودترین و وفادارترین بخش‌های بازار را شناسایی می‌کند.\")\n",
    "if 'Cluster' in df.columns:\n",
    "    print(f\"  - پیشنهاد مشخص: تمرکز تیم فروش بر روی مشتریان با پروفایل مشابه خوشه '{cluster_profiles[golden_star_cluster_id[0]]['persona']}'، که مشخصاً '{cluster_profiles[golden_star_cluster_id[0]]['profile']['dominant_license']}' هستند، می‌تواند نرخ موفقیت را به شدت افزایش دهد.\")\n",
    "else:\n",
    "     print(\"  - با داده‌های کامل‌تر، می‌توانیم پروفایل مشتری ایده‌آل (ICP) را استخراج کنیم.\")\n",
    "\n",
    "\n",
    "print(\"\\nفرصت ۲: خلق جریان درآمدی جدید و پایدار\")\n",
    "print(\"-\" * 40)\n",
    "print(\"  - ما صرفاً یک شرکت سخت‌افزاری نیستیم. ما یک شرکت داده‌محور هستیم.\")\n",
    "print(\"  - نمونه اولیه گزارش 'Analytics as a Service' نشان می‌دهد که ما محصولی ارزشمند برای فروش داریم که فراتر از کنتور است.\")\n",
    "print(\"  - پیشنهاد مشخص: اجرای یک برنامه پایلوت با ۳ الی ۵ مشتری کلیدی برای ارائه این سرویس تحلیلی به صورت اشتراکی.\")\n",
    "print(\"    این اقدام، مدل کسب‌وکار ما را به سمت فروش خدمات با حاشیه سود بالا متحول می‌کند.\")\n",
    "\n",
    "print(\"\\nاستراتژی نهایی: تبدیل داده به سود خالص از طریق هوش تجاری.\")\n",
    "print(\"=\"*70)"
   ]
  },
  {
   "cell_type": "code",
   "execution_count": 10,
   "id": "4510a512",
   "metadata": {},
   "outputs": [
    {
     "name": "stdout",
     "output_type": "stream",
     "text": [
      "--- ۱. نقشه راه محصول (POOYAB-SM5) بر اساس داده‌های عملکردی ---\n",
      "هدف: تبدیل نقاط ضعف محصول فعلی به نقاط قوت محصول آینده.\n",
      "\n",
      "اولویت‌های تحقیق و توسعه (R&D) پیشنهادی برای کنتور نسل آینده (POOYAB-SM5):\n",
      "  اولویت 1: بهبود ماژول‌های ارتباطی و آنتن‌دهی (زیرا 'خطای سخت‌افزار/باتری' شایع‌ترین علت خرابی است).\n",
      "  اولویت 3: افزایش انعطاف‌پذیری نرم‌افزار و پلتفرم برای مدیریت و تعریف 'انواع پروانه' جدید و ناشناخته.\n",
      "\n",
      "\n",
      "--- ۲. نمونه اولیه موتور پیش‌بینی: گامی به سوی مدیریت هوشمند آب (AMI 2.0) ---\n",
      "هدف: نمایش قابلیت پلتفرم پویاک در حرکت از گزارش‌دهی گذشته‌نگر به نظارت هوشمند و آینده‌نگر.\n"
     ]
    },
    {
     "ename": "MergeError",
     "evalue": "Passing 'suffixes' which cause duplicate columns {'Cluster_x'} is not allowed.",
     "output_type": "error",
     "traceback": [
      "\u001b[31m---------------------------------------------------------------------------\u001b[39m",
      "\u001b[31mMergeError\u001b[39m                                Traceback (most recent call last)",
      "\u001b[36mCell\u001b[39m\u001b[36m \u001b[39m\u001b[32mIn[10]\u001b[39m\u001b[32m, line 65\u001b[39m\n\u001b[32m     63\u001b[39m kmeans = KMeans(n_clusters=\u001b[32m3\u001b[39m, random_state=\u001b[32m42\u001b[39m, n_init=\u001b[32m10\u001b[39m)\n\u001b[32m     64\u001b[39m df_healthy[\u001b[33m'\u001b[39m\u001b[33mCluster\u001b[39m\u001b[33m'\u001b[39m] = kmeans.fit_predict(features_scaled)\n\u001b[32m---> \u001b[39m\u001b[32m65\u001b[39m df = \u001b[43mdf\u001b[49m\u001b[43m.\u001b[49m\u001b[43mmerge\u001b[49m\u001b[43m(\u001b[49m\u001b[43mdf_healthy\u001b[49m\u001b[43m[\u001b[49m\u001b[43m[\u001b[49m\u001b[33;43m'\u001b[39;49m\u001b[33;43mSubscription Code\u001b[39;49m\u001b[33;43m'\u001b[39;49m\u001b[43m,\u001b[49m\u001b[43m \u001b[49m\u001b[33;43m'\u001b[39;49m\u001b[33;43mCluster\u001b[39;49m\u001b[33;43m'\u001b[39;49m\u001b[43m]\u001b[49m\u001b[43m]\u001b[49m\u001b[43m,\u001b[49m\u001b[43m \u001b[49m\u001b[43mon\u001b[49m\u001b[43m=\u001b[49m\u001b[33;43m'\u001b[39;49m\u001b[33;43mSubscription Code\u001b[39;49m\u001b[33;43m'\u001b[39;49m\u001b[43m,\u001b[49m\u001b[43m \u001b[49m\u001b[43mhow\u001b[49m\u001b[43m=\u001b[49m\u001b[33;43m'\u001b[39;49m\u001b[33;43mleft\u001b[39;49m\u001b[33;43m'\u001b[39;49m\u001b[43m)\u001b[49m\n\u001b[32m     67\u001b[39m \u001b[38;5;28;01mfor\u001b[39;00m i \u001b[38;5;129;01min\u001b[39;00m \u001b[38;5;28mrange\u001b[39m(\u001b[32m3\u001b[39m):\n\u001b[32m     68\u001b[39m     cluster_data = df_healthy[df_healthy[\u001b[33m'\u001b[39m\u001b[33mCluster\u001b[39m\u001b[33m'\u001b[39m] == i]\n",
      "\u001b[36mFile \u001b[39m\u001b[32m~/anaconda3/envs/tf-gpu/lib/python3.12/site-packages/pandas/core/frame.py:10832\u001b[39m, in \u001b[36mDataFrame.merge\u001b[39m\u001b[34m(self, right, how, on, left_on, right_on, left_index, right_index, sort, suffixes, copy, indicator, validate)\u001b[39m\n\u001b[32m  10813\u001b[39m \u001b[38;5;129m@Substitution\u001b[39m(\u001b[33m\"\u001b[39m\u001b[33m\"\u001b[39m)\n\u001b[32m  10814\u001b[39m \u001b[38;5;129m@Appender\u001b[39m(_merge_doc, indents=\u001b[32m2\u001b[39m)\n\u001b[32m  10815\u001b[39m \u001b[38;5;28;01mdef\u001b[39;00m\u001b[38;5;250m \u001b[39m\u001b[34mmerge\u001b[39m(\n\u001b[32m   (...)\u001b[39m\u001b[32m  10828\u001b[39m     validate: MergeValidate | \u001b[38;5;28;01mNone\u001b[39;00m = \u001b[38;5;28;01mNone\u001b[39;00m,\n\u001b[32m  10829\u001b[39m ) -> DataFrame:\n\u001b[32m  10830\u001b[39m     \u001b[38;5;28;01mfrom\u001b[39;00m\u001b[38;5;250m \u001b[39m\u001b[34;01mpandas\u001b[39;00m\u001b[34;01m.\u001b[39;00m\u001b[34;01mcore\u001b[39;00m\u001b[34;01m.\u001b[39;00m\u001b[34;01mreshape\u001b[39;00m\u001b[34;01m.\u001b[39;00m\u001b[34;01mmerge\u001b[39;00m\u001b[38;5;250m \u001b[39m\u001b[38;5;28;01mimport\u001b[39;00m merge\n\u001b[32m> \u001b[39m\u001b[32m10832\u001b[39m     \u001b[38;5;28;01mreturn\u001b[39;00m \u001b[43mmerge\u001b[49m\u001b[43m(\u001b[49m\n\u001b[32m  10833\u001b[39m \u001b[43m        \u001b[49m\u001b[38;5;28;43mself\u001b[39;49m\u001b[43m,\u001b[49m\n\u001b[32m  10834\u001b[39m \u001b[43m        \u001b[49m\u001b[43mright\u001b[49m\u001b[43m,\u001b[49m\n\u001b[32m  10835\u001b[39m \u001b[43m        \u001b[49m\u001b[43mhow\u001b[49m\u001b[43m=\u001b[49m\u001b[43mhow\u001b[49m\u001b[43m,\u001b[49m\n\u001b[32m  10836\u001b[39m \u001b[43m        \u001b[49m\u001b[43mon\u001b[49m\u001b[43m=\u001b[49m\u001b[43mon\u001b[49m\u001b[43m,\u001b[49m\n\u001b[32m  10837\u001b[39m \u001b[43m        \u001b[49m\u001b[43mleft_on\u001b[49m\u001b[43m=\u001b[49m\u001b[43mleft_on\u001b[49m\u001b[43m,\u001b[49m\n\u001b[32m  10838\u001b[39m \u001b[43m        \u001b[49m\u001b[43mright_on\u001b[49m\u001b[43m=\u001b[49m\u001b[43mright_on\u001b[49m\u001b[43m,\u001b[49m\n\u001b[32m  10839\u001b[39m \u001b[43m        \u001b[49m\u001b[43mleft_index\u001b[49m\u001b[43m=\u001b[49m\u001b[43mleft_index\u001b[49m\u001b[43m,\u001b[49m\n\u001b[32m  10840\u001b[39m \u001b[43m        \u001b[49m\u001b[43mright_index\u001b[49m\u001b[43m=\u001b[49m\u001b[43mright_index\u001b[49m\u001b[43m,\u001b[49m\n\u001b[32m  10841\u001b[39m \u001b[43m        \u001b[49m\u001b[43msort\u001b[49m\u001b[43m=\u001b[49m\u001b[43msort\u001b[49m\u001b[43m,\u001b[49m\n\u001b[32m  10842\u001b[39m \u001b[43m        \u001b[49m\u001b[43msuffixes\u001b[49m\u001b[43m=\u001b[49m\u001b[43msuffixes\u001b[49m\u001b[43m,\u001b[49m\n\u001b[32m  10843\u001b[39m \u001b[43m        \u001b[49m\u001b[43mcopy\u001b[49m\u001b[43m=\u001b[49m\u001b[43mcopy\u001b[49m\u001b[43m,\u001b[49m\n\u001b[32m  10844\u001b[39m \u001b[43m        \u001b[49m\u001b[43mindicator\u001b[49m\u001b[43m=\u001b[49m\u001b[43mindicator\u001b[49m\u001b[43m,\u001b[49m\n\u001b[32m  10845\u001b[39m \u001b[43m        \u001b[49m\u001b[43mvalidate\u001b[49m\u001b[43m=\u001b[49m\u001b[43mvalidate\u001b[49m\u001b[43m,\u001b[49m\n\u001b[32m  10846\u001b[39m \u001b[43m    \u001b[49m\u001b[43m)\u001b[49m\n",
      "\u001b[36mFile \u001b[39m\u001b[32m~/anaconda3/envs/tf-gpu/lib/python3.12/site-packages/pandas/core/reshape/merge.py:184\u001b[39m, in \u001b[36mmerge\u001b[39m\u001b[34m(left, right, how, on, left_on, right_on, left_index, right_index, sort, suffixes, copy, indicator, validate)\u001b[39m\n\u001b[32m    169\u001b[39m \u001b[38;5;28;01melse\u001b[39;00m:\n\u001b[32m    170\u001b[39m     op = _MergeOperation(\n\u001b[32m    171\u001b[39m         left_df,\n\u001b[32m    172\u001b[39m         right_df,\n\u001b[32m   (...)\u001b[39m\u001b[32m    182\u001b[39m         validate=validate,\n\u001b[32m    183\u001b[39m     )\n\u001b[32m--> \u001b[39m\u001b[32m184\u001b[39m     \u001b[38;5;28;01mreturn\u001b[39;00m \u001b[43mop\u001b[49m\u001b[43m.\u001b[49m\u001b[43mget_result\u001b[49m\u001b[43m(\u001b[49m\u001b[43mcopy\u001b[49m\u001b[43m=\u001b[49m\u001b[43mcopy\u001b[49m\u001b[43m)\u001b[49m\n",
      "\u001b[36mFile \u001b[39m\u001b[32m~/anaconda3/envs/tf-gpu/lib/python3.12/site-packages/pandas/core/reshape/merge.py:888\u001b[39m, in \u001b[36m_MergeOperation.get_result\u001b[39m\u001b[34m(self, copy)\u001b[39m\n\u001b[32m    884\u001b[39m     \u001b[38;5;28mself\u001b[39m.left, \u001b[38;5;28mself\u001b[39m.right = \u001b[38;5;28mself\u001b[39m._indicator_pre_merge(\u001b[38;5;28mself\u001b[39m.left, \u001b[38;5;28mself\u001b[39m.right)\n\u001b[32m    886\u001b[39m join_index, left_indexer, right_indexer = \u001b[38;5;28mself\u001b[39m._get_join_info()\n\u001b[32m--> \u001b[39m\u001b[32m888\u001b[39m result = \u001b[38;5;28;43mself\u001b[39;49m\u001b[43m.\u001b[49m\u001b[43m_reindex_and_concat\u001b[49m\u001b[43m(\u001b[49m\n\u001b[32m    889\u001b[39m \u001b[43m    \u001b[49m\u001b[43mjoin_index\u001b[49m\u001b[43m,\u001b[49m\u001b[43m \u001b[49m\u001b[43mleft_indexer\u001b[49m\u001b[43m,\u001b[49m\u001b[43m \u001b[49m\u001b[43mright_indexer\u001b[49m\u001b[43m,\u001b[49m\u001b[43m \u001b[49m\u001b[43mcopy\u001b[49m\u001b[43m=\u001b[49m\u001b[43mcopy\u001b[49m\n\u001b[32m    890\u001b[39m \u001b[43m\u001b[49m\u001b[43m)\u001b[49m\n\u001b[32m    891\u001b[39m result = result.__finalize__(\u001b[38;5;28mself\u001b[39m, method=\u001b[38;5;28mself\u001b[39m._merge_type)\n\u001b[32m    893\u001b[39m \u001b[38;5;28;01mif\u001b[39;00m \u001b[38;5;28mself\u001b[39m.indicator:\n",
      "\u001b[36mFile \u001b[39m\u001b[32m~/anaconda3/envs/tf-gpu/lib/python3.12/site-packages/pandas/core/reshape/merge.py:840\u001b[39m, in \u001b[36m_MergeOperation._reindex_and_concat\u001b[39m\u001b[34m(self, join_index, left_indexer, right_indexer, copy)\u001b[39m\n\u001b[32m    837\u001b[39m left = \u001b[38;5;28mself\u001b[39m.left[:]\n\u001b[32m    838\u001b[39m right = \u001b[38;5;28mself\u001b[39m.right[:]\n\u001b[32m--> \u001b[39m\u001b[32m840\u001b[39m llabels, rlabels = \u001b[43m_items_overlap_with_suffix\u001b[49m\u001b[43m(\u001b[49m\n\u001b[32m    841\u001b[39m \u001b[43m    \u001b[49m\u001b[38;5;28;43mself\u001b[39;49m\u001b[43m.\u001b[49m\u001b[43mleft\u001b[49m\u001b[43m.\u001b[49m\u001b[43m_info_axis\u001b[49m\u001b[43m,\u001b[49m\u001b[43m \u001b[49m\u001b[38;5;28;43mself\u001b[39;49m\u001b[43m.\u001b[49m\u001b[43mright\u001b[49m\u001b[43m.\u001b[49m\u001b[43m_info_axis\u001b[49m\u001b[43m,\u001b[49m\u001b[43m \u001b[49m\u001b[38;5;28;43mself\u001b[39;49m\u001b[43m.\u001b[49m\u001b[43msuffixes\u001b[49m\n\u001b[32m    842\u001b[39m \u001b[43m\u001b[49m\u001b[43m)\u001b[49m\n\u001b[32m    844\u001b[39m \u001b[38;5;28;01mif\u001b[39;00m left_indexer \u001b[38;5;129;01mis\u001b[39;00m \u001b[38;5;129;01mnot\u001b[39;00m \u001b[38;5;28;01mNone\u001b[39;00m \u001b[38;5;129;01mand\u001b[39;00m \u001b[38;5;129;01mnot\u001b[39;00m is_range_indexer(left_indexer, \u001b[38;5;28mlen\u001b[39m(left)):\n\u001b[32m    845\u001b[39m     \u001b[38;5;66;03m# Pinning the index here (and in the right code just below) is not\u001b[39;00m\n\u001b[32m    846\u001b[39m     \u001b[38;5;66;03m#  necessary, but makes the `.take` more performant if we have e.g.\u001b[39;00m\n\u001b[32m    847\u001b[39m     \u001b[38;5;66;03m#  a MultiIndex for left.index.\u001b[39;00m\n\u001b[32m    848\u001b[39m     lmgr = left._mgr.reindex_indexer(\n\u001b[32m    849\u001b[39m         join_index,\n\u001b[32m    850\u001b[39m         left_indexer,\n\u001b[32m   (...)\u001b[39m\u001b[32m    855\u001b[39m         use_na_proxy=\u001b[38;5;28;01mTrue\u001b[39;00m,\n\u001b[32m    856\u001b[39m     )\n",
      "\u001b[36mFile \u001b[39m\u001b[32m~/anaconda3/envs/tf-gpu/lib/python3.12/site-packages/pandas/core/reshape/merge.py:2757\u001b[39m, in \u001b[36m_items_overlap_with_suffix\u001b[39m\u001b[34m(left, right, suffixes)\u001b[39m\n\u001b[32m   2755\u001b[39m     dups.extend(rlabels[(rlabels.duplicated()) & (~right.duplicated())].tolist())\n\u001b[32m   2756\u001b[39m \u001b[38;5;28;01mif\u001b[39;00m dups:\n\u001b[32m-> \u001b[39m\u001b[32m2757\u001b[39m     \u001b[38;5;28;01mraise\u001b[39;00m MergeError(\n\u001b[32m   2758\u001b[39m         \u001b[33mf\u001b[39m\u001b[33m\"\u001b[39m\u001b[33mPassing \u001b[39m\u001b[33m'\u001b[39m\u001b[33msuffixes\u001b[39m\u001b[33m'\u001b[39m\u001b[33m which cause duplicate columns \u001b[39m\u001b[38;5;132;01m{\u001b[39;00m\u001b[38;5;28mset\u001b[39m(dups)\u001b[38;5;132;01m}\u001b[39;00m\u001b[33m is \u001b[39m\u001b[33m\"\u001b[39m\n\u001b[32m   2759\u001b[39m         \u001b[33mf\u001b[39m\u001b[33m\"\u001b[39m\u001b[33mnot allowed.\u001b[39m\u001b[33m\"\u001b[39m,\n\u001b[32m   2760\u001b[39m     )\n\u001b[32m   2762\u001b[39m \u001b[38;5;28;01mreturn\u001b[39;00m llabels, rlabels\n",
      "\u001b[31mMergeError\u001b[39m: Passing 'suffixes' which cause duplicate columns {'Cluster_x'} is not allowed."
     ]
    }
   ],
   "source": [
    "import numpy as np\n",
    "from sklearn.preprocessing import StandardScaler\n",
    "from sklearn.cluster import KMeans\n",
    "import pandas as pd\n",
    "\n",
    "# Calculate total hours in month more accurately\n",
    "days_in_month = pd.to_datetime('2024-01-31') - pd.to_datetime('2024-01-01')\n",
    "total_hours = days_in_month.days * 24\n",
    "\n",
    "df['Uptime_Percentage'] = np.clip((df['Operating Hours (h)'] / total_hours) * 100, 0, 100)\n",
    "df['DQI'] = 0.6 * (df['درصد اطلاعات موجود'] / 100) + 0.4 * (df['Uptime_Percentage'] / 100)\n",
    "\n",
    "# --- بخش ۱: استخراج اولویت‌های تحقیق و توسعه (R&D) بر اساس داده‌های میدانی ---\n",
    "print(\"--- ۱. نقشه راه محصول (POOYAB-SM5) بر اساس داده‌های عملکردی ---\")\n",
    "print(\"هدف: تبدیل نقاط ضعف محصول فعلی به نقاط قوت محصول آینده.\")\n",
    "\n",
    "# ۱.۱. بازبینی دلایل اصلی خرابی از محور ۱\n",
    "df_low_dqi = df[df['DQI'] < 0.5].copy()\n",
    "def get_failure_mode(row):\n",
    "    if row['درصد اطلاعات موجود'] < 50 and row['Uptime_Percentage'] > 50: return 'خطای ارتباطی (GPRS/SIM)'\n",
    "    if row['Uptime_Percentage'] < 10: return 'خطای سخت‌افزار/باتری'\n",
    "    return 'ترکیبی / نامشخص'\n",
    "\n",
    "r_and_d_priorities = {}\n",
    "if not df_low_dqi.empty:\n",
    "    df_low_dqi['Failure_Mode'] = df_low_dqi.apply(get_failure_mode, axis=1)\n",
    "    failure_counts = df_low_dqi['Failure_Mode'].value_counts()\n",
    "    dominant_failure = failure_counts.idxmax()\n",
    "    r_and_d_priorities[1] = f\"بهبود ماژول‌های ارتباطی و آنتن‌دهی (زیرا '{dominant_failure}' شایع‌ترین علت خرابی است).\"\n",
    "\n",
    "# ۱.۲. تحلیل نیاز به آلارم‌های هوشمندتر\n",
    "# اگر کنتوری مصرف صفر دارد ولی آپتایم و درصد اطلاعات آن 100 است، می‌تواند نشانه دستکاری یا گرفتگی باشد.\n",
    "suspicious_zero_consumption = df[(df['Consumption (m³)'] == 0) & (df['DQI'] > 0.95)]\n",
    "if not suspicious_zero_consumption.empty:\n",
    "    r_and_d_priorities[2] = \"توسعه آلارم‌های هوشمند جدید (مانند آلارم 'مصرف صفر با وجود اتصال کامل') برای تشخیص دستکاری یا گرفتگی.\"\n",
    "\n",
    "# ۱.۳. تحلیل نیاز به انعطاف‌پذیری نرم‌افزار\n",
    "unknown_license_count = len(df[df['License Type'] == 'Unknown'])\n",
    "if unknown_license_count > 0:\n",
    "    r_and_d_priorities[3] = \"افزایش انعطاف‌پذیری نرم‌افزار و پلتفرم برای مدیریت و تعریف 'انواع پروانه' جدید و ناشناخته.\"\n",
    "\n",
    "print(\"\\nاولویت‌های تحقیق و توسعه (R&D) پیشنهادی برای کنتور نسل آینده (POOYAB-SM5):\")\n",
    "if r_and_d_priorities:\n",
    "    for priority, reason in r_and_d_priorities.items():\n",
    "        print(f\"  اولویت {priority}: {reason}\")\n",
    "df_healthy = df[df['DQI'] > 0.5].copy()\n",
    "cluster_baselines = {}\n",
    "if len(df_healthy) > 3:\n",
    "    features_for_clustering = df_healthy[['Consumption (m³)', 'Meter Size', 'DQI', 'Meter_Age_Days']]\n",
    "    # Handle any NaN values before clustering\n",
    "    features_for_clustering = features_for_clustering.fillna(features_for_clustering.mean())\n",
    "# --- بخش ۲: شبیه‌سازی موتور تحلیل پیش‌بینی (Predictive Analytics) - سنگ بنای AMI 2.0 ---\n",
    "print(\"\\n\\n--- ۲. نمونه اولیه موتور پیش‌بینی: گامی به سوی مدیریت هوشمند آب (AMI 2.0) ---\")\n",
    "print(\"هدف: نمایش قابلیت پلتفرم پویاک در حرکت از گزارش‌دهی گذشته‌نگر به نظارت هوشمند و آینده‌نگر.\")\n",
    "\n",
    "# ۲.۱. ساخت پروفایل مصرف برای هر سگمنت مشتری (با استفاده از خوشه‌بندی)\n",
    "df_healthy = df[df['DQI'] > 0.5].copy()\n",
    "cluster_baselines = {}\n",
    "if len(df_healthy) > 3:\n",
    "    features_for_clustering = df_healthy[['Consumption (m³)', 'Meter Size', 'DQI']]\n",
    "    scaler = StandardScaler()\n",
    "    features_scaled = scaler.fit_transform(features_for_clustering)\n",
    "    kmeans = KMeans(n_clusters=3, random_state=42, n_init=10)\n",
    "    df_healthy['Cluster'] = kmeans.fit_predict(features_scaled)\n",
    "    df = df.merge(df_healthy[['Subscription Code', 'Cluster']], on='Subscription Code', how='left')\n",
    "\n",
    "    for i in range(3):\n",
    "        cluster_data = df_healthy[df_healthy['Cluster'] == i]\n",
    "        cluster_baselines[i] = {\n",
    "            'mean': cluster_data['Consumption (m³)'].mean(),\n",
    "            'std': cluster_data['Consumption (m³)'].std()\n",
    "        }\n",
    "    print(\"\\nپروفایل‌های مصرف برای هر سگمنت مشتری با موفقیت ساخته شد.\")\n",
    "\n",
    "# ۲.۲. تعریف تابع نظارت پیش‌بینی\n",
    "def predictive_monitoring_alert(subscription_code, new_consumption):\n",
    "    meter_info = df[df['Subscription Code'] == subscription_code]\n",
    "    if meter_info.empty or pd.isna(meter_info.iloc[0]['Cluster']):\n",
    "        return \"هشدار: اطلاعات کافی برای تحلیل پیش‌بینی این مشترک وجود ندارد.\"\n",
    "    \n",
    "    cluster_id = meter_info.iloc[0]['Cluster']\n",
    "    baseline = cluster_baselines[cluster_id]\n",
    "    \n",
    "    if baseline['std'] == 0: return \"هشدار: انحراف معیار پروفایل صفر است، تحلیل ممکن نیست.\"\n",
    "    \n",
    "    z_score = (new_consumption - baseline['mean']) / baseline['std']\n",
    "    \n",
    "    alert = f\"تحلیل پیش‌بینی برای اشتراک {subscription_code} (مصرف جدید: {new_consumption} m³):\\n\"\n",
    "    if z_score > 2.0:\n",
    "        alert += f\"  >> هشدار سطح بالا: مصرف این دوره {abs(z_score):.1f} انحراف معیار بالاتر از میانگین پروفایل این مشترک است. احتمال بالای نشت عمده یا تغییر ناگهانی در مصرف.\"\n",
    "    elif z_score < -1.5:\n",
    "        alert += f\"  >> هشدار سطح متوسط: مصرف این دوره {abs(z_score):.1f} انحراف معیار پایین‌تر از میانگین پروفایل است. احتمال توقف فعالیت یا دستکاری کنتور.\"\n",
    "    else:\n",
    "        alert += \"  >> وضعیت نرمال: مصرف در محدوده قابل انتظار برای این پروفایل مشتری قرار دارد.\"\n",
    "    return alert\n",
    "\n",
    "# ۲.۳. اجرای شبیه‌سازی\n",
    "if cluster_baselines:\n",
    "    print(\"\\nاجرای شبیه‌سازی نظارت پیش‌بینی بر روی چند نمونه:\")\n",
    "    sample_customer_1 = df_healthy.iloc[0]['Subscription Code']\n",
    "    print(predictive_monitoring_alert(sample_customer_1, 3000)) # مصرف نرمال\n",
    "    print(predictive_monitoring_alert(sample_customer_1, 25000)) # مصرف بسیار بالا\n",
    "    sample_customer_2 = df_healthy.iloc[1]['Subscription Code']\n",
    "    print(predictive_monitoring_alert(sample_customer_2, 10)) # مصرف بسیار پایین\n",
    "\n",
    "\n",
    "# --- بخش ۳: خلاصه مدیریتی برای مدیرعامل پویاک ---\n",
    "print(\"\\n\" + \"=\"*70)\n",
    "print(\"خلاصه اجرایی برای مدیرعامل: چشم‌انداز و نقشه راه نوآوری پویاک\")\n",
    "print(\"=\"*70)\n",
    "\n",
    "print(\"چشم‌انداز محصول (POOYAB-SM5):\")\n",
    "print(\"-\" * 40)\n",
    "print(\"  داده‌های میدانی به ما می‌گویند که نسل بعدی کنتور ما باید در سه حوزه کلیدی برتری داشته باشد:\")\n",
    "if r_and_d_priorities:\n",
    "    for p, r in r_and_d_priorities.items():\n",
    "        print(f\"    {p}. {r}\")\n",
    "else:\n",
    "    print(\"    (نیاز به داده‌های بیشتر برای تعیین قطعی اولویت‌ها)\")\n",
    "print(\"  هدف: ساخت 'قابل اعتمادترین' و 'هوشمندترین' کنتور بازار از طریق تمرکز بر قابلیت اتصال و آلارم‌های تشخیصی پیشرفته.\")\n",
    "\n",
    "\n",
    "print(\"\\nچشم‌انداز پلتفرم (گذار به AMI 2.0):\")\n",
    "print(\"-\" * 40)\n",
    "print(\"  ما با موفقیت سنگ بنای یک موتور تحلیل پیش‌بینی را شبیه‌سازی کردیم.\")\n",
    "print(\"  این قابلیت، مدل کسب‌وکار ما را از 'گزارش‌دهی گذشته' به 'ارائه هوشمندی آینده‌نگر' تغییر می‌دهد.\")\n",
    "print(\"  پیشنهاد استراتژیک: توسعه این موتور پیش‌بینی به عنوان یک ماژول کلیدی در سرویس AaaS (محور ۳) و بازاریابی پویاک به عنوان یک شرکت 'هوش آبی به عنوان خدمت' (Water Intelligence as a Service - WIaaS).\")\n",
    "\n",
    "print(\"\\nاقدامات پیشنهادی فوری:\")\n",
    "print(\"  ۱. تخصیص منابع R&D به اولویت‌های استخراج شده از داده‌های میدانی برای طراحی POOYAB-SM5.\")\n",
    "print(\"  ۲. توسعه ماژول 'نظارت پیش‌بینی' و ارائه آن به صورت آزمایشی به مشتریان کلیدی سرویس AaaS.\")\n",
    "print(\"  ۳. آغاز تدوین استراتژی بازاریابی جدید با تمرکز بر پویاک به عنوان یک رهبر در تحول دیجیتال صنعت آب.\")\n",
    "print(\"=\"*70)"
   ]
  },
  {
   "cell_type": "code",
   "execution_count": null,
   "id": "10eb4889",
   "metadata": {},
   "outputs": [],
   "source": []
  }
 ],
 "metadata": {
  "kernelspec": {
   "display_name": "tf-gpu",
   "language": "python",
   "name": "python3"
  },
  "language_info": {
   "codemirror_mode": {
    "name": "ipython",
    "version": 3
   },
   "file_extension": ".py",
   "mimetype": "text/x-python",
   "name": "python",
   "nbconvert_exporter": "python",
   "pygments_lexer": "ipython3",
   "version": "3.12.11"
  }
 },
 "nbformat": 4,
 "nbformat_minor": 5
}
