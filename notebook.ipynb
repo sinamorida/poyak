{
 "cells": [
  {
   "cell_type": "code",
   "execution_count": 64,
   "id": "9f736d6c",
   "metadata": {},
   "outputs": [],
   "source": [
    "import pandas as pd\n",
    "import warnings\n",
    "warnings.filterwarnings('ignore')"
   ]
  },
  {
   "cell_type": "code",
   "execution_count": 65,
   "id": "a6605ad6",
   "metadata": {},
   "outputs": [],
   "source": [
    "import plotly.express as px\n",
    "import plotly.graph_objects as go\n",
    "import plotly.figure_factory as ff"
   ]
  },
  {
   "cell_type": "code",
   "execution_count": 66,
   "id": "506bea5d",
   "metadata": {},
   "outputs": [],
   "source": [
    "df = pd.read_csv(\"non-clean-usage.csv\")"
   ]
  },
  {
   "cell_type": "code",
   "execution_count": 67,
   "id": "debf7011",
   "metadata": {},
   "outputs": [
    {
     "name": "stdout",
     "output_type": "stream",
     "text": [
      "<class 'pandas.core.frame.DataFrame'>\n",
      "RangeIndex: 79848 entries, 0 to 79847\n",
      "Data columns (total 10 columns):\n",
      " #   Column                           Non-Null Count  Dtype  \n",
      "---  ------                           --------------  -----  \n",
      " 0   Subscription Code                79848 non-null  object \n",
      " 1   Flow Rate (l/s)                  33377 non-null  float64\n",
      " 2   Number of Negative Flows         79848 non-null  int64  \n",
      " 3   Percentage of Negative Flows     79848 non-null  float64\n",
      " 4   Operating Hours (h)              41304 non-null  float64\n",
      " 5   Consumption (m³)                 47081 non-null  float64\n",
      " 6   Number of Available Data Points  79848 non-null  int64  \n",
      " 7   تعداد مورد انتظار                79848 non-null  int64  \n",
      " 8   درصد اطلاعات موجود               79848 non-null  float64\n",
      " 9   month                            79848 non-null  object \n",
      "dtypes: float64(5), int64(3), object(2)\n",
      "memory usage: 6.1+ MB\n"
     ]
    }
   ],
   "source": [
    "df.drop(columns=['Unnamed: 0'], inplace=True)\n",
    "df.info()"
   ]
  },
  {
   "cell_type": "code",
   "execution_count": 68,
   "id": "a47013cb",
   "metadata": {},
   "outputs": [
    {
     "data": {
      "text/plain": [
       "Subscription Code                  0.000000\n",
       "Flow Rate (l/s)                    0.581993\n",
       "Number of Negative Flows           0.000000\n",
       "Percentage of Negative Flows       0.000000\n",
       "Operating Hours (h)                0.482717\n",
       "Consumption (m³)                   0.410367\n",
       "Number of Available Data Points    0.000000\n",
       "تعداد مورد انتظار                  0.000000\n",
       "درصد اطلاعات موجود                 0.000000\n",
       "month                              0.000000\n",
       "dtype: float64"
      ]
     },
     "execution_count": 68,
     "metadata": {},
     "output_type": "execute_result"
    }
   ],
   "source": [
    "df.isna().sum() / len(df)"
   ]
  },
  {
   "cell_type": "code",
   "execution_count": 69,
   "id": "d2198659",
   "metadata": {},
   "outputs": [
    {
     "data": {
      "text/html": [
       "<div>\n",
       "<style scoped>\n",
       "    .dataframe tbody tr th:only-of-type {\n",
       "        vertical-align: middle;\n",
       "    }\n",
       "\n",
       "    .dataframe tbody tr th {\n",
       "        vertical-align: top;\n",
       "    }\n",
       "\n",
       "    .dataframe thead th {\n",
       "        text-align: right;\n",
       "    }\n",
       "</style>\n",
       "<table border=\"1\" class=\"dataframe\">\n",
       "  <thead>\n",
       "    <tr style=\"text-align: right;\">\n",
       "      <th></th>\n",
       "      <th>Subscription Code</th>\n",
       "      <th>Flow Rate (l/s)</th>\n",
       "      <th>Number of Negative Flows</th>\n",
       "      <th>Percentage of Negative Flows</th>\n",
       "      <th>Operating Hours (h)</th>\n",
       "      <th>Consumption (m³)</th>\n",
       "      <th>Number of Available Data Points</th>\n",
       "      <th>تعداد مورد انتظار</th>\n",
       "      <th>درصد اطلاعات موجود</th>\n",
       "      <th>month</th>\n",
       "    </tr>\n",
       "  </thead>\n",
       "  <tbody>\n",
       "    <tr>\n",
       "      <th>0</th>\n",
       "      <td>520009</td>\n",
       "      <td>NaN</td>\n",
       "      <td>0</td>\n",
       "      <td>0.0</td>\n",
       "      <td>NaN</td>\n",
       "      <td>NaN</td>\n",
       "      <td>0</td>\n",
       "      <td>31</td>\n",
       "      <td>0.0</td>\n",
       "      <td>1401/01</td>\n",
       "    </tr>\n",
       "    <tr>\n",
       "      <th>1</th>\n",
       "      <td>200654</td>\n",
       "      <td>1.38</td>\n",
       "      <td>0</td>\n",
       "      <td>0.0</td>\n",
       "      <td>16492.8</td>\n",
       "      <td>2727.77</td>\n",
       "      <td>31</td>\n",
       "      <td>31</td>\n",
       "      <td>100.0</td>\n",
       "      <td>1401/01</td>\n",
       "    </tr>\n",
       "    <tr>\n",
       "      <th>2</th>\n",
       "      <td>622162</td>\n",
       "      <td>NaN</td>\n",
       "      <td>0</td>\n",
       "      <td>0.0</td>\n",
       "      <td>NaN</td>\n",
       "      <td>NaN</td>\n",
       "      <td>0</td>\n",
       "      <td>31</td>\n",
       "      <td>0.0</td>\n",
       "      <td>1401/01</td>\n",
       "    </tr>\n",
       "    <tr>\n",
       "      <th>3</th>\n",
       "      <td>515618</td>\n",
       "      <td>7.05</td>\n",
       "      <td>0</td>\n",
       "      <td>0.0</td>\n",
       "      <td>29319.6</td>\n",
       "      <td>14647.50</td>\n",
       "      <td>31</td>\n",
       "      <td>31</td>\n",
       "      <td>100.0</td>\n",
       "      <td>1401/01</td>\n",
       "    </tr>\n",
       "    <tr>\n",
       "      <th>4</th>\n",
       "      <td>529232</td>\n",
       "      <td>NaN</td>\n",
       "      <td>0</td>\n",
       "      <td>0.0</td>\n",
       "      <td>NaN</td>\n",
       "      <td>NaN</td>\n",
       "      <td>0</td>\n",
       "      <td>31</td>\n",
       "      <td>0.0</td>\n",
       "      <td>1401/01</td>\n",
       "    </tr>\n",
       "  </tbody>\n",
       "</table>\n",
       "</div>"
      ],
      "text/plain": [
       "  Subscription Code  Flow Rate (l/s)  Number of Negative Flows  \\\n",
       "0            520009              NaN                         0   \n",
       "1            200654             1.38                         0   \n",
       "2            622162              NaN                         0   \n",
       "3            515618             7.05                         0   \n",
       "4            529232              NaN                         0   \n",
       "\n",
       "   Percentage of Negative Flows  Operating Hours (h)  Consumption (m³)  \\\n",
       "0                           0.0                  NaN               NaN   \n",
       "1                           0.0              16492.8           2727.77   \n",
       "2                           0.0                  NaN               NaN   \n",
       "3                           0.0              29319.6          14647.50   \n",
       "4                           0.0                  NaN               NaN   \n",
       "\n",
       "   Number of Available Data Points  تعداد مورد انتظار  درصد اطلاعات موجود  \\\n",
       "0                                0                 31                 0.0   \n",
       "1                               31                 31               100.0   \n",
       "2                                0                 31                 0.0   \n",
       "3                               31                 31               100.0   \n",
       "4                                0                 31                 0.0   \n",
       "\n",
       "     month  \n",
       "0  1401/01  \n",
       "1  1401/01  \n",
       "2  1401/01  \n",
       "3  1401/01  \n",
       "4  1401/01  "
      ]
     },
     "execution_count": 69,
     "metadata": {},
     "output_type": "execute_result"
    }
   ],
   "source": [
    "df.head()"
   ]
  },
  {
   "cell_type": "code",
   "execution_count": 70,
   "id": "0a16e4e3",
   "metadata": {},
   "outputs": [
    {
     "data": {
      "text/html": [
       "<div>\n",
       "<style scoped>\n",
       "    .dataframe tbody tr th:only-of-type {\n",
       "        vertical-align: middle;\n",
       "    }\n",
       "\n",
       "    .dataframe tbody tr th {\n",
       "        vertical-align: top;\n",
       "    }\n",
       "\n",
       "    .dataframe thead th {\n",
       "        text-align: right;\n",
       "    }\n",
       "</style>\n",
       "<table border=\"1\" class=\"dataframe\">\n",
       "  <thead>\n",
       "    <tr style=\"text-align: right;\">\n",
       "      <th></th>\n",
       "      <th>Flow Rate (l/s)</th>\n",
       "      <th>Number of Negative Flows</th>\n",
       "      <th>Percentage of Negative Flows</th>\n",
       "      <th>Operating Hours (h)</th>\n",
       "      <th>Consumption (m³)</th>\n",
       "      <th>Number of Available Data Points</th>\n",
       "      <th>تعداد مورد انتظار</th>\n",
       "      <th>درصد اطلاعات موجود</th>\n",
       "    </tr>\n",
       "  </thead>\n",
       "  <tbody>\n",
       "    <tr>\n",
       "      <th>count</th>\n",
       "      <td>33377.000000</td>\n",
       "      <td>79848.000000</td>\n",
       "      <td>79848.000000</td>\n",
       "      <td>4.130400e+04</td>\n",
       "      <td>4.708100e+04</td>\n",
       "      <td>79848.000000</td>\n",
       "      <td>79848.000000</td>\n",
       "      <td>79848.000000</td>\n",
       "    </tr>\n",
       "    <tr>\n",
       "      <th>mean</th>\n",
       "      <td>10.363409</td>\n",
       "      <td>0.071185</td>\n",
       "      <td>0.234891</td>\n",
       "      <td>5.982607e+04</td>\n",
       "      <td>2.381869e+04</td>\n",
       "      <td>17.525812</td>\n",
       "      <td>30.444444</td>\n",
       "      <td>57.594936</td>\n",
       "    </tr>\n",
       "    <tr>\n",
       "      <th>std</th>\n",
       "      <td>40.840751</td>\n",
       "      <td>0.815407</td>\n",
       "      <td>2.677105</td>\n",
       "      <td>3.086594e+06</td>\n",
       "      <td>6.893756e+06</td>\n",
       "      <td>14.780944</td>\n",
       "      <td>0.598355</td>\n",
       "      <td>48.553671</td>\n",
       "    </tr>\n",
       "    <tr>\n",
       "      <th>min</th>\n",
       "      <td>0.100000</td>\n",
       "      <td>0.000000</td>\n",
       "      <td>0.000000</td>\n",
       "      <td>-2.207800e+03</td>\n",
       "      <td>-1.056963e+09</td>\n",
       "      <td>0.000000</td>\n",
       "      <td>29.000000</td>\n",
       "      <td>0.000000</td>\n",
       "    </tr>\n",
       "    <tr>\n",
       "      <th>25%</th>\n",
       "      <td>2.050000</td>\n",
       "      <td>0.000000</td>\n",
       "      <td>0.000000</td>\n",
       "      <td>2.900000e+00</td>\n",
       "      <td>3.000000e-03</td>\n",
       "      <td>0.000000</td>\n",
       "      <td>30.000000</td>\n",
       "      <td>0.000000</td>\n",
       "    </tr>\n",
       "    <tr>\n",
       "      <th>50%</th>\n",
       "      <td>5.890000</td>\n",
       "      <td>0.000000</td>\n",
       "      <td>0.000000</td>\n",
       "      <td>4.897500e+02</td>\n",
       "      <td>7.303800e+02</td>\n",
       "      <td>30.000000</td>\n",
       "      <td>30.500000</td>\n",
       "      <td>100.000000</td>\n",
       "    </tr>\n",
       "    <tr>\n",
       "      <th>75%</th>\n",
       "      <td>14.940000</td>\n",
       "      <td>0.000000</td>\n",
       "      <td>0.000000</td>\n",
       "      <td>1.594610e+04</td>\n",
       "      <td>1.389203e+04</td>\n",
       "      <td>31.000000</td>\n",
       "      <td>31.000000</td>\n",
       "      <td>100.000000</td>\n",
       "    </tr>\n",
       "    <tr>\n",
       "      <th>max</th>\n",
       "      <td>5635.900000</td>\n",
       "      <td>31.000000</td>\n",
       "      <td>100.000000</td>\n",
       "      <td>5.592084e+08</td>\n",
       "      <td>1.056914e+09</td>\n",
       "      <td>31.000000</td>\n",
       "      <td>31.000000</td>\n",
       "      <td>100.000000</td>\n",
       "    </tr>\n",
       "  </tbody>\n",
       "</table>\n",
       "</div>"
      ],
      "text/plain": [
       "       Flow Rate (l/s)  Number of Negative Flows  \\\n",
       "count     33377.000000              79848.000000   \n",
       "mean         10.363409                  0.071185   \n",
       "std          40.840751                  0.815407   \n",
       "min           0.100000                  0.000000   \n",
       "25%           2.050000                  0.000000   \n",
       "50%           5.890000                  0.000000   \n",
       "75%          14.940000                  0.000000   \n",
       "max        5635.900000                 31.000000   \n",
       "\n",
       "       Percentage of Negative Flows  Operating Hours (h)  Consumption (m³)  \\\n",
       "count                  79848.000000         4.130400e+04      4.708100e+04   \n",
       "mean                       0.234891         5.982607e+04      2.381869e+04   \n",
       "std                        2.677105         3.086594e+06      6.893756e+06   \n",
       "min                        0.000000        -2.207800e+03     -1.056963e+09   \n",
       "25%                        0.000000         2.900000e+00      3.000000e-03   \n",
       "50%                        0.000000         4.897500e+02      7.303800e+02   \n",
       "75%                        0.000000         1.594610e+04      1.389203e+04   \n",
       "max                      100.000000         5.592084e+08      1.056914e+09   \n",
       "\n",
       "       Number of Available Data Points  تعداد مورد انتظار  درصد اطلاعات موجود  \n",
       "count                     79848.000000       79848.000000        79848.000000  \n",
       "mean                         17.525812          30.444444           57.594936  \n",
       "std                          14.780944           0.598355           48.553671  \n",
       "min                           0.000000          29.000000            0.000000  \n",
       "25%                           0.000000          30.000000            0.000000  \n",
       "50%                          30.000000          30.500000          100.000000  \n",
       "75%                          31.000000          31.000000          100.000000  \n",
       "max                          31.000000          31.000000          100.000000  "
      ]
     },
     "execution_count": 70,
     "metadata": {},
     "output_type": "execute_result"
    }
   ],
   "source": [
    "df.describe()"
   ]
  },
  {
   "cell_type": "code",
   "execution_count": 71,
   "id": "a2ef481b",
   "metadata": {},
   "outputs": [
    {
     "data": {
      "text/html": [
       "<div>\n",
       "<style scoped>\n",
       "    .dataframe tbody tr th:only-of-type {\n",
       "        vertical-align: middle;\n",
       "    }\n",
       "\n",
       "    .dataframe tbody tr th {\n",
       "        vertical-align: top;\n",
       "    }\n",
       "\n",
       "    .dataframe thead th {\n",
       "        text-align: right;\n",
       "    }\n",
       "</style>\n",
       "<table border=\"1\" class=\"dataframe\">\n",
       "  <thead>\n",
       "    <tr style=\"text-align: right;\">\n",
       "      <th></th>\n",
       "      <th>Subscription Code</th>\n",
       "      <th>License Type</th>\n",
       "      <th>County</th>\n",
       "      <th>Meter Serial</th>\n",
       "      <th>Meter Size</th>\n",
       "      <th>Installation Date</th>\n",
       "      <th>Last Connection Time</th>\n",
       "      <th>Consumption in Period (m³)</th>\n",
       "      <th>Operating Hours in Period (h)</th>\n",
       "      <th>Average Flow Rate in Period (l/s)</th>\n",
       "    </tr>\n",
       "  </thead>\n",
       "  <tbody>\n",
       "    <tr>\n",
       "      <th>0</th>\n",
       "      <td>520009</td>\n",
       "      <td>صنعتی</td>\n",
       "      <td>مشهد</td>\n",
       "      <td>9.098011e+11</td>\n",
       "      <td>50.0</td>\n",
       "      <td>1402/11/15</td>\n",
       "      <td>1404/01/28 - 03:07:28</td>\n",
       "      <td>NaN</td>\n",
       "      <td>NaN</td>\n",
       "      <td>NaN</td>\n",
       "    </tr>\n",
       "    <tr>\n",
       "      <th>1</th>\n",
       "      <td>200654</td>\n",
       "      <td>کشاورزی</td>\n",
       "      <td>قوچان</td>\n",
       "      <td>9.098010e+11</td>\n",
       "      <td>80.0</td>\n",
       "      <td>1400/02/12</td>\n",
       "      <td>1404/01/28 - 02:08:15</td>\n",
       "      <td>23879.93</td>\n",
       "      <td>343575.4</td>\n",
       "      <td>1.15</td>\n",
       "    </tr>\n",
       "    <tr>\n",
       "      <th>2</th>\n",
       "      <td>622162</td>\n",
       "      <td>کشاورزی</td>\n",
       "      <td>تربت حیدریه</td>\n",
       "      <td>9.098011e+11</td>\n",
       "      <td>50.0</td>\n",
       "      <td>1403/02/27</td>\n",
       "      <td>1403/09/08 - 03:10:09</td>\n",
       "      <td>NaN</td>\n",
       "      <td>NaN</td>\n",
       "      <td>NaN</td>\n",
       "    </tr>\n",
       "    <tr>\n",
       "      <th>3</th>\n",
       "      <td>515618</td>\n",
       "      <td>کشاورزی</td>\n",
       "      <td>مشهد</td>\n",
       "      <td>9.098010e+11</td>\n",
       "      <td>125.0</td>\n",
       "      <td>1400/02/30</td>\n",
       "      <td>1404/01/28 - 02:10:25</td>\n",
       "      <td>103922.60</td>\n",
       "      <td>475073.2</td>\n",
       "      <td>6.91</td>\n",
       "    </tr>\n",
       "    <tr>\n",
       "      <th>4</th>\n",
       "      <td>529232</td>\n",
       "      <td>کشاورزی</td>\n",
       "      <td>مشهد</td>\n",
       "      <td>9.098010e+11</td>\n",
       "      <td>125.0</td>\n",
       "      <td>1401/06/23</td>\n",
       "      <td>1404/01/28 - 02:11:21</td>\n",
       "      <td>84159.69</td>\n",
       "      <td>68022.1</td>\n",
       "      <td>6.00</td>\n",
       "    </tr>\n",
       "  </tbody>\n",
       "</table>\n",
       "</div>"
      ],
      "text/plain": [
       "  Subscription Code License Type       County  Meter Serial  Meter Size  \\\n",
       "0            520009        صنعتی         مشهد  9.098011e+11        50.0   \n",
       "1            200654      کشاورزی        قوچان  9.098010e+11        80.0   \n",
       "2            622162      کشاورزی  تربت حیدریه  9.098011e+11        50.0   \n",
       "3            515618      کشاورزی         مشهد  9.098010e+11       125.0   \n",
       "4            529232      کشاورزی         مشهد  9.098010e+11       125.0   \n",
       "\n",
       "  Installation Date   Last Connection Time  Consumption in Period (m³)  \\\n",
       "0        1402/11/15  1404/01/28 - 03:07:28                         NaN   \n",
       "1        1400/02/12  1404/01/28 - 02:08:15                    23879.93   \n",
       "2        1403/02/27  1403/09/08 - 03:10:09                         NaN   \n",
       "3        1400/02/30  1404/01/28 - 02:10:25                   103922.60   \n",
       "4        1401/06/23  1404/01/28 - 02:11:21                    84159.69   \n",
       "\n",
       "   Operating Hours in Period (h)  Average Flow Rate in Period (l/s)  \n",
       "0                            NaN                                NaN  \n",
       "1                       343575.4                               1.15  \n",
       "2                            NaN                                NaN  \n",
       "3                       475073.2                               6.91  \n",
       "4                        68022.1                               6.00  "
      ]
     },
     "execution_count": 71,
     "metadata": {},
     "output_type": "execute_result"
    }
   ],
   "source": [
    "info = pd.read_csv('merged_info.csv')\n",
    "info.drop(columns=['Unnamed: 0'], inplace=True)\n",
    "info.head()"
   ]
  },
  {
   "cell_type": "code",
   "execution_count": 72,
   "id": "ebca929c",
   "metadata": {},
   "outputs": [],
   "source": [
    "non_uniques = pd.read_csv('non_unique_subscrition_codes.csv')"
   ]
  },
  {
   "cell_type": "code",
   "execution_count": 73,
   "id": "f413ad81",
   "metadata": {},
   "outputs": [
    {
     "data": {
      "text/plain": [
       "array(['514711', '514702', '222222', 'چاه شماره 13', 'زندان مرکزی',\n",
       "       '517048', '517227', '111111', '541280', '516377', '529179',\n",
       "       '514564'], dtype=object)"
      ]
     },
     "execution_count": 73,
     "metadata": {},
     "output_type": "execute_result"
    }
   ],
   "source": [
    "non_uniques['Subscription Code'].unique()"
   ]
  },
  {
   "cell_type": "code",
   "execution_count": 74,
   "id": "01978866",
   "metadata": {},
   "outputs": [
    {
     "data": {
      "text/html": [
       "<div>\n",
       "<style scoped>\n",
       "    .dataframe tbody tr th:only-of-type {\n",
       "        vertical-align: middle;\n",
       "    }\n",
       "\n",
       "    .dataframe tbody tr th {\n",
       "        vertical-align: top;\n",
       "    }\n",
       "\n",
       "    .dataframe thead th {\n",
       "        text-align: right;\n",
       "    }\n",
       "</style>\n",
       "<table border=\"1\" class=\"dataframe\">\n",
       "  <thead>\n",
       "    <tr style=\"text-align: right;\">\n",
       "      <th></th>\n",
       "      <th>Subscription Code</th>\n",
       "      <th>License Type</th>\n",
       "      <th>County</th>\n",
       "      <th>Meter Serial</th>\n",
       "      <th>Meter Size</th>\n",
       "      <th>Installation Date</th>\n",
       "      <th>Last Connection Time</th>\n",
       "      <th>Consumption in Period (m³)</th>\n",
       "      <th>Operating Hours in Period (h)</th>\n",
       "      <th>Average Flow Rate in Period (l/s)</th>\n",
       "    </tr>\n",
       "  </thead>\n",
       "  <tbody>\n",
       "    <tr>\n",
       "      <th>0</th>\n",
       "      <td>520009</td>\n",
       "      <td>صنعتی</td>\n",
       "      <td>مشهد</td>\n",
       "      <td>9.098011e+11</td>\n",
       "      <td>50.0</td>\n",
       "      <td>1402/11/15</td>\n",
       "      <td>1404/01/28 - 03:07:28</td>\n",
       "      <td>NaN</td>\n",
       "      <td>NaN</td>\n",
       "      <td>NaN</td>\n",
       "    </tr>\n",
       "    <tr>\n",
       "      <th>1</th>\n",
       "      <td>200654</td>\n",
       "      <td>کشاورزی</td>\n",
       "      <td>قوچان</td>\n",
       "      <td>9.098010e+11</td>\n",
       "      <td>80.0</td>\n",
       "      <td>1400/02/12</td>\n",
       "      <td>1404/01/28 - 02:08:15</td>\n",
       "      <td>23879.93</td>\n",
       "      <td>343575.4</td>\n",
       "      <td>1.15</td>\n",
       "    </tr>\n",
       "    <tr>\n",
       "      <th>2</th>\n",
       "      <td>622162</td>\n",
       "      <td>کشاورزی</td>\n",
       "      <td>تربت حیدریه</td>\n",
       "      <td>9.098011e+11</td>\n",
       "      <td>50.0</td>\n",
       "      <td>1403/02/27</td>\n",
       "      <td>1403/09/08 - 03:10:09</td>\n",
       "      <td>NaN</td>\n",
       "      <td>NaN</td>\n",
       "      <td>NaN</td>\n",
       "    </tr>\n",
       "    <tr>\n",
       "      <th>3</th>\n",
       "      <td>515618</td>\n",
       "      <td>کشاورزی</td>\n",
       "      <td>مشهد</td>\n",
       "      <td>9.098010e+11</td>\n",
       "      <td>125.0</td>\n",
       "      <td>1400/02/30</td>\n",
       "      <td>1404/01/28 - 02:10:25</td>\n",
       "      <td>103922.60</td>\n",
       "      <td>475073.2</td>\n",
       "      <td>6.91</td>\n",
       "    </tr>\n",
       "    <tr>\n",
       "      <th>4</th>\n",
       "      <td>529232</td>\n",
       "      <td>کشاورزی</td>\n",
       "      <td>مشهد</td>\n",
       "      <td>9.098010e+11</td>\n",
       "      <td>125.0</td>\n",
       "      <td>1401/06/23</td>\n",
       "      <td>1404/01/28 - 02:11:21</td>\n",
       "      <td>84159.69</td>\n",
       "      <td>68022.1</td>\n",
       "      <td>6.00</td>\n",
       "    </tr>\n",
       "    <tr>\n",
       "      <th>...</th>\n",
       "      <td>...</td>\n",
       "      <td>...</td>\n",
       "      <td>...</td>\n",
       "      <td>...</td>\n",
       "      <td>...</td>\n",
       "      <td>...</td>\n",
       "      <td>...</td>\n",
       "      <td>...</td>\n",
       "      <td>...</td>\n",
       "      <td>...</td>\n",
       "    </tr>\n",
       "    <tr>\n",
       "      <th>6649</th>\n",
       "      <td>925247</td>\n",
       "      <td>کشاورزی</td>\n",
       "      <td>باخرز</td>\n",
       "      <td>9.098010e+11</td>\n",
       "      <td>50.0</td>\n",
       "      <td>1400/03/24</td>\n",
       "      <td>1404/01/28 - 02:10:01</td>\n",
       "      <td>0.00</td>\n",
       "      <td>0.0</td>\n",
       "      <td>NaN</td>\n",
       "    </tr>\n",
       "    <tr>\n",
       "      <th>6650</th>\n",
       "      <td>518473</td>\n",
       "      <td>کشاورزی</td>\n",
       "      <td>مشهد</td>\n",
       "      <td>9.098010e+11</td>\n",
       "      <td>100.0</td>\n",
       "      <td>1399/06/03</td>\n",
       "      <td>1404/01/28 - 03:01:20</td>\n",
       "      <td>24042.14</td>\n",
       "      <td>1431.8</td>\n",
       "      <td>4.30</td>\n",
       "    </tr>\n",
       "    <tr>\n",
       "      <th>6651</th>\n",
       "      <td>201250</td>\n",
       "      <td>NaN</td>\n",
       "      <td>قوچان</td>\n",
       "      <td>9.098010e+11</td>\n",
       "      <td>50.0</td>\n",
       "      <td>1399/07/07</td>\n",
       "      <td>1404/01/28 - 02:10:42</td>\n",
       "      <td>5123.21</td>\n",
       "      <td>755.4</td>\n",
       "      <td>2.01</td>\n",
       "    </tr>\n",
       "    <tr>\n",
       "      <th>6652</th>\n",
       "      <td>925005</td>\n",
       "      <td>کشاورزی</td>\n",
       "      <td>باخرز</td>\n",
       "      <td>9.098010e+11</td>\n",
       "      <td>100.0</td>\n",
       "      <td>1400/03/03</td>\n",
       "      <td>1403/07/29 - 02:04:50</td>\n",
       "      <td>232348.00</td>\n",
       "      <td>144464.2</td>\n",
       "      <td>20.80</td>\n",
       "    </tr>\n",
       "    <tr>\n",
       "      <th>6653</th>\n",
       "      <td>102290</td>\n",
       "      <td>NaN</td>\n",
       "      <td>سبزوار</td>\n",
       "      <td>9.098011e+11</td>\n",
       "      <td>150.0</td>\n",
       "      <td>1402/12/15</td>\n",
       "      <td>1404/01/28 - 03:10:36</td>\n",
       "      <td>229408.72</td>\n",
       "      <td>1941.9</td>\n",
       "      <td>32.37</td>\n",
       "    </tr>\n",
       "  </tbody>\n",
       "</table>\n",
       "<p>6567 rows × 10 columns</p>\n",
       "</div>"
      ],
      "text/plain": [
       "     Subscription Code License Type       County  Meter Serial  Meter Size  \\\n",
       "0               520009        صنعتی         مشهد  9.098011e+11        50.0   \n",
       "1               200654      کشاورزی        قوچان  9.098010e+11        80.0   \n",
       "2               622162      کشاورزی  تربت حیدریه  9.098011e+11        50.0   \n",
       "3               515618      کشاورزی         مشهد  9.098010e+11       125.0   \n",
       "4               529232      کشاورزی         مشهد  9.098010e+11       125.0   \n",
       "...                ...          ...          ...           ...         ...   \n",
       "6649            925247      کشاورزی        باخرز  9.098010e+11        50.0   \n",
       "6650            518473      کشاورزی         مشهد  9.098010e+11       100.0   \n",
       "6651            201250          NaN        قوچان  9.098010e+11        50.0   \n",
       "6652            925005      کشاورزی        باخرز  9.098010e+11       100.0   \n",
       "6653            102290          NaN       سبزوار  9.098011e+11       150.0   \n",
       "\n",
       "     Installation Date   Last Connection Time  Consumption in Period (m³)  \\\n",
       "0           1402/11/15  1404/01/28 - 03:07:28                         NaN   \n",
       "1           1400/02/12  1404/01/28 - 02:08:15                    23879.93   \n",
       "2           1403/02/27  1403/09/08 - 03:10:09                         NaN   \n",
       "3           1400/02/30  1404/01/28 - 02:10:25                   103922.60   \n",
       "4           1401/06/23  1404/01/28 - 02:11:21                    84159.69   \n",
       "...                ...                    ...                         ...   \n",
       "6649        1400/03/24  1404/01/28 - 02:10:01                        0.00   \n",
       "6650        1399/06/03  1404/01/28 - 03:01:20                    24042.14   \n",
       "6651        1399/07/07  1404/01/28 - 02:10:42                     5123.21   \n",
       "6652        1400/03/03  1403/07/29 - 02:04:50                   232348.00   \n",
       "6653        1402/12/15  1404/01/28 - 03:10:36                   229408.72   \n",
       "\n",
       "      Operating Hours in Period (h)  Average Flow Rate in Period (l/s)  \n",
       "0                               NaN                                NaN  \n",
       "1                          343575.4                               1.15  \n",
       "2                               NaN                                NaN  \n",
       "3                          475073.2                               6.91  \n",
       "4                           68022.1                               6.00  \n",
       "...                             ...                                ...  \n",
       "6649                            0.0                                NaN  \n",
       "6650                         1431.8                               4.30  \n",
       "6651                          755.4                               2.01  \n",
       "6652                       144464.2                              20.80  \n",
       "6653                         1941.9                              32.37  \n",
       "\n",
       "[6567 rows x 10 columns]"
      ]
     },
     "execution_count": 74,
     "metadata": {},
     "output_type": "execute_result"
    }
   ],
   "source": [
    "info[~info[\"Subscription Code\"].isin(non_uniques[\"Subscription Code\"])]"
   ]
  },
  {
   "cell_type": "code",
   "execution_count": 75,
   "id": "8d0395ae",
   "metadata": {},
   "outputs": [],
   "source": [
    "info = info[~info[\"Subscription Code\"].isin(non_uniques[\"Subscription Code\"])]"
   ]
  },
  {
   "cell_type": "code",
   "execution_count": 76,
   "id": "5b34f5d2",
   "metadata": {},
   "outputs": [],
   "source": [
    "df = df[~df[\"Subscription Code\"].isin(non_uniques[\"Subscription Code\"])]"
   ]
  },
  {
   "cell_type": "code",
   "execution_count": 82,
   "id": "16a08a98",
   "metadata": {},
   "outputs": [],
   "source": [
    "info.drop_duplicates(subset='Subscription Code',keep='first',inplace=True)"
   ]
  },
  {
   "cell_type": "code",
   "execution_count": 83,
   "id": "b07c9399",
   "metadata": {},
   "outputs": [],
   "source": [
    "info.fillna(value = 'Unknown', inplace = True)"
   ]
  },
  {
   "cell_type": "code",
   "execution_count": 84,
   "id": "403fcf82",
   "metadata": {},
   "outputs": [
    {
     "name": "stdout",
     "output_type": "stream",
     "text": [
      "<class 'pandas.core.frame.DataFrame'>\n",
      "Index: 2189 entries, 0 to 2217\n",
      "Data columns (total 10 columns):\n",
      " #   Column                             Non-Null Count  Dtype  \n",
      "---  ------                             --------------  -----  \n",
      " 0   Subscription Code                  2189 non-null   object \n",
      " 1   License Type                       2189 non-null   object \n",
      " 2   County                             2189 non-null   object \n",
      " 3   Meter Serial                       2189 non-null   float64\n",
      " 4   Meter Size                         2189 non-null   float64\n",
      " 5   Installation Date                  2189 non-null   object \n",
      " 6   Last Connection Time               2189 non-null   object \n",
      " 7   Consumption in Period (m³)         2189 non-null   object \n",
      " 8   Operating Hours in Period (h)      2189 non-null   object \n",
      " 9   Average Flow Rate in Period (l/s)  2189 non-null   object \n",
      "dtypes: float64(2), object(8)\n",
      "memory usage: 188.1+ KB\n"
     ]
    }
   ],
   "source": [
    "info.info()"
   ]
  },
  {
   "cell_type": "code",
   "execution_count": 85,
   "id": "4405d979",
   "metadata": {},
   "outputs": [],
   "source": [
    "merge = pd.merge(df,info[['Subscription Code','License Type','County','Meter Serial','Meter Size','Installation Date']],on='Subscription Code')"
   ]
  },
  {
   "cell_type": "code",
   "execution_count": 86,
   "id": "bfb566b6",
   "metadata": {},
   "outputs": [
    {
     "data": {
      "text/html": [
       "<div>\n",
       "<style scoped>\n",
       "    .dataframe tbody tr th:only-of-type {\n",
       "        vertical-align: middle;\n",
       "    }\n",
       "\n",
       "    .dataframe tbody tr th {\n",
       "        vertical-align: top;\n",
       "    }\n",
       "\n",
       "    .dataframe thead th {\n",
       "        text-align: right;\n",
       "    }\n",
       "</style>\n",
       "<table border=\"1\" class=\"dataframe\">\n",
       "  <thead>\n",
       "    <tr style=\"text-align: right;\">\n",
       "      <th></th>\n",
       "      <th>Subscription Code</th>\n",
       "      <th>Flow Rate (l/s)</th>\n",
       "      <th>Number of Negative Flows</th>\n",
       "      <th>Percentage of Negative Flows</th>\n",
       "      <th>Operating Hours (h)</th>\n",
       "      <th>Consumption (m³)</th>\n",
       "      <th>Number of Available Data Points</th>\n",
       "      <th>تعداد مورد انتظار</th>\n",
       "      <th>درصد اطلاعات موجود</th>\n",
       "      <th>month</th>\n",
       "      <th>License Type</th>\n",
       "      <th>County</th>\n",
       "      <th>Meter Serial</th>\n",
       "      <th>Meter Size</th>\n",
       "      <th>Installation Date</th>\n",
       "    </tr>\n",
       "  </thead>\n",
       "  <tbody>\n",
       "    <tr>\n",
       "      <th>0</th>\n",
       "      <td>520009</td>\n",
       "      <td>NaN</td>\n",
       "      <td>0</td>\n",
       "      <td>0.0</td>\n",
       "      <td>NaN</td>\n",
       "      <td>NaN</td>\n",
       "      <td>0</td>\n",
       "      <td>31</td>\n",
       "      <td>0.0</td>\n",
       "      <td>1401/01</td>\n",
       "      <td>صنعتی</td>\n",
       "      <td>مشهد</td>\n",
       "      <td>9.098011e+11</td>\n",
       "      <td>50.0</td>\n",
       "      <td>1402/11/15</td>\n",
       "    </tr>\n",
       "    <tr>\n",
       "      <th>1</th>\n",
       "      <td>200654</td>\n",
       "      <td>1.38</td>\n",
       "      <td>0</td>\n",
       "      <td>0.0</td>\n",
       "      <td>16492.8</td>\n",
       "      <td>2727.77</td>\n",
       "      <td>31</td>\n",
       "      <td>31</td>\n",
       "      <td>100.0</td>\n",
       "      <td>1401/01</td>\n",
       "      <td>کشاورزی</td>\n",
       "      <td>قوچان</td>\n",
       "      <td>9.098010e+11</td>\n",
       "      <td>80.0</td>\n",
       "      <td>1400/02/12</td>\n",
       "    </tr>\n",
       "    <tr>\n",
       "      <th>2</th>\n",
       "      <td>622162</td>\n",
       "      <td>NaN</td>\n",
       "      <td>0</td>\n",
       "      <td>0.0</td>\n",
       "      <td>NaN</td>\n",
       "      <td>NaN</td>\n",
       "      <td>0</td>\n",
       "      <td>31</td>\n",
       "      <td>0.0</td>\n",
       "      <td>1401/01</td>\n",
       "      <td>کشاورزی</td>\n",
       "      <td>تربت حیدریه</td>\n",
       "      <td>9.098011e+11</td>\n",
       "      <td>50.0</td>\n",
       "      <td>1403/02/27</td>\n",
       "    </tr>\n",
       "    <tr>\n",
       "      <th>3</th>\n",
       "      <td>515618</td>\n",
       "      <td>7.05</td>\n",
       "      <td>0</td>\n",
       "      <td>0.0</td>\n",
       "      <td>29319.6</td>\n",
       "      <td>14647.50</td>\n",
       "      <td>31</td>\n",
       "      <td>31</td>\n",
       "      <td>100.0</td>\n",
       "      <td>1401/01</td>\n",
       "      <td>کشاورزی</td>\n",
       "      <td>مشهد</td>\n",
       "      <td>9.098010e+11</td>\n",
       "      <td>125.0</td>\n",
       "      <td>1400/02/30</td>\n",
       "    </tr>\n",
       "    <tr>\n",
       "      <th>4</th>\n",
       "      <td>529232</td>\n",
       "      <td>NaN</td>\n",
       "      <td>0</td>\n",
       "      <td>0.0</td>\n",
       "      <td>NaN</td>\n",
       "      <td>NaN</td>\n",
       "      <td>0</td>\n",
       "      <td>31</td>\n",
       "      <td>0.0</td>\n",
       "      <td>1401/01</td>\n",
       "      <td>کشاورزی</td>\n",
       "      <td>مشهد</td>\n",
       "      <td>9.098010e+11</td>\n",
       "      <td>125.0</td>\n",
       "      <td>1401/06/23</td>\n",
       "    </tr>\n",
       "    <tr>\n",
       "      <th>...</th>\n",
       "      <td>...</td>\n",
       "      <td>...</td>\n",
       "      <td>...</td>\n",
       "      <td>...</td>\n",
       "      <td>...</td>\n",
       "      <td>...</td>\n",
       "      <td>...</td>\n",
       "      <td>...</td>\n",
       "      <td>...</td>\n",
       "      <td>...</td>\n",
       "      <td>...</td>\n",
       "      <td>...</td>\n",
       "      <td>...</td>\n",
       "      <td>...</td>\n",
       "      <td>...</td>\n",
       "    </tr>\n",
       "    <tr>\n",
       "      <th>78799</th>\n",
       "      <td>925247</td>\n",
       "      <td>NaN</td>\n",
       "      <td>0</td>\n",
       "      <td>0.0</td>\n",
       "      <td>NaN</td>\n",
       "      <td>NaN</td>\n",
       "      <td>0</td>\n",
       "      <td>30</td>\n",
       "      <td>0.0</td>\n",
       "      <td>1403/12</td>\n",
       "      <td>کشاورزی</td>\n",
       "      <td>باخرز</td>\n",
       "      <td>9.098010e+11</td>\n",
       "      <td>50.0</td>\n",
       "      <td>1400/03/24</td>\n",
       "    </tr>\n",
       "    <tr>\n",
       "      <th>78800</th>\n",
       "      <td>518473</td>\n",
       "      <td>5.44</td>\n",
       "      <td>0</td>\n",
       "      <td>0.0</td>\n",
       "      <td>9.8</td>\n",
       "      <td>177.14</td>\n",
       "      <td>30</td>\n",
       "      <td>30</td>\n",
       "      <td>100.0</td>\n",
       "      <td>1403/12</td>\n",
       "      <td>کشاورزی</td>\n",
       "      <td>مشهد</td>\n",
       "      <td>9.098010e+11</td>\n",
       "      <td>100.0</td>\n",
       "      <td>1399/06/03</td>\n",
       "    </tr>\n",
       "    <tr>\n",
       "      <th>78801</th>\n",
       "      <td>201250</td>\n",
       "      <td>NaN</td>\n",
       "      <td>0</td>\n",
       "      <td>0.0</td>\n",
       "      <td>0.0</td>\n",
       "      <td>0.00</td>\n",
       "      <td>30</td>\n",
       "      <td>30</td>\n",
       "      <td>100.0</td>\n",
       "      <td>1403/12</td>\n",
       "      <td>Unknown</td>\n",
       "      <td>قوچان</td>\n",
       "      <td>9.098010e+11</td>\n",
       "      <td>50.0</td>\n",
       "      <td>1399/07/07</td>\n",
       "    </tr>\n",
       "    <tr>\n",
       "      <th>78802</th>\n",
       "      <td>925005</td>\n",
       "      <td>NaN</td>\n",
       "      <td>0</td>\n",
       "      <td>0.0</td>\n",
       "      <td>NaN</td>\n",
       "      <td>NaN</td>\n",
       "      <td>0</td>\n",
       "      <td>30</td>\n",
       "      <td>0.0</td>\n",
       "      <td>1403/12</td>\n",
       "      <td>کشاورزی</td>\n",
       "      <td>باخرز</td>\n",
       "      <td>9.098010e+11</td>\n",
       "      <td>100.0</td>\n",
       "      <td>1400/03/03</td>\n",
       "    </tr>\n",
       "    <tr>\n",
       "      <th>78803</th>\n",
       "      <td>102290</td>\n",
       "      <td>32.17</td>\n",
       "      <td>0</td>\n",
       "      <td>0.0</td>\n",
       "      <td>5.1</td>\n",
       "      <td>552.70</td>\n",
       "      <td>30</td>\n",
       "      <td>30</td>\n",
       "      <td>100.0</td>\n",
       "      <td>1403/12</td>\n",
       "      <td>Unknown</td>\n",
       "      <td>سبزوار</td>\n",
       "      <td>9.098011e+11</td>\n",
       "      <td>150.0</td>\n",
       "      <td>1402/12/15</td>\n",
       "    </tr>\n",
       "  </tbody>\n",
       "</table>\n",
       "<p>78804 rows × 15 columns</p>\n",
       "</div>"
      ],
      "text/plain": [
       "      Subscription Code  Flow Rate (l/s)  Number of Negative Flows  \\\n",
       "0                520009              NaN                         0   \n",
       "1                200654             1.38                         0   \n",
       "2                622162              NaN                         0   \n",
       "3                515618             7.05                         0   \n",
       "4                529232              NaN                         0   \n",
       "...                 ...              ...                       ...   \n",
       "78799            925247              NaN                         0   \n",
       "78800            518473             5.44                         0   \n",
       "78801            201250              NaN                         0   \n",
       "78802            925005              NaN                         0   \n",
       "78803            102290            32.17                         0   \n",
       "\n",
       "       Percentage of Negative Flows  Operating Hours (h)  Consumption (m³)  \\\n",
       "0                               0.0                  NaN               NaN   \n",
       "1                               0.0              16492.8           2727.77   \n",
       "2                               0.0                  NaN               NaN   \n",
       "3                               0.0              29319.6          14647.50   \n",
       "4                               0.0                  NaN               NaN   \n",
       "...                             ...                  ...               ...   \n",
       "78799                           0.0                  NaN               NaN   \n",
       "78800                           0.0                  9.8            177.14   \n",
       "78801                           0.0                  0.0              0.00   \n",
       "78802                           0.0                  NaN               NaN   \n",
       "78803                           0.0                  5.1            552.70   \n",
       "\n",
       "       Number of Available Data Points  تعداد مورد انتظار  درصد اطلاعات موجود  \\\n",
       "0                                    0                 31                 0.0   \n",
       "1                                   31                 31               100.0   \n",
       "2                                    0                 31                 0.0   \n",
       "3                                   31                 31               100.0   \n",
       "4                                    0                 31                 0.0   \n",
       "...                                ...                ...                 ...   \n",
       "78799                                0                 30                 0.0   \n",
       "78800                               30                 30               100.0   \n",
       "78801                               30                 30               100.0   \n",
       "78802                                0                 30                 0.0   \n",
       "78803                               30                 30               100.0   \n",
       "\n",
       "         month License Type       County  Meter Serial  Meter Size  \\\n",
       "0      1401/01        صنعتی         مشهد  9.098011e+11        50.0   \n",
       "1      1401/01      کشاورزی        قوچان  9.098010e+11        80.0   \n",
       "2      1401/01      کشاورزی  تربت حیدریه  9.098011e+11        50.0   \n",
       "3      1401/01      کشاورزی         مشهد  9.098010e+11       125.0   \n",
       "4      1401/01      کشاورزی         مشهد  9.098010e+11       125.0   \n",
       "...        ...          ...          ...           ...         ...   \n",
       "78799  1403/12      کشاورزی        باخرز  9.098010e+11        50.0   \n",
       "78800  1403/12      کشاورزی         مشهد  9.098010e+11       100.0   \n",
       "78801  1403/12      Unknown        قوچان  9.098010e+11        50.0   \n",
       "78802  1403/12      کشاورزی        باخرز  9.098010e+11       100.0   \n",
       "78803  1403/12      Unknown       سبزوار  9.098011e+11       150.0   \n",
       "\n",
       "      Installation Date  \n",
       "0            1402/11/15  \n",
       "1            1400/02/12  \n",
       "2            1403/02/27  \n",
       "3            1400/02/30  \n",
       "4            1401/06/23  \n",
       "...                 ...  \n",
       "78799        1400/03/24  \n",
       "78800        1399/06/03  \n",
       "78801        1399/07/07  \n",
       "78802        1400/03/03  \n",
       "78803        1402/12/15  \n",
       "\n",
       "[78804 rows x 15 columns]"
      ]
     },
     "execution_count": 86,
     "metadata": {},
     "output_type": "execute_result"
    }
   ],
   "source": [
    "merge"
   ]
  },
  {
   "cell_type": "code",
   "execution_count": 87,
   "id": "bda1059a",
   "metadata": {},
   "outputs": [],
   "source": [
    "merge.to_csv('merged.csv', index=False)"
   ]
  },
  {
   "cell_type": "code",
   "execution_count": 18,
   "id": "72557f65",
   "metadata": {},
   "outputs": [
    {
     "name": "stdout",
     "output_type": "stream",
     "text": [
      "  Subscription Code Installation Date    month  Meter Age (Months)\n",
      "0            520009        1402/11/15  1401/01                 NaN\n",
      "1            200654        1400/02/12  1401/01                11.0\n",
      "2            622162        1403/02/27  1401/01                 NaN\n",
      "3            515618        1400/02/30  1401/01                11.0\n",
      "4            529232        1401/06/23  1401/01                 NaN\n",
      "5            911508        1401/07/27  1401/01                 NaN\n",
      "6            805816        1400/02/06  1401/01                11.0\n",
      "7            603182        1402/11/23  1401/01                 NaN\n",
      "8            514013        1403/03/01  1401/01                 NaN\n",
      "9            603107        1402/03/02  1401/01                 NaN\n"
     ]
    }
   ],
   "source": [
    "df_copy = merge.copy()\n",
    "\n",
    "def calculate_meter_age(installation_date, report_month):\n",
    "    \"\"\"\n",
    "    محاسبه سن کنتور براساس تاریخ نصب و تاریخ ماه گزارش\n",
    "    \n",
    "    Parameters:\n",
    "    -----------\n",
    "    installation_date : str\n",
    "        تاریخ نصب به فرمت شمسی 'YYYY/MM/DD'\n",
    "    report_month : str\n",
    "        ماه گزارش به فرمت شمسی 'YYYY/MM'\n",
    "    \n",
    "    Returns:\n",
    "    --------\n",
    "    float\n",
    "        سن کنتور به ماه\n",
    "    \"\"\"\n",
    "    import jdatetime\n",
    "    \n",
    "    # بررسی مقادیر NaN\n",
    "    if pd.isna(installation_date):\n",
    "        return None\n",
    "    \n",
    "    # تبدیل تاریخ نصب به شئ jdatetime\n",
    "    try:\n",
    "        y_inst, m_inst, d_inst = map(int, installation_date.split('/'))\n",
    "        installation_jdate = jdatetime.date(y_inst, m_inst, d_inst)\n",
    "    except (ValueError, AttributeError):\n",
    "        return None\n",
    "    \n",
    "    # تبدیل ماه گزارش به شئ jdatetime\n",
    "    # روز را به عنوان آخرین روز ماه در نظر می‌گیریم\n",
    "    try:\n",
    "        y_rep, m_rep = map(int, report_month.split('/'))\n",
    "        \n",
    "        # تعیین آخرین روز ماه\n",
    "        if m_rep < 7:  # فروردین تا شهریور: 31 روزه\n",
    "            last_day = 31\n",
    "        elif m_rep < 12:  # مهر تا بهمن: 30 روزه\n",
    "            last_day = 30\n",
    "        else:  # اسفند: بررسی سال کبیسه\n",
    "            if jdatetime.date(y_rep, 12, 29).isleap():\n",
    "                last_day = 30\n",
    "            else:\n",
    "                last_day = 29\n",
    "        \n",
    "        report_jdate = jdatetime.date(y_rep, m_rep, last_day)\n",
    "    except (ValueError, AttributeError):\n",
    "        return None\n",
    "    \n",
    "    # محاسبه تفاوت تاریخ‌ها\n",
    "    if installation_jdate > report_jdate:\n",
    "        # اگر تاریخ نصب بعد از تاریخ گزارش باشد (داده‌های نامعتبر)\n",
    "        return None\n",
    "    \n",
    "    # محاسبه تفاوت به ماه\n",
    "    months_diff = (report_jdate.year - installation_jdate.year) * 12 + (report_jdate.month - installation_jdate.month)\n",
    "    \n",
    "    return months_diff\n",
    "\n",
    "df_copy['Meter Age (Months)'] = df_copy.apply(\n",
    "    lambda row: calculate_meter_age(row['Installation Date'], row['month']), \n",
    "    axis=1\n",
    ")\n",
    "\n",
    "# نمایش نتایج\n",
    "print(df_copy[['Subscription Code', 'Installation Date', 'month', 'Meter Age (Months)']].head(10))"
   ]
  },
  {
   "cell_type": "code",
   "execution_count": 19,
   "id": "c55c3f43",
   "metadata": {},
   "outputs": [],
   "source": [
    "# تبدیل تاریخ نصب کنتور از شمسی (Jalali) به میلادی و محاسبه سن کنتور بر حسب ماه\n",
    "\n",
    "import jdatetime\n",
    "from datetime import datetime\n",
    "\n",
    "def meter_age_months(jalali_date_str, ref_jalali='1404/01/31'):\n",
    "    # ورودی: رشته تاریخ نصب به فرمت 'YYYY/MM/DD'\n",
    "    try:\n",
    "        y, m, d = map(int, jalali_date_str.split('/'))\n",
    "        install_greg = jdatetime.date(y, m, d).togregorian()\n",
    "        # تاریخ مرجع (مثلاً امروز یا انتهای بازه داده)\n",
    "        ref_y, ref_m, ref_d = map(int, ref_jalali.split('/'))\n",
    "        ref_greg = jdatetime.date(ref_y, ref_m, ref_d).togregorian()\n",
    "        # محاسبه تعداد ماه بین دو تاریخ\n",
    "        months = (ref_greg.year - install_greg.year) * 12 + (ref_greg.month - install_greg.month)\n",
    "        # اگر روز مرجع کوچکتر از روز نصب بود یک ماه کم کن\n",
    "        if ref_greg.day < install_greg.day:\n",
    "            months -= 1\n",
    "        return max(months, 0)\n",
    "    except:\n",
    "        return None\n",
    "\n",
    "df_copy['Meter Age (Months)'] = df_copy['Installation Date'].apply(meter_age_months)\n"
   ]
  },
  {
   "cell_type": "code",
   "execution_count": 20,
   "id": "08742643",
   "metadata": {},
   "outputs": [
    {
     "data": {
      "text/html": [
       "<div>\n",
       "<style scoped>\n",
       "    .dataframe tbody tr th:only-of-type {\n",
       "        vertical-align: middle;\n",
       "    }\n",
       "\n",
       "    .dataframe tbody tr th {\n",
       "        vertical-align: top;\n",
       "    }\n",
       "\n",
       "    .dataframe thead th {\n",
       "        text-align: right;\n",
       "    }\n",
       "</style>\n",
       "<table border=\"1\" class=\"dataframe\">\n",
       "  <thead>\n",
       "    <tr style=\"text-align: right;\">\n",
       "      <th></th>\n",
       "      <th>Subscription Code</th>\n",
       "      <th>Flow Rate (l/s)</th>\n",
       "      <th>Number of Negative Flows</th>\n",
       "      <th>Percentage of Negative Flows</th>\n",
       "      <th>Operating Hours (h)</th>\n",
       "      <th>Consumption (m³)</th>\n",
       "      <th>Number of Available Data Points</th>\n",
       "      <th>تعداد مورد انتظار</th>\n",
       "      <th>درصد اطلاعات موجود</th>\n",
       "      <th>month</th>\n",
       "      <th>License Type</th>\n",
       "      <th>County</th>\n",
       "      <th>Meter Serial</th>\n",
       "      <th>Meter Size</th>\n",
       "      <th>Installation Date</th>\n",
       "      <th>Meter Age (Months)</th>\n",
       "    </tr>\n",
       "  </thead>\n",
       "  <tbody>\n",
       "    <tr>\n",
       "      <th>0</th>\n",
       "      <td>520009</td>\n",
       "      <td>NaN</td>\n",
       "      <td>0</td>\n",
       "      <td>0.0</td>\n",
       "      <td>NaN</td>\n",
       "      <td>NaN</td>\n",
       "      <td>0</td>\n",
       "      <td>31</td>\n",
       "      <td>0.0</td>\n",
       "      <td>1401/01</td>\n",
       "      <td>صنعتی</td>\n",
       "      <td>مشهد</td>\n",
       "      <td>9.098011e+11</td>\n",
       "      <td>50.0</td>\n",
       "      <td>1402/11/15</td>\n",
       "      <td>14</td>\n",
       "    </tr>\n",
       "    <tr>\n",
       "      <th>1</th>\n",
       "      <td>200654</td>\n",
       "      <td>1.38</td>\n",
       "      <td>0</td>\n",
       "      <td>0.0</td>\n",
       "      <td>16492.8</td>\n",
       "      <td>2727.77</td>\n",
       "      <td>31</td>\n",
       "      <td>31</td>\n",
       "      <td>100.0</td>\n",
       "      <td>1401/01</td>\n",
       "      <td>کشاورزی</td>\n",
       "      <td>قوچان</td>\n",
       "      <td>9.098010e+11</td>\n",
       "      <td>80.0</td>\n",
       "      <td>1400/02/12</td>\n",
       "      <td>47</td>\n",
       "    </tr>\n",
       "    <tr>\n",
       "      <th>2</th>\n",
       "      <td>622162</td>\n",
       "      <td>NaN</td>\n",
       "      <td>0</td>\n",
       "      <td>0.0</td>\n",
       "      <td>NaN</td>\n",
       "      <td>NaN</td>\n",
       "      <td>0</td>\n",
       "      <td>31</td>\n",
       "      <td>0.0</td>\n",
       "      <td>1401/01</td>\n",
       "      <td>کشاورزی</td>\n",
       "      <td>تربت حیدریه</td>\n",
       "      <td>9.098011e+11</td>\n",
       "      <td>50.0</td>\n",
       "      <td>1403/02/27</td>\n",
       "      <td>11</td>\n",
       "    </tr>\n",
       "    <tr>\n",
       "      <th>3</th>\n",
       "      <td>515618</td>\n",
       "      <td>7.05</td>\n",
       "      <td>0</td>\n",
       "      <td>0.0</td>\n",
       "      <td>29319.6</td>\n",
       "      <td>14647.50</td>\n",
       "      <td>31</td>\n",
       "      <td>31</td>\n",
       "      <td>100.0</td>\n",
       "      <td>1401/01</td>\n",
       "      <td>کشاورزی</td>\n",
       "      <td>مشهد</td>\n",
       "      <td>9.098010e+11</td>\n",
       "      <td>125.0</td>\n",
       "      <td>1400/02/30</td>\n",
       "      <td>47</td>\n",
       "    </tr>\n",
       "    <tr>\n",
       "      <th>4</th>\n",
       "      <td>529232</td>\n",
       "      <td>NaN</td>\n",
       "      <td>0</td>\n",
       "      <td>0.0</td>\n",
       "      <td>NaN</td>\n",
       "      <td>NaN</td>\n",
       "      <td>0</td>\n",
       "      <td>31</td>\n",
       "      <td>0.0</td>\n",
       "      <td>1401/01</td>\n",
       "      <td>کشاورزی</td>\n",
       "      <td>مشهد</td>\n",
       "      <td>9.098010e+11</td>\n",
       "      <td>125.0</td>\n",
       "      <td>1401/06/23</td>\n",
       "      <td>31</td>\n",
       "    </tr>\n",
       "  </tbody>\n",
       "</table>\n",
       "</div>"
      ],
      "text/plain": [
       "  Subscription Code  Flow Rate (l/s)  Number of Negative Flows  \\\n",
       "0            520009              NaN                         0   \n",
       "1            200654             1.38                         0   \n",
       "2            622162              NaN                         0   \n",
       "3            515618             7.05                         0   \n",
       "4            529232              NaN                         0   \n",
       "\n",
       "   Percentage of Negative Flows  Operating Hours (h)  Consumption (m³)  \\\n",
       "0                           0.0                  NaN               NaN   \n",
       "1                           0.0              16492.8           2727.77   \n",
       "2                           0.0                  NaN               NaN   \n",
       "3                           0.0              29319.6          14647.50   \n",
       "4                           0.0                  NaN               NaN   \n",
       "\n",
       "   Number of Available Data Points  تعداد مورد انتظار  درصد اطلاعات موجود  \\\n",
       "0                                0                 31                 0.0   \n",
       "1                               31                 31               100.0   \n",
       "2                                0                 31                 0.0   \n",
       "3                               31                 31               100.0   \n",
       "4                                0                 31                 0.0   \n",
       "\n",
       "     month License Type       County  Meter Serial  Meter Size  \\\n",
       "0  1401/01        صنعتی         مشهد  9.098011e+11        50.0   \n",
       "1  1401/01      کشاورزی        قوچان  9.098010e+11        80.0   \n",
       "2  1401/01      کشاورزی  تربت حیدریه  9.098011e+11        50.0   \n",
       "3  1401/01      کشاورزی         مشهد  9.098010e+11       125.0   \n",
       "4  1401/01      کشاورزی         مشهد  9.098010e+11       125.0   \n",
       "\n",
       "  Installation Date  Meter Age (Months)  \n",
       "0        1402/11/15                  14  \n",
       "1        1400/02/12                  47  \n",
       "2        1403/02/27                  11  \n",
       "3        1400/02/30                  47  \n",
       "4        1401/06/23                  31  "
      ]
     },
     "execution_count": 20,
     "metadata": {},
     "output_type": "execute_result"
    }
   ],
   "source": [
    "df_copy.head()"
   ]
  },
  {
   "cell_type": "code",
   "execution_count": 21,
   "id": "fdd26a35",
   "metadata": {},
   "outputs": [
    {
     "data": {
      "text/html": [
       "<div>\n",
       "<style scoped>\n",
       "    .dataframe tbody tr th:only-of-type {\n",
       "        vertical-align: middle;\n",
       "    }\n",
       "\n",
       "    .dataframe tbody tr th {\n",
       "        vertical-align: top;\n",
       "    }\n",
       "\n",
       "    .dataframe thead th {\n",
       "        text-align: right;\n",
       "    }\n",
       "</style>\n",
       "<table border=\"1\" class=\"dataframe\">\n",
       "  <thead>\n",
       "    <tr style=\"text-align: right;\">\n",
       "      <th></th>\n",
       "      <th>Subscription Code</th>\n",
       "      <th>Flow Rate (l/s)</th>\n",
       "      <th>Number of Negative Flows</th>\n",
       "      <th>Percentage of Negative Flows</th>\n",
       "      <th>Operating Hours (h)</th>\n",
       "      <th>Consumption (m³)</th>\n",
       "      <th>Number of Available Data Points</th>\n",
       "      <th>تعداد مورد انتظار</th>\n",
       "      <th>درصد اطلاعات موجود</th>\n",
       "      <th>month</th>\n",
       "      <th>License Type</th>\n",
       "      <th>County</th>\n",
       "      <th>Meter Serial</th>\n",
       "      <th>Meter Size</th>\n",
       "      <th>Installation Date</th>\n",
       "      <th>Meter Age (Months)</th>\n",
       "    </tr>\n",
       "  </thead>\n",
       "  <tbody>\n",
       "    <tr>\n",
       "      <th>0</th>\n",
       "      <td>520009</td>\n",
       "      <td>NaN</td>\n",
       "      <td>0</td>\n",
       "      <td>0.0</td>\n",
       "      <td>NaN</td>\n",
       "      <td>NaN</td>\n",
       "      <td>0</td>\n",
       "      <td>31</td>\n",
       "      <td>0.0</td>\n",
       "      <td>1401/01</td>\n",
       "      <td>صنعتی</td>\n",
       "      <td>مشهد</td>\n",
       "      <td>9.098011e+11</td>\n",
       "      <td>50.0</td>\n",
       "      <td>1402/11/15</td>\n",
       "      <td>14</td>\n",
       "    </tr>\n",
       "    <tr>\n",
       "      <th>1</th>\n",
       "      <td>200654</td>\n",
       "      <td>1.38</td>\n",
       "      <td>0</td>\n",
       "      <td>0.0</td>\n",
       "      <td>16492.8</td>\n",
       "      <td>2727.77</td>\n",
       "      <td>31</td>\n",
       "      <td>31</td>\n",
       "      <td>100.0</td>\n",
       "      <td>1401/01</td>\n",
       "      <td>کشاورزی</td>\n",
       "      <td>قوچان</td>\n",
       "      <td>9.098010e+11</td>\n",
       "      <td>80.0</td>\n",
       "      <td>1400/02/12</td>\n",
       "      <td>47</td>\n",
       "    </tr>\n",
       "    <tr>\n",
       "      <th>2</th>\n",
       "      <td>622162</td>\n",
       "      <td>NaN</td>\n",
       "      <td>0</td>\n",
       "      <td>0.0</td>\n",
       "      <td>NaN</td>\n",
       "      <td>NaN</td>\n",
       "      <td>0</td>\n",
       "      <td>31</td>\n",
       "      <td>0.0</td>\n",
       "      <td>1401/01</td>\n",
       "      <td>کشاورزی</td>\n",
       "      <td>تربت حیدریه</td>\n",
       "      <td>9.098011e+11</td>\n",
       "      <td>50.0</td>\n",
       "      <td>1403/02/27</td>\n",
       "      <td>11</td>\n",
       "    </tr>\n",
       "    <tr>\n",
       "      <th>3</th>\n",
       "      <td>515618</td>\n",
       "      <td>7.05</td>\n",
       "      <td>0</td>\n",
       "      <td>0.0</td>\n",
       "      <td>29319.6</td>\n",
       "      <td>14647.50</td>\n",
       "      <td>31</td>\n",
       "      <td>31</td>\n",
       "      <td>100.0</td>\n",
       "      <td>1401/01</td>\n",
       "      <td>کشاورزی</td>\n",
       "      <td>مشهد</td>\n",
       "      <td>9.098010e+11</td>\n",
       "      <td>125.0</td>\n",
       "      <td>1400/02/30</td>\n",
       "      <td>47</td>\n",
       "    </tr>\n",
       "    <tr>\n",
       "      <th>4</th>\n",
       "      <td>529232</td>\n",
       "      <td>NaN</td>\n",
       "      <td>0</td>\n",
       "      <td>0.0</td>\n",
       "      <td>NaN</td>\n",
       "      <td>NaN</td>\n",
       "      <td>0</td>\n",
       "      <td>31</td>\n",
       "      <td>0.0</td>\n",
       "      <td>1401/01</td>\n",
       "      <td>کشاورزی</td>\n",
       "      <td>مشهد</td>\n",
       "      <td>9.098010e+11</td>\n",
       "      <td>125.0</td>\n",
       "      <td>1401/06/23</td>\n",
       "      <td>31</td>\n",
       "    </tr>\n",
       "  </tbody>\n",
       "</table>\n",
       "</div>"
      ],
      "text/plain": [
       "  Subscription Code  Flow Rate (l/s)  Number of Negative Flows  \\\n",
       "0            520009              NaN                         0   \n",
       "1            200654             1.38                         0   \n",
       "2            622162              NaN                         0   \n",
       "3            515618             7.05                         0   \n",
       "4            529232              NaN                         0   \n",
       "\n",
       "   Percentage of Negative Flows  Operating Hours (h)  Consumption (m³)  \\\n",
       "0                           0.0                  NaN               NaN   \n",
       "1                           0.0              16492.8           2727.77   \n",
       "2                           0.0                  NaN               NaN   \n",
       "3                           0.0              29319.6          14647.50   \n",
       "4                           0.0                  NaN               NaN   \n",
       "\n",
       "   Number of Available Data Points  تعداد مورد انتظار  درصد اطلاعات موجود  \\\n",
       "0                                0                 31                 0.0   \n",
       "1                               31                 31               100.0   \n",
       "2                                0                 31                 0.0   \n",
       "3                               31                 31               100.0   \n",
       "4                                0                 31                 0.0   \n",
       "\n",
       "     month License Type       County  Meter Serial  Meter Size  \\\n",
       "0  1401/01        صنعتی         مشهد  9.098011e+11        50.0   \n",
       "1  1401/01      کشاورزی        قوچان  9.098010e+11        80.0   \n",
       "2  1401/01      کشاورزی  تربت حیدریه  9.098011e+11        50.0   \n",
       "3  1401/01      کشاورزی         مشهد  9.098010e+11       125.0   \n",
       "4  1401/01      کشاورزی         مشهد  9.098010e+11       125.0   \n",
       "\n",
       "  Installation Date  Meter Age (Months)  \n",
       "0        1402/11/15                  14  \n",
       "1        1400/02/12                  47  \n",
       "2        1403/02/27                  11  \n",
       "3        1400/02/30                  47  \n",
       "4        1401/06/23                  31  "
      ]
     },
     "execution_count": 21,
     "metadata": {},
     "output_type": "execute_result"
    }
   ],
   "source": [
    "df_copy.head()"
   ]
  },
  {
   "cell_type": "code",
   "execution_count": 22,
   "id": "96b0b266",
   "metadata": {},
   "outputs": [
    {
     "name": "stdout",
     "output_type": "stream",
     "text": [
      "<class 'pandas.core.frame.DataFrame'>\n",
      "RangeIndex: 78804 entries, 0 to 78803\n",
      "Data columns (total 16 columns):\n",
      " #   Column                           Non-Null Count  Dtype  \n",
      "---  ------                           --------------  -----  \n",
      " 0   Subscription Code                78804 non-null  object \n",
      " 1   Flow Rate (l/s)                  32917 non-null  float64\n",
      " 2   Number of Negative Flows         78804 non-null  int64  \n",
      " 3   Percentage of Negative Flows     78804 non-null  float64\n",
      " 4   Operating Hours (h)              40767 non-null  float64\n",
      " 5   Consumption (m³)                 46488 non-null  float64\n",
      " 6   Number of Available Data Points  78804 non-null  int64  \n",
      " 7   تعداد مورد انتظار                78804 non-null  int64  \n",
      " 8   درصد اطلاعات موجود               78804 non-null  float64\n",
      " 9   month                            78804 non-null  object \n",
      " 10  License Type                     78804 non-null  object \n",
      " 11  County                           78804 non-null  object \n",
      " 12  Meter Serial                     78804 non-null  float64\n",
      " 13  Meter Size                       78804 non-null  float64\n",
      " 14  Installation Date                78804 non-null  object \n",
      " 15  Meter Age (Months)               78804 non-null  int64  \n",
      "dtypes: float64(7), int64(4), object(5)\n",
      "memory usage: 9.6+ MB\n"
     ]
    }
   ],
   "source": [
    "df_copy.info()"
   ]
  },
  {
   "cell_type": "code",
   "execution_count": 23,
   "id": "c14ca4e7",
   "metadata": {},
   "outputs": [
    {
     "data": {
      "text/plain": [
       "Index(['Subscription Code', 'Flow Rate (l/s)', 'Number of Negative Flows',\n",
       "       'Percentage of Negative Flows', 'Operating Hours (h)',\n",
       "       'Consumption (m³)', 'Number of Available Data Points',\n",
       "       'تعداد مورد انتظار', 'درصد اطلاعات موجود', 'month'],\n",
       "      dtype='object')"
      ]
     },
     "execution_count": 23,
     "metadata": {},
     "output_type": "execute_result"
    }
   ],
   "source": [
    "df.columns"
   ]
  },
  {
   "cell_type": "code",
   "execution_count": 24,
   "id": "9c7019df",
   "metadata": {},
   "outputs": [],
   "source": [
    "df_copy.drop(columns = ['درصد اطلاعات موجود','تعداد مورد انتظار','Number of Available Data Points'], inplace = True)"
   ]
  },
  {
   "cell_type": "code",
   "execution_count": 25,
   "id": "88e39c28",
   "metadata": {},
   "outputs": [],
   "source": [
    "# حذف کنتور های خانگی\n",
    "df_copy = df_copy[df_copy['Meter Serial'] <= 920000000000]"
   ]
  },
  {
   "cell_type": "code",
   "execution_count": 26,
   "id": "ce1992d1",
   "metadata": {},
   "outputs": [
    {
     "data": {
      "text/html": [
       "<div>\n",
       "<style scoped>\n",
       "    .dataframe tbody tr th:only-of-type {\n",
       "        vertical-align: middle;\n",
       "    }\n",
       "\n",
       "    .dataframe tbody tr th {\n",
       "        vertical-align: top;\n",
       "    }\n",
       "\n",
       "    .dataframe thead th {\n",
       "        text-align: right;\n",
       "    }\n",
       "</style>\n",
       "<table border=\"1\" class=\"dataframe\">\n",
       "  <thead>\n",
       "    <tr style=\"text-align: right;\">\n",
       "      <th></th>\n",
       "      <th>Subscription Code</th>\n",
       "      <th>Flow Rate (l/s)</th>\n",
       "      <th>Number of Negative Flows</th>\n",
       "      <th>Percentage of Negative Flows</th>\n",
       "      <th>Operating Hours (h)</th>\n",
       "      <th>Consumption (m³)</th>\n",
       "      <th>month</th>\n",
       "      <th>License Type</th>\n",
       "      <th>County</th>\n",
       "      <th>Meter Serial</th>\n",
       "      <th>Meter Size</th>\n",
       "      <th>Installation Date</th>\n",
       "      <th>Meter Age (Months)</th>\n",
       "    </tr>\n",
       "  </thead>\n",
       "  <tbody>\n",
       "    <tr>\n",
       "      <th>0</th>\n",
       "      <td>520009</td>\n",
       "      <td>NaN</td>\n",
       "      <td>0</td>\n",
       "      <td>0.0</td>\n",
       "      <td>NaN</td>\n",
       "      <td>NaN</td>\n",
       "      <td>1401/01</td>\n",
       "      <td>صنعتی</td>\n",
       "      <td>مشهد</td>\n",
       "      <td>9.098011e+11</td>\n",
       "      <td>50.0</td>\n",
       "      <td>1402/11/15</td>\n",
       "      <td>14</td>\n",
       "    </tr>\n",
       "    <tr>\n",
       "      <th>1</th>\n",
       "      <td>200654</td>\n",
       "      <td>1.38</td>\n",
       "      <td>0</td>\n",
       "      <td>0.0</td>\n",
       "      <td>16492.8</td>\n",
       "      <td>2727.77</td>\n",
       "      <td>1401/01</td>\n",
       "      <td>کشاورزی</td>\n",
       "      <td>قوچان</td>\n",
       "      <td>9.098010e+11</td>\n",
       "      <td>80.0</td>\n",
       "      <td>1400/02/12</td>\n",
       "      <td>47</td>\n",
       "    </tr>\n",
       "    <tr>\n",
       "      <th>2</th>\n",
       "      <td>622162</td>\n",
       "      <td>NaN</td>\n",
       "      <td>0</td>\n",
       "      <td>0.0</td>\n",
       "      <td>NaN</td>\n",
       "      <td>NaN</td>\n",
       "      <td>1401/01</td>\n",
       "      <td>کشاورزی</td>\n",
       "      <td>تربت حیدریه</td>\n",
       "      <td>9.098011e+11</td>\n",
       "      <td>50.0</td>\n",
       "      <td>1403/02/27</td>\n",
       "      <td>11</td>\n",
       "    </tr>\n",
       "    <tr>\n",
       "      <th>3</th>\n",
       "      <td>515618</td>\n",
       "      <td>7.05</td>\n",
       "      <td>0</td>\n",
       "      <td>0.0</td>\n",
       "      <td>29319.6</td>\n",
       "      <td>14647.50</td>\n",
       "      <td>1401/01</td>\n",
       "      <td>کشاورزی</td>\n",
       "      <td>مشهد</td>\n",
       "      <td>9.098010e+11</td>\n",
       "      <td>125.0</td>\n",
       "      <td>1400/02/30</td>\n",
       "      <td>47</td>\n",
       "    </tr>\n",
       "    <tr>\n",
       "      <th>4</th>\n",
       "      <td>529232</td>\n",
       "      <td>NaN</td>\n",
       "      <td>0</td>\n",
       "      <td>0.0</td>\n",
       "      <td>NaN</td>\n",
       "      <td>NaN</td>\n",
       "      <td>1401/01</td>\n",
       "      <td>کشاورزی</td>\n",
       "      <td>مشهد</td>\n",
       "      <td>9.098010e+11</td>\n",
       "      <td>125.0</td>\n",
       "      <td>1401/06/23</td>\n",
       "      <td>31</td>\n",
       "    </tr>\n",
       "    <tr>\n",
       "      <th>...</th>\n",
       "      <td>...</td>\n",
       "      <td>...</td>\n",
       "      <td>...</td>\n",
       "      <td>...</td>\n",
       "      <td>...</td>\n",
       "      <td>...</td>\n",
       "      <td>...</td>\n",
       "      <td>...</td>\n",
       "      <td>...</td>\n",
       "      <td>...</td>\n",
       "      <td>...</td>\n",
       "      <td>...</td>\n",
       "      <td>...</td>\n",
       "    </tr>\n",
       "    <tr>\n",
       "      <th>78799</th>\n",
       "      <td>925247</td>\n",
       "      <td>NaN</td>\n",
       "      <td>0</td>\n",
       "      <td>0.0</td>\n",
       "      <td>NaN</td>\n",
       "      <td>NaN</td>\n",
       "      <td>1403/12</td>\n",
       "      <td>کشاورزی</td>\n",
       "      <td>باخرز</td>\n",
       "      <td>9.098010e+11</td>\n",
       "      <td>50.0</td>\n",
       "      <td>1400/03/24</td>\n",
       "      <td>46</td>\n",
       "    </tr>\n",
       "    <tr>\n",
       "      <th>78800</th>\n",
       "      <td>518473</td>\n",
       "      <td>5.44</td>\n",
       "      <td>0</td>\n",
       "      <td>0.0</td>\n",
       "      <td>9.8</td>\n",
       "      <td>177.14</td>\n",
       "      <td>1403/12</td>\n",
       "      <td>کشاورزی</td>\n",
       "      <td>مشهد</td>\n",
       "      <td>9.098010e+11</td>\n",
       "      <td>100.0</td>\n",
       "      <td>1399/06/03</td>\n",
       "      <td>55</td>\n",
       "    </tr>\n",
       "    <tr>\n",
       "      <th>78801</th>\n",
       "      <td>201250</td>\n",
       "      <td>NaN</td>\n",
       "      <td>0</td>\n",
       "      <td>0.0</td>\n",
       "      <td>0.0</td>\n",
       "      <td>0.00</td>\n",
       "      <td>1403/12</td>\n",
       "      <td>Unknown</td>\n",
       "      <td>قوچان</td>\n",
       "      <td>9.098010e+11</td>\n",
       "      <td>50.0</td>\n",
       "      <td>1399/07/07</td>\n",
       "      <td>54</td>\n",
       "    </tr>\n",
       "    <tr>\n",
       "      <th>78802</th>\n",
       "      <td>925005</td>\n",
       "      <td>NaN</td>\n",
       "      <td>0</td>\n",
       "      <td>0.0</td>\n",
       "      <td>NaN</td>\n",
       "      <td>NaN</td>\n",
       "      <td>1403/12</td>\n",
       "      <td>کشاورزی</td>\n",
       "      <td>باخرز</td>\n",
       "      <td>9.098010e+11</td>\n",
       "      <td>100.0</td>\n",
       "      <td>1400/03/03</td>\n",
       "      <td>46</td>\n",
       "    </tr>\n",
       "    <tr>\n",
       "      <th>78803</th>\n",
       "      <td>102290</td>\n",
       "      <td>32.17</td>\n",
       "      <td>0</td>\n",
       "      <td>0.0</td>\n",
       "      <td>5.1</td>\n",
       "      <td>552.70</td>\n",
       "      <td>1403/12</td>\n",
       "      <td>Unknown</td>\n",
       "      <td>سبزوار</td>\n",
       "      <td>9.098011e+11</td>\n",
       "      <td>150.0</td>\n",
       "      <td>1402/12/15</td>\n",
       "      <td>13</td>\n",
       "    </tr>\n",
       "  </tbody>\n",
       "</table>\n",
       "<p>73404 rows × 13 columns</p>\n",
       "</div>"
      ],
      "text/plain": [
       "      Subscription Code  Flow Rate (l/s)  Number of Negative Flows  \\\n",
       "0                520009              NaN                         0   \n",
       "1                200654             1.38                         0   \n",
       "2                622162              NaN                         0   \n",
       "3                515618             7.05                         0   \n",
       "4                529232              NaN                         0   \n",
       "...                 ...              ...                       ...   \n",
       "78799            925247              NaN                         0   \n",
       "78800            518473             5.44                         0   \n",
       "78801            201250              NaN                         0   \n",
       "78802            925005              NaN                         0   \n",
       "78803            102290            32.17                         0   \n",
       "\n",
       "       Percentage of Negative Flows  Operating Hours (h)  Consumption (m³)  \\\n",
       "0                               0.0                  NaN               NaN   \n",
       "1                               0.0              16492.8           2727.77   \n",
       "2                               0.0                  NaN               NaN   \n",
       "3                               0.0              29319.6          14647.50   \n",
       "4                               0.0                  NaN               NaN   \n",
       "...                             ...                  ...               ...   \n",
       "78799                           0.0                  NaN               NaN   \n",
       "78800                           0.0                  9.8            177.14   \n",
       "78801                           0.0                  0.0              0.00   \n",
       "78802                           0.0                  NaN               NaN   \n",
       "78803                           0.0                  5.1            552.70   \n",
       "\n",
       "         month License Type       County  Meter Serial  Meter Size  \\\n",
       "0      1401/01        صنعتی         مشهد  9.098011e+11        50.0   \n",
       "1      1401/01      کشاورزی        قوچان  9.098010e+11        80.0   \n",
       "2      1401/01      کشاورزی  تربت حیدریه  9.098011e+11        50.0   \n",
       "3      1401/01      کشاورزی         مشهد  9.098010e+11       125.0   \n",
       "4      1401/01      کشاورزی         مشهد  9.098010e+11       125.0   \n",
       "...        ...          ...          ...           ...         ...   \n",
       "78799  1403/12      کشاورزی        باخرز  9.098010e+11        50.0   \n",
       "78800  1403/12      کشاورزی         مشهد  9.098010e+11       100.0   \n",
       "78801  1403/12      Unknown        قوچان  9.098010e+11        50.0   \n",
       "78802  1403/12      کشاورزی        باخرز  9.098010e+11       100.0   \n",
       "78803  1403/12      Unknown       سبزوار  9.098011e+11       150.0   \n",
       "\n",
       "      Installation Date  Meter Age (Months)  \n",
       "0            1402/11/15                  14  \n",
       "1            1400/02/12                  47  \n",
       "2            1403/02/27                  11  \n",
       "3            1400/02/30                  47  \n",
       "4            1401/06/23                  31  \n",
       "...                 ...                 ...  \n",
       "78799        1400/03/24                  46  \n",
       "78800        1399/06/03                  55  \n",
       "78801        1399/07/07                  54  \n",
       "78802        1400/03/03                  46  \n",
       "78803        1402/12/15                  13  \n",
       "\n",
       "[73404 rows x 13 columns]"
      ]
     },
     "execution_count": 26,
     "metadata": {},
     "output_type": "execute_result"
    }
   ],
   "source": [
    "df_copy"
   ]
  },
  {
   "cell_type": "code",
   "execution_count": 27,
   "id": "0d3806c5",
   "metadata": {},
   "outputs": [],
   "source": [
    "# analayse = InteractiveDataAnalyzer(df_copy)"
   ]
  },
  {
   "cell_type": "code",
   "execution_count": 28,
   "id": "022cb283",
   "metadata": {},
   "outputs": [
    {
     "data": {
      "text/html": [
       "<div>\n",
       "<style scoped>\n",
       "    .dataframe tbody tr th:only-of-type {\n",
       "        vertical-align: middle;\n",
       "    }\n",
       "\n",
       "    .dataframe tbody tr th {\n",
       "        vertical-align: top;\n",
       "    }\n",
       "\n",
       "    .dataframe thead th {\n",
       "        text-align: right;\n",
       "    }\n",
       "</style>\n",
       "<table border=\"1\" class=\"dataframe\">\n",
       "  <thead>\n",
       "    <tr style=\"text-align: right;\">\n",
       "      <th></th>\n",
       "      <th>Subscription Code</th>\n",
       "      <th>Flow Rate (l/s)</th>\n",
       "      <th>Number of Negative Flows</th>\n",
       "      <th>Percentage of Negative Flows</th>\n",
       "      <th>Operating Hours (h)</th>\n",
       "      <th>Consumption (m³)</th>\n",
       "      <th>month</th>\n",
       "      <th>License Type</th>\n",
       "      <th>County</th>\n",
       "      <th>Meter Serial</th>\n",
       "      <th>Meter Size</th>\n",
       "      <th>Installation Date</th>\n",
       "      <th>Meter Age (Months)</th>\n",
       "    </tr>\n",
       "  </thead>\n",
       "  <tbody>\n",
       "    <tr>\n",
       "      <th>0</th>\n",
       "      <td>520009</td>\n",
       "      <td>NaN</td>\n",
       "      <td>0</td>\n",
       "      <td>0.0</td>\n",
       "      <td>NaN</td>\n",
       "      <td>NaN</td>\n",
       "      <td>1401/01</td>\n",
       "      <td>صنعتی</td>\n",
       "      <td>مشهد</td>\n",
       "      <td>9.098011e+11</td>\n",
       "      <td>50.0</td>\n",
       "      <td>1402/11/15</td>\n",
       "      <td>14</td>\n",
       "    </tr>\n",
       "    <tr>\n",
       "      <th>1</th>\n",
       "      <td>200654</td>\n",
       "      <td>1.38</td>\n",
       "      <td>0</td>\n",
       "      <td>0.0</td>\n",
       "      <td>16492.8</td>\n",
       "      <td>2727.77</td>\n",
       "      <td>1401/01</td>\n",
       "      <td>کشاورزی</td>\n",
       "      <td>قوچان</td>\n",
       "      <td>9.098010e+11</td>\n",
       "      <td>80.0</td>\n",
       "      <td>1400/02/12</td>\n",
       "      <td>47</td>\n",
       "    </tr>\n",
       "    <tr>\n",
       "      <th>2</th>\n",
       "      <td>622162</td>\n",
       "      <td>NaN</td>\n",
       "      <td>0</td>\n",
       "      <td>0.0</td>\n",
       "      <td>NaN</td>\n",
       "      <td>NaN</td>\n",
       "      <td>1401/01</td>\n",
       "      <td>کشاورزی</td>\n",
       "      <td>تربت حیدریه</td>\n",
       "      <td>9.098011e+11</td>\n",
       "      <td>50.0</td>\n",
       "      <td>1403/02/27</td>\n",
       "      <td>11</td>\n",
       "    </tr>\n",
       "    <tr>\n",
       "      <th>3</th>\n",
       "      <td>515618</td>\n",
       "      <td>7.05</td>\n",
       "      <td>0</td>\n",
       "      <td>0.0</td>\n",
       "      <td>29319.6</td>\n",
       "      <td>14647.50</td>\n",
       "      <td>1401/01</td>\n",
       "      <td>کشاورزی</td>\n",
       "      <td>مشهد</td>\n",
       "      <td>9.098010e+11</td>\n",
       "      <td>125.0</td>\n",
       "      <td>1400/02/30</td>\n",
       "      <td>47</td>\n",
       "    </tr>\n",
       "    <tr>\n",
       "      <th>4</th>\n",
       "      <td>529232</td>\n",
       "      <td>NaN</td>\n",
       "      <td>0</td>\n",
       "      <td>0.0</td>\n",
       "      <td>NaN</td>\n",
       "      <td>NaN</td>\n",
       "      <td>1401/01</td>\n",
       "      <td>کشاورزی</td>\n",
       "      <td>مشهد</td>\n",
       "      <td>9.098010e+11</td>\n",
       "      <td>125.0</td>\n",
       "      <td>1401/06/23</td>\n",
       "      <td>31</td>\n",
       "    </tr>\n",
       "    <tr>\n",
       "      <th>...</th>\n",
       "      <td>...</td>\n",
       "      <td>...</td>\n",
       "      <td>...</td>\n",
       "      <td>...</td>\n",
       "      <td>...</td>\n",
       "      <td>...</td>\n",
       "      <td>...</td>\n",
       "      <td>...</td>\n",
       "      <td>...</td>\n",
       "      <td>...</td>\n",
       "      <td>...</td>\n",
       "      <td>...</td>\n",
       "      <td>...</td>\n",
       "    </tr>\n",
       "    <tr>\n",
       "      <th>78799</th>\n",
       "      <td>925247</td>\n",
       "      <td>NaN</td>\n",
       "      <td>0</td>\n",
       "      <td>0.0</td>\n",
       "      <td>NaN</td>\n",
       "      <td>NaN</td>\n",
       "      <td>1403/12</td>\n",
       "      <td>کشاورزی</td>\n",
       "      <td>باخرز</td>\n",
       "      <td>9.098010e+11</td>\n",
       "      <td>50.0</td>\n",
       "      <td>1400/03/24</td>\n",
       "      <td>46</td>\n",
       "    </tr>\n",
       "    <tr>\n",
       "      <th>78800</th>\n",
       "      <td>518473</td>\n",
       "      <td>5.44</td>\n",
       "      <td>0</td>\n",
       "      <td>0.0</td>\n",
       "      <td>9.8</td>\n",
       "      <td>177.14</td>\n",
       "      <td>1403/12</td>\n",
       "      <td>کشاورزی</td>\n",
       "      <td>مشهد</td>\n",
       "      <td>9.098010e+11</td>\n",
       "      <td>100.0</td>\n",
       "      <td>1399/06/03</td>\n",
       "      <td>55</td>\n",
       "    </tr>\n",
       "    <tr>\n",
       "      <th>78801</th>\n",
       "      <td>201250</td>\n",
       "      <td>NaN</td>\n",
       "      <td>0</td>\n",
       "      <td>0.0</td>\n",
       "      <td>0.0</td>\n",
       "      <td>0.00</td>\n",
       "      <td>1403/12</td>\n",
       "      <td>Unknown</td>\n",
       "      <td>قوچان</td>\n",
       "      <td>9.098010e+11</td>\n",
       "      <td>50.0</td>\n",
       "      <td>1399/07/07</td>\n",
       "      <td>54</td>\n",
       "    </tr>\n",
       "    <tr>\n",
       "      <th>78802</th>\n",
       "      <td>925005</td>\n",
       "      <td>NaN</td>\n",
       "      <td>0</td>\n",
       "      <td>0.0</td>\n",
       "      <td>NaN</td>\n",
       "      <td>NaN</td>\n",
       "      <td>1403/12</td>\n",
       "      <td>کشاورزی</td>\n",
       "      <td>باخرز</td>\n",
       "      <td>9.098010e+11</td>\n",
       "      <td>100.0</td>\n",
       "      <td>1400/03/03</td>\n",
       "      <td>46</td>\n",
       "    </tr>\n",
       "    <tr>\n",
       "      <th>78803</th>\n",
       "      <td>102290</td>\n",
       "      <td>32.17</td>\n",
       "      <td>0</td>\n",
       "      <td>0.0</td>\n",
       "      <td>5.1</td>\n",
       "      <td>552.70</td>\n",
       "      <td>1403/12</td>\n",
       "      <td>Unknown</td>\n",
       "      <td>سبزوار</td>\n",
       "      <td>9.098011e+11</td>\n",
       "      <td>150.0</td>\n",
       "      <td>1402/12/15</td>\n",
       "      <td>13</td>\n",
       "    </tr>\n",
       "  </tbody>\n",
       "</table>\n",
       "<p>73404 rows × 13 columns</p>\n",
       "</div>"
      ],
      "text/plain": [
       "      Subscription Code  Flow Rate (l/s)  Number of Negative Flows  \\\n",
       "0                520009              NaN                         0   \n",
       "1                200654             1.38                         0   \n",
       "2                622162              NaN                         0   \n",
       "3                515618             7.05                         0   \n",
       "4                529232              NaN                         0   \n",
       "...                 ...              ...                       ...   \n",
       "78799            925247              NaN                         0   \n",
       "78800            518473             5.44                         0   \n",
       "78801            201250              NaN                         0   \n",
       "78802            925005              NaN                         0   \n",
       "78803            102290            32.17                         0   \n",
       "\n",
       "       Percentage of Negative Flows  Operating Hours (h)  Consumption (m³)  \\\n",
       "0                               0.0                  NaN               NaN   \n",
       "1                               0.0              16492.8           2727.77   \n",
       "2                               0.0                  NaN               NaN   \n",
       "3                               0.0              29319.6          14647.50   \n",
       "4                               0.0                  NaN               NaN   \n",
       "...                             ...                  ...               ...   \n",
       "78799                           0.0                  NaN               NaN   \n",
       "78800                           0.0                  9.8            177.14   \n",
       "78801                           0.0                  0.0              0.00   \n",
       "78802                           0.0                  NaN               NaN   \n",
       "78803                           0.0                  5.1            552.70   \n",
       "\n",
       "         month License Type       County  Meter Serial  Meter Size  \\\n",
       "0      1401/01        صنعتی         مشهد  9.098011e+11        50.0   \n",
       "1      1401/01      کشاورزی        قوچان  9.098010e+11        80.0   \n",
       "2      1401/01      کشاورزی  تربت حیدریه  9.098011e+11        50.0   \n",
       "3      1401/01      کشاورزی         مشهد  9.098010e+11       125.0   \n",
       "4      1401/01      کشاورزی         مشهد  9.098010e+11       125.0   \n",
       "...        ...          ...          ...           ...         ...   \n",
       "78799  1403/12      کشاورزی        باخرز  9.098010e+11        50.0   \n",
       "78800  1403/12      کشاورزی         مشهد  9.098010e+11       100.0   \n",
       "78801  1403/12      Unknown        قوچان  9.098010e+11        50.0   \n",
       "78802  1403/12      کشاورزی        باخرز  9.098010e+11       100.0   \n",
       "78803  1403/12      Unknown       سبزوار  9.098011e+11       150.0   \n",
       "\n",
       "      Installation Date  Meter Age (Months)  \n",
       "0            1402/11/15                  14  \n",
       "1            1400/02/12                  47  \n",
       "2            1403/02/27                  11  \n",
       "3            1400/02/30                  47  \n",
       "4            1401/06/23                  31  \n",
       "...                 ...                 ...  \n",
       "78799        1400/03/24                  46  \n",
       "78800        1399/06/03                  55  \n",
       "78801        1399/07/07                  54  \n",
       "78802        1400/03/03                  46  \n",
       "78803        1402/12/15                  13  \n",
       "\n",
       "[73404 rows x 13 columns]"
      ]
     },
     "execution_count": 28,
     "metadata": {},
     "output_type": "execute_result"
    }
   ],
   "source": [
    "df_copy"
   ]
  },
  {
   "cell_type": "code",
   "execution_count": 29,
   "id": "c193aadd",
   "metadata": {},
   "outputs": [
    {
     "data": {
      "text/plain": [
       "Subscription Code                   0\n",
       "Flow Rate (l/s)                 40487\n",
       "Number of Negative Flows            0\n",
       "Percentage of Negative Flows        0\n",
       "Operating Hours (h)             33931\n",
       "Consumption (m³)                28287\n",
       "month                               0\n",
       "License Type                        0\n",
       "County                              0\n",
       "Meter Serial                        0\n",
       "Meter Size                          0\n",
       "Installation Date                   0\n",
       "Meter Age (Months)                  0\n",
       "dtype: int64"
      ]
     },
     "execution_count": 29,
     "metadata": {},
     "output_type": "execute_result"
    }
   ],
   "source": [
    "df_copy.isna().sum()"
   ]
  },
  {
   "cell_type": "code",
   "execution_count": 30,
   "id": "9d36e657",
   "metadata": {},
   "outputs": [],
   "source": [
    "result = df_copy.groupby('Subscription Code').apply(lambda x: x.isnull().sum())\n",
    "result_ = df_copy.groupby('Subscription Code').apply(lambda x: x.drop('Subscription Code', axis=1).isnull().sum().sum())    "
   ]
  },
  {
   "cell_type": "code",
   "execution_count": 31,
   "id": "fadb028a",
   "metadata": {},
   "outputs": [
    {
     "data": {
      "text/plain": [
       "{' تبادل چاه شماره 6': 80,\n",
       " '033191': 0,\n",
       " '1': 83,\n",
       " '100001': 11,\n",
       " '100004': 81,\n",
       " '100005': 108,\n",
       " '100012': 99,\n",
       " '100016': 90,\n",
       " '100052': 83,\n",
       " '100085': 55,\n",
       " '100106': 78,\n",
       " '100114': 66,\n",
       " '100129': 77,\n",
       " '100168': 6,\n",
       " '100169': 23,\n",
       " '100172980628': 108,\n",
       " '100172980713': 0,\n",
       " '100175': 18,\n",
       " '100212': 57,\n",
       " '100362': 69,\n",
       " '100363': 78,\n",
       " '100387': 47,\n",
       " '100414': 43,\n",
       " '100439': 74,\n",
       " '100476': 23,\n",
       " '100507': 11,\n",
       " '100515': 30,\n",
       " '100534': 66,\n",
       " '100537': 102,\n",
       " '100582': 49,\n",
       " '100626': 103,\n",
       " '100628': 100,\n",
       " '100649': 72,\n",
       " '100669': 13,\n",
       " '100671': 100,\n",
       " '100709': 81,\n",
       " '100760': 108,\n",
       " '100768': 63,\n",
       " '100791': 102,\n",
       " '101064': 87,\n",
       " '101203': 78,\n",
       " '101259': 46,\n",
       " '101262': 7,\n",
       " '101277': 15,\n",
       " '101294': 32,\n",
       " '101475': 103,\n",
       " '101609': 66,\n",
       " '101654': 2,\n",
       " '102064': 51,\n",
       " '102108': 101,\n",
       " '102137': 25,\n",
       " '102241': 108,\n",
       " '102251': 93,\n",
       " '102290': 66,\n",
       " '102406': 77,\n",
       " '102531': 19,\n",
       " '102539': 73,\n",
       " '102646': 98,\n",
       " '102711': 89,\n",
       " '102799': 15,\n",
       " '102847': 81,\n",
       " '102864': 29,\n",
       " '102884': 108,\n",
       " '102965': 77,\n",
       " '102987': 81,\n",
       " '103080': 48,\n",
       " '103193': 63,\n",
       " '103209': 80,\n",
       " '103210': 0,\n",
       " '103226': 59,\n",
       " '103234': 56,\n",
       " '103327': 108,\n",
       " '103328': 70,\n",
       " '103441': 43,\n",
       " '103815': 28,\n",
       " '103858': 37,\n",
       " '103925': 60,\n",
       " '107012': 61,\n",
       " '107024': 64,\n",
       " '107064': 35,\n",
       " '107079': 86,\n",
       " '107088': 89,\n",
       " '107118': 84,\n",
       " '107143': 18,\n",
       " '107145': 0,\n",
       " '107146': 38,\n",
       " '107149': 3,\n",
       " '107165': 3,\n",
       " '107211': 77,\n",
       " '107240': 105,\n",
       " '107260': 6,\n",
       " '107286': 88,\n",
       " '107410': 5,\n",
       " '107501': 57,\n",
       " '108154': 57,\n",
       " '109056': 78,\n",
       " '109139': 108,\n",
       " '109170': 82,\n",
       " '109264': 108,\n",
       " '109340': 79,\n",
       " '111122': 36,\n",
       " '111138': 55,\n",
       " '122040': 58,\n",
       " '122041': 36,\n",
       " '122043': 35,\n",
       " '122045': 74,\n",
       " '122088': 70,\n",
       " '122092': 34,\n",
       " '122254': 79,\n",
       " '160172980701': 108,\n",
       " '1711901': 103,\n",
       " '200007': 90,\n",
       " '200114': 80,\n",
       " '200245': 45,\n",
       " '200284': 47,\n",
       " '200307': 74,\n",
       " '200354': 108,\n",
       " '200370': 70,\n",
       " '200554': 108,\n",
       " '200560': 88,\n",
       " '200654': 8,\n",
       " '200655': 51,\n",
       " '200675': 91,\n",
       " '200682': 31,\n",
       " '200686': 56,\n",
       " '200708': 33,\n",
       " '200712': 87,\n",
       " '200718': 34,\n",
       " '200729': 69,\n",
       " '200792': 80,\n",
       " '200893': 16,\n",
       " '200932': 86,\n",
       " '200934': 16,\n",
       " '200984': 47,\n",
       " '201076': 68,\n",
       " '201081': 68,\n",
       " '201250': 39,\n",
       " '201265': 108,\n",
       " '201270': 88,\n",
       " '201271': 59,\n",
       " '201348': 108,\n",
       " '201412': 43,\n",
       " '201474': 68,\n",
       " '202259': 67,\n",
       " '202545': 45,\n",
       " '202708': 70,\n",
       " '203320': 25,\n",
       " '203700': 47,\n",
       " '203735': 71,\n",
       " '203736': 80,\n",
       " '209025': 26,\n",
       " '209080': 77,\n",
       " '209099': 43,\n",
       " '209135': 81,\n",
       " '209145': 61,\n",
       " '209174': 77,\n",
       " '209268': 45,\n",
       " '209278': 27,\n",
       " '209286': 49,\n",
       " '209290': 5,\n",
       " '209317': 43,\n",
       " '209327': 91,\n",
       " '209595': 53,\n",
       " '212121': 108,\n",
       " '212122': 108,\n",
       " '212123': 108,\n",
       " '212124': 108,\n",
       " '212125': 108,\n",
       " '212126': 104,\n",
       " '212127': 108,\n",
       " '212128': 102,\n",
       " '212129': 102,\n",
       " '212130': 108,\n",
       " '212131': 102,\n",
       " '212140': 108,\n",
       " '212141': 92,\n",
       " '212142': 81,\n",
       " '212143': 22,\n",
       " '212144': 13,\n",
       " '212145': 22,\n",
       " '212146': 28,\n",
       " '212147': 24,\n",
       " '212148': 56,\n",
       " '212149': 45,\n",
       " '212150': 81,\n",
       " '212151': 54,\n",
       " '212152': 36,\n",
       " '212153': 16,\n",
       " '212154': 81,\n",
       " '222224': 44,\n",
       " '246246': 108,\n",
       " '300020': 98,\n",
       " '300075': 55,\n",
       " '300087': 64,\n",
       " '300156': 58,\n",
       " '300159': 46,\n",
       " '300194': 58,\n",
       " '300231': 56,\n",
       " '300263': 65,\n",
       " '300280': 56,\n",
       " '300290': 30,\n",
       " '300296': 68,\n",
       " '300299': 66,\n",
       " '300350': 96,\n",
       " '300355': 84,\n",
       " '301000': 54,\n",
       " '301121': 31,\n",
       " '301129': 75,\n",
       " '301144': 15,\n",
       " '301167': 66,\n",
       " '301185': 75,\n",
       " '302006': 66,\n",
       " '302037': 93,\n",
       " '302038': 17,\n",
       " '302041': 61,\n",
       " '302045': 96,\n",
       " '302062': 6,\n",
       " '302084': 83,\n",
       " '302105': 39,\n",
       " '302126': 87,\n",
       " '302142': 81,\n",
       " '302159': 1,\n",
       " '302210': 65,\n",
       " '302341': 79,\n",
       " '302373': 4,\n",
       " '302465': 81,\n",
       " '302467': 88,\n",
       " '302565': 29,\n",
       " '302593': 84,\n",
       " '302614': 89,\n",
       " '302686': 56,\n",
       " '303036': 72,\n",
       " '303064': 46,\n",
       " '303082': 91,\n",
       " '303160': 99,\n",
       " '303182': 60,\n",
       " '303428': 8,\n",
       " '303510': 5,\n",
       " '313131': 108,\n",
       " '313132': 108,\n",
       " '313133': 108,\n",
       " '313134': 108,\n",
       " '313135': 108,\n",
       " '323232': 108,\n",
       " '323233': 108,\n",
       " '323234': 108,\n",
       " '401121980430': 108,\n",
       " '402121980430': 108,\n",
       " '41194': 108,\n",
       " '444441': 23,\n",
       " '444442': 77,\n",
       " '444443': 78,\n",
       " '444444': 108,\n",
       " '46978': 87,\n",
       " '513023': 66,\n",
       " '513130': 58,\n",
       " '513148': 59,\n",
       " '513149': 32,\n",
       " '513190': 82,\n",
       " '513356': 86,\n",
       " '513412': 73,\n",
       " '513474': 78,\n",
       " '513475': 14,\n",
       " '513505': 1,\n",
       " '513657': 80,\n",
       " '513793': 83,\n",
       " '514000': 0,\n",
       " '514001': 50,\n",
       " '514003': 79,\n",
       " '514004': 44,\n",
       " '514006': 4,\n",
       " '514008': 28,\n",
       " '514009': 19,\n",
       " '514013': 72,\n",
       " '514014': 75,\n",
       " '514017': 7,\n",
       " '514018': 5,\n",
       " '514020': 60,\n",
       " '514021': 6,\n",
       " '514025': 50,\n",
       " '514027': 71,\n",
       " '514046': 0,\n",
       " '514047': 7,\n",
       " '514048': 55,\n",
       " '514049': 79,\n",
       " '514050': 16,\n",
       " '514051': 6,\n",
       " '514053': 31,\n",
       " '514054': 14,\n",
       " '514059': 31,\n",
       " '514062': 78,\n",
       " '514066': 104,\n",
       " '514082': 71,\n",
       " '514084': 66,\n",
       " '514085': 17,\n",
       " '514086': 58,\n",
       " '514088': 15,\n",
       " '514089': 5,\n",
       " '514090': 31,\n",
       " '514091': 68,\n",
       " '514092': 7,\n",
       " '514093': 12,\n",
       " '514094': 17,\n",
       " '514095': 8,\n",
       " '514097': 42,\n",
       " '514098': 52,\n",
       " '514099': 0,\n",
       " '514100': 0,\n",
       " '514101': 59,\n",
       " '514104': 72,\n",
       " '514131': 71,\n",
       " '514143': 53,\n",
       " '514148': 61,\n",
       " '514153': 15,\n",
       " '514154': 3,\n",
       " '514155': 53,\n",
       " '514162': 16,\n",
       " '514163': 38,\n",
       " '514164': 108,\n",
       " '514166': 81,\n",
       " '514167': 15,\n",
       " '514175': 94,\n",
       " '514176': 64,\n",
       " '514177': 1,\n",
       " '514178': 56,\n",
       " '514182': 5,\n",
       " '514186': 0,\n",
       " '514187': 7,\n",
       " '514191': 0,\n",
       " '514192': 17,\n",
       " '514193': 60,\n",
       " '514198': 31,\n",
       " '514216': 18,\n",
       " '514224': 89,\n",
       " '514226': 44,\n",
       " '514227': 9,\n",
       " '514235': 41,\n",
       " '514240': 51,\n",
       " '514243': 63,\n",
       " '514249': 18,\n",
       " '514250': 14,\n",
       " '514255': 36,\n",
       " '514259': 9,\n",
       " '514265': 30,\n",
       " '514266': 4,\n",
       " '514311': 0,\n",
       " '514312': 0,\n",
       " '514321': 99,\n",
       " '514322': 41,\n",
       " '514334': 61,\n",
       " '514339': 15,\n",
       " '514340': 88,\n",
       " '514348': 9,\n",
       " '514349': 1,\n",
       " '514357': 11,\n",
       " '514360': 8,\n",
       " '514365': 1,\n",
       " '514366': 3,\n",
       " '514377': 4,\n",
       " '514378': 45,\n",
       " '514387': 40,\n",
       " '514393': 102,\n",
       " '514394': 6,\n",
       " '514401': 55,\n",
       " '514404': 2,\n",
       " '514413': 0,\n",
       " '514417': 3,\n",
       " '514421': 40,\n",
       " '514422': 4,\n",
       " '514431': 13,\n",
       " '514436': 70,\n",
       " '514438': 64,\n",
       " '514441': 21,\n",
       " '514442': 59,\n",
       " '514444': 61,\n",
       " '514447': 90,\n",
       " '514451': 94,\n",
       " '514472': 2,\n",
       " '514475': 24,\n",
       " '514483': 3,\n",
       " '514487': 11,\n",
       " '514494': 21,\n",
       " '514495': 16,\n",
       " '514499': 15,\n",
       " '514503': 66,\n",
       " '514505': 19,\n",
       " '514506': 7,\n",
       " '514507': 32,\n",
       " '514511': 39,\n",
       " '514515': 6,\n",
       " '514517': 67,\n",
       " '514521': 24,\n",
       " '514536': 49,\n",
       " '514555': 28,\n",
       " '514557': 80,\n",
       " '514563': 17,\n",
       " '514565': 7,\n",
       " '514574': 28,\n",
       " '514579': 50,\n",
       " '514580': 25,\n",
       " '514581': 8,\n",
       " '514584': 96,\n",
       " '514587': 37,\n",
       " '514588': 8,\n",
       " '514590': 54,\n",
       " '514596': 19,\n",
       " '514597': 32,\n",
       " '514599': 57,\n",
       " '514600': 6,\n",
       " '514604': 0,\n",
       " '514605': 64,\n",
       " '514606': 1,\n",
       " '514608': 23,\n",
       " '514612': 26,\n",
       " '514617': 43,\n",
       " '514618': 15,\n",
       " '514624': 3,\n",
       " '514625': 6,\n",
       " '514628': 34,\n",
       " '514632': 93,\n",
       " '514633': 88,\n",
       " '514638': 77,\n",
       " '514640': 8,\n",
       " '514648': 6,\n",
       " '514654': 22,\n",
       " '514655': 12,\n",
       " '514656': 13,\n",
       " '514660': 32,\n",
       " '514661': 7,\n",
       " '514662': 10,\n",
       " '514663': 22,\n",
       " '514664': 21,\n",
       " '514667': 13,\n",
       " '514673': 62,\n",
       " '514674': 108,\n",
       " '514675': 60,\n",
       " '514676': 87,\n",
       " '514678': 3,\n",
       " '514682': 25,\n",
       " '514684': 19,\n",
       " '514689': 65,\n",
       " '514691': 3,\n",
       " '514696': 0,\n",
       " '514697': 41,\n",
       " '514698': 24,\n",
       " '514699': 37,\n",
       " '514700': 25,\n",
       " '514708': 1,\n",
       " '514710': 12,\n",
       " '514721': 49,\n",
       " '514721 رزرو': 65,\n",
       " '514722': 105,\n",
       " '514726': 102,\n",
       " '514727': 101,\n",
       " '514731': 98,\n",
       " '514742': 15,\n",
       " '514756': 86,\n",
       " '514763': 45,\n",
       " '514765': 4,\n",
       " '514772': 12,\n",
       " '514779': 78,\n",
       " '514787': 50,\n",
       " '514793': 9,\n",
       " '514798': 47,\n",
       " '514799': 7,\n",
       " '514804': 47,\n",
       " '514805': 32,\n",
       " '514806': 12,\n",
       " '514807': 8,\n",
       " '514813': 2,\n",
       " '514814': 20,\n",
       " '514815': 66,\n",
       " '514816': 103,\n",
       " '514819': 16,\n",
       " '514828': 45,\n",
       " '514831': 100,\n",
       " '514833': 90,\n",
       " '514839': 4,\n",
       " '514845': 9,\n",
       " '514847': 7,\n",
       " '514850': 93,\n",
       " '514867': 14,\n",
       " '514870': 94,\n",
       " '514881': 104,\n",
       " '514884': 37,\n",
       " '514890': 0,\n",
       " '514898': 108,\n",
       " '514900': 0,\n",
       " '514901': 64,\n",
       " '514912': 26,\n",
       " '514914': 30,\n",
       " '514916': 46,\n",
       " '514922': 16,\n",
       " '514923': 12,\n",
       " '514937': 83,\n",
       " '514943': 3,\n",
       " '514944': 16,\n",
       " '514947': 39,\n",
       " '514949': 4,\n",
       " '514951': 48,\n",
       " '514952': 11,\n",
       " '514953': 52,\n",
       " '514964': 17,\n",
       " '514968': 21,\n",
       " '514970': 57,\n",
       " '514971': 84,\n",
       " '514972': 52,\n",
       " '514977': 23,\n",
       " '514986': 95,\n",
       " '514990': 0,\n",
       " '515004': 79,\n",
       " '515009': 0,\n",
       " '515012': 92,\n",
       " '515019': 15,\n",
       " '515022': 81,\n",
       " '515023': 14,\n",
       " '515024': 9,\n",
       " '515031': 1,\n",
       " '515049': 12,\n",
       " '515055': 0,\n",
       " '515056': 37,\n",
       " '515057': 62,\n",
       " '515058': 21,\n",
       " '515060': 2,\n",
       " '515066': 7,\n",
       " '515068': 81,\n",
       " '515074': 45,\n",
       " '515078': 74,\n",
       " '515085': 61,\n",
       " '515093': 62,\n",
       " '515094': 19,\n",
       " '515117': 2,\n",
       " '515122': 3,\n",
       " '515134': 54,\n",
       " '515151': 108,\n",
       " '515152': 108,\n",
       " '515157': 57,\n",
       " '515173': 88,\n",
       " '515174': 62,\n",
       " '515187': 81,\n",
       " '515200': 92,\n",
       " '515216': 67,\n",
       " '515269': 34,\n",
       " '515271': 16,\n",
       " '515273': 8,\n",
       " '515318': 0,\n",
       " '515332': 65,\n",
       " '515344': 75,\n",
       " '515345': 73,\n",
       " '515367': 5,\n",
       " '515384': 0,\n",
       " '515387': 39,\n",
       " '515395': 14,\n",
       " '515399': 7,\n",
       " '515409': 12,\n",
       " '515411': 3,\n",
       " '515415': 89,\n",
       " '515422': 4,\n",
       " '515433': 76,\n",
       " '515436': 81,\n",
       " '515437': 53,\n",
       " '515443': 80,\n",
       " '515454': 66,\n",
       " '515467': 32,\n",
       " '515468': 6,\n",
       " '515472': 70,\n",
       " '515473': 30,\n",
       " '515477': 81,\n",
       " '515478': 5,\n",
       " '515493': 87,\n",
       " '515495': 92,\n",
       " '515503': 108,\n",
       " '515517': 60,\n",
       " '515529': 76,\n",
       " '515530': 14,\n",
       " '515531': 106,\n",
       " '515534': 102,\n",
       " '515545': 17,\n",
       " '515550': 29,\n",
       " '515564': 69,\n",
       " '515565': 0,\n",
       " '515571': 99,\n",
       " '515587': 101,\n",
       " '515590': 9,\n",
       " '515596': 96,\n",
       " '515600': 69,\n",
       " '515604': 8,\n",
       " '515611': 51,\n",
       " '515616': 33,\n",
       " '515618': 58,\n",
       " '515619': 51,\n",
       " '515620': 0,\n",
       " '515621': 16,\n",
       " '515624': 16,\n",
       " '515625': 16,\n",
       " '515626': 4,\n",
       " '515627': 23,\n",
       " '515628': 39,\n",
       " '515633': 28,\n",
       " '515636': 78,\n",
       " '515637': 18,\n",
       " '515645': 64,\n",
       " '515646': 108,\n",
       " '515650': 0,\n",
       " '515672': 15,\n",
       " '515678': 5,\n",
       " '515682': 89,\n",
       " '515693': 35,\n",
       " '515698': 6,\n",
       " '515709': 68,\n",
       " '515713': 0,\n",
       " '515724': 61,\n",
       " '515727': 33,\n",
       " '515729': 11,\n",
       " '515737': 16,\n",
       " '515741': 64,\n",
       " '515743': 43,\n",
       " '515766': 19,\n",
       " '515767': 3,\n",
       " '515771': 6,\n",
       " '515792': 22,\n",
       " '515800': 19,\n",
       " '515805': 49,\n",
       " '515807': 23,\n",
       " '515808': 56,\n",
       " '515809': 15,\n",
       " '515811': 15,\n",
       " '515812': 27,\n",
       " '515821': 87,\n",
       " '515828': 42,\n",
       " '515832': 18,\n",
       " '515834': 12,\n",
       " '515843': 45,\n",
       " '515846': 22,\n",
       " '515854': 5,\n",
       " '515855': 10,\n",
       " '515877': 34,\n",
       " '515888': 14,\n",
       " '515904': 36,\n",
       " '515917': 96,\n",
       " '515930': 49,\n",
       " '515938': 52,\n",
       " '515946': 1,\n",
       " '515948': 49,\n",
       " '515952': 33,\n",
       " '515960': 37,\n",
       " '515961': 27,\n",
       " '515972': 58,\n",
       " '515976': 24,\n",
       " '515977': 27,\n",
       " '515984': 12,\n",
       " '516014': 53,\n",
       " '516020': 68,\n",
       " '516024': 19,\n",
       " '516027': 15,\n",
       " '516036': 14,\n",
       " '516037': 35,\n",
       " '516050': 3,\n",
       " '516060': 46,\n",
       " '516081': 42,\n",
       " '516091': 92,\n",
       " '516095': 49,\n",
       " '516096': 56,\n",
       " '516106': 92,\n",
       " '516108': 102,\n",
       " '516141': 8,\n",
       " '516148': 93,\n",
       " '516151': 87,\n",
       " '516155': 15,\n",
       " '516173': 13,\n",
       " '516190': 24,\n",
       " '516214': 1,\n",
       " '516231': 80,\n",
       " '516234': 50,\n",
       " '516239': 85,\n",
       " '516243': 9,\n",
       " '516265': 50,\n",
       " '516269': 43,\n",
       " '516280': 18,\n",
       " '516321': 46,\n",
       " '516335': 53,\n",
       " '516349': 5,\n",
       " '516352': 19,\n",
       " '516353': 20,\n",
       " '516354': 3,\n",
       " '516355': 15,\n",
       " '516356': 4,\n",
       " '516357': 7,\n",
       " '516358': 40,\n",
       " '516359': 7,\n",
       " '516365': 40,\n",
       " '516366': 3,\n",
       " '516367': 23,\n",
       " '516368': 9,\n",
       " '516369': 2,\n",
       " '516370': 4,\n",
       " '516374': 4,\n",
       " '516375': 23,\n",
       " '516379': 31,\n",
       " '516380': 9,\n",
       " '516384': 1,\n",
       " '516386': 13,\n",
       " '516387': 6,\n",
       " '516388': 68,\n",
       " '516413': 66,\n",
       " '516414': 12,\n",
       " '516421': 53,\n",
       " '516442': 9,\n",
       " '516451': 44,\n",
       " '516457': 82,\n",
       " '516472': 108,\n",
       " '516472اصلی': 84,\n",
       " '516476': 23,\n",
       " '516503': 70,\n",
       " '516521': 35,\n",
       " '516524': 8,\n",
       " '516579': 0,\n",
       " '516582': 100,\n",
       " '516589': 26,\n",
       " '516594': 8,\n",
       " '516618': 24,\n",
       " '516620': 99,\n",
       " '516623': 5,\n",
       " '516627': 1,\n",
       " '516646': 74,\n",
       " '516651': 1,\n",
       " '516677': 4,\n",
       " '516678': 93,\n",
       " '516682': 92,\n",
       " '516683': 57,\n",
       " '516691': 16,\n",
       " '516699': 102,\n",
       " '516735': 39,\n",
       " '516736': 0,\n",
       " '516762': 73,\n",
       " '516764': 59,\n",
       " '516771': 11,\n",
       " '516776': 41,\n",
       " '516798': 79,\n",
       " '516805': 31,\n",
       " '516814': 56,\n",
       " '516824': 43,\n",
       " '516825': 34,\n",
       " '516826': 73,\n",
       " '516834': 11,\n",
       " '516835': 74,\n",
       " '516857': 89,\n",
       " '516864': 69,\n",
       " '516876': 18,\n",
       " '516883': 5,\n",
       " '516907': 77,\n",
       " '516918': 1,\n",
       " '516926': 24,\n",
       " '516929': 18,\n",
       " '516939': 101,\n",
       " '516941': 2,\n",
       " '516955': 63,\n",
       " '517006': 62,\n",
       " '517015': 48,\n",
       " '517020': 74,\n",
       " '517033': 66,\n",
       " '517039': 56,\n",
       " '517055': 4,\n",
       " '517063': 69,\n",
       " '517064': 75,\n",
       " '517099': 22,\n",
       " '517124': 47,\n",
       " '517164': 66,\n",
       " '517176': 75,\n",
       " '517186': 8,\n",
       " '517198': 80,\n",
       " '517200': 3,\n",
       " '517205': 51,\n",
       " '517213': 90,\n",
       " '517218': 35,\n",
       " '517233': 70,\n",
       " '517235': 17,\n",
       " '517251': 6,\n",
       " '517263': 18,\n",
       " '517268': 67,\n",
       " '517303': 41,\n",
       " '517304': 19,\n",
       " '517316': 18,\n",
       " '517329': 87,\n",
       " '517337': 71,\n",
       " '517343': 76,\n",
       " '517344': 64,\n",
       " '517362': 41,\n",
       " '517369': 44,\n",
       " '517373': 13,\n",
       " '517400': 6,\n",
       " '517413': 90,\n",
       " '517437': 81,\n",
       " '517446': 41,\n",
       " '517491': 49,\n",
       " '517495': 20,\n",
       " '517500': 65,\n",
       " '517578': 72,\n",
       " '517603': 101,\n",
       " '517612': 64,\n",
       " '517624': 15,\n",
       " '517628': 34,\n",
       " '517638': 21,\n",
       " '517653': 59,\n",
       " '517658': 34,\n",
       " '517680': 71,\n",
       " '517715': 6,\n",
       " '517716': 66,\n",
       " '517766': 18,\n",
       " '517767': 2,\n",
       " '517768': 28,\n",
       " '517780': 30,\n",
       " '517805': 52,\n",
       " '517809': 49,\n",
       " '517810': 39,\n",
       " '517814': 27,\n",
       " '517826': 28,\n",
       " '517831': 64,\n",
       " '517883': 32,\n",
       " '517884': 2,\n",
       " '517892': 32,\n",
       " '517909': 71,\n",
       " '517913': 12,\n",
       " '517919': 12,\n",
       " '517920': 27,\n",
       " '517921': 39,\n",
       " '517922': 38,\n",
       " '517924': 14,\n",
       " '517925': 25,\n",
       " '517928': 12,\n",
       " '517929': 9,\n",
       " '517930': 0,\n",
       " '517931': 46,\n",
       " '517932': 70,\n",
       " '517934': 0,\n",
       " '517935': 72,\n",
       " '517936': 22,\n",
       " '517948': 98,\n",
       " '517963': 23,\n",
       " '517968': 40,\n",
       " '517970': 66,\n",
       " '517975': 74,\n",
       " '517979': 26,\n",
       " '517993': 1,\n",
       " '518036': 81,\n",
       " '518044': 33,\n",
       " '518054': 75,\n",
       " '518058': 46,\n",
       " '518075': 3,\n",
       " '518080': 34,\n",
       " '518122': 33,\n",
       " '518127': 54,\n",
       " '518131': 18,\n",
       " '518141': 0,\n",
       " '518143': 39,\n",
       " '518144': 102,\n",
       " '518158': 69,\n",
       " '518159': 19,\n",
       " '518161': 89,\n",
       " '518168': 84,\n",
       " '518172': 13,\n",
       " '518173': 78,\n",
       " '518186': 91,\n",
       " '518193': 15,\n",
       " '518208': 54,\n",
       " '518223': 80,\n",
       " '518228': 9,\n",
       " '518273': 80,\n",
       " '518293': 28,\n",
       " '518328': 47,\n",
       " '518373': 74,\n",
       " '518380': 108,\n",
       " '518382': 20,\n",
       " '518384': 60,\n",
       " '518404': 75,\n",
       " '518430': 0,\n",
       " '518435': 80,\n",
       " '518438': 28,\n",
       " '518452': 13,\n",
       " '518453': 14,\n",
       " '518458': 47,\n",
       " '518472': 41,\n",
       " '518473': 41,\n",
       " '518488': 78,\n",
       " '518505': 86,\n",
       " '518508': 72,\n",
       " '518510': 36,\n",
       " '518542': 99,\n",
       " '518583': 92,\n",
       " '518586': 26,\n",
       " '518588': 64,\n",
       " '518599': 91,\n",
       " '518606': 0,\n",
       " '518607': 26,\n",
       " '518615': 37,\n",
       " '518616': 85,\n",
       " '518624': 70,\n",
       " '518650': 9,\n",
       " '518663': 44,\n",
       " '518678': 90,\n",
       " '518680': 17,\n",
       " '518696': 70,\n",
       " '518705': 0,\n",
       " '518716': 19,\n",
       " '518723': 74,\n",
       " '518735': 17,\n",
       " '518744': 89,\n",
       " '518753': 67,\n",
       " '518764': 81,\n",
       " '518765': 77,\n",
       " '518794': 72,\n",
       " '518798': 84,\n",
       " '518807': 63,\n",
       " '518827': 83,\n",
       " '518828': 55,\n",
       " '518885': 35,\n",
       " '518886': 83,\n",
       " '518893': 30,\n",
       " '518916': 87,\n",
       " '518918': 79,\n",
       " '518943': 78,\n",
       " '518944': 84,\n",
       " '518947': 66,\n",
       " '518949': 49,\n",
       " '518955': 108,\n",
       " '518957': 101,\n",
       " '518972': 53,\n",
       " '518987': 11,\n",
       " '518992': 24,\n",
       " '518995': 86,\n",
       " '519022': 73,\n",
       " '519024': 68,\n",
       " '519030': 23,\n",
       " '519042': 7,\n",
       " '519044': 10,\n",
       " '519047': 60,\n",
       " '519054': 77,\n",
       " '519056': 95,\n",
       " '519061': 79,\n",
       " '519085': 96,\n",
       " '519086': 15,\n",
       " '519093': 22,\n",
       " '519105': 90,\n",
       " '519126': 75,\n",
       " '519165': 80,\n",
       " '519171': 15,\n",
       " '519195': 54,\n",
       " '519196': 63,\n",
       " '519268': 76,\n",
       " '519309': 24,\n",
       " '519310': 87,\n",
       " '519313': 21,\n",
       " '519322': 32,\n",
       " '519327': 16,\n",
       " '519349': 65,\n",
       " '519375': 71,\n",
       " '519437': 73,\n",
       " '519465': 33,\n",
       " '519467': 61,\n",
       " '519499': 80,\n",
       " '519523': 49,\n",
       " '519559': 78,\n",
       " '519563': 49,\n",
       " '519624': 76,\n",
       " '519664': 12,\n",
       " '519681': 21,\n",
       " '519684': 49,\n",
       " '519696': 46,\n",
       " '519720': 75,\n",
       " '519746': 90,\n",
       " '519747': 38,\n",
       " '519754': 30,\n",
       " '519772': 95,\n",
       " '519778': 41,\n",
       " '519787': 15,\n",
       " '519791': 1,\n",
       " '519845': 28,\n",
       " '519856': 77,\n",
       " '519874': 2,\n",
       " '519896': 38,\n",
       " '519905': 34,\n",
       " '519915': 67,\n",
       " '519954': 82,\n",
       " '519996': 14,\n",
       " '520009': 64,\n",
       " '520017': 36,\n",
       " '520021': 83,\n",
       " '520115': 70,\n",
       " '520175': 6,\n",
       " '520571': 84,\n",
       " '520579': 0,\n",
       " '520650': 41,\n",
       " '520651': 70,\n",
       " '520659': 26,\n",
       " '520837': 36,\n",
       " '520931': 71,\n",
       " '521066': 98,\n",
       " '521081': 39,\n",
       " '521084': 98,\n",
       " '521206': 108,\n",
       " ...}"
      ]
     },
     "execution_count": 31,
     "metadata": {},
     "output_type": "execute_result"
    }
   ],
   "source": [
    "result_.to_dict()"
   ]
  },
  {
   "cell_type": "code",
   "execution_count": 32,
   "id": "b5d0bed5",
   "metadata": {},
   "outputs": [],
   "source": [
    "df_copy = df_copy.assign(null_counts = df_copy[['Subscription Code','Consumption (m³)','Flow Rate (l/s)','Operating Hours (h)']].isna().sum(axis=1))"
   ]
  },
  {
   "cell_type": "code",
   "execution_count": 33,
   "id": "1b6ee77f",
   "metadata": {},
   "outputs": [
    {
     "data": {
      "text/html": [
       "<div>\n",
       "<style scoped>\n",
       "    .dataframe tbody tr th:only-of-type {\n",
       "        vertical-align: middle;\n",
       "    }\n",
       "\n",
       "    .dataframe tbody tr th {\n",
       "        vertical-align: top;\n",
       "    }\n",
       "\n",
       "    .dataframe thead th {\n",
       "        text-align: right;\n",
       "    }\n",
       "</style>\n",
       "<table border=\"1\" class=\"dataframe\">\n",
       "  <thead>\n",
       "    <tr style=\"text-align: right;\">\n",
       "      <th></th>\n",
       "      <th>Subscription Code</th>\n",
       "      <th>Flow Rate (l/s)</th>\n",
       "      <th>Number of Negative Flows</th>\n",
       "      <th>Percentage of Negative Flows</th>\n",
       "      <th>Operating Hours (h)</th>\n",
       "      <th>Consumption (m³)</th>\n",
       "      <th>month</th>\n",
       "      <th>License Type</th>\n",
       "      <th>County</th>\n",
       "      <th>Meter Serial</th>\n",
       "      <th>Meter Size</th>\n",
       "      <th>Installation Date</th>\n",
       "      <th>Meter Age (Months)</th>\n",
       "      <th>null_counts</th>\n",
       "    </tr>\n",
       "  </thead>\n",
       "  <tbody>\n",
       "    <tr>\n",
       "      <th>0</th>\n",
       "      <td>520009</td>\n",
       "      <td>NaN</td>\n",
       "      <td>0</td>\n",
       "      <td>0.0</td>\n",
       "      <td>NaN</td>\n",
       "      <td>NaN</td>\n",
       "      <td>1401/01</td>\n",
       "      <td>صنعتی</td>\n",
       "      <td>مشهد</td>\n",
       "      <td>9.098011e+11</td>\n",
       "      <td>50.0</td>\n",
       "      <td>1402/11/15</td>\n",
       "      <td>14</td>\n",
       "      <td>3</td>\n",
       "    </tr>\n",
       "    <tr>\n",
       "      <th>1</th>\n",
       "      <td>200654</td>\n",
       "      <td>1.38</td>\n",
       "      <td>0</td>\n",
       "      <td>0.0</td>\n",
       "      <td>16492.8</td>\n",
       "      <td>2727.77</td>\n",
       "      <td>1401/01</td>\n",
       "      <td>کشاورزی</td>\n",
       "      <td>قوچان</td>\n",
       "      <td>9.098010e+11</td>\n",
       "      <td>80.0</td>\n",
       "      <td>1400/02/12</td>\n",
       "      <td>47</td>\n",
       "      <td>0</td>\n",
       "    </tr>\n",
       "    <tr>\n",
       "      <th>2</th>\n",
       "      <td>622162</td>\n",
       "      <td>NaN</td>\n",
       "      <td>0</td>\n",
       "      <td>0.0</td>\n",
       "      <td>NaN</td>\n",
       "      <td>NaN</td>\n",
       "      <td>1401/01</td>\n",
       "      <td>کشاورزی</td>\n",
       "      <td>تربت حیدریه</td>\n",
       "      <td>9.098011e+11</td>\n",
       "      <td>50.0</td>\n",
       "      <td>1403/02/27</td>\n",
       "      <td>11</td>\n",
       "      <td>3</td>\n",
       "    </tr>\n",
       "    <tr>\n",
       "      <th>3</th>\n",
       "      <td>515618</td>\n",
       "      <td>7.05</td>\n",
       "      <td>0</td>\n",
       "      <td>0.0</td>\n",
       "      <td>29319.6</td>\n",
       "      <td>14647.50</td>\n",
       "      <td>1401/01</td>\n",
       "      <td>کشاورزی</td>\n",
       "      <td>مشهد</td>\n",
       "      <td>9.098010e+11</td>\n",
       "      <td>125.0</td>\n",
       "      <td>1400/02/30</td>\n",
       "      <td>47</td>\n",
       "      <td>0</td>\n",
       "    </tr>\n",
       "    <tr>\n",
       "      <th>4</th>\n",
       "      <td>529232</td>\n",
       "      <td>NaN</td>\n",
       "      <td>0</td>\n",
       "      <td>0.0</td>\n",
       "      <td>NaN</td>\n",
       "      <td>NaN</td>\n",
       "      <td>1401/01</td>\n",
       "      <td>کشاورزی</td>\n",
       "      <td>مشهد</td>\n",
       "      <td>9.098010e+11</td>\n",
       "      <td>125.0</td>\n",
       "      <td>1401/06/23</td>\n",
       "      <td>31</td>\n",
       "      <td>3</td>\n",
       "    </tr>\n",
       "  </tbody>\n",
       "</table>\n",
       "</div>"
      ],
      "text/plain": [
       "  Subscription Code  Flow Rate (l/s)  Number of Negative Flows  \\\n",
       "0            520009              NaN                         0   \n",
       "1            200654             1.38                         0   \n",
       "2            622162              NaN                         0   \n",
       "3            515618             7.05                         0   \n",
       "4            529232              NaN                         0   \n",
       "\n",
       "   Percentage of Negative Flows  Operating Hours (h)  Consumption (m³)  \\\n",
       "0                           0.0                  NaN               NaN   \n",
       "1                           0.0              16492.8           2727.77   \n",
       "2                           0.0                  NaN               NaN   \n",
       "3                           0.0              29319.6          14647.50   \n",
       "4                           0.0                  NaN               NaN   \n",
       "\n",
       "     month License Type       County  Meter Serial  Meter Size  \\\n",
       "0  1401/01        صنعتی         مشهد  9.098011e+11        50.0   \n",
       "1  1401/01      کشاورزی        قوچان  9.098010e+11        80.0   \n",
       "2  1401/01      کشاورزی  تربت حیدریه  9.098011e+11        50.0   \n",
       "3  1401/01      کشاورزی         مشهد  9.098010e+11       125.0   \n",
       "4  1401/01      کشاورزی         مشهد  9.098010e+11       125.0   \n",
       "\n",
       "  Installation Date  Meter Age (Months)  null_counts  \n",
       "0        1402/11/15                  14            3  \n",
       "1        1400/02/12                  47            0  \n",
       "2        1403/02/27                  11            3  \n",
       "3        1400/02/30                  47            0  \n",
       "4        1401/06/23                  31            3  "
      ]
     },
     "execution_count": 33,
     "metadata": {},
     "output_type": "execute_result"
    }
   ],
   "source": [
    "df_copy.head()"
   ]
  },
  {
   "cell_type": "code",
   "execution_count": 34,
   "id": "0a94f8c5",
   "metadata": {},
   "outputs": [
    {
     "data": {
      "text/html": [
       "<div>\n",
       "<style scoped>\n",
       "    .dataframe tbody tr th:only-of-type {\n",
       "        vertical-align: middle;\n",
       "    }\n",
       "\n",
       "    .dataframe tbody tr th {\n",
       "        vertical-align: top;\n",
       "    }\n",
       "\n",
       "    .dataframe thead th {\n",
       "        text-align: right;\n",
       "    }\n",
       "</style>\n",
       "<table border=\"1\" class=\"dataframe\">\n",
       "  <thead>\n",
       "    <tr style=\"text-align: right;\">\n",
       "      <th></th>\n",
       "      <th>Flow Rate (l/s)</th>\n",
       "      <th>null_counts</th>\n",
       "      <th>Consumption (m³)</th>\n",
       "    </tr>\n",
       "    <tr>\n",
       "      <th>Subscription Code</th>\n",
       "      <th></th>\n",
       "      <th></th>\n",
       "      <th></th>\n",
       "    </tr>\n",
       "  </thead>\n",
       "  <tbody>\n",
       "    <tr>\n",
       "      <th>تبادل چاه شماره 6</th>\n",
       "      <td>6.996667</td>\n",
       "      <td>80</td>\n",
       "      <td>11</td>\n",
       "    </tr>\n",
       "    <tr>\n",
       "      <th>033191</th>\n",
       "      <td>19.190556</td>\n",
       "      <td>0</td>\n",
       "      <td>36</td>\n",
       "    </tr>\n",
       "    <tr>\n",
       "      <th>1</th>\n",
       "      <td>3.998750</td>\n",
       "      <td>83</td>\n",
       "      <td>8</td>\n",
       "    </tr>\n",
       "    <tr>\n",
       "      <th>100001</th>\n",
       "      <td>20.804828</td>\n",
       "      <td>11</td>\n",
       "      <td>36</td>\n",
       "    </tr>\n",
       "    <tr>\n",
       "      <th>100004</th>\n",
       "      <td>32.560000</td>\n",
       "      <td>81</td>\n",
       "      <td>9</td>\n",
       "    </tr>\n",
       "    <tr>\n",
       "      <th>...</th>\n",
       "      <td>...</td>\n",
       "      <td>...</td>\n",
       "      <td>...</td>\n",
       "    </tr>\n",
       "    <tr>\n",
       "      <th>چراغچی 56</th>\n",
       "      <td>NaN</td>\n",
       "      <td>108</td>\n",
       "      <td>0</td>\n",
       "    </tr>\n",
       "    <tr>\n",
       "      <th>کلانتری 16 موتورخانه فاز3</th>\n",
       "      <td>NaN</td>\n",
       "      <td>108</td>\n",
       "      <td>0</td>\n",
       "    </tr>\n",
       "    <tr>\n",
       "      <th>کوثر شمالی 8 بوستان پرنیان</th>\n",
       "      <td>NaN</td>\n",
       "      <td>108</td>\n",
       "      <td>0</td>\n",
       "    </tr>\n",
       "    <tr>\n",
       "      <th>کوی کارمندان</th>\n",
       "      <td>NaN</td>\n",
       "      <td>108</td>\n",
       "      <td>0</td>\n",
       "    </tr>\n",
       "    <tr>\n",
       "      <th>۶۰۳۱۶۴</th>\n",
       "      <td>16.995000</td>\n",
       "      <td>88</td>\n",
       "      <td>9</td>\n",
       "    </tr>\n",
       "  </tbody>\n",
       "</table>\n",
       "<p>2039 rows × 3 columns</p>\n",
       "</div>"
      ],
      "text/plain": [
       "                            Flow Rate (l/s)  null_counts  Consumption (m³)\n",
       "Subscription Code                                                         \n",
       " تبادل چاه شماره 6                 6.996667           80                11\n",
       "033191                            19.190556            0                36\n",
       "1                                  3.998750           83                 8\n",
       "100001                            20.804828           11                36\n",
       "100004                            32.560000           81                 9\n",
       "...                                     ...          ...               ...\n",
       "چراغچی 56                               NaN          108                 0\n",
       "کلانتری 16 موتورخانه فاز3               NaN          108                 0\n",
       "کوثر شمالی 8 بوستان پرنیان              NaN          108                 0\n",
       "کوی کارمندان                            NaN          108                 0\n",
       "۶۰۳۱۶۴                            16.995000           88                 9\n",
       "\n",
       "[2039 rows x 3 columns]"
      ]
     },
     "execution_count": 34,
     "metadata": {},
     "output_type": "execute_result"
    }
   ],
   "source": [
    "df_copy.groupby(\"Subscription Code\").agg({\"Flow Rate (l/s)\": \"mean\", \"null_counts\" : \"sum\",\"Consumption (m³)\": \"count\"})  "
   ]
  },
  {
   "cell_type": "code",
   "execution_count": 35,
   "id": "19836d45",
   "metadata": {},
   "outputs": [
    {
     "data": {
      "text/html": [
       "<div>\n",
       "<style scoped>\n",
       "    .dataframe tbody tr th:only-of-type {\n",
       "        vertical-align: middle;\n",
       "    }\n",
       "\n",
       "    .dataframe tbody tr th {\n",
       "        vertical-align: top;\n",
       "    }\n",
       "\n",
       "    .dataframe thead th {\n",
       "        text-align: right;\n",
       "    }\n",
       "</style>\n",
       "<table border=\"1\" class=\"dataframe\">\n",
       "  <thead>\n",
       "    <tr style=\"text-align: right;\">\n",
       "      <th></th>\n",
       "      <th>Subscription Code</th>\n",
       "      <th>Flow Rate (l/s)</th>\n",
       "      <th>Number of Negative Flows</th>\n",
       "      <th>Percentage of Negative Flows</th>\n",
       "      <th>Operating Hours (h)</th>\n",
       "      <th>Consumption (m³)</th>\n",
       "      <th>month</th>\n",
       "      <th>License Type</th>\n",
       "      <th>County</th>\n",
       "      <th>Meter Serial</th>\n",
       "      <th>Meter Size</th>\n",
       "      <th>Installation Date</th>\n",
       "      <th>Meter Age (Months)</th>\n",
       "      <th>null_counts</th>\n",
       "    </tr>\n",
       "  </thead>\n",
       "  <tbody>\n",
       "    <tr>\n",
       "      <th>38</th>\n",
       "      <td>514059</td>\n",
       "      <td>4.06</td>\n",
       "      <td>21</td>\n",
       "      <td>67.74</td>\n",
       "      <td>30651.2</td>\n",
       "      <td>217861.500</td>\n",
       "      <td>1401/01</td>\n",
       "      <td>Unknown</td>\n",
       "      <td>مشهد</td>\n",
       "      <td>9.098010e+11</td>\n",
       "      <td>100.0</td>\n",
       "      <td>1400/06/09</td>\n",
       "      <td>43</td>\n",
       "      <td>0</td>\n",
       "    </tr>\n",
       "    <tr>\n",
       "      <th>54</th>\n",
       "      <td>515122</td>\n",
       "      <td>11.97</td>\n",
       "      <td>1</td>\n",
       "      <td>3.23</td>\n",
       "      <td>32644.9</td>\n",
       "      <td>117254.310</td>\n",
       "      <td>1401/01</td>\n",
       "      <td>کشاورزی</td>\n",
       "      <td>مشهد</td>\n",
       "      <td>9.098010e+11</td>\n",
       "      <td>150.0</td>\n",
       "      <td>1400/06/13</td>\n",
       "      <td>43</td>\n",
       "      <td>0</td>\n",
       "    </tr>\n",
       "    <tr>\n",
       "      <th>70</th>\n",
       "      <td>805221</td>\n",
       "      <td>0.74</td>\n",
       "      <td>5</td>\n",
       "      <td>16.13</td>\n",
       "      <td>34049.8</td>\n",
       "      <td>18570.289</td>\n",
       "      <td>1401/01</td>\n",
       "      <td>سایر</td>\n",
       "      <td>نیشابور</td>\n",
       "      <td>9.098010e+11</td>\n",
       "      <td>50.0</td>\n",
       "      <td>1400/02/28</td>\n",
       "      <td>47</td>\n",
       "      <td>0</td>\n",
       "    </tr>\n",
       "    <tr>\n",
       "      <th>78</th>\n",
       "      <td>301144</td>\n",
       "      <td>1.20</td>\n",
       "      <td>1</td>\n",
       "      <td>3.23</td>\n",
       "      <td>13119.5</td>\n",
       "      <td>2.640</td>\n",
       "      <td>1401/01</td>\n",
       "      <td>کشاورزی</td>\n",
       "      <td>تربت حیدریه</td>\n",
       "      <td>9.098010e+11</td>\n",
       "      <td>150.0</td>\n",
       "      <td>1400/03/26</td>\n",
       "      <td>46</td>\n",
       "      <td>0</td>\n",
       "    </tr>\n",
       "    <tr>\n",
       "      <th>82</th>\n",
       "      <td>515530</td>\n",
       "      <td>11.07</td>\n",
       "      <td>5</td>\n",
       "      <td>16.13</td>\n",
       "      <td>193865.7</td>\n",
       "      <td>248740.010</td>\n",
       "      <td>1401/01</td>\n",
       "      <td>کشاورزی</td>\n",
       "      <td>مشهد</td>\n",
       "      <td>9.098010e+11</td>\n",
       "      <td>150.0</td>\n",
       "      <td>1399/07/09</td>\n",
       "      <td>54</td>\n",
       "      <td>0</td>\n",
       "    </tr>\n",
       "    <tr>\n",
       "      <th>...</th>\n",
       "      <td>...</td>\n",
       "      <td>...</td>\n",
       "      <td>...</td>\n",
       "      <td>...</td>\n",
       "      <td>...</td>\n",
       "      <td>...</td>\n",
       "      <td>...</td>\n",
       "      <td>...</td>\n",
       "      <td>...</td>\n",
       "      <td>...</td>\n",
       "      <td>...</td>\n",
       "      <td>...</td>\n",
       "      <td>...</td>\n",
       "      <td>...</td>\n",
       "    </tr>\n",
       "    <tr>\n",
       "      <th>54620</th>\n",
       "      <td>603046</td>\n",
       "      <td>9.46</td>\n",
       "      <td>3</td>\n",
       "      <td>9.68</td>\n",
       "      <td>507603.5</td>\n",
       "      <td>10080.010</td>\n",
       "      <td>1403/01</td>\n",
       "      <td>کشاورزی</td>\n",
       "      <td>تربت حیدریه</td>\n",
       "      <td>9.098010e+11</td>\n",
       "      <td>150.0</td>\n",
       "      <td>1400/12/20</td>\n",
       "      <td>37</td>\n",
       "      <td>0</td>\n",
       "    </tr>\n",
       "    <tr>\n",
       "      <th>54645</th>\n",
       "      <td>103858</td>\n",
       "      <td>29.17</td>\n",
       "      <td>3</td>\n",
       "      <td>9.68</td>\n",
       "      <td>187725.7</td>\n",
       "      <td>61350.780</td>\n",
       "      <td>1403/01</td>\n",
       "      <td>صنعتی</td>\n",
       "      <td>سبزوار</td>\n",
       "      <td>9.098010e+11</td>\n",
       "      <td>150.0</td>\n",
       "      <td>1402/07/25</td>\n",
       "      <td>18</td>\n",
       "      <td>0</td>\n",
       "    </tr>\n",
       "    <tr>\n",
       "      <th>54665</th>\n",
       "      <td>100507</td>\n",
       "      <td>0.75</td>\n",
       "      <td>3</td>\n",
       "      <td>9.68</td>\n",
       "      <td>22884.4</td>\n",
       "      <td>64.525</td>\n",
       "      <td>1403/01</td>\n",
       "      <td>صنعتی</td>\n",
       "      <td>سبزوار</td>\n",
       "      <td>9.098010e+11</td>\n",
       "      <td>50.0</td>\n",
       "      <td>1400/11/05</td>\n",
       "      <td>38</td>\n",
       "      <td>0</td>\n",
       "    </tr>\n",
       "    <tr>\n",
       "      <th>54689</th>\n",
       "      <td>107145</td>\n",
       "      <td>2.06</td>\n",
       "      <td>9</td>\n",
       "      <td>29.03</td>\n",
       "      <td>883470.4</td>\n",
       "      <td>1368317.000</td>\n",
       "      <td>1403/01</td>\n",
       "      <td>Unknown</td>\n",
       "      <td>سبزوار</td>\n",
       "      <td>9.098010e+11</td>\n",
       "      <td>150.0</td>\n",
       "      <td>1400/03/19</td>\n",
       "      <td>46</td>\n",
       "      <td>0</td>\n",
       "    </tr>\n",
       "    <tr>\n",
       "      <th>54714</th>\n",
       "      <td>608960</td>\n",
       "      <td>0.55</td>\n",
       "      <td>2</td>\n",
       "      <td>6.45</td>\n",
       "      <td>3445.3</td>\n",
       "      <td>6232.506</td>\n",
       "      <td>1403/01</td>\n",
       "      <td>صنعتی</td>\n",
       "      <td>کاشمر</td>\n",
       "      <td>9.098010e+11</td>\n",
       "      <td>50.0</td>\n",
       "      <td>1401/02/20</td>\n",
       "      <td>35</td>\n",
       "      <td>0</td>\n",
       "    </tr>\n",
       "  </tbody>\n",
       "</table>\n",
       "<p>1640 rows × 14 columns</p>\n",
       "</div>"
      ],
      "text/plain": [
       "      Subscription Code  Flow Rate (l/s)  Number of Negative Flows  \\\n",
       "38               514059             4.06                        21   \n",
       "54               515122            11.97                         1   \n",
       "70               805221             0.74                         5   \n",
       "78               301144             1.20                         1   \n",
       "82               515530            11.07                         5   \n",
       "...                 ...              ...                       ...   \n",
       "54620            603046             9.46                         3   \n",
       "54645            103858            29.17                         3   \n",
       "54665            100507             0.75                         3   \n",
       "54689            107145             2.06                         9   \n",
       "54714            608960             0.55                         2   \n",
       "\n",
       "       Percentage of Negative Flows  Operating Hours (h)  Consumption (m³)  \\\n",
       "38                            67.74              30651.2        217861.500   \n",
       "54                             3.23              32644.9        117254.310   \n",
       "70                            16.13              34049.8         18570.289   \n",
       "78                             3.23              13119.5             2.640   \n",
       "82                            16.13             193865.7        248740.010   \n",
       "...                             ...                  ...               ...   \n",
       "54620                          9.68             507603.5         10080.010   \n",
       "54645                          9.68             187725.7         61350.780   \n",
       "54665                          9.68              22884.4            64.525   \n",
       "54689                         29.03             883470.4       1368317.000   \n",
       "54714                          6.45               3445.3          6232.506   \n",
       "\n",
       "         month License Type       County  Meter Serial  Meter Size  \\\n",
       "38     1401/01      Unknown         مشهد  9.098010e+11       100.0   \n",
       "54     1401/01      کشاورزی         مشهد  9.098010e+11       150.0   \n",
       "70     1401/01         سایر      نیشابور  9.098010e+11        50.0   \n",
       "78     1401/01      کشاورزی  تربت حیدریه  9.098010e+11       150.0   \n",
       "82     1401/01      کشاورزی         مشهد  9.098010e+11       150.0   \n",
       "...        ...          ...          ...           ...         ...   \n",
       "54620  1403/01      کشاورزی  تربت حیدریه  9.098010e+11       150.0   \n",
       "54645  1403/01        صنعتی       سبزوار  9.098010e+11       150.0   \n",
       "54665  1403/01        صنعتی       سبزوار  9.098010e+11        50.0   \n",
       "54689  1403/01      Unknown       سبزوار  9.098010e+11       150.0   \n",
       "54714  1403/01        صنعتی        کاشمر  9.098010e+11        50.0   \n",
       "\n",
       "      Installation Date  Meter Age (Months)  null_counts  \n",
       "38           1400/06/09                  43            0  \n",
       "54           1400/06/13                  43            0  \n",
       "70           1400/02/28                  47            0  \n",
       "78           1400/03/26                  46            0  \n",
       "82           1399/07/09                  54            0  \n",
       "...                 ...                 ...          ...  \n",
       "54620        1400/12/20                  37            0  \n",
       "54645        1402/07/25                  18            0  \n",
       "54665        1400/11/05                  38            0  \n",
       "54689        1400/03/19                  46            0  \n",
       "54714        1401/02/20                  35            0  \n",
       "\n",
       "[1640 rows x 14 columns]"
      ]
     },
     "execution_count": 35,
     "metadata": {},
     "output_type": "execute_result"
    }
   ],
   "source": [
    "df_copy[df_copy['Number of Negative Flows'] > 0]"
   ]
  },
  {
   "cell_type": "code",
   "execution_count": 36,
   "id": "4207824f",
   "metadata": {},
   "outputs": [
    {
     "data": {
      "text/html": [
       "<div>\n",
       "<style scoped>\n",
       "    .dataframe tbody tr th:only-of-type {\n",
       "        vertical-align: middle;\n",
       "    }\n",
       "\n",
       "    .dataframe tbody tr th {\n",
       "        vertical-align: top;\n",
       "    }\n",
       "\n",
       "    .dataframe thead th {\n",
       "        text-align: right;\n",
       "    }\n",
       "</style>\n",
       "<table border=\"1\" class=\"dataframe\">\n",
       "  <thead>\n",
       "    <tr style=\"text-align: right;\">\n",
       "      <th></th>\n",
       "      <th>Subscription Code</th>\n",
       "      <th>Flow Rate (l/s)</th>\n",
       "      <th>Number of Negative Flows</th>\n",
       "      <th>Percentage of Negative Flows</th>\n",
       "      <th>Operating Hours (h)</th>\n",
       "      <th>Consumption (m³)</th>\n",
       "      <th>month</th>\n",
       "      <th>License Type</th>\n",
       "      <th>County</th>\n",
       "      <th>Meter Serial</th>\n",
       "      <th>Meter Size</th>\n",
       "      <th>Installation Date</th>\n",
       "      <th>Meter Age (Months)</th>\n",
       "      <th>null_counts</th>\n",
       "    </tr>\n",
       "  </thead>\n",
       "  <tbody>\n",
       "    <tr>\n",
       "      <th>32</th>\n",
       "      <td>302041</td>\n",
       "      <td>NaN</td>\n",
       "      <td>0</td>\n",
       "      <td>0.00</td>\n",
       "      <td>0.0</td>\n",
       "      <td>-2.600</td>\n",
       "      <td>1401/01</td>\n",
       "      <td>شرب و بهداشت دام</td>\n",
       "      <td>گناباد</td>\n",
       "      <td>9.098010e+11</td>\n",
       "      <td>50.0</td>\n",
       "      <td>1400/04/27</td>\n",
       "      <td>45</td>\n",
       "      <td>1</td>\n",
       "    </tr>\n",
       "    <tr>\n",
       "      <th>57</th>\n",
       "      <td>516231</td>\n",
       "      <td>NaN</td>\n",
       "      <td>0</td>\n",
       "      <td>0.00</td>\n",
       "      <td>NaN</td>\n",
       "      <td>-0.052</td>\n",
       "      <td>1401/01</td>\n",
       "      <td>صنعتی</td>\n",
       "      <td>مشهد</td>\n",
       "      <td>9.098010e+11</td>\n",
       "      <td>50.0</td>\n",
       "      <td>1400/03/25</td>\n",
       "      <td>46</td>\n",
       "      <td>2</td>\n",
       "    </tr>\n",
       "    <tr>\n",
       "      <th>267</th>\n",
       "      <td>515534</td>\n",
       "      <td>NaN</td>\n",
       "      <td>0</td>\n",
       "      <td>0.00</td>\n",
       "      <td>0.0</td>\n",
       "      <td>-0.133</td>\n",
       "      <td>1401/01</td>\n",
       "      <td>شرب و بهداشت دام</td>\n",
       "      <td>مشهد</td>\n",
       "      <td>9.098010e+11</td>\n",
       "      <td>50.0</td>\n",
       "      <td>1400/05/03</td>\n",
       "      <td>44</td>\n",
       "      <td>1</td>\n",
       "    </tr>\n",
       "    <tr>\n",
       "      <th>644</th>\n",
       "      <td>529336</td>\n",
       "      <td>2.07</td>\n",
       "      <td>1</td>\n",
       "      <td>3.23</td>\n",
       "      <td>300.4</td>\n",
       "      <td>-180119.900</td>\n",
       "      <td>1401/01</td>\n",
       "      <td>کشاورزی</td>\n",
       "      <td>مشهد</td>\n",
       "      <td>9.098010e+11</td>\n",
       "      <td>150.0</td>\n",
       "      <td>1399/03/06</td>\n",
       "      <td>58</td>\n",
       "      <td>0</td>\n",
       "    </tr>\n",
       "    <tr>\n",
       "      <th>684</th>\n",
       "      <td>518586</td>\n",
       "      <td>NaN</td>\n",
       "      <td>0</td>\n",
       "      <td>0.00</td>\n",
       "      <td>0.0</td>\n",
       "      <td>-37.900</td>\n",
       "      <td>1401/01</td>\n",
       "      <td>شرب و بهداشت دام</td>\n",
       "      <td>مشهد</td>\n",
       "      <td>9.098010e+11</td>\n",
       "      <td>50.0</td>\n",
       "      <td>1399/08/02</td>\n",
       "      <td>53</td>\n",
       "      <td>1</td>\n",
       "    </tr>\n",
       "    <tr>\n",
       "      <th>...</th>\n",
       "      <td>...</td>\n",
       "      <td>...</td>\n",
       "      <td>...</td>\n",
       "      <td>...</td>\n",
       "      <td>...</td>\n",
       "      <td>...</td>\n",
       "      <td>...</td>\n",
       "      <td>...</td>\n",
       "      <td>...</td>\n",
       "      <td>...</td>\n",
       "      <td>...</td>\n",
       "      <td>...</td>\n",
       "      <td>...</td>\n",
       "      <td>...</td>\n",
       "    </tr>\n",
       "    <tr>\n",
       "      <th>78591</th>\n",
       "      <td>516014</td>\n",
       "      <td>NaN</td>\n",
       "      <td>0</td>\n",
       "      <td>0.00</td>\n",
       "      <td>0.0</td>\n",
       "      <td>-0.120</td>\n",
       "      <td>1403/12</td>\n",
       "      <td>صنعتی</td>\n",
       "      <td>مشهد</td>\n",
       "      <td>9.098010e+11</td>\n",
       "      <td>50.0</td>\n",
       "      <td>1399/11/26</td>\n",
       "      <td>50</td>\n",
       "      <td>1</td>\n",
       "    </tr>\n",
       "    <tr>\n",
       "      <th>78664</th>\n",
       "      <td>608600</td>\n",
       "      <td>NaN</td>\n",
       "      <td>0</td>\n",
       "      <td>0.00</td>\n",
       "      <td>0.0</td>\n",
       "      <td>-0.003</td>\n",
       "      <td>1403/12</td>\n",
       "      <td>صنعتی</td>\n",
       "      <td>کاشمر</td>\n",
       "      <td>9.098010e+11</td>\n",
       "      <td>50.0</td>\n",
       "      <td>1399/08/27</td>\n",
       "      <td>53</td>\n",
       "      <td>1</td>\n",
       "    </tr>\n",
       "    <tr>\n",
       "      <th>78665</th>\n",
       "      <td>804911</td>\n",
       "      <td>NaN</td>\n",
       "      <td>0</td>\n",
       "      <td>0.00</td>\n",
       "      <td>0.0</td>\n",
       "      <td>-0.003</td>\n",
       "      <td>1403/12</td>\n",
       "      <td>صنعتی</td>\n",
       "      <td>نیشابور</td>\n",
       "      <td>9.098010e+11</td>\n",
       "      <td>50.0</td>\n",
       "      <td>1399/09/17</td>\n",
       "      <td>52</td>\n",
       "      <td>1</td>\n",
       "    </tr>\n",
       "    <tr>\n",
       "      <th>78682</th>\n",
       "      <td>514691</td>\n",
       "      <td>4.43</td>\n",
       "      <td>0</td>\n",
       "      <td>0.00</td>\n",
       "      <td>270.3</td>\n",
       "      <td>-1089970.393</td>\n",
       "      <td>1403/12</td>\n",
       "      <td>کشاورزی</td>\n",
       "      <td>مشهد</td>\n",
       "      <td>9.098010e+11</td>\n",
       "      <td>125.0</td>\n",
       "      <td>1399/07/06</td>\n",
       "      <td>54</td>\n",
       "      <td>0</td>\n",
       "    </tr>\n",
       "    <tr>\n",
       "      <th>78773</th>\n",
       "      <td>103209</td>\n",
       "      <td>NaN</td>\n",
       "      <td>0</td>\n",
       "      <td>0.00</td>\n",
       "      <td>0.0</td>\n",
       "      <td>-0.046</td>\n",
       "      <td>1403/12</td>\n",
       "      <td>خدمات</td>\n",
       "      <td>سبزوار</td>\n",
       "      <td>9.098011e+11</td>\n",
       "      <td>50.0</td>\n",
       "      <td>1402/10/07</td>\n",
       "      <td>15</td>\n",
       "      <td>1</td>\n",
       "    </tr>\n",
       "  </tbody>\n",
       "</table>\n",
       "<p>3399 rows × 14 columns</p>\n",
       "</div>"
      ],
      "text/plain": [
       "      Subscription Code  Flow Rate (l/s)  Number of Negative Flows  \\\n",
       "32               302041              NaN                         0   \n",
       "57               516231              NaN                         0   \n",
       "267              515534              NaN                         0   \n",
       "644              529336             2.07                         1   \n",
       "684              518586              NaN                         0   \n",
       "...                 ...              ...                       ...   \n",
       "78591            516014              NaN                         0   \n",
       "78664            608600              NaN                         0   \n",
       "78665            804911              NaN                         0   \n",
       "78682            514691             4.43                         0   \n",
       "78773            103209              NaN                         0   \n",
       "\n",
       "       Percentage of Negative Flows  Operating Hours (h)  Consumption (m³)  \\\n",
       "32                             0.00                  0.0            -2.600   \n",
       "57                             0.00                  NaN            -0.052   \n",
       "267                            0.00                  0.0            -0.133   \n",
       "644                            3.23                300.4       -180119.900   \n",
       "684                            0.00                  0.0           -37.900   \n",
       "...                             ...                  ...               ...   \n",
       "78591                          0.00                  0.0            -0.120   \n",
       "78664                          0.00                  0.0            -0.003   \n",
       "78665                          0.00                  0.0            -0.003   \n",
       "78682                          0.00                270.3      -1089970.393   \n",
       "78773                          0.00                  0.0            -0.046   \n",
       "\n",
       "         month      License Type   County  Meter Serial  Meter Size  \\\n",
       "32     1401/01  شرب و بهداشت دام   گناباد  9.098010e+11        50.0   \n",
       "57     1401/01             صنعتی     مشهد  9.098010e+11        50.0   \n",
       "267    1401/01  شرب و بهداشت دام     مشهد  9.098010e+11        50.0   \n",
       "644    1401/01           کشاورزی     مشهد  9.098010e+11       150.0   \n",
       "684    1401/01  شرب و بهداشت دام     مشهد  9.098010e+11        50.0   \n",
       "...        ...               ...      ...           ...         ...   \n",
       "78591  1403/12             صنعتی     مشهد  9.098010e+11        50.0   \n",
       "78664  1403/12             صنعتی    کاشمر  9.098010e+11        50.0   \n",
       "78665  1403/12             صنعتی  نیشابور  9.098010e+11        50.0   \n",
       "78682  1403/12           کشاورزی     مشهد  9.098010e+11       125.0   \n",
       "78773  1403/12             خدمات   سبزوار  9.098011e+11        50.0   \n",
       "\n",
       "      Installation Date  Meter Age (Months)  null_counts  \n",
       "32           1400/04/27                  45            1  \n",
       "57           1400/03/25                  46            2  \n",
       "267          1400/05/03                  44            1  \n",
       "644          1399/03/06                  58            0  \n",
       "684          1399/08/02                  53            1  \n",
       "...                 ...                 ...          ...  \n",
       "78591        1399/11/26                  50            1  \n",
       "78664        1399/08/27                  53            1  \n",
       "78665        1399/09/17                  52            1  \n",
       "78682        1399/07/06                  54            0  \n",
       "78773        1402/10/07                  15            1  \n",
       "\n",
       "[3399 rows x 14 columns]"
      ]
     },
     "execution_count": 36,
     "metadata": {},
     "output_type": "execute_result"
    }
   ],
   "source": [
    "df_copy[df_copy['Consumption (m³)'] < 0]"
   ]
  },
  {
   "cell_type": "markdown",
   "id": "7a80b26a",
   "metadata": {},
   "source": [
    "در برخی از سطر ها میزان مصرف منفی وجود دارد اما دبی منفی برای سطر ثبت نشده است"
   ]
  },
  {
   "cell_type": "code",
   "execution_count": 37,
   "id": "cf70d707",
   "metadata": {},
   "outputs": [],
   "source": [
    "df_copy =df_copy.assign(neg_cons = lambda x: x['Consumption (m³)'] < 0)"
   ]
  },
  {
   "cell_type": "code",
   "execution_count": 38,
   "id": "0e3d023c",
   "metadata": {},
   "outputs": [
    {
     "data": {
      "text/plain": [
       "0        False\n",
       "1        False\n",
       "2        False\n",
       "3        False\n",
       "4        False\n",
       "         ...  \n",
       "78799    False\n",
       "78800    False\n",
       "78801    False\n",
       "78802    False\n",
       "78803    False\n",
       "Name: neg_cons, Length: 73404, dtype: bool"
      ]
     },
     "execution_count": 38,
     "metadata": {},
     "output_type": "execute_result"
    }
   ],
   "source": [
    "df_copy['neg_cons']"
   ]
  },
  {
   "cell_type": "code",
   "execution_count": 39,
   "id": "08e09fe7",
   "metadata": {},
   "outputs": [
    {
     "data": {
      "text/html": [
       "<div>\n",
       "<style scoped>\n",
       "    .dataframe tbody tr th:only-of-type {\n",
       "        vertical-align: middle;\n",
       "    }\n",
       "\n",
       "    .dataframe tbody tr th {\n",
       "        vertical-align: top;\n",
       "    }\n",
       "\n",
       "    .dataframe thead th {\n",
       "        text-align: right;\n",
       "    }\n",
       "</style>\n",
       "<table border=\"1\" class=\"dataframe\">\n",
       "  <thead>\n",
       "    <tr style=\"text-align: right;\">\n",
       "      <th></th>\n",
       "      <th>Subscription Code</th>\n",
       "      <th>Flow Rate (l/s)</th>\n",
       "      <th>Number of Negative Flows</th>\n",
       "      <th>Percentage of Negative Flows</th>\n",
       "      <th>Operating Hours (h)</th>\n",
       "      <th>Consumption (m³)</th>\n",
       "      <th>month</th>\n",
       "      <th>License Type</th>\n",
       "      <th>County</th>\n",
       "      <th>Meter Serial</th>\n",
       "      <th>Meter Size</th>\n",
       "      <th>Installation Date</th>\n",
       "      <th>Meter Age (Months)</th>\n",
       "      <th>null_counts</th>\n",
       "      <th>neg_cons</th>\n",
       "    </tr>\n",
       "  </thead>\n",
       "  <tbody>\n",
       "    <tr>\n",
       "      <th>0</th>\n",
       "      <td>520009</td>\n",
       "      <td>NaN</td>\n",
       "      <td>0</td>\n",
       "      <td>0.0</td>\n",
       "      <td>NaN</td>\n",
       "      <td>NaN</td>\n",
       "      <td>1401/01</td>\n",
       "      <td>صنعتی</td>\n",
       "      <td>مشهد</td>\n",
       "      <td>9.098011e+11</td>\n",
       "      <td>50.0</td>\n",
       "      <td>1402/11/15</td>\n",
       "      <td>14</td>\n",
       "      <td>3</td>\n",
       "      <td>False</td>\n",
       "    </tr>\n",
       "    <tr>\n",
       "      <th>1</th>\n",
       "      <td>200654</td>\n",
       "      <td>1.38</td>\n",
       "      <td>0</td>\n",
       "      <td>0.0</td>\n",
       "      <td>16492.8</td>\n",
       "      <td>2727.77</td>\n",
       "      <td>1401/01</td>\n",
       "      <td>کشاورزی</td>\n",
       "      <td>قوچان</td>\n",
       "      <td>9.098010e+11</td>\n",
       "      <td>80.0</td>\n",
       "      <td>1400/02/12</td>\n",
       "      <td>47</td>\n",
       "      <td>0</td>\n",
       "      <td>False</td>\n",
       "    </tr>\n",
       "    <tr>\n",
       "      <th>2</th>\n",
       "      <td>622162</td>\n",
       "      <td>NaN</td>\n",
       "      <td>0</td>\n",
       "      <td>0.0</td>\n",
       "      <td>NaN</td>\n",
       "      <td>NaN</td>\n",
       "      <td>1401/01</td>\n",
       "      <td>کشاورزی</td>\n",
       "      <td>تربت حیدریه</td>\n",
       "      <td>9.098011e+11</td>\n",
       "      <td>50.0</td>\n",
       "      <td>1403/02/27</td>\n",
       "      <td>11</td>\n",
       "      <td>3</td>\n",
       "      <td>False</td>\n",
       "    </tr>\n",
       "    <tr>\n",
       "      <th>3</th>\n",
       "      <td>515618</td>\n",
       "      <td>7.05</td>\n",
       "      <td>0</td>\n",
       "      <td>0.0</td>\n",
       "      <td>29319.6</td>\n",
       "      <td>14647.50</td>\n",
       "      <td>1401/01</td>\n",
       "      <td>کشاورزی</td>\n",
       "      <td>مشهد</td>\n",
       "      <td>9.098010e+11</td>\n",
       "      <td>125.0</td>\n",
       "      <td>1400/02/30</td>\n",
       "      <td>47</td>\n",
       "      <td>0</td>\n",
       "      <td>False</td>\n",
       "    </tr>\n",
       "    <tr>\n",
       "      <th>4</th>\n",
       "      <td>529232</td>\n",
       "      <td>NaN</td>\n",
       "      <td>0</td>\n",
       "      <td>0.0</td>\n",
       "      <td>NaN</td>\n",
       "      <td>NaN</td>\n",
       "      <td>1401/01</td>\n",
       "      <td>کشاورزی</td>\n",
       "      <td>مشهد</td>\n",
       "      <td>9.098010e+11</td>\n",
       "      <td>125.0</td>\n",
       "      <td>1401/06/23</td>\n",
       "      <td>31</td>\n",
       "      <td>3</td>\n",
       "      <td>False</td>\n",
       "    </tr>\n",
       "    <tr>\n",
       "      <th>...</th>\n",
       "      <td>...</td>\n",
       "      <td>...</td>\n",
       "      <td>...</td>\n",
       "      <td>...</td>\n",
       "      <td>...</td>\n",
       "      <td>...</td>\n",
       "      <td>...</td>\n",
       "      <td>...</td>\n",
       "      <td>...</td>\n",
       "      <td>...</td>\n",
       "      <td>...</td>\n",
       "      <td>...</td>\n",
       "      <td>...</td>\n",
       "      <td>...</td>\n",
       "      <td>...</td>\n",
       "    </tr>\n",
       "    <tr>\n",
       "      <th>78799</th>\n",
       "      <td>925247</td>\n",
       "      <td>NaN</td>\n",
       "      <td>0</td>\n",
       "      <td>0.0</td>\n",
       "      <td>NaN</td>\n",
       "      <td>NaN</td>\n",
       "      <td>1403/12</td>\n",
       "      <td>کشاورزی</td>\n",
       "      <td>باخرز</td>\n",
       "      <td>9.098010e+11</td>\n",
       "      <td>50.0</td>\n",
       "      <td>1400/03/24</td>\n",
       "      <td>46</td>\n",
       "      <td>3</td>\n",
       "      <td>False</td>\n",
       "    </tr>\n",
       "    <tr>\n",
       "      <th>78800</th>\n",
       "      <td>518473</td>\n",
       "      <td>5.44</td>\n",
       "      <td>0</td>\n",
       "      <td>0.0</td>\n",
       "      <td>9.8</td>\n",
       "      <td>177.14</td>\n",
       "      <td>1403/12</td>\n",
       "      <td>کشاورزی</td>\n",
       "      <td>مشهد</td>\n",
       "      <td>9.098010e+11</td>\n",
       "      <td>100.0</td>\n",
       "      <td>1399/06/03</td>\n",
       "      <td>55</td>\n",
       "      <td>0</td>\n",
       "      <td>False</td>\n",
       "    </tr>\n",
       "    <tr>\n",
       "      <th>78801</th>\n",
       "      <td>201250</td>\n",
       "      <td>NaN</td>\n",
       "      <td>0</td>\n",
       "      <td>0.0</td>\n",
       "      <td>0.0</td>\n",
       "      <td>0.00</td>\n",
       "      <td>1403/12</td>\n",
       "      <td>Unknown</td>\n",
       "      <td>قوچان</td>\n",
       "      <td>9.098010e+11</td>\n",
       "      <td>50.0</td>\n",
       "      <td>1399/07/07</td>\n",
       "      <td>54</td>\n",
       "      <td>1</td>\n",
       "      <td>False</td>\n",
       "    </tr>\n",
       "    <tr>\n",
       "      <th>78802</th>\n",
       "      <td>925005</td>\n",
       "      <td>NaN</td>\n",
       "      <td>0</td>\n",
       "      <td>0.0</td>\n",
       "      <td>NaN</td>\n",
       "      <td>NaN</td>\n",
       "      <td>1403/12</td>\n",
       "      <td>کشاورزی</td>\n",
       "      <td>باخرز</td>\n",
       "      <td>9.098010e+11</td>\n",
       "      <td>100.0</td>\n",
       "      <td>1400/03/03</td>\n",
       "      <td>46</td>\n",
       "      <td>3</td>\n",
       "      <td>False</td>\n",
       "    </tr>\n",
       "    <tr>\n",
       "      <th>78803</th>\n",
       "      <td>102290</td>\n",
       "      <td>32.17</td>\n",
       "      <td>0</td>\n",
       "      <td>0.0</td>\n",
       "      <td>5.1</td>\n",
       "      <td>552.70</td>\n",
       "      <td>1403/12</td>\n",
       "      <td>Unknown</td>\n",
       "      <td>سبزوار</td>\n",
       "      <td>9.098011e+11</td>\n",
       "      <td>150.0</td>\n",
       "      <td>1402/12/15</td>\n",
       "      <td>13</td>\n",
       "      <td>0</td>\n",
       "      <td>False</td>\n",
       "    </tr>\n",
       "  </tbody>\n",
       "</table>\n",
       "<p>73404 rows × 15 columns</p>\n",
       "</div>"
      ],
      "text/plain": [
       "      Subscription Code  Flow Rate (l/s)  Number of Negative Flows  \\\n",
       "0                520009              NaN                         0   \n",
       "1                200654             1.38                         0   \n",
       "2                622162              NaN                         0   \n",
       "3                515618             7.05                         0   \n",
       "4                529232              NaN                         0   \n",
       "...                 ...              ...                       ...   \n",
       "78799            925247              NaN                         0   \n",
       "78800            518473             5.44                         0   \n",
       "78801            201250              NaN                         0   \n",
       "78802            925005              NaN                         0   \n",
       "78803            102290            32.17                         0   \n",
       "\n",
       "       Percentage of Negative Flows  Operating Hours (h)  Consumption (m³)  \\\n",
       "0                               0.0                  NaN               NaN   \n",
       "1                               0.0              16492.8           2727.77   \n",
       "2                               0.0                  NaN               NaN   \n",
       "3                               0.0              29319.6          14647.50   \n",
       "4                               0.0                  NaN               NaN   \n",
       "...                             ...                  ...               ...   \n",
       "78799                           0.0                  NaN               NaN   \n",
       "78800                           0.0                  9.8            177.14   \n",
       "78801                           0.0                  0.0              0.00   \n",
       "78802                           0.0                  NaN               NaN   \n",
       "78803                           0.0                  5.1            552.70   \n",
       "\n",
       "         month License Type       County  Meter Serial  Meter Size  \\\n",
       "0      1401/01        صنعتی         مشهد  9.098011e+11        50.0   \n",
       "1      1401/01      کشاورزی        قوچان  9.098010e+11        80.0   \n",
       "2      1401/01      کشاورزی  تربت حیدریه  9.098011e+11        50.0   \n",
       "3      1401/01      کشاورزی         مشهد  9.098010e+11       125.0   \n",
       "4      1401/01      کشاورزی         مشهد  9.098010e+11       125.0   \n",
       "...        ...          ...          ...           ...         ...   \n",
       "78799  1403/12      کشاورزی        باخرز  9.098010e+11        50.0   \n",
       "78800  1403/12      کشاورزی         مشهد  9.098010e+11       100.0   \n",
       "78801  1403/12      Unknown        قوچان  9.098010e+11        50.0   \n",
       "78802  1403/12      کشاورزی        باخرز  9.098010e+11       100.0   \n",
       "78803  1403/12      Unknown       سبزوار  9.098011e+11       150.0   \n",
       "\n",
       "      Installation Date  Meter Age (Months)  null_counts  neg_cons  \n",
       "0            1402/11/15                  14            3     False  \n",
       "1            1400/02/12                  47            0     False  \n",
       "2            1403/02/27                  11            3     False  \n",
       "3            1400/02/30                  47            0     False  \n",
       "4            1401/06/23                  31            3     False  \n",
       "...                 ...                 ...          ...       ...  \n",
       "78799        1400/03/24                  46            3     False  \n",
       "78800        1399/06/03                  55            0     False  \n",
       "78801        1399/07/07                  54            1     False  \n",
       "78802        1400/03/03                  46            3     False  \n",
       "78803        1402/12/15                  13            0     False  \n",
       "\n",
       "[73404 rows x 15 columns]"
      ]
     },
     "execution_count": 39,
     "metadata": {},
     "output_type": "execute_result"
    }
   ],
   "source": [
    "df_copy"
   ]
  },
  {
   "cell_type": "markdown",
   "id": "5161113b",
   "metadata": {},
   "source": [
    "بیشتر تعداد مصرف منفی برابر با 32 میباشد در نتیجه هیچ مشترکی وجود که در هر 36 ماه مقدار مصرف منفی داشته باشد"
   ]
  },
  {
   "cell_type": "code",
   "execution_count": 40,
   "id": "690c5ff9",
   "metadata": {},
   "outputs": [],
   "source": [
    "grouped = df_copy.groupby(\"Subscription Code\").agg({\"Flow Rate (l/s)\": \"mean\", \"null_counts\" : \"sum\",\"Consumption (m³)\": \"sum\",\"neg_cons\":\"sum\",\"Operating Hours (h)\":\"sum\",\"Meter Age (Months)\":\"mean\"}).sort_values(by=\"neg_cons\",ascending=False)"
   ]
  },
  {
   "cell_type": "code",
   "execution_count": 96,
   "id": "2b14ed19",
   "metadata": {},
   "outputs": [
    {
     "data": {
      "application/vnd.plotly.v1+json": {
       "config": {
        "plotlyServerURL": "https://plot.ly"
       },
       "data": [
        {
         "hovertemplate": "month=%{x}<br>Consumption (m³)=%{text}<extra></extra>",
         "legendgroup": "",
         "marker": {
          "color": "#636efa",
          "pattern": {
           "shape": ""
          }
         },
         "name": "",
         "orientation": "v",
         "showlegend": false,
         "text": {
          "bdata": "0qwlSmZnOkC35VYajjQ6QHPhqiw25DJA+6BNX+aOMEAVzaAtKWcwQEpVDdS/+DFAPcNutPD1LEAIBBTMk8IqQOgTtvWMVSxAMStq6TfPIkCuWxHw/HYkQLWt7NbA2ilAKh/T8dC3KUCtuTkbRrExQAuokxO9GTFAUDDBe9cVMEClG8HDPdwwQNZF61ejIzBAPR7ItBUlMkDZk2+fnR4zQJty6KH0qTFARl304DFFMkC8FyrC94EpQPSzohf/6ihAsmWCrGrKK0ClIr3EMoEkQIb6yHMeWDBAtzp6qF8vMUCqWtrCVkcwQHEjMpp/EDBAtaIcuELoJUA8WMSFQ6ocQMsd0K5PChlA0P/5HY20G0DFd+NWoVQXQMormHcj1x5A",
          "dtype": "f8"
         },
         "textposition": "outside",
         "texttemplate": "%{y:.1f} M",
         "type": "bar",
         "x": [
          "1401/01",
          "1401/02",
          "1401/03",
          "1401/04",
          "1401/05",
          "1401/06",
          "1401/07",
          "1401/08",
          "1401/09",
          "1401/10",
          "1401/11",
          "1401/12",
          "1402/01",
          "1402/02",
          "1402/03",
          "1402/04",
          "1402/05",
          "1402/06",
          "1402/07",
          "1402/08",
          "1402/09",
          "1402/10",
          "1402/11",
          "1402/12",
          "1403/01",
          "1403/02",
          "1403/03",
          "1403/04",
          "1403/05",
          "1403/06",
          "1403/07",
          "1403/08",
          "1403/09",
          "1403/10",
          "1403/11",
          "1403/12"
         ],
         "xaxis": "x",
         "y": {
          "bdata": "0qwlSmZnOkC35VYajjQ6QHPhqiw25DJA+6BNX+aOMEAVzaAtKWcwQEpVDdS/+DFAPcNutPD1LEAIBBTMk8IqQOgTtvWMVSxAMStq6TfPIkCuWxHw/HYkQLWt7NbA2ilAKh/T8dC3KUCtuTkbRrExQAuokxO9GTFAUDDBe9cVMEClG8HDPdwwQNZF61ejIzBAPR7ItBUlMkDZk2+fnR4zQJty6KH0qTFARl304DFFMkC8FyrC94EpQPSzohf/6ihAsmWCrGrKK0ClIr3EMoEkQIb6yHMeWDBAtzp6qF8vMUCqWtrCVkcwQHEjMpp/EDBAtaIcuELoJUA8WMSFQ6ocQMsd0K5PChlA0P/5HY20G0DFd+NWoVQXQMormHcj1x5A",
          "dtype": "f8"
         },
         "yaxis": "y"
        }
       ],
       "layout": {
        "barmode": "relative",
        "font": {
         "color": "black",
         "size": 14
        },
        "height": 800,
        "legend": {
         "tracegroupgap": 0
        },
        "template": {
         "data": {
          "bar": [
           {
            "error_x": {
             "color": "#2a3f5f"
            },
            "error_y": {
             "color": "#2a3f5f"
            },
            "marker": {
             "line": {
              "color": "white",
              "width": 0.5
             },
             "pattern": {
              "fillmode": "overlay",
              "size": 10,
              "solidity": 0.2
             }
            },
            "type": "bar"
           }
          ],
          "barpolar": [
           {
            "marker": {
             "line": {
              "color": "white",
              "width": 0.5
             },
             "pattern": {
              "fillmode": "overlay",
              "size": 10,
              "solidity": 0.2
             }
            },
            "type": "barpolar"
           }
          ],
          "carpet": [
           {
            "aaxis": {
             "endlinecolor": "#2a3f5f",
             "gridcolor": "#C8D4E3",
             "linecolor": "#C8D4E3",
             "minorgridcolor": "#C8D4E3",
             "startlinecolor": "#2a3f5f"
            },
            "baxis": {
             "endlinecolor": "#2a3f5f",
             "gridcolor": "#C8D4E3",
             "linecolor": "#C8D4E3",
             "minorgridcolor": "#C8D4E3",
             "startlinecolor": "#2a3f5f"
            },
            "type": "carpet"
           }
          ],
          "choropleth": [
           {
            "colorbar": {
             "outlinewidth": 0,
             "ticks": ""
            },
            "type": "choropleth"
           }
          ],
          "contour": [
           {
            "colorbar": {
             "outlinewidth": 0,
             "ticks": ""
            },
            "colorscale": [
             [
              0,
              "#0d0887"
             ],
             [
              0.1111111111111111,
              "#46039f"
             ],
             [
              0.2222222222222222,
              "#7201a8"
             ],
             [
              0.3333333333333333,
              "#9c179e"
             ],
             [
              0.4444444444444444,
              "#bd3786"
             ],
             [
              0.5555555555555556,
              "#d8576b"
             ],
             [
              0.6666666666666666,
              "#ed7953"
             ],
             [
              0.7777777777777778,
              "#fb9f3a"
             ],
             [
              0.8888888888888888,
              "#fdca26"
             ],
             [
              1,
              "#f0f921"
             ]
            ],
            "type": "contour"
           }
          ],
          "contourcarpet": [
           {
            "colorbar": {
             "outlinewidth": 0,
             "ticks": ""
            },
            "type": "contourcarpet"
           }
          ],
          "heatmap": [
           {
            "colorbar": {
             "outlinewidth": 0,
             "ticks": ""
            },
            "colorscale": [
             [
              0,
              "#0d0887"
             ],
             [
              0.1111111111111111,
              "#46039f"
             ],
             [
              0.2222222222222222,
              "#7201a8"
             ],
             [
              0.3333333333333333,
              "#9c179e"
             ],
             [
              0.4444444444444444,
              "#bd3786"
             ],
             [
              0.5555555555555556,
              "#d8576b"
             ],
             [
              0.6666666666666666,
              "#ed7953"
             ],
             [
              0.7777777777777778,
              "#fb9f3a"
             ],
             [
              0.8888888888888888,
              "#fdca26"
             ],
             [
              1,
              "#f0f921"
             ]
            ],
            "type": "heatmap"
           }
          ],
          "histogram": [
           {
            "marker": {
             "pattern": {
              "fillmode": "overlay",
              "size": 10,
              "solidity": 0.2
             }
            },
            "type": "histogram"
           }
          ],
          "histogram2d": [
           {
            "colorbar": {
             "outlinewidth": 0,
             "ticks": ""
            },
            "colorscale": [
             [
              0,
              "#0d0887"
             ],
             [
              0.1111111111111111,
              "#46039f"
             ],
             [
              0.2222222222222222,
              "#7201a8"
             ],
             [
              0.3333333333333333,
              "#9c179e"
             ],
             [
              0.4444444444444444,
              "#bd3786"
             ],
             [
              0.5555555555555556,
              "#d8576b"
             ],
             [
              0.6666666666666666,
              "#ed7953"
             ],
             [
              0.7777777777777778,
              "#fb9f3a"
             ],
             [
              0.8888888888888888,
              "#fdca26"
             ],
             [
              1,
              "#f0f921"
             ]
            ],
            "type": "histogram2d"
           }
          ],
          "histogram2dcontour": [
           {
            "colorbar": {
             "outlinewidth": 0,
             "ticks": ""
            },
            "colorscale": [
             [
              0,
              "#0d0887"
             ],
             [
              0.1111111111111111,
              "#46039f"
             ],
             [
              0.2222222222222222,
              "#7201a8"
             ],
             [
              0.3333333333333333,
              "#9c179e"
             ],
             [
              0.4444444444444444,
              "#bd3786"
             ],
             [
              0.5555555555555556,
              "#d8576b"
             ],
             [
              0.6666666666666666,
              "#ed7953"
             ],
             [
              0.7777777777777778,
              "#fb9f3a"
             ],
             [
              0.8888888888888888,
              "#fdca26"
             ],
             [
              1,
              "#f0f921"
             ]
            ],
            "type": "histogram2dcontour"
           }
          ],
          "mesh3d": [
           {
            "colorbar": {
             "outlinewidth": 0,
             "ticks": ""
            },
            "type": "mesh3d"
           }
          ],
          "parcoords": [
           {
            "line": {
             "colorbar": {
              "outlinewidth": 0,
              "ticks": ""
             }
            },
            "type": "parcoords"
           }
          ],
          "pie": [
           {
            "automargin": true,
            "type": "pie"
           }
          ],
          "scatter": [
           {
            "fillpattern": {
             "fillmode": "overlay",
             "size": 10,
             "solidity": 0.2
            },
            "type": "scatter"
           }
          ],
          "scatter3d": [
           {
            "line": {
             "colorbar": {
              "outlinewidth": 0,
              "ticks": ""
             }
            },
            "marker": {
             "colorbar": {
              "outlinewidth": 0,
              "ticks": ""
             }
            },
            "type": "scatter3d"
           }
          ],
          "scattercarpet": [
           {
            "marker": {
             "colorbar": {
              "outlinewidth": 0,
              "ticks": ""
             }
            },
            "type": "scattercarpet"
           }
          ],
          "scattergeo": [
           {
            "marker": {
             "colorbar": {
              "outlinewidth": 0,
              "ticks": ""
             }
            },
            "type": "scattergeo"
           }
          ],
          "scattergl": [
           {
            "marker": {
             "colorbar": {
              "outlinewidth": 0,
              "ticks": ""
             }
            },
            "type": "scattergl"
           }
          ],
          "scattermap": [
           {
            "marker": {
             "colorbar": {
              "outlinewidth": 0,
              "ticks": ""
             }
            },
            "type": "scattermap"
           }
          ],
          "scattermapbox": [
           {
            "marker": {
             "colorbar": {
              "outlinewidth": 0,
              "ticks": ""
             }
            },
            "type": "scattermapbox"
           }
          ],
          "scatterpolar": [
           {
            "marker": {
             "colorbar": {
              "outlinewidth": 0,
              "ticks": ""
             }
            },
            "type": "scatterpolar"
           }
          ],
          "scatterpolargl": [
           {
            "marker": {
             "colorbar": {
              "outlinewidth": 0,
              "ticks": ""
             }
            },
            "type": "scatterpolargl"
           }
          ],
          "scatterternary": [
           {
            "marker": {
             "colorbar": {
              "outlinewidth": 0,
              "ticks": ""
             }
            },
            "type": "scatterternary"
           }
          ],
          "surface": [
           {
            "colorbar": {
             "outlinewidth": 0,
             "ticks": ""
            },
            "colorscale": [
             [
              0,
              "#0d0887"
             ],
             [
              0.1111111111111111,
              "#46039f"
             ],
             [
              0.2222222222222222,
              "#7201a8"
             ],
             [
              0.3333333333333333,
              "#9c179e"
             ],
             [
              0.4444444444444444,
              "#bd3786"
             ],
             [
              0.5555555555555556,
              "#d8576b"
             ],
             [
              0.6666666666666666,
              "#ed7953"
             ],
             [
              0.7777777777777778,
              "#fb9f3a"
             ],
             [
              0.8888888888888888,
              "#fdca26"
             ],
             [
              1,
              "#f0f921"
             ]
            ],
            "type": "surface"
           }
          ],
          "table": [
           {
            "cells": {
             "fill": {
              "color": "#EBF0F8"
             },
             "line": {
              "color": "white"
             }
            },
            "header": {
             "fill": {
              "color": "#C8D4E3"
             },
             "line": {
              "color": "white"
             }
            },
            "type": "table"
           }
          ]
         },
         "layout": {
          "annotationdefaults": {
           "arrowcolor": "#2a3f5f",
           "arrowhead": 0,
           "arrowwidth": 1
          },
          "autotypenumbers": "strict",
          "coloraxis": {
           "colorbar": {
            "outlinewidth": 0,
            "ticks": ""
           }
          },
          "colorscale": {
           "diverging": [
            [
             0,
             "#8e0152"
            ],
            [
             0.1,
             "#c51b7d"
            ],
            [
             0.2,
             "#de77ae"
            ],
            [
             0.3,
             "#f1b6da"
            ],
            [
             0.4,
             "#fde0ef"
            ],
            [
             0.5,
             "#f7f7f7"
            ],
            [
             0.6,
             "#e6f5d0"
            ],
            [
             0.7,
             "#b8e186"
            ],
            [
             0.8,
             "#7fbc41"
            ],
            [
             0.9,
             "#4d9221"
            ],
            [
             1,
             "#276419"
            ]
           ],
           "sequential": [
            [
             0,
             "#0d0887"
            ],
            [
             0.1111111111111111,
             "#46039f"
            ],
            [
             0.2222222222222222,
             "#7201a8"
            ],
            [
             0.3333333333333333,
             "#9c179e"
            ],
            [
             0.4444444444444444,
             "#bd3786"
            ],
            [
             0.5555555555555556,
             "#d8576b"
            ],
            [
             0.6666666666666666,
             "#ed7953"
            ],
            [
             0.7777777777777778,
             "#fb9f3a"
            ],
            [
             0.8888888888888888,
             "#fdca26"
            ],
            [
             1,
             "#f0f921"
            ]
           ],
           "sequentialminus": [
            [
             0,
             "#0d0887"
            ],
            [
             0.1111111111111111,
             "#46039f"
            ],
            [
             0.2222222222222222,
             "#7201a8"
            ],
            [
             0.3333333333333333,
             "#9c179e"
            ],
            [
             0.4444444444444444,
             "#bd3786"
            ],
            [
             0.5555555555555556,
             "#d8576b"
            ],
            [
             0.6666666666666666,
             "#ed7953"
            ],
            [
             0.7777777777777778,
             "#fb9f3a"
            ],
            [
             0.8888888888888888,
             "#fdca26"
            ],
            [
             1,
             "#f0f921"
            ]
           ]
          },
          "colorway": [
           "#636efa",
           "#EF553B",
           "#00cc96",
           "#ab63fa",
           "#FFA15A",
           "#19d3f3",
           "#FF6692",
           "#B6E880",
           "#FF97FF",
           "#FECB52"
          ],
          "font": {
           "color": "#2a3f5f"
          },
          "geo": {
           "bgcolor": "white",
           "lakecolor": "white",
           "landcolor": "white",
           "showlakes": true,
           "showland": true,
           "subunitcolor": "#C8D4E3"
          },
          "hoverlabel": {
           "align": "left"
          },
          "hovermode": "closest",
          "mapbox": {
           "style": "light"
          },
          "paper_bgcolor": "white",
          "plot_bgcolor": "white",
          "polar": {
           "angularaxis": {
            "gridcolor": "#EBF0F8",
            "linecolor": "#EBF0F8",
            "ticks": ""
           },
           "bgcolor": "white",
           "radialaxis": {
            "gridcolor": "#EBF0F8",
            "linecolor": "#EBF0F8",
            "ticks": ""
           }
          },
          "scene": {
           "xaxis": {
            "backgroundcolor": "white",
            "gridcolor": "#DFE8F3",
            "gridwidth": 2,
            "linecolor": "#EBF0F8",
            "showbackground": true,
            "ticks": "",
            "zerolinecolor": "#EBF0F8"
           },
           "yaxis": {
            "backgroundcolor": "white",
            "gridcolor": "#DFE8F3",
            "gridwidth": 2,
            "linecolor": "#EBF0F8",
            "showbackground": true,
            "ticks": "",
            "zerolinecolor": "#EBF0F8"
           },
           "zaxis": {
            "backgroundcolor": "white",
            "gridcolor": "#DFE8F3",
            "gridwidth": 2,
            "linecolor": "#EBF0F8",
            "showbackground": true,
            "ticks": "",
            "zerolinecolor": "#EBF0F8"
           }
          },
          "shapedefaults": {
           "line": {
            "color": "#2a3f5f"
           }
          },
          "ternary": {
           "aaxis": {
            "gridcolor": "#DFE8F3",
            "linecolor": "#A2B1C6",
            "ticks": ""
           },
           "baxis": {
            "gridcolor": "#DFE8F3",
            "linecolor": "#A2B1C6",
            "ticks": ""
           },
           "bgcolor": "white",
           "caxis": {
            "gridcolor": "#DFE8F3",
            "linecolor": "#A2B1C6",
            "ticks": ""
           }
          },
          "title": {
           "x": 0.05
          },
          "xaxis": {
           "automargin": true,
           "gridcolor": "#EBF0F8",
           "linecolor": "#EBF0F8",
           "ticks": "",
           "title": {
            "standoff": 15
           },
           "zerolinecolor": "#EBF0F8",
           "zerolinewidth": 2
          },
          "yaxis": {
           "automargin": true,
           "gridcolor": "#EBF0F8",
           "linecolor": "#EBF0F8",
           "ticks": "",
           "title": {
            "standoff": 15
           },
           "zerolinecolor": "#EBF0F8",
           "zerolinewidth": 2
          }
         }
        },
        "title": {
         "font": {
          "color": "black",
          "size": 16
         },
         "text": "مصرف آب کنتور های کشاورزی در ماه‌های مختلف",
         "x": 0.95,
         "y": 0.95
        },
        "xaxis": {
         "anchor": "y",
         "domain": [
          0,
          1
         ],
         "tickangle": 30,
         "title": {
          "text": "ماه"
         },
         "type": "category"
        },
        "yaxis": {
         "anchor": "x",
         "domain": [
          0,
          1
         ],
         "ticksuffix": "M",
         "title": {
          "text": "مصرف آب (میلیون متر مکعب)"
         }
        }
       }
      }
     },
     "metadata": {},
     "output_type": "display_data"
    }
   ],
   "source": [
    "# For license type \"کشاورزی\", aggregate consumption by month (in millions)\n",
    "license_agri = (\n",
    "    df_copy[df_copy[\"License Type\"] == \"کشاورزی\"]\n",
    "    .dropna(subset=[\"Consumption (m³)\"])\n",
    "    .groupby(\"month\")[\"Consumption (m³)\"]\n",
    "    .sum()\n",
    "    .reset_index()\n",
    ")\n",
    "\n",
    "# Convert consumption values to millions\n",
    "license_agri[\"Consumption (m³)\"] = license_agri[\"Consumption (m³)\"] / 1e6\n",
    "\n",
    "fig_license_agri = px.bar(\n",
    "    license_agri,\n",
    "    x=\"month\",\n",
    "    y=\"Consumption (m³)\",\n",
    "    title=\"مصرف آب کنتور های کشاورزی در ماه‌های مختلف\",\n",
    "    text=\"Consumption (m³)\",\n",
    "    template=\"plotly_white\",\n",
    "    height=800\n",
    ")\n",
    "fig_license_agri.update_xaxes(type=\"category\", tickangle=30)\n",
    "fig_license_agri.update_layout(\n",
    "    xaxis_title=\"ماه\",\n",
    "    yaxis_title=\"مصرف آب (میلیون متر مکعب)\",\n",
    "    title_x=0.95,\n",
    "    title_y=0.95,\n",
    "    title_font=dict(size=16, color='black'),\n",
    "    font=dict(size=14, color='black')\n",
    ")\n",
    "fig_license_agri.update_traces(texttemplate=\"%{y:.1f} M\", textposition='outside')\n",
    "fig_license_agri.update_yaxes(ticksuffix=\"M\")\n",
    "fig_license_agri.show()\n"
   ]
  },
  {
   "cell_type": "code",
   "execution_count": 101,
   "id": "f34028f6",
   "metadata": {},
   "outputs": [],
   "source": [
    "fig_license_agri.write_html(\"agri_consumption.html\", include_plotlyjs='cdn')"
   ]
  },
  {
   "cell_type": "code",
   "execution_count": 42,
   "id": "e76ffa1c",
   "metadata": {},
   "outputs": [],
   "source": [
    "df_copy['year'] = df_copy['month'].apply(lambda x: int(x.split('/')[0]))"
   ]
  },
  {
   "cell_type": "code",
   "execution_count": 43,
   "id": "64ef1495",
   "metadata": {},
   "outputs": [
    {
     "data": {
      "text/html": [
       "<div>\n",
       "<style scoped>\n",
       "    .dataframe tbody tr th:only-of-type {\n",
       "        vertical-align: middle;\n",
       "    }\n",
       "\n",
       "    .dataframe tbody tr th {\n",
       "        vertical-align: top;\n",
       "    }\n",
       "\n",
       "    .dataframe thead th {\n",
       "        text-align: right;\n",
       "    }\n",
       "</style>\n",
       "<table border=\"1\" class=\"dataframe\">\n",
       "  <thead>\n",
       "    <tr style=\"text-align: right;\">\n",
       "      <th></th>\n",
       "      <th>Subscription Code</th>\n",
       "      <th>Flow Rate (l/s)</th>\n",
       "      <th>Number of Negative Flows</th>\n",
       "      <th>Percentage of Negative Flows</th>\n",
       "      <th>Operating Hours (h)</th>\n",
       "      <th>Consumption (m³)</th>\n",
       "      <th>month</th>\n",
       "      <th>License Type</th>\n",
       "      <th>County</th>\n",
       "      <th>Meter Serial</th>\n",
       "      <th>Meter Size</th>\n",
       "      <th>Installation Date</th>\n",
       "      <th>Meter Age (Months)</th>\n",
       "      <th>null_counts</th>\n",
       "      <th>neg_cons</th>\n",
       "      <th>year</th>\n",
       "    </tr>\n",
       "  </thead>\n",
       "  <tbody>\n",
       "    <tr>\n",
       "      <th>78799</th>\n",
       "      <td>925247</td>\n",
       "      <td>NaN</td>\n",
       "      <td>0</td>\n",
       "      <td>0.0</td>\n",
       "      <td>NaN</td>\n",
       "      <td>NaN</td>\n",
       "      <td>1403/12</td>\n",
       "      <td>کشاورزی</td>\n",
       "      <td>باخرز</td>\n",
       "      <td>9.098010e+11</td>\n",
       "      <td>50.0</td>\n",
       "      <td>1400/03/24</td>\n",
       "      <td>46</td>\n",
       "      <td>3</td>\n",
       "      <td>False</td>\n",
       "      <td>1403</td>\n",
       "    </tr>\n",
       "    <tr>\n",
       "      <th>78800</th>\n",
       "      <td>518473</td>\n",
       "      <td>5.44</td>\n",
       "      <td>0</td>\n",
       "      <td>0.0</td>\n",
       "      <td>9.8</td>\n",
       "      <td>177.14</td>\n",
       "      <td>1403/12</td>\n",
       "      <td>کشاورزی</td>\n",
       "      <td>مشهد</td>\n",
       "      <td>9.098010e+11</td>\n",
       "      <td>100.0</td>\n",
       "      <td>1399/06/03</td>\n",
       "      <td>55</td>\n",
       "      <td>0</td>\n",
       "      <td>False</td>\n",
       "      <td>1403</td>\n",
       "    </tr>\n",
       "    <tr>\n",
       "      <th>78801</th>\n",
       "      <td>201250</td>\n",
       "      <td>NaN</td>\n",
       "      <td>0</td>\n",
       "      <td>0.0</td>\n",
       "      <td>0.0</td>\n",
       "      <td>0.00</td>\n",
       "      <td>1403/12</td>\n",
       "      <td>Unknown</td>\n",
       "      <td>قوچان</td>\n",
       "      <td>9.098010e+11</td>\n",
       "      <td>50.0</td>\n",
       "      <td>1399/07/07</td>\n",
       "      <td>54</td>\n",
       "      <td>1</td>\n",
       "      <td>False</td>\n",
       "      <td>1403</td>\n",
       "    </tr>\n",
       "    <tr>\n",
       "      <th>78802</th>\n",
       "      <td>925005</td>\n",
       "      <td>NaN</td>\n",
       "      <td>0</td>\n",
       "      <td>0.0</td>\n",
       "      <td>NaN</td>\n",
       "      <td>NaN</td>\n",
       "      <td>1403/12</td>\n",
       "      <td>کشاورزی</td>\n",
       "      <td>باخرز</td>\n",
       "      <td>9.098010e+11</td>\n",
       "      <td>100.0</td>\n",
       "      <td>1400/03/03</td>\n",
       "      <td>46</td>\n",
       "      <td>3</td>\n",
       "      <td>False</td>\n",
       "      <td>1403</td>\n",
       "    </tr>\n",
       "    <tr>\n",
       "      <th>78803</th>\n",
       "      <td>102290</td>\n",
       "      <td>32.17</td>\n",
       "      <td>0</td>\n",
       "      <td>0.0</td>\n",
       "      <td>5.1</td>\n",
       "      <td>552.70</td>\n",
       "      <td>1403/12</td>\n",
       "      <td>Unknown</td>\n",
       "      <td>سبزوار</td>\n",
       "      <td>9.098011e+11</td>\n",
       "      <td>150.0</td>\n",
       "      <td>1402/12/15</td>\n",
       "      <td>13</td>\n",
       "      <td>0</td>\n",
       "      <td>False</td>\n",
       "      <td>1403</td>\n",
       "    </tr>\n",
       "  </tbody>\n",
       "</table>\n",
       "</div>"
      ],
      "text/plain": [
       "      Subscription Code  Flow Rate (l/s)  Number of Negative Flows  \\\n",
       "78799            925247              NaN                         0   \n",
       "78800            518473             5.44                         0   \n",
       "78801            201250              NaN                         0   \n",
       "78802            925005              NaN                         0   \n",
       "78803            102290            32.17                         0   \n",
       "\n",
       "       Percentage of Negative Flows  Operating Hours (h)  Consumption (m³)  \\\n",
       "78799                           0.0                  NaN               NaN   \n",
       "78800                           0.0                  9.8            177.14   \n",
       "78801                           0.0                  0.0              0.00   \n",
       "78802                           0.0                  NaN               NaN   \n",
       "78803                           0.0                  5.1            552.70   \n",
       "\n",
       "         month License Type  County  Meter Serial  Meter Size  \\\n",
       "78799  1403/12      کشاورزی   باخرز  9.098010e+11        50.0   \n",
       "78800  1403/12      کشاورزی    مشهد  9.098010e+11       100.0   \n",
       "78801  1403/12      Unknown   قوچان  9.098010e+11        50.0   \n",
       "78802  1403/12      کشاورزی   باخرز  9.098010e+11       100.0   \n",
       "78803  1403/12      Unknown  سبزوار  9.098011e+11       150.0   \n",
       "\n",
       "      Installation Date  Meter Age (Months)  null_counts  neg_cons  year  \n",
       "78799        1400/03/24                  46            3     False  1403  \n",
       "78800        1399/06/03                  55            0     False  1403  \n",
       "78801        1399/07/07                  54            1     False  1403  \n",
       "78802        1400/03/03                  46            3     False  1403  \n",
       "78803        1402/12/15                  13            0     False  1403  "
      ]
     },
     "execution_count": 43,
     "metadata": {},
     "output_type": "execute_result"
    }
   ],
   "source": [
    "df_copy.tail()"
   ]
  },
  {
   "cell_type": "code",
   "execution_count": 48,
   "id": "bedc6560",
   "metadata": {},
   "outputs": [
    {
     "data": {
      "text/plain": [
       "73404"
      ]
     },
     "execution_count": 48,
     "metadata": {},
     "output_type": "execute_result"
    }
   ],
   "source": [
    "len(df_copy)"
   ]
  },
  {
   "cell_type": "code",
   "execution_count": 45,
   "id": "44509ad4",
   "metadata": {},
   "outputs": [],
   "source": [
    "from plotly.subplots import make_subplots"
   ]
  },
  {
   "cell_type": "code",
   "execution_count": 47,
   "id": "1fe36d0b",
   "metadata": {},
   "outputs": [
    {
     "data": {
      "application/vnd.plotly.v1+json": {
       "config": {
        "plotlyServerURL": "https://plot.ly"
       },
       "data": [
        {
         "name": "احمدآبادصولت",
         "text": {
          "bdata": "AAAAAAAAAAA=",
          "dtype": "f8"
         },
         "textposition": "outside",
         "type": "bar",
         "x": [
          "احمدآبادصولت"
         ],
         "y": {
          "bdata": "AAAAAAAAAAA=",
          "dtype": "f8"
         }
        },
        {
         "name": "باخرز",
         "text": {
          "bdata": "j8L1KJ3+FEE=",
          "dtype": "f8"
         },
         "textposition": "outside",
         "type": "bar",
         "x": [
          "باخرز"
         ],
         "y": {
          "bdata": "1HjpJp3+FEE=",
          "dtype": "f8"
         }
        },
        {
         "name": "بجستان",
         "text": {
          "bdata": "cT0KtwAFQUE=",
          "dtype": "f8"
         },
         "textposition": "outside",
         "type": "bar",
         "x": [
          "بجستان"
         ],
         "y": {
          "bdata": "cT0KtwAFQUE=",
          "dtype": "f8"
         }
        },
        {
         "name": "تایباد",
         "text": {
          "bdata": "j8L1KI3vFEE=",
          "dtype": "f8"
         },
         "textposition": "outside",
         "type": "bar",
         "x": [
          "تایباد"
         ],
         "y": {
          "bdata": "bOf7KY3vFEE=",
          "dtype": "f8"
         }
        },
        {
         "name": "تربت جام",
         "text": {
          "bdata": "rkfhWvtMQEE=",
          "dtype": "f8"
         },
         "textposition": "outside",
         "type": "bar",
         "x": [
          "تربت جام"
         ],
         "y": {
          "bdata": "rkfhWvtMQEE=",
          "dtype": "f8"
         }
        },
        {
         "name": "تربت حیدریه",
         "text": {
          "bdata": "AAAAkoqIhkE=",
          "dtype": "f8"
         },
         "textposition": "outside",
         "type": "bar",
         "x": [
          "تربت حیدریه"
         ],
         "y": {
          "bdata": "SgwCkoqIhkE=",
          "dtype": "f8"
         }
        },
        {
         "name": "خواف",
         "text": {
          "bdata": "AAAAYJLPS0E=",
          "dtype": "f8"
         },
         "textposition": "outside",
         "type": "bar",
         "x": [
          "خواف"
         ],
         "y": {
          "bdata": "nMQgYJLPS0E=",
          "dtype": "f8"
         }
        },
        {
         "name": "درگز",
         "text": {
          "bdata": "cT0K1x+Z8kA=",
          "dtype": "f8"
         },
         "textposition": "outside",
         "type": "bar",
         "x": [
          "درگز"
         ],
         "y": {
          "bdata": "EoPAyh+Z8kA=",
          "dtype": "f8"
         }
        },
        {
         "name": "سبزوار",
         "text": {
          "bdata": "H4XrSZzubEE=",
          "dtype": "f8"
         },
         "textposition": "outside",
         "type": "bar",
         "x": [
          "سبزوار"
         ],
         "y": {
          "bdata": "lBgESpzubEE=",
          "dtype": "f8"
         }
        },
        {
         "name": "سرخس",
         "text": {
          "bdata": "9ihczyw6MkE=",
          "dtype": "f8"
         },
         "textposition": "outside",
         "type": "bar",
         "x": [
          "سرخس"
         ],
         "y": {
          "bdata": "9ihczyw6MkE=",
          "dtype": "f8"
         }
        },
        {
         "name": "فیروزه",
         "text": {
          "bdata": "AAAAAAAAAAA=",
          "dtype": "f8"
         },
         "textposition": "outside",
         "type": "bar",
         "x": [
          "فیروزه"
         ],
         "y": {
          "bdata": "AAAAAAAAAAA=",
          "dtype": "f8"
         }
        },
        {
         "name": "قوچان",
         "text": {
          "bdata": "MzMzM/d6KEE=",
          "dtype": "f8"
         },
         "textposition": "outside",
         "type": "bar",
         "x": [
          "قوچان"
         ],
         "y": {
          "bdata": "EFg5NPd6KEE=",
          "dtype": "f8"
         }
        },
        {
         "name": "مشهد",
         "text": {
          "bdata": "exTOMYYxx8E=",
          "dtype": "f8"
         },
         "textposition": "outside",
         "type": "bar",
         "x": [
          "مشهد"
         ],
         "y": {
          "bdata": "aZHNMYYxx8E=",
          "dtype": "f8"
         }
        },
        {
         "name": "نیشابور",
         "text": {
          "bdata": "UrgedVxjXEE=",
          "dtype": "f8"
         },
         "textposition": "outside",
         "type": "bar",
         "x": [
          "نیشابور"
         ],
         "y": {
          "bdata": "7nw/dVxjXEE=",
          "dtype": "f8"
         }
        },
        {
         "name": "چناران",
         "text": {
          "bdata": "16NwvUXLIEE=",
          "dtype": "f8"
         },
         "textposition": "outside",
         "type": "bar",
         "x": [
          "چناران"
         ],
         "y": {
          "bdata": "aJHtvEXLIEE=",
          "dtype": "f8"
         }
        },
        {
         "name": "کاشمر",
         "text": {
          "bdata": "SOF65K9mUkE=",
          "dtype": "f8"
         },
         "textposition": "outside",
         "type": "bar",
         "x": [
          "کاشمر"
         ],
         "y": {
          "bdata": "MQis5K9mUkE=",
          "dtype": "f8"
         }
        },
        {
         "name": "کلات",
         "text": {
          "bdata": "mpmZmZmknkA=",
          "dtype": "f8"
         },
         "textposition": "outside",
         "type": "bar",
         "x": [
          "کلات"
         ],
         "y": {
          "bdata": "3SQGgZWknkA=",
          "dtype": "f8"
         }
        },
        {
         "name": "گناباد",
         "text": {
          "bdata": "9ihcj9XUGEE=",
          "dtype": "f8"
         },
         "textposition": "outside",
         "type": "bar",
         "x": [
          "گناباد"
         ],
         "y": {
          "bdata": "GARWjtXUGEE=",
          "dtype": "f8"
         }
        }
       ],
       "layout": {
        "barmode": "group",
        "height": 600,
        "showlegend": true,
        "template": {
         "data": {
          "bar": [
           {
            "error_x": {
             "color": "#2a3f5f"
            },
            "error_y": {
             "color": "#2a3f5f"
            },
            "marker": {
             "line": {
              "color": "white",
              "width": 0.5
             },
             "pattern": {
              "fillmode": "overlay",
              "size": 10,
              "solidity": 0.2
             }
            },
            "type": "bar"
           }
          ],
          "barpolar": [
           {
            "marker": {
             "line": {
              "color": "white",
              "width": 0.5
             },
             "pattern": {
              "fillmode": "overlay",
              "size": 10,
              "solidity": 0.2
             }
            },
            "type": "barpolar"
           }
          ],
          "carpet": [
           {
            "aaxis": {
             "endlinecolor": "#2a3f5f",
             "gridcolor": "#C8D4E3",
             "linecolor": "#C8D4E3",
             "minorgridcolor": "#C8D4E3",
             "startlinecolor": "#2a3f5f"
            },
            "baxis": {
             "endlinecolor": "#2a3f5f",
             "gridcolor": "#C8D4E3",
             "linecolor": "#C8D4E3",
             "minorgridcolor": "#C8D4E3",
             "startlinecolor": "#2a3f5f"
            },
            "type": "carpet"
           }
          ],
          "choropleth": [
           {
            "colorbar": {
             "outlinewidth": 0,
             "ticks": ""
            },
            "type": "choropleth"
           }
          ],
          "contour": [
           {
            "colorbar": {
             "outlinewidth": 0,
             "ticks": ""
            },
            "colorscale": [
             [
              0,
              "#0d0887"
             ],
             [
              0.1111111111111111,
              "#46039f"
             ],
             [
              0.2222222222222222,
              "#7201a8"
             ],
             [
              0.3333333333333333,
              "#9c179e"
             ],
             [
              0.4444444444444444,
              "#bd3786"
             ],
             [
              0.5555555555555556,
              "#d8576b"
             ],
             [
              0.6666666666666666,
              "#ed7953"
             ],
             [
              0.7777777777777778,
              "#fb9f3a"
             ],
             [
              0.8888888888888888,
              "#fdca26"
             ],
             [
              1,
              "#f0f921"
             ]
            ],
            "type": "contour"
           }
          ],
          "contourcarpet": [
           {
            "colorbar": {
             "outlinewidth": 0,
             "ticks": ""
            },
            "type": "contourcarpet"
           }
          ],
          "heatmap": [
           {
            "colorbar": {
             "outlinewidth": 0,
             "ticks": ""
            },
            "colorscale": [
             [
              0,
              "#0d0887"
             ],
             [
              0.1111111111111111,
              "#46039f"
             ],
             [
              0.2222222222222222,
              "#7201a8"
             ],
             [
              0.3333333333333333,
              "#9c179e"
             ],
             [
              0.4444444444444444,
              "#bd3786"
             ],
             [
              0.5555555555555556,
              "#d8576b"
             ],
             [
              0.6666666666666666,
              "#ed7953"
             ],
             [
              0.7777777777777778,
              "#fb9f3a"
             ],
             [
              0.8888888888888888,
              "#fdca26"
             ],
             [
              1,
              "#f0f921"
             ]
            ],
            "type": "heatmap"
           }
          ],
          "histogram": [
           {
            "marker": {
             "pattern": {
              "fillmode": "overlay",
              "size": 10,
              "solidity": 0.2
             }
            },
            "type": "histogram"
           }
          ],
          "histogram2d": [
           {
            "colorbar": {
             "outlinewidth": 0,
             "ticks": ""
            },
            "colorscale": [
             [
              0,
              "#0d0887"
             ],
             [
              0.1111111111111111,
              "#46039f"
             ],
             [
              0.2222222222222222,
              "#7201a8"
             ],
             [
              0.3333333333333333,
              "#9c179e"
             ],
             [
              0.4444444444444444,
              "#bd3786"
             ],
             [
              0.5555555555555556,
              "#d8576b"
             ],
             [
              0.6666666666666666,
              "#ed7953"
             ],
             [
              0.7777777777777778,
              "#fb9f3a"
             ],
             [
              0.8888888888888888,
              "#fdca26"
             ],
             [
              1,
              "#f0f921"
             ]
            ],
            "type": "histogram2d"
           }
          ],
          "histogram2dcontour": [
           {
            "colorbar": {
             "outlinewidth": 0,
             "ticks": ""
            },
            "colorscale": [
             [
              0,
              "#0d0887"
             ],
             [
              0.1111111111111111,
              "#46039f"
             ],
             [
              0.2222222222222222,
              "#7201a8"
             ],
             [
              0.3333333333333333,
              "#9c179e"
             ],
             [
              0.4444444444444444,
              "#bd3786"
             ],
             [
              0.5555555555555556,
              "#d8576b"
             ],
             [
              0.6666666666666666,
              "#ed7953"
             ],
             [
              0.7777777777777778,
              "#fb9f3a"
             ],
             [
              0.8888888888888888,
              "#fdca26"
             ],
             [
              1,
              "#f0f921"
             ]
            ],
            "type": "histogram2dcontour"
           }
          ],
          "mesh3d": [
           {
            "colorbar": {
             "outlinewidth": 0,
             "ticks": ""
            },
            "type": "mesh3d"
           }
          ],
          "parcoords": [
           {
            "line": {
             "colorbar": {
              "outlinewidth": 0,
              "ticks": ""
             }
            },
            "type": "parcoords"
           }
          ],
          "pie": [
           {
            "automargin": true,
            "type": "pie"
           }
          ],
          "scatter": [
           {
            "fillpattern": {
             "fillmode": "overlay",
             "size": 10,
             "solidity": 0.2
            },
            "type": "scatter"
           }
          ],
          "scatter3d": [
           {
            "line": {
             "colorbar": {
              "outlinewidth": 0,
              "ticks": ""
             }
            },
            "marker": {
             "colorbar": {
              "outlinewidth": 0,
              "ticks": ""
             }
            },
            "type": "scatter3d"
           }
          ],
          "scattercarpet": [
           {
            "marker": {
             "colorbar": {
              "outlinewidth": 0,
              "ticks": ""
             }
            },
            "type": "scattercarpet"
           }
          ],
          "scattergeo": [
           {
            "marker": {
             "colorbar": {
              "outlinewidth": 0,
              "ticks": ""
             }
            },
            "type": "scattergeo"
           }
          ],
          "scattergl": [
           {
            "marker": {
             "colorbar": {
              "outlinewidth": 0,
              "ticks": ""
             }
            },
            "type": "scattergl"
           }
          ],
          "scattermap": [
           {
            "marker": {
             "colorbar": {
              "outlinewidth": 0,
              "ticks": ""
             }
            },
            "type": "scattermap"
           }
          ],
          "scattermapbox": [
           {
            "marker": {
             "colorbar": {
              "outlinewidth": 0,
              "ticks": ""
             }
            },
            "type": "scattermapbox"
           }
          ],
          "scatterpolar": [
           {
            "marker": {
             "colorbar": {
              "outlinewidth": 0,
              "ticks": ""
             }
            },
            "type": "scatterpolar"
           }
          ],
          "scatterpolargl": [
           {
            "marker": {
             "colorbar": {
              "outlinewidth": 0,
              "ticks": ""
             }
            },
            "type": "scatterpolargl"
           }
          ],
          "scatterternary": [
           {
            "marker": {
             "colorbar": {
              "outlinewidth": 0,
              "ticks": ""
             }
            },
            "type": "scatterternary"
           }
          ],
          "surface": [
           {
            "colorbar": {
             "outlinewidth": 0,
             "ticks": ""
            },
            "colorscale": [
             [
              0,
              "#0d0887"
             ],
             [
              0.1111111111111111,
              "#46039f"
             ],
             [
              0.2222222222222222,
              "#7201a8"
             ],
             [
              0.3333333333333333,
              "#9c179e"
             ],
             [
              0.4444444444444444,
              "#bd3786"
             ],
             [
              0.5555555555555556,
              "#d8576b"
             ],
             [
              0.6666666666666666,
              "#ed7953"
             ],
             [
              0.7777777777777778,
              "#fb9f3a"
             ],
             [
              0.8888888888888888,
              "#fdca26"
             ],
             [
              1,
              "#f0f921"
             ]
            ],
            "type": "surface"
           }
          ],
          "table": [
           {
            "cells": {
             "fill": {
              "color": "#EBF0F8"
             },
             "line": {
              "color": "white"
             }
            },
            "header": {
             "fill": {
              "color": "#C8D4E3"
             },
             "line": {
              "color": "white"
             }
            },
            "type": "table"
           }
          ]
         },
         "layout": {
          "annotationdefaults": {
           "arrowcolor": "#2a3f5f",
           "arrowhead": 0,
           "arrowwidth": 1
          },
          "autotypenumbers": "strict",
          "coloraxis": {
           "colorbar": {
            "outlinewidth": 0,
            "ticks": ""
           }
          },
          "colorscale": {
           "diverging": [
            [
             0,
             "#8e0152"
            ],
            [
             0.1,
             "#c51b7d"
            ],
            [
             0.2,
             "#de77ae"
            ],
            [
             0.3,
             "#f1b6da"
            ],
            [
             0.4,
             "#fde0ef"
            ],
            [
             0.5,
             "#f7f7f7"
            ],
            [
             0.6,
             "#e6f5d0"
            ],
            [
             0.7,
             "#b8e186"
            ],
            [
             0.8,
             "#7fbc41"
            ],
            [
             0.9,
             "#4d9221"
            ],
            [
             1,
             "#276419"
            ]
           ],
           "sequential": [
            [
             0,
             "#0d0887"
            ],
            [
             0.1111111111111111,
             "#46039f"
            ],
            [
             0.2222222222222222,
             "#7201a8"
            ],
            [
             0.3333333333333333,
             "#9c179e"
            ],
            [
             0.4444444444444444,
             "#bd3786"
            ],
            [
             0.5555555555555556,
             "#d8576b"
            ],
            [
             0.6666666666666666,
             "#ed7953"
            ],
            [
             0.7777777777777778,
             "#fb9f3a"
            ],
            [
             0.8888888888888888,
             "#fdca26"
            ],
            [
             1,
             "#f0f921"
            ]
           ],
           "sequentialminus": [
            [
             0,
             "#0d0887"
            ],
            [
             0.1111111111111111,
             "#46039f"
            ],
            [
             0.2222222222222222,
             "#7201a8"
            ],
            [
             0.3333333333333333,
             "#9c179e"
            ],
            [
             0.4444444444444444,
             "#bd3786"
            ],
            [
             0.5555555555555556,
             "#d8576b"
            ],
            [
             0.6666666666666666,
             "#ed7953"
            ],
            [
             0.7777777777777778,
             "#fb9f3a"
            ],
            [
             0.8888888888888888,
             "#fdca26"
            ],
            [
             1,
             "#f0f921"
            ]
           ]
          },
          "colorway": [
           "#636efa",
           "#EF553B",
           "#00cc96",
           "#ab63fa",
           "#FFA15A",
           "#19d3f3",
           "#FF6692",
           "#B6E880",
           "#FF97FF",
           "#FECB52"
          ],
          "font": {
           "color": "#2a3f5f"
          },
          "geo": {
           "bgcolor": "white",
           "lakecolor": "white",
           "landcolor": "white",
           "showlakes": true,
           "showland": true,
           "subunitcolor": "#C8D4E3"
          },
          "hoverlabel": {
           "align": "left"
          },
          "hovermode": "closest",
          "mapbox": {
           "style": "light"
          },
          "paper_bgcolor": "white",
          "plot_bgcolor": "white",
          "polar": {
           "angularaxis": {
            "gridcolor": "#EBF0F8",
            "linecolor": "#EBF0F8",
            "ticks": ""
           },
           "bgcolor": "white",
           "radialaxis": {
            "gridcolor": "#EBF0F8",
            "linecolor": "#EBF0F8",
            "ticks": ""
           }
          },
          "scene": {
           "xaxis": {
            "backgroundcolor": "white",
            "gridcolor": "#DFE8F3",
            "gridwidth": 2,
            "linecolor": "#EBF0F8",
            "showbackground": true,
            "ticks": "",
            "zerolinecolor": "#EBF0F8"
           },
           "yaxis": {
            "backgroundcolor": "white",
            "gridcolor": "#DFE8F3",
            "gridwidth": 2,
            "linecolor": "#EBF0F8",
            "showbackground": true,
            "ticks": "",
            "zerolinecolor": "#EBF0F8"
           },
           "zaxis": {
            "backgroundcolor": "white",
            "gridcolor": "#DFE8F3",
            "gridwidth": 2,
            "linecolor": "#EBF0F8",
            "showbackground": true,
            "ticks": "",
            "zerolinecolor": "#EBF0F8"
           }
          },
          "shapedefaults": {
           "line": {
            "color": "#2a3f5f"
           }
          },
          "ternary": {
           "aaxis": {
            "gridcolor": "#DFE8F3",
            "linecolor": "#A2B1C6",
            "ticks": ""
           },
           "baxis": {
            "gridcolor": "#DFE8F3",
            "linecolor": "#A2B1C6",
            "ticks": ""
           },
           "bgcolor": "white",
           "caxis": {
            "gridcolor": "#DFE8F3",
            "linecolor": "#A2B1C6",
            "ticks": ""
           }
          },
          "title": {
           "x": 0.05
          },
          "xaxis": {
           "automargin": true,
           "gridcolor": "#EBF0F8",
           "linecolor": "#EBF0F8",
           "ticks": "",
           "title": {
            "standoff": 15
           },
           "zerolinecolor": "#EBF0F8",
           "zerolinewidth": 2
          },
          "yaxis": {
           "automargin": true,
           "gridcolor": "#EBF0F8",
           "linecolor": "#EBF0F8",
           "ticks": "",
           "title": {
            "standoff": 15
           },
           "zerolinecolor": "#EBF0F8",
           "zerolinewidth": 2
          }
         }
        },
        "title": {
         "text": "مصرف آب در سال 1401",
         "x": 0.5
        },
        "width": 1000,
        "xaxis": {
         "tickangle": 45
        },
        "yaxis": {
         "title": {
          "text": "مصرف آب (متر مکعب)"
         }
        }
       }
      }
     },
     "metadata": {},
     "output_type": "display_data"
    },
    {
     "data": {
      "application/vnd.plotly.v1+json": {
       "config": {
        "plotlyServerURL": "https://plot.ly"
       },
       "data": [
        {
         "name": "احمدآبادصولت",
         "text": {
          "bdata": "AAAAAAAAAAA=",
          "dtype": "f8"
         },
         "textposition": "outside",
         "type": "bar",
         "x": [
          "احمدآبادصولت"
         ],
         "y": {
          "bdata": "AAAAAAAAAAA=",
          "dtype": "f8"
         }
        },
        {
         "name": "باخرز",
         "text": {
          "bdata": "4XoUrsb+H0E=",
          "dtype": "f8"
         },
         "textposition": "outside",
         "type": "bar",
         "x": [
          "باخرز"
         ],
         "y": {
          "bdata": "vp8ar8b+H0E=",
          "dtype": "f8"
         }
        },
        {
         "name": "بجستان",
         "text": {
          "bdata": "ZmZmRmeXVUE=",
          "dtype": "f8"
         },
         "textposition": "outside",
         "type": "bar",
         "x": [
          "بجستان"
         ],
         "y": {
          "bdata": "ZmZmRmeXVUE=",
          "dtype": "f8"
         }
        },
        {
         "name": "تایباد",
         "text": {
          "bdata": "FK5H4XxXG0E=",
          "dtype": "f8"
         },
         "textposition": "outside",
         "type": "bar",
         "x": [
          "تایباد"
         ],
         "y": {
          "bdata": "ZmZm5nxXG0E=",
          "dtype": "f8"
         }
        },
        {
         "name": "تربت جام",
         "text": {
          "bdata": "9ihcj9FrOUE=",
          "dtype": "f8"
         },
         "textposition": "outside",
         "type": "bar",
         "x": [
          "تربت جام"
         ],
         "y": {
          "bdata": "GQRWjtFrOUE=",
          "dtype": "f8"
         }
        },
        {
         "name": "تربت حیدریه",
         "text": {
          "bdata": "MzOztcj+oEE=",
          "dtype": "f8"
         },
         "textposition": "outside",
         "type": "bar",
         "x": [
          "تربت حیدریه"
         ],
         "y": {
          "bdata": "fT+1tcj+oEE=",
          "dtype": "f8"
         }
        },
        {
         "name": "خواف",
         "text": {
          "bdata": "hetRyN/RVEE=",
          "dtype": "f8"
         },
         "textposition": "outside",
         "type": "bar",
         "x": [
          "خواف"
         ],
         "y": {
          "bdata": "TmIQyN/RVEE=",
          "dtype": "f8"
         }
        },
        {
         "name": "درگز",
         "text": {
          "bdata": "FK5H4fL6CkE=",
          "dtype": "f8"
         },
         "textposition": "outside",
         "type": "bar",
         "x": [
          "درگز"
         ],
         "y": {
          "bdata": "oBov3fL6CkE=",
          "dtype": "f8"
         }
        },
        {
         "name": "سبزوار",
         "text": {
          "bdata": "H4XrcY8qeUE=",
          "dtype": "f8"
         },
         "textposition": "outside",
         "type": "bar",
         "x": [
          "سبزوار"
         ],
         "y": {
          "bdata": "H4XrcY8qeUE=",
          "dtype": "f8"
         }
        },
        {
         "name": "سرخس",
         "text": {
          "bdata": "FK5Hic0YYUE=",
          "dtype": "f8"
         },
         "textposition": "outside",
         "type": "bar",
         "x": [
          "سرخس"
         ],
         "y": {
          "bdata": "7nw/ic0YYUE=",
          "dtype": "f8"
         }
        },
        {
         "name": "فیروزه",
         "text": {
          "bdata": "cT0KV3qQIEE=",
          "dtype": "f8"
         },
         "textposition": "outside",
         "type": "bar",
         "x": [
          "فیروزه"
         ],
         "y": {
          "bdata": "TmIQWHqQIEE=",
          "dtype": "f8"
         }
        },
        {
         "name": "قوچان",
         "text": {
          "bdata": "16NwPc7gL0E=",
          "dtype": "f8"
         },
         "textposition": "outside",
         "type": "bar",
         "x": [
          "قوچان"
         ],
         "y": {
          "bdata": "HVpkO87gL0E=",
          "dtype": "f8"
         }
        },
        {
         "name": "مشهد",
         "text": {
          "bdata": "MzPzXdzA1EE=",
          "dtype": "f8"
         },
         "textposition": "outside",
         "type": "bar",
         "x": [
          "مشهد"
         ],
         "y": {
          "bdata": "SOHyXdzA1EE=",
          "dtype": "f8"
         }
        },
        {
         "name": "نیشابور",
         "text": {
          "bdata": "AAAA0FL3UUE=",
          "dtype": "f8"
         },
         "textposition": "outside",
         "type": "bar",
         "x": [
          "نیشابور"
         ],
         "y": {
          "bdata": "F9nOz1L3UUE=",
          "dtype": "f8"
         }
        },
        {
         "name": "چناران",
         "text": {
          "bdata": "AAAAAOIuIkE=",
          "dtype": "f8"
         },
         "textposition": "outside",
         "type": "bar",
         "x": [
          "چناران"
         ],
         "y": {
          "bdata": "AAAAAOIuIkE=",
          "dtype": "f8"
         }
        },
        {
         "name": "کاشمر",
         "text": {
          "bdata": "AAAAUN1zZ0E=",
          "dtype": "f8"
         },
         "textposition": "outside",
         "type": "bar",
         "x": [
          "کاشمر"
         ],
         "y": {
          "bdata": "i2znT91zZ0E=",
          "dtype": "f8"
         }
        },
        {
         "name": "کلات",
         "text": {
          "bdata": "7FG4HgWKs0A=",
          "dtype": "f8"
         },
         "textposition": "outside",
         "type": "bar",
         "x": [
          "کلات"
         ],
         "y": {
          "bdata": "CKwcWgSKs0A=",
          "dtype": "f8"
         }
        },
        {
         "name": "گناباد",
         "text": {
          "bdata": "FK5HAcY6XEE=",
          "dtype": "f8"
         },
         "textposition": "outside",
         "type": "bar",
         "x": [
          "گناباد"
         ],
         "y": {
          "bdata": "x0s3AcY6XEE=",
          "dtype": "f8"
         }
        }
       ],
       "layout": {
        "barmode": "group",
        "height": 600,
        "showlegend": true,
        "template": {
         "data": {
          "bar": [
           {
            "error_x": {
             "color": "#2a3f5f"
            },
            "error_y": {
             "color": "#2a3f5f"
            },
            "marker": {
             "line": {
              "color": "white",
              "width": 0.5
             },
             "pattern": {
              "fillmode": "overlay",
              "size": 10,
              "solidity": 0.2
             }
            },
            "type": "bar"
           }
          ],
          "barpolar": [
           {
            "marker": {
             "line": {
              "color": "white",
              "width": 0.5
             },
             "pattern": {
              "fillmode": "overlay",
              "size": 10,
              "solidity": 0.2
             }
            },
            "type": "barpolar"
           }
          ],
          "carpet": [
           {
            "aaxis": {
             "endlinecolor": "#2a3f5f",
             "gridcolor": "#C8D4E3",
             "linecolor": "#C8D4E3",
             "minorgridcolor": "#C8D4E3",
             "startlinecolor": "#2a3f5f"
            },
            "baxis": {
             "endlinecolor": "#2a3f5f",
             "gridcolor": "#C8D4E3",
             "linecolor": "#C8D4E3",
             "minorgridcolor": "#C8D4E3",
             "startlinecolor": "#2a3f5f"
            },
            "type": "carpet"
           }
          ],
          "choropleth": [
           {
            "colorbar": {
             "outlinewidth": 0,
             "ticks": ""
            },
            "type": "choropleth"
           }
          ],
          "contour": [
           {
            "colorbar": {
             "outlinewidth": 0,
             "ticks": ""
            },
            "colorscale": [
             [
              0,
              "#0d0887"
             ],
             [
              0.1111111111111111,
              "#46039f"
             ],
             [
              0.2222222222222222,
              "#7201a8"
             ],
             [
              0.3333333333333333,
              "#9c179e"
             ],
             [
              0.4444444444444444,
              "#bd3786"
             ],
             [
              0.5555555555555556,
              "#d8576b"
             ],
             [
              0.6666666666666666,
              "#ed7953"
             ],
             [
              0.7777777777777778,
              "#fb9f3a"
             ],
             [
              0.8888888888888888,
              "#fdca26"
             ],
             [
              1,
              "#f0f921"
             ]
            ],
            "type": "contour"
           }
          ],
          "contourcarpet": [
           {
            "colorbar": {
             "outlinewidth": 0,
             "ticks": ""
            },
            "type": "contourcarpet"
           }
          ],
          "heatmap": [
           {
            "colorbar": {
             "outlinewidth": 0,
             "ticks": ""
            },
            "colorscale": [
             [
              0,
              "#0d0887"
             ],
             [
              0.1111111111111111,
              "#46039f"
             ],
             [
              0.2222222222222222,
              "#7201a8"
             ],
             [
              0.3333333333333333,
              "#9c179e"
             ],
             [
              0.4444444444444444,
              "#bd3786"
             ],
             [
              0.5555555555555556,
              "#d8576b"
             ],
             [
              0.6666666666666666,
              "#ed7953"
             ],
             [
              0.7777777777777778,
              "#fb9f3a"
             ],
             [
              0.8888888888888888,
              "#fdca26"
             ],
             [
              1,
              "#f0f921"
             ]
            ],
            "type": "heatmap"
           }
          ],
          "histogram": [
           {
            "marker": {
             "pattern": {
              "fillmode": "overlay",
              "size": 10,
              "solidity": 0.2
             }
            },
            "type": "histogram"
           }
          ],
          "histogram2d": [
           {
            "colorbar": {
             "outlinewidth": 0,
             "ticks": ""
            },
            "colorscale": [
             [
              0,
              "#0d0887"
             ],
             [
              0.1111111111111111,
              "#46039f"
             ],
             [
              0.2222222222222222,
              "#7201a8"
             ],
             [
              0.3333333333333333,
              "#9c179e"
             ],
             [
              0.4444444444444444,
              "#bd3786"
             ],
             [
              0.5555555555555556,
              "#d8576b"
             ],
             [
              0.6666666666666666,
              "#ed7953"
             ],
             [
              0.7777777777777778,
              "#fb9f3a"
             ],
             [
              0.8888888888888888,
              "#fdca26"
             ],
             [
              1,
              "#f0f921"
             ]
            ],
            "type": "histogram2d"
           }
          ],
          "histogram2dcontour": [
           {
            "colorbar": {
             "outlinewidth": 0,
             "ticks": ""
            },
            "colorscale": [
             [
              0,
              "#0d0887"
             ],
             [
              0.1111111111111111,
              "#46039f"
             ],
             [
              0.2222222222222222,
              "#7201a8"
             ],
             [
              0.3333333333333333,
              "#9c179e"
             ],
             [
              0.4444444444444444,
              "#bd3786"
             ],
             [
              0.5555555555555556,
              "#d8576b"
             ],
             [
              0.6666666666666666,
              "#ed7953"
             ],
             [
              0.7777777777777778,
              "#fb9f3a"
             ],
             [
              0.8888888888888888,
              "#fdca26"
             ],
             [
              1,
              "#f0f921"
             ]
            ],
            "type": "histogram2dcontour"
           }
          ],
          "mesh3d": [
           {
            "colorbar": {
             "outlinewidth": 0,
             "ticks": ""
            },
            "type": "mesh3d"
           }
          ],
          "parcoords": [
           {
            "line": {
             "colorbar": {
              "outlinewidth": 0,
              "ticks": ""
             }
            },
            "type": "parcoords"
           }
          ],
          "pie": [
           {
            "automargin": true,
            "type": "pie"
           }
          ],
          "scatter": [
           {
            "fillpattern": {
             "fillmode": "overlay",
             "size": 10,
             "solidity": 0.2
            },
            "type": "scatter"
           }
          ],
          "scatter3d": [
           {
            "line": {
             "colorbar": {
              "outlinewidth": 0,
              "ticks": ""
             }
            },
            "marker": {
             "colorbar": {
              "outlinewidth": 0,
              "ticks": ""
             }
            },
            "type": "scatter3d"
           }
          ],
          "scattercarpet": [
           {
            "marker": {
             "colorbar": {
              "outlinewidth": 0,
              "ticks": ""
             }
            },
            "type": "scattercarpet"
           }
          ],
          "scattergeo": [
           {
            "marker": {
             "colorbar": {
              "outlinewidth": 0,
              "ticks": ""
             }
            },
            "type": "scattergeo"
           }
          ],
          "scattergl": [
           {
            "marker": {
             "colorbar": {
              "outlinewidth": 0,
              "ticks": ""
             }
            },
            "type": "scattergl"
           }
          ],
          "scattermap": [
           {
            "marker": {
             "colorbar": {
              "outlinewidth": 0,
              "ticks": ""
             }
            },
            "type": "scattermap"
           }
          ],
          "scattermapbox": [
           {
            "marker": {
             "colorbar": {
              "outlinewidth": 0,
              "ticks": ""
             }
            },
            "type": "scattermapbox"
           }
          ],
          "scatterpolar": [
           {
            "marker": {
             "colorbar": {
              "outlinewidth": 0,
              "ticks": ""
             }
            },
            "type": "scatterpolar"
           }
          ],
          "scatterpolargl": [
           {
            "marker": {
             "colorbar": {
              "outlinewidth": 0,
              "ticks": ""
             }
            },
            "type": "scatterpolargl"
           }
          ],
          "scatterternary": [
           {
            "marker": {
             "colorbar": {
              "outlinewidth": 0,
              "ticks": ""
             }
            },
            "type": "scatterternary"
           }
          ],
          "surface": [
           {
            "colorbar": {
             "outlinewidth": 0,
             "ticks": ""
            },
            "colorscale": [
             [
              0,
              "#0d0887"
             ],
             [
              0.1111111111111111,
              "#46039f"
             ],
             [
              0.2222222222222222,
              "#7201a8"
             ],
             [
              0.3333333333333333,
              "#9c179e"
             ],
             [
              0.4444444444444444,
              "#bd3786"
             ],
             [
              0.5555555555555556,
              "#d8576b"
             ],
             [
              0.6666666666666666,
              "#ed7953"
             ],
             [
              0.7777777777777778,
              "#fb9f3a"
             ],
             [
              0.8888888888888888,
              "#fdca26"
             ],
             [
              1,
              "#f0f921"
             ]
            ],
            "type": "surface"
           }
          ],
          "table": [
           {
            "cells": {
             "fill": {
              "color": "#EBF0F8"
             },
             "line": {
              "color": "white"
             }
            },
            "header": {
             "fill": {
              "color": "#C8D4E3"
             },
             "line": {
              "color": "white"
             }
            },
            "type": "table"
           }
          ]
         },
         "layout": {
          "annotationdefaults": {
           "arrowcolor": "#2a3f5f",
           "arrowhead": 0,
           "arrowwidth": 1
          },
          "autotypenumbers": "strict",
          "coloraxis": {
           "colorbar": {
            "outlinewidth": 0,
            "ticks": ""
           }
          },
          "colorscale": {
           "diverging": [
            [
             0,
             "#8e0152"
            ],
            [
             0.1,
             "#c51b7d"
            ],
            [
             0.2,
             "#de77ae"
            ],
            [
             0.3,
             "#f1b6da"
            ],
            [
             0.4,
             "#fde0ef"
            ],
            [
             0.5,
             "#f7f7f7"
            ],
            [
             0.6,
             "#e6f5d0"
            ],
            [
             0.7,
             "#b8e186"
            ],
            [
             0.8,
             "#7fbc41"
            ],
            [
             0.9,
             "#4d9221"
            ],
            [
             1,
             "#276419"
            ]
           ],
           "sequential": [
            [
             0,
             "#0d0887"
            ],
            [
             0.1111111111111111,
             "#46039f"
            ],
            [
             0.2222222222222222,
             "#7201a8"
            ],
            [
             0.3333333333333333,
             "#9c179e"
            ],
            [
             0.4444444444444444,
             "#bd3786"
            ],
            [
             0.5555555555555556,
             "#d8576b"
            ],
            [
             0.6666666666666666,
             "#ed7953"
            ],
            [
             0.7777777777777778,
             "#fb9f3a"
            ],
            [
             0.8888888888888888,
             "#fdca26"
            ],
            [
             1,
             "#f0f921"
            ]
           ],
           "sequentialminus": [
            [
             0,
             "#0d0887"
            ],
            [
             0.1111111111111111,
             "#46039f"
            ],
            [
             0.2222222222222222,
             "#7201a8"
            ],
            [
             0.3333333333333333,
             "#9c179e"
            ],
            [
             0.4444444444444444,
             "#bd3786"
            ],
            [
             0.5555555555555556,
             "#d8576b"
            ],
            [
             0.6666666666666666,
             "#ed7953"
            ],
            [
             0.7777777777777778,
             "#fb9f3a"
            ],
            [
             0.8888888888888888,
             "#fdca26"
            ],
            [
             1,
             "#f0f921"
            ]
           ]
          },
          "colorway": [
           "#636efa",
           "#EF553B",
           "#00cc96",
           "#ab63fa",
           "#FFA15A",
           "#19d3f3",
           "#FF6692",
           "#B6E880",
           "#FF97FF",
           "#FECB52"
          ],
          "font": {
           "color": "#2a3f5f"
          },
          "geo": {
           "bgcolor": "white",
           "lakecolor": "white",
           "landcolor": "white",
           "showlakes": true,
           "showland": true,
           "subunitcolor": "#C8D4E3"
          },
          "hoverlabel": {
           "align": "left"
          },
          "hovermode": "closest",
          "mapbox": {
           "style": "light"
          },
          "paper_bgcolor": "white",
          "plot_bgcolor": "white",
          "polar": {
           "angularaxis": {
            "gridcolor": "#EBF0F8",
            "linecolor": "#EBF0F8",
            "ticks": ""
           },
           "bgcolor": "white",
           "radialaxis": {
            "gridcolor": "#EBF0F8",
            "linecolor": "#EBF0F8",
            "ticks": ""
           }
          },
          "scene": {
           "xaxis": {
            "backgroundcolor": "white",
            "gridcolor": "#DFE8F3",
            "gridwidth": 2,
            "linecolor": "#EBF0F8",
            "showbackground": true,
            "ticks": "",
            "zerolinecolor": "#EBF0F8"
           },
           "yaxis": {
            "backgroundcolor": "white",
            "gridcolor": "#DFE8F3",
            "gridwidth": 2,
            "linecolor": "#EBF0F8",
            "showbackground": true,
            "ticks": "",
            "zerolinecolor": "#EBF0F8"
           },
           "zaxis": {
            "backgroundcolor": "white",
            "gridcolor": "#DFE8F3",
            "gridwidth": 2,
            "linecolor": "#EBF0F8",
            "showbackground": true,
            "ticks": "",
            "zerolinecolor": "#EBF0F8"
           }
          },
          "shapedefaults": {
           "line": {
            "color": "#2a3f5f"
           }
          },
          "ternary": {
           "aaxis": {
            "gridcolor": "#DFE8F3",
            "linecolor": "#A2B1C6",
            "ticks": ""
           },
           "baxis": {
            "gridcolor": "#DFE8F3",
            "linecolor": "#A2B1C6",
            "ticks": ""
           },
           "bgcolor": "white",
           "caxis": {
            "gridcolor": "#DFE8F3",
            "linecolor": "#A2B1C6",
            "ticks": ""
           }
          },
          "title": {
           "x": 0.05
          },
          "xaxis": {
           "automargin": true,
           "gridcolor": "#EBF0F8",
           "linecolor": "#EBF0F8",
           "ticks": "",
           "title": {
            "standoff": 15
           },
           "zerolinecolor": "#EBF0F8",
           "zerolinewidth": 2
          },
          "yaxis": {
           "automargin": true,
           "gridcolor": "#EBF0F8",
           "linecolor": "#EBF0F8",
           "ticks": "",
           "title": {
            "standoff": 15
           },
           "zerolinecolor": "#EBF0F8",
           "zerolinewidth": 2
          }
         }
        },
        "title": {
         "text": "مصرف آب در سال 1402",
         "x": 0.5
        },
        "width": 1000,
        "xaxis": {
         "tickangle": 45
        },
        "yaxis": {
         "title": {
          "text": "مصرف آب (متر مکعب)"
         }
        }
       }
      }
     },
     "metadata": {},
     "output_type": "display_data"
    },
    {
     "data": {
      "application/vnd.plotly.v1+json": {
       "config": {
        "plotlyServerURL": "https://plot.ly"
       },
       "data": [
        {
         "name": "احمدآبادصولت",
         "text": {
          "bdata": "SOF6FK4CtUA=",
          "dtype": "f8"
         },
         "textposition": "outside",
         "type": "bar",
         "x": [
          "احمدآبادصولت"
         ],
         "y": {
          "bdata": "zczMzKwCtUA=",
          "dtype": "f8"
         }
        },
        {
         "name": "باخرز",
         "text": {
          "bdata": "w/UoXEtfDEE=",
          "dtype": "f8"
         },
         "textposition": "outside",
         "type": "bar",
         "x": [
          "باخرز"
         ],
         "y": {
          "bdata": "fT81XktfDEE=",
          "dtype": "f8"
         }
        },
        {
         "name": "بجستان",
         "text": {
          "bdata": "AAAAAC7dIEE=",
          "dtype": "f8"
         },
         "textposition": "outside",
         "type": "bar",
         "x": [
          "بجستان"
         ],
         "y": {
          "bdata": "AAAAAC7dIEE=",
          "dtype": "f8"
         }
        },
        {
         "name": "تایباد",
         "text": {
          "bdata": "SOF6FC0LEkE=",
          "dtype": "f8"
         },
         "textposition": "outside",
         "type": "bar",
         "x": [
          "تایباد"
         ],
         "y": {
          "bdata": "sHJoES0LEkE=",
          "dtype": "f8"
         }
        },
        {
         "name": "تربت جام",
         "text": {
          "bdata": "ZmZm5vF6K0E=",
          "dtype": "f8"
         },
         "textposition": "outside",
         "type": "bar",
         "x": [
          "تربت جام"
         ],
         "y": {
          "bdata": "1Xjp5vF6K0E=",
          "dtype": "f8"
         }
        },
        {
         "name": "تربت حیدریه",
         "text": {
          "bdata": "mpmZ09UHhEE=",
          "dtype": "f8"
         },
         "textposition": "outside",
         "type": "bar",
         "x": [
          "تربت حیدریه"
         ],
         "y": {
          "bdata": "c2iR09UHhEE=",
          "dtype": "f8"
         }
        },
        {
         "name": "خرو",
         "text": {
          "bdata": "mpmZmUmV70A=",
          "dtype": "f8"
         },
         "textposition": "outside",
         "type": "bar",
         "x": [
          "خرو"
         ],
         "y": {
          "bdata": "mpmZmUmV70A=",
          "dtype": "f8"
         }
        },
        {
         "name": "خواف",
         "text": {
          "bdata": "XI/C9an0SUE=",
          "dtype": "f8"
         },
         "textposition": "outside",
         "type": "bar",
         "x": [
          "خواف"
         ],
         "y": {
          "bdata": "Urge9an0SUE=",
          "dtype": "f8"
         }
        },
        {
         "name": "درگز",
         "text": {
          "bdata": "UrgehUiFE0E=",
          "dtype": "f8"
         },
         "textposition": "outside",
         "type": "bar",
         "x": [
          "درگز"
         ],
         "y": {
          "bdata": "3SQGgUiFE0E=",
          "dtype": "f8"
         }
        },
        {
         "name": "سبزوار",
         "text": {
          "bdata": "CtejOIW4e0E=",
          "dtype": "f8"
         },
         "textposition": "outside",
         "type": "bar",
         "x": [
          "سبزوار"
         ],
         "y": {
          "bdata": "WDm0OIW4e0E=",
          "dtype": "f8"
         }
        },
        {
         "name": "سرخس",
         "text": {
          "bdata": "w/UonP8aQUE=",
          "dtype": "f8"
         },
         "textposition": "outside",
         "type": "bar",
         "x": [
          "سرخس"
         ],
         "y": {
          "bdata": "lUOLnP8aQUE=",
          "dtype": "f8"
         }
        },
        {
         "name": "فریمان",
         "text": {
          "bdata": "exSuR2Ewt0A=",
          "dtype": "f8"
         },
         "textposition": "outside",
         "type": "bar",
         "x": [
          "فریمان"
         ],
         "y": {
          "bdata": "TDeJQWAwt0A=",
          "dtype": "f8"
         }
        },
        {
         "name": "قوچان",
         "text": {
          "bdata": "9ihcj08nH0E=",
          "dtype": "f8"
         },
         "textposition": "outside",
         "type": "bar",
         "x": [
          "قوچان"
         ],
         "y": {
          "bdata": "0k1ikE8nH0E=",
          "dtype": "f8"
         }
        },
        {
         "name": "مشهد",
         "text": {
          "bdata": "zczMvJYmlEE=",
          "dtype": "f8"
         },
         "textposition": "outside",
         "type": "bar",
         "x": [
          "مشهد"
         ],
         "y": {
          "bdata": "8tLNvJYmlEE=",
          "dtype": "f8"
         }
        },
        {
         "name": "نیشابور",
         "text": {
          "bdata": "UrgeheGDT0E=",
          "dtype": "f8"
         },
         "textposition": "outside",
         "type": "bar",
         "x": [
          "نیشابور"
         ],
         "y": {
          "bdata": "tvP9hOGDT0E=",
          "dtype": "f8"
         }
        },
        {
         "name": "کاشمر",
         "text": {
          "bdata": "pHA9ysTpSkE=",
          "dtype": "f8"
         },
         "textposition": "outside",
         "type": "bar",
         "x": [
          "کاشمر"
         ],
         "y": {
          "bdata": "PzVeysTpSkE=",
          "dtype": "f8"
         }
        },
        {
         "name": "کلات",
         "text": {
          "bdata": "hetRuG6P1UA=",
          "dtype": "f8"
         },
         "textposition": "outside",
         "type": "bar",
         "x": [
          "کلات"
         ],
         "y": {
          "bdata": "OrTIdm6P1UA=",
          "dtype": "f8"
         }
        },
        {
         "name": "گناباد",
         "text": {
          "bdata": "mpmZudnhQ0E=",
          "dtype": "f8"
         },
         "textposition": "outside",
         "type": "bar",
         "x": [
          "گناباد"
         ],
         "y": {
          "bdata": "0SLbudnhQ0E=",
          "dtype": "f8"
         }
        }
       ],
       "layout": {
        "barmode": "group",
        "height": 600,
        "showlegend": true,
        "template": {
         "data": {
          "bar": [
           {
            "error_x": {
             "color": "#2a3f5f"
            },
            "error_y": {
             "color": "#2a3f5f"
            },
            "marker": {
             "line": {
              "color": "white",
              "width": 0.5
             },
             "pattern": {
              "fillmode": "overlay",
              "size": 10,
              "solidity": 0.2
             }
            },
            "type": "bar"
           }
          ],
          "barpolar": [
           {
            "marker": {
             "line": {
              "color": "white",
              "width": 0.5
             },
             "pattern": {
              "fillmode": "overlay",
              "size": 10,
              "solidity": 0.2
             }
            },
            "type": "barpolar"
           }
          ],
          "carpet": [
           {
            "aaxis": {
             "endlinecolor": "#2a3f5f",
             "gridcolor": "#C8D4E3",
             "linecolor": "#C8D4E3",
             "minorgridcolor": "#C8D4E3",
             "startlinecolor": "#2a3f5f"
            },
            "baxis": {
             "endlinecolor": "#2a3f5f",
             "gridcolor": "#C8D4E3",
             "linecolor": "#C8D4E3",
             "minorgridcolor": "#C8D4E3",
             "startlinecolor": "#2a3f5f"
            },
            "type": "carpet"
           }
          ],
          "choropleth": [
           {
            "colorbar": {
             "outlinewidth": 0,
             "ticks": ""
            },
            "type": "choropleth"
           }
          ],
          "contour": [
           {
            "colorbar": {
             "outlinewidth": 0,
             "ticks": ""
            },
            "colorscale": [
             [
              0,
              "#0d0887"
             ],
             [
              0.1111111111111111,
              "#46039f"
             ],
             [
              0.2222222222222222,
              "#7201a8"
             ],
             [
              0.3333333333333333,
              "#9c179e"
             ],
             [
              0.4444444444444444,
              "#bd3786"
             ],
             [
              0.5555555555555556,
              "#d8576b"
             ],
             [
              0.6666666666666666,
              "#ed7953"
             ],
             [
              0.7777777777777778,
              "#fb9f3a"
             ],
             [
              0.8888888888888888,
              "#fdca26"
             ],
             [
              1,
              "#f0f921"
             ]
            ],
            "type": "contour"
           }
          ],
          "contourcarpet": [
           {
            "colorbar": {
             "outlinewidth": 0,
             "ticks": ""
            },
            "type": "contourcarpet"
           }
          ],
          "heatmap": [
           {
            "colorbar": {
             "outlinewidth": 0,
             "ticks": ""
            },
            "colorscale": [
             [
              0,
              "#0d0887"
             ],
             [
              0.1111111111111111,
              "#46039f"
             ],
             [
              0.2222222222222222,
              "#7201a8"
             ],
             [
              0.3333333333333333,
              "#9c179e"
             ],
             [
              0.4444444444444444,
              "#bd3786"
             ],
             [
              0.5555555555555556,
              "#d8576b"
             ],
             [
              0.6666666666666666,
              "#ed7953"
             ],
             [
              0.7777777777777778,
              "#fb9f3a"
             ],
             [
              0.8888888888888888,
              "#fdca26"
             ],
             [
              1,
              "#f0f921"
             ]
            ],
            "type": "heatmap"
           }
          ],
          "histogram": [
           {
            "marker": {
             "pattern": {
              "fillmode": "overlay",
              "size": 10,
              "solidity": 0.2
             }
            },
            "type": "histogram"
           }
          ],
          "histogram2d": [
           {
            "colorbar": {
             "outlinewidth": 0,
             "ticks": ""
            },
            "colorscale": [
             [
              0,
              "#0d0887"
             ],
             [
              0.1111111111111111,
              "#46039f"
             ],
             [
              0.2222222222222222,
              "#7201a8"
             ],
             [
              0.3333333333333333,
              "#9c179e"
             ],
             [
              0.4444444444444444,
              "#bd3786"
             ],
             [
              0.5555555555555556,
              "#d8576b"
             ],
             [
              0.6666666666666666,
              "#ed7953"
             ],
             [
              0.7777777777777778,
              "#fb9f3a"
             ],
             [
              0.8888888888888888,
              "#fdca26"
             ],
             [
              1,
              "#f0f921"
             ]
            ],
            "type": "histogram2d"
           }
          ],
          "histogram2dcontour": [
           {
            "colorbar": {
             "outlinewidth": 0,
             "ticks": ""
            },
            "colorscale": [
             [
              0,
              "#0d0887"
             ],
             [
              0.1111111111111111,
              "#46039f"
             ],
             [
              0.2222222222222222,
              "#7201a8"
             ],
             [
              0.3333333333333333,
              "#9c179e"
             ],
             [
              0.4444444444444444,
              "#bd3786"
             ],
             [
              0.5555555555555556,
              "#d8576b"
             ],
             [
              0.6666666666666666,
              "#ed7953"
             ],
             [
              0.7777777777777778,
              "#fb9f3a"
             ],
             [
              0.8888888888888888,
              "#fdca26"
             ],
             [
              1,
              "#f0f921"
             ]
            ],
            "type": "histogram2dcontour"
           }
          ],
          "mesh3d": [
           {
            "colorbar": {
             "outlinewidth": 0,
             "ticks": ""
            },
            "type": "mesh3d"
           }
          ],
          "parcoords": [
           {
            "line": {
             "colorbar": {
              "outlinewidth": 0,
              "ticks": ""
             }
            },
            "type": "parcoords"
           }
          ],
          "pie": [
           {
            "automargin": true,
            "type": "pie"
           }
          ],
          "scatter": [
           {
            "fillpattern": {
             "fillmode": "overlay",
             "size": 10,
             "solidity": 0.2
            },
            "type": "scatter"
           }
          ],
          "scatter3d": [
           {
            "line": {
             "colorbar": {
              "outlinewidth": 0,
              "ticks": ""
             }
            },
            "marker": {
             "colorbar": {
              "outlinewidth": 0,
              "ticks": ""
             }
            },
            "type": "scatter3d"
           }
          ],
          "scattercarpet": [
           {
            "marker": {
             "colorbar": {
              "outlinewidth": 0,
              "ticks": ""
             }
            },
            "type": "scattercarpet"
           }
          ],
          "scattergeo": [
           {
            "marker": {
             "colorbar": {
              "outlinewidth": 0,
              "ticks": ""
             }
            },
            "type": "scattergeo"
           }
          ],
          "scattergl": [
           {
            "marker": {
             "colorbar": {
              "outlinewidth": 0,
              "ticks": ""
             }
            },
            "type": "scattergl"
           }
          ],
          "scattermap": [
           {
            "marker": {
             "colorbar": {
              "outlinewidth": 0,
              "ticks": ""
             }
            },
            "type": "scattermap"
           }
          ],
          "scattermapbox": [
           {
            "marker": {
             "colorbar": {
              "outlinewidth": 0,
              "ticks": ""
             }
            },
            "type": "scattermapbox"
           }
          ],
          "scatterpolar": [
           {
            "marker": {
             "colorbar": {
              "outlinewidth": 0,
              "ticks": ""
             }
            },
            "type": "scatterpolar"
           }
          ],
          "scatterpolargl": [
           {
            "marker": {
             "colorbar": {
              "outlinewidth": 0,
              "ticks": ""
             }
            },
            "type": "scatterpolargl"
           }
          ],
          "scatterternary": [
           {
            "marker": {
             "colorbar": {
              "outlinewidth": 0,
              "ticks": ""
             }
            },
            "type": "scatterternary"
           }
          ],
          "surface": [
           {
            "colorbar": {
             "outlinewidth": 0,
             "ticks": ""
            },
            "colorscale": [
             [
              0,
              "#0d0887"
             ],
             [
              0.1111111111111111,
              "#46039f"
             ],
             [
              0.2222222222222222,
              "#7201a8"
             ],
             [
              0.3333333333333333,
              "#9c179e"
             ],
             [
              0.4444444444444444,
              "#bd3786"
             ],
             [
              0.5555555555555556,
              "#d8576b"
             ],
             [
              0.6666666666666666,
              "#ed7953"
             ],
             [
              0.7777777777777778,
              "#fb9f3a"
             ],
             [
              0.8888888888888888,
              "#fdca26"
             ],
             [
              1,
              "#f0f921"
             ]
            ],
            "type": "surface"
           }
          ],
          "table": [
           {
            "cells": {
             "fill": {
              "color": "#EBF0F8"
             },
             "line": {
              "color": "white"
             }
            },
            "header": {
             "fill": {
              "color": "#C8D4E3"
             },
             "line": {
              "color": "white"
             }
            },
            "type": "table"
           }
          ]
         },
         "layout": {
          "annotationdefaults": {
           "arrowcolor": "#2a3f5f",
           "arrowhead": 0,
           "arrowwidth": 1
          },
          "autotypenumbers": "strict",
          "coloraxis": {
           "colorbar": {
            "outlinewidth": 0,
            "ticks": ""
           }
          },
          "colorscale": {
           "diverging": [
            [
             0,
             "#8e0152"
            ],
            [
             0.1,
             "#c51b7d"
            ],
            [
             0.2,
             "#de77ae"
            ],
            [
             0.3,
             "#f1b6da"
            ],
            [
             0.4,
             "#fde0ef"
            ],
            [
             0.5,
             "#f7f7f7"
            ],
            [
             0.6,
             "#e6f5d0"
            ],
            [
             0.7,
             "#b8e186"
            ],
            [
             0.8,
             "#7fbc41"
            ],
            [
             0.9,
             "#4d9221"
            ],
            [
             1,
             "#276419"
            ]
           ],
           "sequential": [
            [
             0,
             "#0d0887"
            ],
            [
             0.1111111111111111,
             "#46039f"
            ],
            [
             0.2222222222222222,
             "#7201a8"
            ],
            [
             0.3333333333333333,
             "#9c179e"
            ],
            [
             0.4444444444444444,
             "#bd3786"
            ],
            [
             0.5555555555555556,
             "#d8576b"
            ],
            [
             0.6666666666666666,
             "#ed7953"
            ],
            [
             0.7777777777777778,
             "#fb9f3a"
            ],
            [
             0.8888888888888888,
             "#fdca26"
            ],
            [
             1,
             "#f0f921"
            ]
           ],
           "sequentialminus": [
            [
             0,
             "#0d0887"
            ],
            [
             0.1111111111111111,
             "#46039f"
            ],
            [
             0.2222222222222222,
             "#7201a8"
            ],
            [
             0.3333333333333333,
             "#9c179e"
            ],
            [
             0.4444444444444444,
             "#bd3786"
            ],
            [
             0.5555555555555556,
             "#d8576b"
            ],
            [
             0.6666666666666666,
             "#ed7953"
            ],
            [
             0.7777777777777778,
             "#fb9f3a"
            ],
            [
             0.8888888888888888,
             "#fdca26"
            ],
            [
             1,
             "#f0f921"
            ]
           ]
          },
          "colorway": [
           "#636efa",
           "#EF553B",
           "#00cc96",
           "#ab63fa",
           "#FFA15A",
           "#19d3f3",
           "#FF6692",
           "#B6E880",
           "#FF97FF",
           "#FECB52"
          ],
          "font": {
           "color": "#2a3f5f"
          },
          "geo": {
           "bgcolor": "white",
           "lakecolor": "white",
           "landcolor": "white",
           "showlakes": true,
           "showland": true,
           "subunitcolor": "#C8D4E3"
          },
          "hoverlabel": {
           "align": "left"
          },
          "hovermode": "closest",
          "mapbox": {
           "style": "light"
          },
          "paper_bgcolor": "white",
          "plot_bgcolor": "white",
          "polar": {
           "angularaxis": {
            "gridcolor": "#EBF0F8",
            "linecolor": "#EBF0F8",
            "ticks": ""
           },
           "bgcolor": "white",
           "radialaxis": {
            "gridcolor": "#EBF0F8",
            "linecolor": "#EBF0F8",
            "ticks": ""
           }
          },
          "scene": {
           "xaxis": {
            "backgroundcolor": "white",
            "gridcolor": "#DFE8F3",
            "gridwidth": 2,
            "linecolor": "#EBF0F8",
            "showbackground": true,
            "ticks": "",
            "zerolinecolor": "#EBF0F8"
           },
           "yaxis": {
            "backgroundcolor": "white",
            "gridcolor": "#DFE8F3",
            "gridwidth": 2,
            "linecolor": "#EBF0F8",
            "showbackground": true,
            "ticks": "",
            "zerolinecolor": "#EBF0F8"
           },
           "zaxis": {
            "backgroundcolor": "white",
            "gridcolor": "#DFE8F3",
            "gridwidth": 2,
            "linecolor": "#EBF0F8",
            "showbackground": true,
            "ticks": "",
            "zerolinecolor": "#EBF0F8"
           }
          },
          "shapedefaults": {
           "line": {
            "color": "#2a3f5f"
           }
          },
          "ternary": {
           "aaxis": {
            "gridcolor": "#DFE8F3",
            "linecolor": "#A2B1C6",
            "ticks": ""
           },
           "baxis": {
            "gridcolor": "#DFE8F3",
            "linecolor": "#A2B1C6",
            "ticks": ""
           },
           "bgcolor": "white",
           "caxis": {
            "gridcolor": "#DFE8F3",
            "linecolor": "#A2B1C6",
            "ticks": ""
           }
          },
          "title": {
           "x": 0.05
          },
          "xaxis": {
           "automargin": true,
           "gridcolor": "#EBF0F8",
           "linecolor": "#EBF0F8",
           "ticks": "",
           "title": {
            "standoff": 15
           },
           "zerolinecolor": "#EBF0F8",
           "zerolinewidth": 2
          },
          "yaxis": {
           "automargin": true,
           "gridcolor": "#EBF0F8",
           "linecolor": "#EBF0F8",
           "ticks": "",
           "title": {
            "standoff": 15
           },
           "zerolinecolor": "#EBF0F8",
           "zerolinewidth": 2
          }
         }
        },
        "title": {
         "text": "مصرف آب در سال 1403",
         "x": 0.5
        },
        "width": 1000,
        "xaxis": {
         "tickangle": 45
        },
        "yaxis": {
         "title": {
          "text": "مصرف آب (متر مکعب)"
         }
        }
       }
      }
     },
     "metadata": {},
     "output_type": "display_data"
    }
   ],
   "source": [
    "# Aggregate consumption by Installation_Year and County for plotting\n",
    "year_county_group = (\n",
    "    df_copy.dropna(subset=[\"year\", \"County\", \"Consumption (m³)\"])\n",
    "    .groupby([\"year\", \"County\"])[\"Consumption (m³)\"]\n",
    "    .sum()\n",
    "    .reset_index()\n",
    ")\n",
    "\n",
    "# Get unique years and counties\n",
    "years = sorted(year_county_group['year'].unique())\n",
    "counties = sorted(year_county_group['County'].unique())\n",
    "\n",
    "# Create and show a separate plot for each year\n",
    "for year in years:\n",
    "    year_data = year_county_group[year_county_group['year'] == year]\n",
    "    \n",
    "    fig = go.Figure()\n",
    "    \n",
    "    for county in counties:\n",
    "        county_data = year_data[year_data['County'] == county]\n",
    "        if not county_data.empty:\n",
    "            fig.add_trace(\n",
    "                go.Bar(\n",
    "                    x=county_data['County'],\n",
    "                    y=county_data['Consumption (m³)'],\n",
    "                    name=county,\n",
    "                    text=county_data['Consumption (m³)'].round(2),\n",
    "                    textposition='outside'\n",
    "                )\n",
    "            )\n",
    "\n",
    "    # Update layout for each plot\n",
    "    fig.update_layout(\n",
    "        height=600,\n",
    "        width=1000,\n",
    "        showlegend=True,\n",
    "        title_text=f\"مصرف آب در سال {year}\",\n",
    "        title_x=0.5,\n",
    "        barmode='group',\n",
    "        template=\"plotly_white\"\n",
    "    )\n",
    "\n",
    "    # Update axes\n",
    "    fig.update_xaxes(tickangle=45)\n",
    "    fig.update_yaxes(title_text=\"مصرف آب (متر مکعب)\")\n",
    "\n",
    "    fig.show()\n"
   ]
  },
  {
   "cell_type": "code",
   "execution_count": 109,
   "id": "a16e4aac",
   "metadata": {},
   "outputs": [
    {
     "data": {
      "application/vnd.microsoft.datawrangler.viewer.v0+json": {
       "columns": [
        {
         "name": "index",
         "rawType": "int64",
         "type": "integer"
        },
        {
         "name": "Subscription Code",
         "rawType": "object",
         "type": "string"
        },
        {
         "name": "Consumption (m³)",
         "rawType": "float64",
         "type": "float"
        }
       ],
       "ref": "d4de5645-2a5c-4555-81aa-6e46e815e95d",
       "rows": [
        [
         "46831",
         "515437",
         "997860.9"
        ],
        [
         "18585",
         "516367",
         "994846.4"
        ],
        [
         "51381",
         "601283",
         "989957.0"
        ],
        [
         "48785",
         "529068",
         "988853.2"
        ],
        [
         "29872",
         "529187",
         "982431.9"
        ],
        [
         "44814",
         "601283",
         "976263.7"
        ],
        [
         "41555",
         "107145",
         "960286.4"
        ],
        [
         "42207",
         "606234",
         "947662.1"
        ],
        [
         "21410",
         "529087",
         "947043.0"
        ],
        [
         "1159",
         "444443",
         "944884.6"
        ]
       ],
       "shape": {
        "columns": 2,
        "rows": 10
       }
      },
      "text/html": [
       "<div>\n",
       "<style scoped>\n",
       "    .dataframe tbody tr th:only-of-type {\n",
       "        vertical-align: middle;\n",
       "    }\n",
       "\n",
       "    .dataframe tbody tr th {\n",
       "        vertical-align: top;\n",
       "    }\n",
       "\n",
       "    .dataframe thead th {\n",
       "        text-align: right;\n",
       "    }\n",
       "</style>\n",
       "<table border=\"1\" class=\"dataframe\">\n",
       "  <thead>\n",
       "    <tr style=\"text-align: right;\">\n",
       "      <th></th>\n",
       "      <th>Subscription Code</th>\n",
       "      <th>Consumption (m³)</th>\n",
       "    </tr>\n",
       "  </thead>\n",
       "  <tbody>\n",
       "    <tr>\n",
       "      <th>46831</th>\n",
       "      <td>515437</td>\n",
       "      <td>997860.9</td>\n",
       "    </tr>\n",
       "    <tr>\n",
       "      <th>18585</th>\n",
       "      <td>516367</td>\n",
       "      <td>994846.4</td>\n",
       "    </tr>\n",
       "    <tr>\n",
       "      <th>51381</th>\n",
       "      <td>601283</td>\n",
       "      <td>989957.0</td>\n",
       "    </tr>\n",
       "    <tr>\n",
       "      <th>48785</th>\n",
       "      <td>529068</td>\n",
       "      <td>988853.2</td>\n",
       "    </tr>\n",
       "    <tr>\n",
       "      <th>29872</th>\n",
       "      <td>529187</td>\n",
       "      <td>982431.9</td>\n",
       "    </tr>\n",
       "    <tr>\n",
       "      <th>44814</th>\n",
       "      <td>601283</td>\n",
       "      <td>976263.7</td>\n",
       "    </tr>\n",
       "    <tr>\n",
       "      <th>41555</th>\n",
       "      <td>107145</td>\n",
       "      <td>960286.4</td>\n",
       "    </tr>\n",
       "    <tr>\n",
       "      <th>42207</th>\n",
       "      <td>606234</td>\n",
       "      <td>947662.1</td>\n",
       "    </tr>\n",
       "    <tr>\n",
       "      <th>21410</th>\n",
       "      <td>529087</td>\n",
       "      <td>947043.0</td>\n",
       "    </tr>\n",
       "    <tr>\n",
       "      <th>1159</th>\n",
       "      <td>444443</td>\n",
       "      <td>944884.6</td>\n",
       "    </tr>\n",
       "  </tbody>\n",
       "</table>\n",
       "</div>"
      ],
      "text/plain": [
       "      Subscription Code  Consumption (m³)\n",
       "46831            515437          997860.9\n",
       "18585            516367          994846.4\n",
       "51381            601283          989957.0\n",
       "48785            529068          988853.2\n",
       "29872            529187          982431.9\n",
       "44814            601283          976263.7\n",
       "41555            107145          960286.4\n",
       "42207            606234          947662.1\n",
       "21410            529087          947043.0\n",
       "1159             444443          944884.6"
      ]
     },
     "execution_count": 109,
     "metadata": {},
     "output_type": "execute_result"
    }
   ],
   "source": [
    "df_copy[['Subscription Code','Consumption (m³)']].sort_values(ascending=False,by='Consumption (m³)').head(10)"
   ]
  },
  {
   "cell_type": "code",
   "execution_count": 112,
   "id": "fe3d64e6",
   "metadata": {},
   "outputs": [
    {
     "data": {
      "application/vnd.microsoft.datawrangler.viewer.v0+json": {
       "columns": [
        {
         "name": "index",
         "rawType": "int64",
         "type": "integer"
        },
        {
         "name": "Subscription Code",
         "rawType": "object",
         "type": "string"
        },
        {
         "name": "License Type",
         "rawType": "object",
         "type": "string"
        },
        {
         "name": "County",
         "rawType": "object",
         "type": "string"
        },
        {
         "name": "Meter Serial",
         "rawType": "float64",
         "type": "float"
        },
        {
         "name": "Meter Size",
         "rawType": "float64",
         "type": "float"
        },
        {
         "name": "Installation Date",
         "rawType": "object",
         "type": "string"
        },
        {
         "name": "Last Connection Time",
         "rawType": "object",
         "type": "string"
        },
        {
         "name": "Consumption in Period (m³)",
         "rawType": "object",
         "type": "unknown"
        },
        {
         "name": "Operating Hours in Period (h)",
         "rawType": "object",
         "type": "unknown"
        },
        {
         "name": "Average Flow Rate in Period (l/s)",
         "rawType": "object",
         "type": "unknown"
        }
       ],
       "ref": "9219c396-7da0-466b-9540-8305baab96e3",
       "rows": [
        [
         "624",
         "606234",
         "کشاورزی",
         "گناباد",
         "909801050828.0",
         "150.0",
         "1402/03/01",
         "1404/01/28 - 03:10:37",
         "0.0",
         "Unknown",
         "Unknown"
        ],
        [
         "635",
         "529068",
         "کشاورزی",
         "مشهد",
         "909801032659.0",
         "150.0",
         "1399/06/17",
         "1404/01/28 - 02:11:28",
         "505102.26",
         "544905.3",
         "17.6"
        ],
        [
         "881",
         "515437",
         "کشاورزی",
         "مشهد",
         "909801041145.0",
         "200.0",
         "1401/03/09",
         "1404/01/28 - 03:10:39",
         "0.0",
         "0.0",
         "Unknown"
        ],
        [
         "1055",
         "601283",
         "کشاورزی",
         "تربت حیدریه",
         "909801033396.0",
         "200.0",
         "1399/09/21",
         "1404/01/28 - 02:07:31",
         "361337.4",
         "1889876.4",
         "17.96"
        ],
        [
         "1095",
         "516367",
         "کشاورزی",
         "مشهد",
         "909801035835.0",
         "150.0",
         "1400/09/01",
         "1404/01/27 - 02:10:46",
         "1265158.9",
         "452205.9",
         "15.33"
        ],
        [
         "1182",
         "444443",
         "Unknown",
         "مشهد",
         "909801032663.0",
         "150.0",
         "1399/06/27",
         "1403/04/23 - 01:22:40",
         "1283890.0",
         "675434.4",
         "11.17"
        ],
        [
         "1439",
         "529187",
         "کشاورزی",
         "مشهد",
         "909801032669.0",
         "150.0",
         "1399/06/15",
         "1404/01/24 - 02:04:23",
         "314410.8",
         "113709.8",
         "30.08"
        ],
        [
         "1734",
         "529087",
         "کشاورزی",
         "مشهد",
         "909801035409.0",
         "200.0",
         "1400/04/09",
         "1404/01/28 - 02:07:21",
         "1470943.9",
         "3039742.5",
         "20.01"
        ],
        [
         "2182",
         "107145",
         "Unknown",
         "سبزوار",
         "909801035274.0",
         "150.0",
         "1400/03/19",
         "1404/01/28 - 02:11:06",
         "1122640.85",
         "889198.7",
         "10.03"
        ]
       ],
       "shape": {
        "columns": 10,
        "rows": 9
       }
      },
      "text/html": [
       "<div>\n",
       "<style scoped>\n",
       "    .dataframe tbody tr th:only-of-type {\n",
       "        vertical-align: middle;\n",
       "    }\n",
       "\n",
       "    .dataframe tbody tr th {\n",
       "        vertical-align: top;\n",
       "    }\n",
       "\n",
       "    .dataframe thead th {\n",
       "        text-align: right;\n",
       "    }\n",
       "</style>\n",
       "<table border=\"1\" class=\"dataframe\">\n",
       "  <thead>\n",
       "    <tr style=\"text-align: right;\">\n",
       "      <th></th>\n",
       "      <th>Subscription Code</th>\n",
       "      <th>License Type</th>\n",
       "      <th>County</th>\n",
       "      <th>Meter Serial</th>\n",
       "      <th>Meter Size</th>\n",
       "      <th>Installation Date</th>\n",
       "      <th>Last Connection Time</th>\n",
       "      <th>Consumption in Period (m³)</th>\n",
       "      <th>Operating Hours in Period (h)</th>\n",
       "      <th>Average Flow Rate in Period (l/s)</th>\n",
       "    </tr>\n",
       "  </thead>\n",
       "  <tbody>\n",
       "    <tr>\n",
       "      <th>624</th>\n",
       "      <td>606234</td>\n",
       "      <td>کشاورزی</td>\n",
       "      <td>گناباد</td>\n",
       "      <td>9.098011e+11</td>\n",
       "      <td>150.0</td>\n",
       "      <td>1402/03/01</td>\n",
       "      <td>1404/01/28 - 03:10:37</td>\n",
       "      <td>0.0</td>\n",
       "      <td>Unknown</td>\n",
       "      <td>Unknown</td>\n",
       "    </tr>\n",
       "    <tr>\n",
       "      <th>635</th>\n",
       "      <td>529068</td>\n",
       "      <td>کشاورزی</td>\n",
       "      <td>مشهد</td>\n",
       "      <td>9.098010e+11</td>\n",
       "      <td>150.0</td>\n",
       "      <td>1399/06/17</td>\n",
       "      <td>1404/01/28 - 02:11:28</td>\n",
       "      <td>505102.26</td>\n",
       "      <td>544905.3</td>\n",
       "      <td>17.6</td>\n",
       "    </tr>\n",
       "    <tr>\n",
       "      <th>881</th>\n",
       "      <td>515437</td>\n",
       "      <td>کشاورزی</td>\n",
       "      <td>مشهد</td>\n",
       "      <td>9.098010e+11</td>\n",
       "      <td>200.0</td>\n",
       "      <td>1401/03/09</td>\n",
       "      <td>1404/01/28 - 03:10:39</td>\n",
       "      <td>0.0</td>\n",
       "      <td>0.0</td>\n",
       "      <td>Unknown</td>\n",
       "    </tr>\n",
       "    <tr>\n",
       "      <th>1055</th>\n",
       "      <td>601283</td>\n",
       "      <td>کشاورزی</td>\n",
       "      <td>تربت حیدریه</td>\n",
       "      <td>9.098010e+11</td>\n",
       "      <td>200.0</td>\n",
       "      <td>1399/09/21</td>\n",
       "      <td>1404/01/28 - 02:07:31</td>\n",
       "      <td>361337.4</td>\n",
       "      <td>1889876.4</td>\n",
       "      <td>17.96</td>\n",
       "    </tr>\n",
       "    <tr>\n",
       "      <th>1095</th>\n",
       "      <td>516367</td>\n",
       "      <td>کشاورزی</td>\n",
       "      <td>مشهد</td>\n",
       "      <td>9.098010e+11</td>\n",
       "      <td>150.0</td>\n",
       "      <td>1400/09/01</td>\n",
       "      <td>1404/01/27 - 02:10:46</td>\n",
       "      <td>1265158.9</td>\n",
       "      <td>452205.9</td>\n",
       "      <td>15.33</td>\n",
       "    </tr>\n",
       "    <tr>\n",
       "      <th>1182</th>\n",
       "      <td>444443</td>\n",
       "      <td>Unknown</td>\n",
       "      <td>مشهد</td>\n",
       "      <td>9.098010e+11</td>\n",
       "      <td>150.0</td>\n",
       "      <td>1399/06/27</td>\n",
       "      <td>1403/04/23 - 01:22:40</td>\n",
       "      <td>1283890.0</td>\n",
       "      <td>675434.4</td>\n",
       "      <td>11.17</td>\n",
       "    </tr>\n",
       "    <tr>\n",
       "      <th>1439</th>\n",
       "      <td>529187</td>\n",
       "      <td>کشاورزی</td>\n",
       "      <td>مشهد</td>\n",
       "      <td>9.098010e+11</td>\n",
       "      <td>150.0</td>\n",
       "      <td>1399/06/15</td>\n",
       "      <td>1404/01/24 - 02:04:23</td>\n",
       "      <td>314410.8</td>\n",
       "      <td>113709.8</td>\n",
       "      <td>30.08</td>\n",
       "    </tr>\n",
       "    <tr>\n",
       "      <th>1734</th>\n",
       "      <td>529087</td>\n",
       "      <td>کشاورزی</td>\n",
       "      <td>مشهد</td>\n",
       "      <td>9.098010e+11</td>\n",
       "      <td>200.0</td>\n",
       "      <td>1400/04/09</td>\n",
       "      <td>1404/01/28 - 02:07:21</td>\n",
       "      <td>1470943.9</td>\n",
       "      <td>3039742.5</td>\n",
       "      <td>20.01</td>\n",
       "    </tr>\n",
       "    <tr>\n",
       "      <th>2182</th>\n",
       "      <td>107145</td>\n",
       "      <td>Unknown</td>\n",
       "      <td>سبزوار</td>\n",
       "      <td>9.098010e+11</td>\n",
       "      <td>150.0</td>\n",
       "      <td>1400/03/19</td>\n",
       "      <td>1404/01/28 - 02:11:06</td>\n",
       "      <td>1122640.85</td>\n",
       "      <td>889198.7</td>\n",
       "      <td>10.03</td>\n",
       "    </tr>\n",
       "  </tbody>\n",
       "</table>\n",
       "</div>"
      ],
      "text/plain": [
       "     Subscription Code License Type       County  Meter Serial  Meter Size  \\\n",
       "624             606234      کشاورزی       گناباد  9.098011e+11       150.0   \n",
       "635             529068      کشاورزی         مشهد  9.098010e+11       150.0   \n",
       "881             515437      کشاورزی         مشهد  9.098010e+11       200.0   \n",
       "1055            601283      کشاورزی  تربت حیدریه  9.098010e+11       200.0   \n",
       "1095            516367      کشاورزی         مشهد  9.098010e+11       150.0   \n",
       "1182            444443      Unknown         مشهد  9.098010e+11       150.0   \n",
       "1439            529187      کشاورزی         مشهد  9.098010e+11       150.0   \n",
       "1734            529087      کشاورزی         مشهد  9.098010e+11       200.0   \n",
       "2182            107145      Unknown       سبزوار  9.098010e+11       150.0   \n",
       "\n",
       "     Installation Date   Last Connection Time Consumption in Period (m³)  \\\n",
       "624         1402/03/01  1404/01/28 - 03:10:37                        0.0   \n",
       "635         1399/06/17  1404/01/28 - 02:11:28                  505102.26   \n",
       "881         1401/03/09  1404/01/28 - 03:10:39                        0.0   \n",
       "1055        1399/09/21  1404/01/28 - 02:07:31                   361337.4   \n",
       "1095        1400/09/01  1404/01/27 - 02:10:46                  1265158.9   \n",
       "1182        1399/06/27  1403/04/23 - 01:22:40                  1283890.0   \n",
       "1439        1399/06/15  1404/01/24 - 02:04:23                   314410.8   \n",
       "1734        1400/04/09  1404/01/28 - 02:07:21                  1470943.9   \n",
       "2182        1400/03/19  1404/01/28 - 02:11:06                 1122640.85   \n",
       "\n",
       "     Operating Hours in Period (h) Average Flow Rate in Period (l/s)  \n",
       "624                        Unknown                           Unknown  \n",
       "635                       544905.3                              17.6  \n",
       "881                            0.0                           Unknown  \n",
       "1055                     1889876.4                             17.96  \n",
       "1095                      452205.9                             15.33  \n",
       "1182                      675434.4                             11.17  \n",
       "1439                      113709.8                             30.08  \n",
       "1734                     3039742.5                             20.01  \n",
       "2182                      889198.7                             10.03  "
      ]
     },
     "execution_count": 112,
     "metadata": {},
     "output_type": "execute_result"
    }
   ],
   "source": [
    "info[info['Subscription Code'].isin(df_copy[['Subscription Code','Consumption (m³)']].sort_values(ascending=False,by='Consumption (m³)').head(10)['Subscription Code']) ]"
   ]
  },
  {
   "cell_type": "code",
   "execution_count": 42,
   "id": "aab063bd",
   "metadata": {},
   "outputs": [],
   "source": [
    "# def plot_correlation_heatmap(df):\n",
    "#         \"\"\"Generates a correlation heatmap for numeric columns.\"\"\"\n",
    "\n",
    "#         numeric_df = df.select_dtypes(include=['int64', 'float64']).copy()\n",
    "\n",
    "#         if numeric_df.empty:\n",
    "#             return None, \"هیچ ستون عددی برای رسم نقشه حرارتی همبستگی وجود ندارد.\"\n",
    "\n",
    "#         numeric_df = numeric_df.loc[:, numeric_df.var().fillna(0) != 0]\n",
    "#         if numeric_df.empty or numeric_df.shape[1] < 2:\n",
    "#              return None, \"پس از حذف ستون‌های با واریانس صفر یا فقط یک مقدار، هیچ ستون عددی کافی برای رسم نقشه حرارتی باقی نماند.\"\n",
    "\n",
    "#         try:\n",
    "#             corr_matrix = numeric_df.corr()\n",
    "#             corr_matrix = corr_matrix.fillna(0)\n",
    "\n",
    "#             fig = ff.create_annotated_heatmap(z=corr_matrix.values,\n",
    "#                                               x=list(corr_matrix.columns),\n",
    "#                                               y=list(corr_matrix.index),\n",
    "#                                               annotation_text=corr_matrix.round(2).values,\n",
    "#                                               showscale=True, colorscale='Viridis')\n",
    "\n",
    "#             fig.update_layout(title='نقشه حرارتی همبستگی',\n",
    "#                               xaxis_showgrid=False,\n",
    "#                               yaxis_showgrid=False,\n",
    "#                               yaxis_autorange='reversed',\n",
    "#                               height=max(400, len(corr_matrix.index) * 40),\n",
    "#                               width=max(600, len(corr_matrix.columns) * 50)\n",
    "#                               )\n",
    "#             fig.show()\n",
    "#             return fig, None\n",
    "#         except Exception as e:\n",
    "#             return None, f\"خطا در رسم نقشه حرارتی همبستگی: {e}\""
   ]
  },
  {
   "cell_type": "code",
   "execution_count": 49,
   "id": "3c70bedd",
   "metadata": {},
   "outputs": [],
   "source": [
    "info_copy = info.copy()\n",
    "info_copy['Installation_Year'] = info['Installation Date'].str.split('/').str[0]\n",
    "info_copy['Installation_Month'] = info['Installation Date'].str.split('/').str[0] + \"/\" + info['Installation Date'].str.split('/').str[1]"
   ]
  },
  {
   "cell_type": "code",
   "execution_count": 50,
   "id": "990e859d",
   "metadata": {},
   "outputs": [
    {
     "data": {
      "text/html": [
       "<div>\n",
       "<style scoped>\n",
       "    .dataframe tbody tr th:only-of-type {\n",
       "        vertical-align: middle;\n",
       "    }\n",
       "\n",
       "    .dataframe tbody tr th {\n",
       "        vertical-align: top;\n",
       "    }\n",
       "\n",
       "    .dataframe thead th {\n",
       "        text-align: right;\n",
       "    }\n",
       "</style>\n",
       "<table border=\"1\" class=\"dataframe\">\n",
       "  <thead>\n",
       "    <tr style=\"text-align: right;\">\n",
       "      <th></th>\n",
       "      <th>Subscription Code</th>\n",
       "      <th>License Type</th>\n",
       "      <th>County</th>\n",
       "      <th>Meter Serial</th>\n",
       "      <th>Meter Size</th>\n",
       "      <th>Installation Date</th>\n",
       "      <th>Last Connection Time</th>\n",
       "      <th>Consumption in Period (m³)</th>\n",
       "      <th>Operating Hours in Period (h)</th>\n",
       "      <th>Average Flow Rate in Period (l/s)</th>\n",
       "      <th>Installation_Year</th>\n",
       "      <th>Installation_Month</th>\n",
       "    </tr>\n",
       "  </thead>\n",
       "  <tbody>\n",
       "    <tr>\n",
       "      <th>0</th>\n",
       "      <td>520009</td>\n",
       "      <td>صنعتی</td>\n",
       "      <td>مشهد</td>\n",
       "      <td>9.098011e+11</td>\n",
       "      <td>50.0</td>\n",
       "      <td>1402/11/15</td>\n",
       "      <td>1404/01/28 - 03:07:28</td>\n",
       "      <td>Unknown</td>\n",
       "      <td>Unknown</td>\n",
       "      <td>Unknown</td>\n",
       "      <td>1402</td>\n",
       "      <td>1402/11</td>\n",
       "    </tr>\n",
       "    <tr>\n",
       "      <th>1</th>\n",
       "      <td>200654</td>\n",
       "      <td>کشاورزی</td>\n",
       "      <td>قوچان</td>\n",
       "      <td>9.098010e+11</td>\n",
       "      <td>80.0</td>\n",
       "      <td>1400/02/12</td>\n",
       "      <td>1404/01/28 - 02:08:15</td>\n",
       "      <td>23879.93</td>\n",
       "      <td>343575.4</td>\n",
       "      <td>1.15</td>\n",
       "      <td>1400</td>\n",
       "      <td>1400/02</td>\n",
       "    </tr>\n",
       "    <tr>\n",
       "      <th>2</th>\n",
       "      <td>622162</td>\n",
       "      <td>کشاورزی</td>\n",
       "      <td>تربت حیدریه</td>\n",
       "      <td>9.098011e+11</td>\n",
       "      <td>50.0</td>\n",
       "      <td>1403/02/27</td>\n",
       "      <td>1403/09/08 - 03:10:09</td>\n",
       "      <td>Unknown</td>\n",
       "      <td>Unknown</td>\n",
       "      <td>Unknown</td>\n",
       "      <td>1403</td>\n",
       "      <td>1403/02</td>\n",
       "    </tr>\n",
       "    <tr>\n",
       "      <th>3</th>\n",
       "      <td>515618</td>\n",
       "      <td>کشاورزی</td>\n",
       "      <td>مشهد</td>\n",
       "      <td>9.098010e+11</td>\n",
       "      <td>125.0</td>\n",
       "      <td>1400/02/30</td>\n",
       "      <td>1404/01/28 - 02:10:25</td>\n",
       "      <td>103922.6</td>\n",
       "      <td>475073.2</td>\n",
       "      <td>6.91</td>\n",
       "      <td>1400</td>\n",
       "      <td>1400/02</td>\n",
       "    </tr>\n",
       "    <tr>\n",
       "      <th>4</th>\n",
       "      <td>529232</td>\n",
       "      <td>کشاورزی</td>\n",
       "      <td>مشهد</td>\n",
       "      <td>9.098010e+11</td>\n",
       "      <td>125.0</td>\n",
       "      <td>1401/06/23</td>\n",
       "      <td>1404/01/28 - 02:11:21</td>\n",
       "      <td>84159.69</td>\n",
       "      <td>68022.1</td>\n",
       "      <td>6.0</td>\n",
       "      <td>1401</td>\n",
       "      <td>1401/06</td>\n",
       "    </tr>\n",
       "  </tbody>\n",
       "</table>\n",
       "</div>"
      ],
      "text/plain": [
       "  Subscription Code License Type       County  Meter Serial  Meter Size  \\\n",
       "0            520009        صنعتی         مشهد  9.098011e+11        50.0   \n",
       "1            200654      کشاورزی        قوچان  9.098010e+11        80.0   \n",
       "2            622162      کشاورزی  تربت حیدریه  9.098011e+11        50.0   \n",
       "3            515618      کشاورزی         مشهد  9.098010e+11       125.0   \n",
       "4            529232      کشاورزی         مشهد  9.098010e+11       125.0   \n",
       "\n",
       "  Installation Date   Last Connection Time Consumption in Period (m³)  \\\n",
       "0        1402/11/15  1404/01/28 - 03:07:28                    Unknown   \n",
       "1        1400/02/12  1404/01/28 - 02:08:15                   23879.93   \n",
       "2        1403/02/27  1403/09/08 - 03:10:09                    Unknown   \n",
       "3        1400/02/30  1404/01/28 - 02:10:25                   103922.6   \n",
       "4        1401/06/23  1404/01/28 - 02:11:21                   84159.69   \n",
       "\n",
       "  Operating Hours in Period (h) Average Flow Rate in Period (l/s)  \\\n",
       "0                       Unknown                           Unknown   \n",
       "1                      343575.4                              1.15   \n",
       "2                       Unknown                           Unknown   \n",
       "3                      475073.2                              6.91   \n",
       "4                       68022.1                               6.0   \n",
       "\n",
       "  Installation_Year Installation_Month  \n",
       "0              1402            1402/11  \n",
       "1              1400            1400/02  \n",
       "2              1403            1403/02  \n",
       "3              1400            1400/02  \n",
       "4              1401            1401/06  "
      ]
     },
     "execution_count": 50,
     "metadata": {},
     "output_type": "execute_result"
    }
   ],
   "source": [
    "info_copy.head()"
   ]
  },
  {
   "cell_type": "code",
   "execution_count": 51,
   "id": "3a6feb2c",
   "metadata": {},
   "outputs": [],
   "source": [
    "info_copy['Meter Size'] = info_copy['Meter Size'].astype(dtype=\"object\")"
   ]
  },
  {
   "cell_type": "code",
   "execution_count": 52,
   "id": "ecbeaec9",
   "metadata": {},
   "outputs": [
    {
     "name": "stdout",
     "output_type": "stream",
     "text": [
      "<class 'pandas.core.frame.DataFrame'>\n",
      "Index: 73404 entries, 0 to 78803\n",
      "Data columns (total 16 columns):\n",
      " #   Column                        Non-Null Count  Dtype  \n",
      "---  ------                        --------------  -----  \n",
      " 0   Subscription Code             73404 non-null  object \n",
      " 1   Flow Rate (l/s)               32917 non-null  float64\n",
      " 2   Number of Negative Flows      73404 non-null  int64  \n",
      " 3   Percentage of Negative Flows  73404 non-null  float64\n",
      " 4   Operating Hours (h)           39473 non-null  float64\n",
      " 5   Consumption (m³)              45117 non-null  float64\n",
      " 6   month                         73404 non-null  object \n",
      " 7   License Type                  73404 non-null  object \n",
      " 8   County                        73404 non-null  object \n",
      " 9   Meter Serial                  73404 non-null  float64\n",
      " 10  Meter Size                    73404 non-null  float64\n",
      " 11  Installation Date             73404 non-null  object \n",
      " 12  Meter Age (Months)            73404 non-null  int64  \n",
      " 13  null_counts                   73404 non-null  int64  \n",
      " 14  neg_cons                      73404 non-null  bool   \n",
      " 15  year                          73404 non-null  int64  \n",
      "dtypes: bool(1), float64(6), int64(4), object(5)\n",
      "memory usage: 9.0+ MB\n"
     ]
    }
   ],
   "source": [
    "df_copy.info()"
   ]
  },
  {
   "cell_type": "code",
   "execution_count": 53,
   "id": "758f57d9",
   "metadata": {},
   "outputs": [
    {
     "data": {
      "text/html": [
       "<div>\n",
       "<style scoped>\n",
       "    .dataframe tbody tr th:only-of-type {\n",
       "        vertical-align: middle;\n",
       "    }\n",
       "\n",
       "    .dataframe tbody tr th {\n",
       "        vertical-align: top;\n",
       "    }\n",
       "\n",
       "    .dataframe thead th {\n",
       "        text-align: right;\n",
       "    }\n",
       "</style>\n",
       "<table border=\"1\" class=\"dataframe\">\n",
       "  <thead>\n",
       "    <tr style=\"text-align: right;\">\n",
       "      <th></th>\n",
       "      <th>Subscription Code</th>\n",
       "      <th>Flow Rate (l/s)</th>\n",
       "      <th>Number of Negative Flows</th>\n",
       "      <th>Percentage of Negative Flows</th>\n",
       "      <th>Operating Hours (h)</th>\n",
       "      <th>Consumption (m³)</th>\n",
       "      <th>month</th>\n",
       "      <th>License Type</th>\n",
       "      <th>County</th>\n",
       "      <th>Meter Serial</th>\n",
       "      <th>Meter Size</th>\n",
       "      <th>Installation Date</th>\n",
       "      <th>Meter Age (Months)</th>\n",
       "      <th>null_counts</th>\n",
       "      <th>neg_cons</th>\n",
       "      <th>year</th>\n",
       "      <th>Installation_Year</th>\n",
       "      <th>Installation_Month</th>\n",
       "    </tr>\n",
       "  </thead>\n",
       "  <tbody>\n",
       "    <tr>\n",
       "      <th>0</th>\n",
       "      <td>520009</td>\n",
       "      <td>NaN</td>\n",
       "      <td>0</td>\n",
       "      <td>0.0</td>\n",
       "      <td>NaN</td>\n",
       "      <td>NaN</td>\n",
       "      <td>1401/01</td>\n",
       "      <td>صنعتی</td>\n",
       "      <td>مشهد</td>\n",
       "      <td>9.098011e+11</td>\n",
       "      <td>50.0</td>\n",
       "      <td>1402/11/15</td>\n",
       "      <td>14</td>\n",
       "      <td>3</td>\n",
       "      <td>False</td>\n",
       "      <td>1401</td>\n",
       "      <td>1402</td>\n",
       "      <td>11</td>\n",
       "    </tr>\n",
       "    <tr>\n",
       "      <th>1</th>\n",
       "      <td>200654</td>\n",
       "      <td>1.38</td>\n",
       "      <td>0</td>\n",
       "      <td>0.0</td>\n",
       "      <td>16492.8</td>\n",
       "      <td>2727.77</td>\n",
       "      <td>1401/01</td>\n",
       "      <td>کشاورزی</td>\n",
       "      <td>قوچان</td>\n",
       "      <td>9.098010e+11</td>\n",
       "      <td>80.0</td>\n",
       "      <td>1400/02/12</td>\n",
       "      <td>47</td>\n",
       "      <td>0</td>\n",
       "      <td>False</td>\n",
       "      <td>1401</td>\n",
       "      <td>1400</td>\n",
       "      <td>02</td>\n",
       "    </tr>\n",
       "    <tr>\n",
       "      <th>2</th>\n",
       "      <td>622162</td>\n",
       "      <td>NaN</td>\n",
       "      <td>0</td>\n",
       "      <td>0.0</td>\n",
       "      <td>NaN</td>\n",
       "      <td>NaN</td>\n",
       "      <td>1401/01</td>\n",
       "      <td>کشاورزی</td>\n",
       "      <td>تربت حیدریه</td>\n",
       "      <td>9.098011e+11</td>\n",
       "      <td>50.0</td>\n",
       "      <td>1403/02/27</td>\n",
       "      <td>11</td>\n",
       "      <td>3</td>\n",
       "      <td>False</td>\n",
       "      <td>1401</td>\n",
       "      <td>1403</td>\n",
       "      <td>02</td>\n",
       "    </tr>\n",
       "    <tr>\n",
       "      <th>3</th>\n",
       "      <td>515618</td>\n",
       "      <td>7.05</td>\n",
       "      <td>0</td>\n",
       "      <td>0.0</td>\n",
       "      <td>29319.6</td>\n",
       "      <td>14647.50</td>\n",
       "      <td>1401/01</td>\n",
       "      <td>کشاورزی</td>\n",
       "      <td>مشهد</td>\n",
       "      <td>9.098010e+11</td>\n",
       "      <td>125.0</td>\n",
       "      <td>1400/02/30</td>\n",
       "      <td>47</td>\n",
       "      <td>0</td>\n",
       "      <td>False</td>\n",
       "      <td>1401</td>\n",
       "      <td>1400</td>\n",
       "      <td>02</td>\n",
       "    </tr>\n",
       "    <tr>\n",
       "      <th>4</th>\n",
       "      <td>529232</td>\n",
       "      <td>NaN</td>\n",
       "      <td>0</td>\n",
       "      <td>0.0</td>\n",
       "      <td>NaN</td>\n",
       "      <td>NaN</td>\n",
       "      <td>1401/01</td>\n",
       "      <td>کشاورزی</td>\n",
       "      <td>مشهد</td>\n",
       "      <td>9.098010e+11</td>\n",
       "      <td>125.0</td>\n",
       "      <td>1401/06/23</td>\n",
       "      <td>31</td>\n",
       "      <td>3</td>\n",
       "      <td>False</td>\n",
       "      <td>1401</td>\n",
       "      <td>1401</td>\n",
       "      <td>06</td>\n",
       "    </tr>\n",
       "  </tbody>\n",
       "</table>\n",
       "</div>"
      ],
      "text/plain": [
       "  Subscription Code  Flow Rate (l/s)  Number of Negative Flows  \\\n",
       "0            520009              NaN                         0   \n",
       "1            200654             1.38                         0   \n",
       "2            622162              NaN                         0   \n",
       "3            515618             7.05                         0   \n",
       "4            529232              NaN                         0   \n",
       "\n",
       "   Percentage of Negative Flows  Operating Hours (h)  Consumption (m³)  \\\n",
       "0                           0.0                  NaN               NaN   \n",
       "1                           0.0              16492.8           2727.77   \n",
       "2                           0.0                  NaN               NaN   \n",
       "3                           0.0              29319.6          14647.50   \n",
       "4                           0.0                  NaN               NaN   \n",
       "\n",
       "     month License Type       County  Meter Serial  Meter Size  \\\n",
       "0  1401/01        صنعتی         مشهد  9.098011e+11        50.0   \n",
       "1  1401/01      کشاورزی        قوچان  9.098010e+11        80.0   \n",
       "2  1401/01      کشاورزی  تربت حیدریه  9.098011e+11        50.0   \n",
       "3  1401/01      کشاورزی         مشهد  9.098010e+11       125.0   \n",
       "4  1401/01      کشاورزی         مشهد  9.098010e+11       125.0   \n",
       "\n",
       "  Installation Date  Meter Age (Months)  null_counts  neg_cons  year  \\\n",
       "0        1402/11/15                  14            3     False  1401   \n",
       "1        1400/02/12                  47            0     False  1401   \n",
       "2        1403/02/27                  11            3     False  1401   \n",
       "3        1400/02/30                  47            0     False  1401   \n",
       "4        1401/06/23                  31            3     False  1401   \n",
       "\n",
       "  Installation_Year Installation_Month  \n",
       "0              1402                 11  \n",
       "1              1400                 02  \n",
       "2              1403                 02  \n",
       "3              1400                 02  \n",
       "4              1401                 06  "
      ]
     },
     "execution_count": 53,
     "metadata": {},
     "output_type": "execute_result"
    }
   ],
   "source": [
    "df_copy = df_copy.copy()\n",
    "df_copy['Installation_Year'] = df_copy['Installation Date'].str.split('/').str[0]\n",
    "df_copy['Installation_Month'] = df_copy['Installation Date'].str.split('/').str[1]\n",
    "df_copy.head()\n"
   ]
  },
  {
   "cell_type": "code",
   "execution_count": 54,
   "id": "ffaa875f",
   "metadata": {},
   "outputs": [],
   "source": [
    "df_copy = df_copy[df_copy['Consumption (m³)'] >= 0]"
   ]
  },
  {
   "cell_type": "code",
   "execution_count": 55,
   "id": "9c8a5191",
   "metadata": {},
   "outputs": [
    {
     "data": {
      "text/plain": [
       "41718"
      ]
     },
     "execution_count": 55,
     "metadata": {},
     "output_type": "execute_result"
    }
   ],
   "source": [
    "len(df_copy)"
   ]
  },
  {
   "cell_type": "code",
   "execution_count": 56,
   "id": "9a4e9347",
   "metadata": {},
   "outputs": [],
   "source": [
    "df_copy = df_copy[df_copy['Consumption (m³)'] < 1000000]"
   ]
  },
  {
   "cell_type": "code",
   "execution_count": 57,
   "id": "c36d0916",
   "metadata": {},
   "outputs": [
    {
     "data": {
      "text/plain": [
       "41539"
      ]
     },
     "execution_count": 57,
     "metadata": {},
     "output_type": "execute_result"
    }
   ],
   "source": [
    "len(df_copy)"
   ]
  },
  {
   "cell_type": "markdown",
   "id": "2c5d2794",
   "metadata": {},
   "source": [
    "با توجه به بررسی های انجام شده، با حذف دیتا های با مصرف بیشتر از 1 میلیون متر مکعب، 179 داده از ماه های مختلف در بررسی ها در نظر گرفته نخواهد شد و از مجموعه داده حذف شد"
   ]
  },
  {
   "cell_type": "code",
   "execution_count": 58,
   "id": "aff983cb",
   "metadata": {},
   "outputs": [
    {
     "data": {
      "text/html": [
       "<div>\n",
       "<style scoped>\n",
       "    .dataframe tbody tr th:only-of-type {\n",
       "        vertical-align: middle;\n",
       "    }\n",
       "\n",
       "    .dataframe tbody tr th {\n",
       "        vertical-align: top;\n",
       "    }\n",
       "\n",
       "    .dataframe thead th {\n",
       "        text-align: right;\n",
       "    }\n",
       "</style>\n",
       "<table border=\"1\" class=\"dataframe\">\n",
       "  <thead>\n",
       "    <tr style=\"text-align: right;\">\n",
       "      <th></th>\n",
       "      <th>Subscription Code</th>\n",
       "      <th>Flow Rate (l/s)</th>\n",
       "      <th>Number of Negative Flows</th>\n",
       "      <th>Percentage of Negative Flows</th>\n",
       "      <th>Operating Hours (h)</th>\n",
       "      <th>Consumption (m³)</th>\n",
       "      <th>month</th>\n",
       "      <th>License Type</th>\n",
       "      <th>County</th>\n",
       "      <th>Meter Serial</th>\n",
       "      <th>Meter Size</th>\n",
       "      <th>Installation Date</th>\n",
       "      <th>Meter Age (Months)</th>\n",
       "      <th>null_counts</th>\n",
       "      <th>neg_cons</th>\n",
       "      <th>year</th>\n",
       "      <th>Installation_Year</th>\n",
       "      <th>Installation_Month</th>\n",
       "    </tr>\n",
       "  </thead>\n",
       "  <tbody>\n",
       "    <tr>\n",
       "      <th>1</th>\n",
       "      <td>200654</td>\n",
       "      <td>1.38</td>\n",
       "      <td>0</td>\n",
       "      <td>0.0</td>\n",
       "      <td>16492.8</td>\n",
       "      <td>2727.770</td>\n",
       "      <td>1401/01</td>\n",
       "      <td>کشاورزی</td>\n",
       "      <td>قوچان</td>\n",
       "      <td>9.098010e+11</td>\n",
       "      <td>80.0</td>\n",
       "      <td>1400/02/12</td>\n",
       "      <td>47</td>\n",
       "      <td>0</td>\n",
       "      <td>False</td>\n",
       "      <td>1401</td>\n",
       "      <td>1400</td>\n",
       "      <td>02</td>\n",
       "    </tr>\n",
       "    <tr>\n",
       "      <th>3</th>\n",
       "      <td>515618</td>\n",
       "      <td>7.05</td>\n",
       "      <td>0</td>\n",
       "      <td>0.0</td>\n",
       "      <td>29319.6</td>\n",
       "      <td>14647.500</td>\n",
       "      <td>1401/01</td>\n",
       "      <td>کشاورزی</td>\n",
       "      <td>مشهد</td>\n",
       "      <td>9.098010e+11</td>\n",
       "      <td>125.0</td>\n",
       "      <td>1400/02/30</td>\n",
       "      <td>47</td>\n",
       "      <td>0</td>\n",
       "      <td>False</td>\n",
       "      <td>1401</td>\n",
       "      <td>1400</td>\n",
       "      <td>02</td>\n",
       "    </tr>\n",
       "    <tr>\n",
       "      <th>6</th>\n",
       "      <td>805816</td>\n",
       "      <td>3.06</td>\n",
       "      <td>0</td>\n",
       "      <td>0.0</td>\n",
       "      <td>10209.3</td>\n",
       "      <td>597.709</td>\n",
       "      <td>1401/01</td>\n",
       "      <td>خدمات</td>\n",
       "      <td>نیشابور</td>\n",
       "      <td>9.098010e+11</td>\n",
       "      <td>50.0</td>\n",
       "      <td>1400/02/06</td>\n",
       "      <td>47</td>\n",
       "      <td>0</td>\n",
       "      <td>False</td>\n",
       "      <td>1401</td>\n",
       "      <td>1400</td>\n",
       "      <td>02</td>\n",
       "    </tr>\n",
       "    <tr>\n",
       "      <th>7</th>\n",
       "      <td>603182</td>\n",
       "      <td>NaN</td>\n",
       "      <td>0</td>\n",
       "      <td>0.0</td>\n",
       "      <td>NaN</td>\n",
       "      <td>0.000</td>\n",
       "      <td>1401/01</td>\n",
       "      <td>Unknown</td>\n",
       "      <td>تربت حیدریه</td>\n",
       "      <td>9.098010e+11</td>\n",
       "      <td>50.0</td>\n",
       "      <td>1402/11/23</td>\n",
       "      <td>14</td>\n",
       "      <td>2</td>\n",
       "      <td>False</td>\n",
       "      <td>1401</td>\n",
       "      <td>1402</td>\n",
       "      <td>11</td>\n",
       "    </tr>\n",
       "    <tr>\n",
       "      <th>10</th>\n",
       "      <td>517963</td>\n",
       "      <td>17.72</td>\n",
       "      <td>0</td>\n",
       "      <td>0.0</td>\n",
       "      <td>126871.1</td>\n",
       "      <td>39863.500</td>\n",
       "      <td>1401/01</td>\n",
       "      <td>کشاورزی</td>\n",
       "      <td>مشهد</td>\n",
       "      <td>9.098010e+11</td>\n",
       "      <td>200.0</td>\n",
       "      <td>1400/04/02</td>\n",
       "      <td>45</td>\n",
       "      <td>0</td>\n",
       "      <td>False</td>\n",
       "      <td>1401</td>\n",
       "      <td>1400</td>\n",
       "      <td>04</td>\n",
       "    </tr>\n",
       "    <tr>\n",
       "      <th>...</th>\n",
       "      <td>...</td>\n",
       "      <td>...</td>\n",
       "      <td>...</td>\n",
       "      <td>...</td>\n",
       "      <td>...</td>\n",
       "      <td>...</td>\n",
       "      <td>...</td>\n",
       "      <td>...</td>\n",
       "      <td>...</td>\n",
       "      <td>...</td>\n",
       "      <td>...</td>\n",
       "      <td>...</td>\n",
       "      <td>...</td>\n",
       "      <td>...</td>\n",
       "      <td>...</td>\n",
       "      <td>...</td>\n",
       "      <td>...</td>\n",
       "      <td>...</td>\n",
       "    </tr>\n",
       "    <tr>\n",
       "      <th>78797</th>\n",
       "      <td>516081</td>\n",
       "      <td>2.33</td>\n",
       "      <td>0</td>\n",
       "      <td>0.0</td>\n",
       "      <td>12.9</td>\n",
       "      <td>137.000</td>\n",
       "      <td>1403/12</td>\n",
       "      <td>کشاورزی</td>\n",
       "      <td>مشهد</td>\n",
       "      <td>9.098010e+11</td>\n",
       "      <td>150.0</td>\n",
       "      <td>1401/12/18</td>\n",
       "      <td>25</td>\n",
       "      <td>0</td>\n",
       "      <td>False</td>\n",
       "      <td>1403</td>\n",
       "      <td>1401</td>\n",
       "      <td>12</td>\n",
       "    </tr>\n",
       "    <tr>\n",
       "      <th>78798</th>\n",
       "      <td>514250</td>\n",
       "      <td>11.36</td>\n",
       "      <td>0</td>\n",
       "      <td>0.0</td>\n",
       "      <td>58.1</td>\n",
       "      <td>2652.420</td>\n",
       "      <td>1403/12</td>\n",
       "      <td>کشاورزی</td>\n",
       "      <td>مشهد</td>\n",
       "      <td>9.098010e+11</td>\n",
       "      <td>100.0</td>\n",
       "      <td>1400/09/17</td>\n",
       "      <td>40</td>\n",
       "      <td>0</td>\n",
       "      <td>False</td>\n",
       "      <td>1403</td>\n",
       "      <td>1400</td>\n",
       "      <td>09</td>\n",
       "    </tr>\n",
       "    <tr>\n",
       "      <th>78800</th>\n",
       "      <td>518473</td>\n",
       "      <td>5.44</td>\n",
       "      <td>0</td>\n",
       "      <td>0.0</td>\n",
       "      <td>9.8</td>\n",
       "      <td>177.140</td>\n",
       "      <td>1403/12</td>\n",
       "      <td>کشاورزی</td>\n",
       "      <td>مشهد</td>\n",
       "      <td>9.098010e+11</td>\n",
       "      <td>100.0</td>\n",
       "      <td>1399/06/03</td>\n",
       "      <td>55</td>\n",
       "      <td>0</td>\n",
       "      <td>False</td>\n",
       "      <td>1403</td>\n",
       "      <td>1399</td>\n",
       "      <td>06</td>\n",
       "    </tr>\n",
       "    <tr>\n",
       "      <th>78801</th>\n",
       "      <td>201250</td>\n",
       "      <td>NaN</td>\n",
       "      <td>0</td>\n",
       "      <td>0.0</td>\n",
       "      <td>0.0</td>\n",
       "      <td>0.000</td>\n",
       "      <td>1403/12</td>\n",
       "      <td>Unknown</td>\n",
       "      <td>قوچان</td>\n",
       "      <td>9.098010e+11</td>\n",
       "      <td>50.0</td>\n",
       "      <td>1399/07/07</td>\n",
       "      <td>54</td>\n",
       "      <td>1</td>\n",
       "      <td>False</td>\n",
       "      <td>1403</td>\n",
       "      <td>1399</td>\n",
       "      <td>07</td>\n",
       "    </tr>\n",
       "    <tr>\n",
       "      <th>78803</th>\n",
       "      <td>102290</td>\n",
       "      <td>32.17</td>\n",
       "      <td>0</td>\n",
       "      <td>0.0</td>\n",
       "      <td>5.1</td>\n",
       "      <td>552.700</td>\n",
       "      <td>1403/12</td>\n",
       "      <td>Unknown</td>\n",
       "      <td>سبزوار</td>\n",
       "      <td>9.098011e+11</td>\n",
       "      <td>150.0</td>\n",
       "      <td>1402/12/15</td>\n",
       "      <td>13</td>\n",
       "      <td>0</td>\n",
       "      <td>False</td>\n",
       "      <td>1403</td>\n",
       "      <td>1402</td>\n",
       "      <td>12</td>\n",
       "    </tr>\n",
       "  </tbody>\n",
       "</table>\n",
       "<p>41539 rows × 18 columns</p>\n",
       "</div>"
      ],
      "text/plain": [
       "      Subscription Code  Flow Rate (l/s)  Number of Negative Flows  \\\n",
       "1                200654             1.38                         0   \n",
       "3                515618             7.05                         0   \n",
       "6                805816             3.06                         0   \n",
       "7                603182              NaN                         0   \n",
       "10               517963            17.72                         0   \n",
       "...                 ...              ...                       ...   \n",
       "78797            516081             2.33                         0   \n",
       "78798            514250            11.36                         0   \n",
       "78800            518473             5.44                         0   \n",
       "78801            201250              NaN                         0   \n",
       "78803            102290            32.17                         0   \n",
       "\n",
       "       Percentage of Negative Flows  Operating Hours (h)  Consumption (m³)  \\\n",
       "1                               0.0              16492.8          2727.770   \n",
       "3                               0.0              29319.6         14647.500   \n",
       "6                               0.0              10209.3           597.709   \n",
       "7                               0.0                  NaN             0.000   \n",
       "10                              0.0             126871.1         39863.500   \n",
       "...                             ...                  ...               ...   \n",
       "78797                           0.0                 12.9           137.000   \n",
       "78798                           0.0                 58.1          2652.420   \n",
       "78800                           0.0                  9.8           177.140   \n",
       "78801                           0.0                  0.0             0.000   \n",
       "78803                           0.0                  5.1           552.700   \n",
       "\n",
       "         month License Type       County  Meter Serial  Meter Size  \\\n",
       "1      1401/01      کشاورزی        قوچان  9.098010e+11        80.0   \n",
       "3      1401/01      کشاورزی         مشهد  9.098010e+11       125.0   \n",
       "6      1401/01        خدمات      نیشابور  9.098010e+11        50.0   \n",
       "7      1401/01      Unknown  تربت حیدریه  9.098010e+11        50.0   \n",
       "10     1401/01      کشاورزی         مشهد  9.098010e+11       200.0   \n",
       "...        ...          ...          ...           ...         ...   \n",
       "78797  1403/12      کشاورزی         مشهد  9.098010e+11       150.0   \n",
       "78798  1403/12      کشاورزی         مشهد  9.098010e+11       100.0   \n",
       "78800  1403/12      کشاورزی         مشهد  9.098010e+11       100.0   \n",
       "78801  1403/12      Unknown        قوچان  9.098010e+11        50.0   \n",
       "78803  1403/12      Unknown       سبزوار  9.098011e+11       150.0   \n",
       "\n",
       "      Installation Date  Meter Age (Months)  null_counts  neg_cons  year  \\\n",
       "1            1400/02/12                  47            0     False  1401   \n",
       "3            1400/02/30                  47            0     False  1401   \n",
       "6            1400/02/06                  47            0     False  1401   \n",
       "7            1402/11/23                  14            2     False  1401   \n",
       "10           1400/04/02                  45            0     False  1401   \n",
       "...                 ...                 ...          ...       ...   ...   \n",
       "78797        1401/12/18                  25            0     False  1403   \n",
       "78798        1400/09/17                  40            0     False  1403   \n",
       "78800        1399/06/03                  55            0     False  1403   \n",
       "78801        1399/07/07                  54            1     False  1403   \n",
       "78803        1402/12/15                  13            0     False  1403   \n",
       "\n",
       "      Installation_Year Installation_Month  \n",
       "1                  1400                 02  \n",
       "3                  1400                 02  \n",
       "6                  1400                 02  \n",
       "7                  1402                 11  \n",
       "10                 1400                 04  \n",
       "...                 ...                ...  \n",
       "78797              1401                 12  \n",
       "78798              1400                 09  \n",
       "78800              1399                 06  \n",
       "78801              1399                 07  \n",
       "78803              1402                 12  \n",
       "\n",
       "[41539 rows x 18 columns]"
      ]
     },
     "execution_count": 58,
     "metadata": {},
     "output_type": "execute_result"
    }
   ],
   "source": [
    "df_copy"
   ]
  },
  {
   "cell_type": "code",
   "execution_count": 59,
   "id": "9bbf02bf",
   "metadata": {},
   "outputs": [
    {
     "name": "stdout",
     "output_type": "stream",
     "text": [
      "<class 'pandas.core.frame.DataFrame'>\n",
      "Index: 41539 entries, 1 to 78803\n",
      "Data columns (total 18 columns):\n",
      " #   Column                        Non-Null Count  Dtype  \n",
      "---  ------                        --------------  -----  \n",
      " 0   Subscription Code             41539 non-null  object \n",
      " 1   Flow Rate (l/s)               32117 non-null  float64\n",
      " 2   Number of Negative Flows      41539 non-null  int64  \n",
      " 3   Percentage of Negative Flows  41539 non-null  float64\n",
      " 4   Operating Hours (h)           35666 non-null  float64\n",
      " 5   Consumption (m³)              41539 non-null  float64\n",
      " 6   month                         41539 non-null  object \n",
      " 7   License Type                  41539 non-null  object \n",
      " 8   County                        41539 non-null  object \n",
      " 9   Meter Serial                  41539 non-null  float64\n",
      " 10  Meter Size                    41539 non-null  float64\n",
      " 11  Installation Date             41539 non-null  object \n",
      " 12  Meter Age (Months)            41539 non-null  int64  \n",
      " 13  null_counts                   41539 non-null  int64  \n",
      " 14  neg_cons                      41539 non-null  bool   \n",
      " 15  year                          41539 non-null  int64  \n",
      " 16  Installation_Year             41539 non-null  object \n",
      " 17  Installation_Month            41539 non-null  object \n",
      "dtypes: bool(1), float64(6), int64(4), object(7)\n",
      "memory usage: 5.7+ MB\n"
     ]
    }
   ],
   "source": [
    "df_copy.info()"
   ]
  },
  {
   "cell_type": "code",
   "execution_count": 60,
   "id": "e0b98e45",
   "metadata": {},
   "outputs": [],
   "source": [
    "farmers = df_copy[df_copy['License Type'] == 'کشاورزی']"
   ]
  },
  {
   "cell_type": "code",
   "execution_count": 61,
   "id": "c2e7a122",
   "metadata": {},
   "outputs": [
    {
     "data": {
      "text/html": [
       "<div>\n",
       "<style scoped>\n",
       "    .dataframe tbody tr th:only-of-type {\n",
       "        vertical-align: middle;\n",
       "    }\n",
       "\n",
       "    .dataframe tbody tr th {\n",
       "        vertical-align: top;\n",
       "    }\n",
       "\n",
       "    .dataframe thead th {\n",
       "        text-align: right;\n",
       "    }\n",
       "</style>\n",
       "<table border=\"1\" class=\"dataframe\">\n",
       "  <thead>\n",
       "    <tr style=\"text-align: right;\">\n",
       "      <th></th>\n",
       "      <th>Subscription Code</th>\n",
       "      <th>Flow Rate (l/s)</th>\n",
       "      <th>Number of Negative Flows</th>\n",
       "      <th>Percentage of Negative Flows</th>\n",
       "      <th>Operating Hours (h)</th>\n",
       "      <th>Consumption (m³)</th>\n",
       "      <th>month</th>\n",
       "      <th>License Type</th>\n",
       "      <th>County</th>\n",
       "      <th>Meter Serial</th>\n",
       "      <th>Meter Size</th>\n",
       "      <th>Installation Date</th>\n",
       "      <th>Meter Age (Months)</th>\n",
       "      <th>null_counts</th>\n",
       "      <th>neg_cons</th>\n",
       "      <th>year</th>\n",
       "      <th>Installation_Year</th>\n",
       "      <th>Installation_Month</th>\n",
       "    </tr>\n",
       "  </thead>\n",
       "  <tbody>\n",
       "    <tr>\n",
       "      <th>1</th>\n",
       "      <td>200654</td>\n",
       "      <td>1.38</td>\n",
       "      <td>0</td>\n",
       "      <td>0.0</td>\n",
       "      <td>16492.8</td>\n",
       "      <td>2727.77</td>\n",
       "      <td>1401/01</td>\n",
       "      <td>کشاورزی</td>\n",
       "      <td>قوچان</td>\n",
       "      <td>9.098010e+11</td>\n",
       "      <td>80.0</td>\n",
       "      <td>1400/02/12</td>\n",
       "      <td>47</td>\n",
       "      <td>0</td>\n",
       "      <td>False</td>\n",
       "      <td>1401</td>\n",
       "      <td>1400</td>\n",
       "      <td>02</td>\n",
       "    </tr>\n",
       "    <tr>\n",
       "      <th>3</th>\n",
       "      <td>515618</td>\n",
       "      <td>7.05</td>\n",
       "      <td>0</td>\n",
       "      <td>0.0</td>\n",
       "      <td>29319.6</td>\n",
       "      <td>14647.50</td>\n",
       "      <td>1401/01</td>\n",
       "      <td>کشاورزی</td>\n",
       "      <td>مشهد</td>\n",
       "      <td>9.098010e+11</td>\n",
       "      <td>125.0</td>\n",
       "      <td>1400/02/30</td>\n",
       "      <td>47</td>\n",
       "      <td>0</td>\n",
       "      <td>False</td>\n",
       "      <td>1401</td>\n",
       "      <td>1400</td>\n",
       "      <td>02</td>\n",
       "    </tr>\n",
       "    <tr>\n",
       "      <th>10</th>\n",
       "      <td>517963</td>\n",
       "      <td>17.72</td>\n",
       "      <td>0</td>\n",
       "      <td>0.0</td>\n",
       "      <td>126871.1</td>\n",
       "      <td>39863.50</td>\n",
       "      <td>1401/01</td>\n",
       "      <td>کشاورزی</td>\n",
       "      <td>مشهد</td>\n",
       "      <td>9.098010e+11</td>\n",
       "      <td>200.0</td>\n",
       "      <td>1400/04/02</td>\n",
       "      <td>45</td>\n",
       "      <td>0</td>\n",
       "      <td>False</td>\n",
       "      <td>1401</td>\n",
       "      <td>1400</td>\n",
       "      <td>04</td>\n",
       "    </tr>\n",
       "    <tr>\n",
       "      <th>13</th>\n",
       "      <td>514600</td>\n",
       "      <td>1.45</td>\n",
       "      <td>0</td>\n",
       "      <td>0.0</td>\n",
       "      <td>17566.0</td>\n",
       "      <td>3758.31</td>\n",
       "      <td>1401/01</td>\n",
       "      <td>کشاورزی</td>\n",
       "      <td>مشهد</td>\n",
       "      <td>9.098010e+11</td>\n",
       "      <td>100.0</td>\n",
       "      <td>1400/08/12</td>\n",
       "      <td>41</td>\n",
       "      <td>0</td>\n",
       "      <td>False</td>\n",
       "      <td>1401</td>\n",
       "      <td>1400</td>\n",
       "      <td>08</td>\n",
       "    </tr>\n",
       "    <tr>\n",
       "      <th>17</th>\n",
       "      <td>529338</td>\n",
       "      <td>19.70</td>\n",
       "      <td>0</td>\n",
       "      <td>0.0</td>\n",
       "      <td>53641.3</td>\n",
       "      <td>39231.70</td>\n",
       "      <td>1401/01</td>\n",
       "      <td>کشاورزی</td>\n",
       "      <td>مشهد</td>\n",
       "      <td>9.098010e+11</td>\n",
       "      <td>150.0</td>\n",
       "      <td>1400/03/30</td>\n",
       "      <td>46</td>\n",
       "      <td>0</td>\n",
       "      <td>False</td>\n",
       "      <td>1401</td>\n",
       "      <td>1400</td>\n",
       "      <td>03</td>\n",
       "    </tr>\n",
       "    <tr>\n",
       "      <th>...</th>\n",
       "      <td>...</td>\n",
       "      <td>...</td>\n",
       "      <td>...</td>\n",
       "      <td>...</td>\n",
       "      <td>...</td>\n",
       "      <td>...</td>\n",
       "      <td>...</td>\n",
       "      <td>...</td>\n",
       "      <td>...</td>\n",
       "      <td>...</td>\n",
       "      <td>...</td>\n",
       "      <td>...</td>\n",
       "      <td>...</td>\n",
       "      <td>...</td>\n",
       "      <td>...</td>\n",
       "      <td>...</td>\n",
       "      <td>...</td>\n",
       "      <td>...</td>\n",
       "    </tr>\n",
       "    <tr>\n",
       "      <th>78794</th>\n",
       "      <td>515637</td>\n",
       "      <td>6.63</td>\n",
       "      <td>0</td>\n",
       "      <td>0.0</td>\n",
       "      <td>501.7</td>\n",
       "      <td>11348.60</td>\n",
       "      <td>1403/12</td>\n",
       "      <td>کشاورزی</td>\n",
       "      <td>مشهد</td>\n",
       "      <td>9.098010e+11</td>\n",
       "      <td>100.0</td>\n",
       "      <td>1399/10/11</td>\n",
       "      <td>51</td>\n",
       "      <td>0</td>\n",
       "      <td>False</td>\n",
       "      <td>1403</td>\n",
       "      <td>1399</td>\n",
       "      <td>10</td>\n",
       "    </tr>\n",
       "    <tr>\n",
       "      <th>78795</th>\n",
       "      <td>100106</td>\n",
       "      <td>6.42</td>\n",
       "      <td>0</td>\n",
       "      <td>0.0</td>\n",
       "      <td>499.9</td>\n",
       "      <td>11830.15</td>\n",
       "      <td>1403/12</td>\n",
       "      <td>کشاورزی</td>\n",
       "      <td>سبزوار</td>\n",
       "      <td>9.098011e+11</td>\n",
       "      <td>100.0</td>\n",
       "      <td>1403/04/11</td>\n",
       "      <td>9</td>\n",
       "      <td>0</td>\n",
       "      <td>False</td>\n",
       "      <td>1403</td>\n",
       "      <td>1403</td>\n",
       "      <td>04</td>\n",
       "    </tr>\n",
       "    <tr>\n",
       "      <th>78797</th>\n",
       "      <td>516081</td>\n",
       "      <td>2.33</td>\n",
       "      <td>0</td>\n",
       "      <td>0.0</td>\n",
       "      <td>12.9</td>\n",
       "      <td>137.00</td>\n",
       "      <td>1403/12</td>\n",
       "      <td>کشاورزی</td>\n",
       "      <td>مشهد</td>\n",
       "      <td>9.098010e+11</td>\n",
       "      <td>150.0</td>\n",
       "      <td>1401/12/18</td>\n",
       "      <td>25</td>\n",
       "      <td>0</td>\n",
       "      <td>False</td>\n",
       "      <td>1403</td>\n",
       "      <td>1401</td>\n",
       "      <td>12</td>\n",
       "    </tr>\n",
       "    <tr>\n",
       "      <th>78798</th>\n",
       "      <td>514250</td>\n",
       "      <td>11.36</td>\n",
       "      <td>0</td>\n",
       "      <td>0.0</td>\n",
       "      <td>58.1</td>\n",
       "      <td>2652.42</td>\n",
       "      <td>1403/12</td>\n",
       "      <td>کشاورزی</td>\n",
       "      <td>مشهد</td>\n",
       "      <td>9.098010e+11</td>\n",
       "      <td>100.0</td>\n",
       "      <td>1400/09/17</td>\n",
       "      <td>40</td>\n",
       "      <td>0</td>\n",
       "      <td>False</td>\n",
       "      <td>1403</td>\n",
       "      <td>1400</td>\n",
       "      <td>09</td>\n",
       "    </tr>\n",
       "    <tr>\n",
       "      <th>78800</th>\n",
       "      <td>518473</td>\n",
       "      <td>5.44</td>\n",
       "      <td>0</td>\n",
       "      <td>0.0</td>\n",
       "      <td>9.8</td>\n",
       "      <td>177.14</td>\n",
       "      <td>1403/12</td>\n",
       "      <td>کشاورزی</td>\n",
       "      <td>مشهد</td>\n",
       "      <td>9.098010e+11</td>\n",
       "      <td>100.0</td>\n",
       "      <td>1399/06/03</td>\n",
       "      <td>55</td>\n",
       "      <td>0</td>\n",
       "      <td>False</td>\n",
       "      <td>1403</td>\n",
       "      <td>1399</td>\n",
       "      <td>06</td>\n",
       "    </tr>\n",
       "  </tbody>\n",
       "</table>\n",
       "<p>23266 rows × 18 columns</p>\n",
       "</div>"
      ],
      "text/plain": [
       "      Subscription Code  Flow Rate (l/s)  Number of Negative Flows  \\\n",
       "1                200654             1.38                         0   \n",
       "3                515618             7.05                         0   \n",
       "10               517963            17.72                         0   \n",
       "13               514600             1.45                         0   \n",
       "17               529338            19.70                         0   \n",
       "...                 ...              ...                       ...   \n",
       "78794            515637             6.63                         0   \n",
       "78795            100106             6.42                         0   \n",
       "78797            516081             2.33                         0   \n",
       "78798            514250            11.36                         0   \n",
       "78800            518473             5.44                         0   \n",
       "\n",
       "       Percentage of Negative Flows  Operating Hours (h)  Consumption (m³)  \\\n",
       "1                               0.0              16492.8           2727.77   \n",
       "3                               0.0              29319.6          14647.50   \n",
       "10                              0.0             126871.1          39863.50   \n",
       "13                              0.0              17566.0           3758.31   \n",
       "17                              0.0              53641.3          39231.70   \n",
       "...                             ...                  ...               ...   \n",
       "78794                           0.0                501.7          11348.60   \n",
       "78795                           0.0                499.9          11830.15   \n",
       "78797                           0.0                 12.9            137.00   \n",
       "78798                           0.0                 58.1           2652.42   \n",
       "78800                           0.0                  9.8            177.14   \n",
       "\n",
       "         month License Type  County  Meter Serial  Meter Size  \\\n",
       "1      1401/01      کشاورزی   قوچان  9.098010e+11        80.0   \n",
       "3      1401/01      کشاورزی    مشهد  9.098010e+11       125.0   \n",
       "10     1401/01      کشاورزی    مشهد  9.098010e+11       200.0   \n",
       "13     1401/01      کشاورزی    مشهد  9.098010e+11       100.0   \n",
       "17     1401/01      کشاورزی    مشهد  9.098010e+11       150.0   \n",
       "...        ...          ...     ...           ...         ...   \n",
       "78794  1403/12      کشاورزی    مشهد  9.098010e+11       100.0   \n",
       "78795  1403/12      کشاورزی  سبزوار  9.098011e+11       100.0   \n",
       "78797  1403/12      کشاورزی    مشهد  9.098010e+11       150.0   \n",
       "78798  1403/12      کشاورزی    مشهد  9.098010e+11       100.0   \n",
       "78800  1403/12      کشاورزی    مشهد  9.098010e+11       100.0   \n",
       "\n",
       "      Installation Date  Meter Age (Months)  null_counts  neg_cons  year  \\\n",
       "1            1400/02/12                  47            0     False  1401   \n",
       "3            1400/02/30                  47            0     False  1401   \n",
       "10           1400/04/02                  45            0     False  1401   \n",
       "13           1400/08/12                  41            0     False  1401   \n",
       "17           1400/03/30                  46            0     False  1401   \n",
       "...                 ...                 ...          ...       ...   ...   \n",
       "78794        1399/10/11                  51            0     False  1403   \n",
       "78795        1403/04/11                   9            0     False  1403   \n",
       "78797        1401/12/18                  25            0     False  1403   \n",
       "78798        1400/09/17                  40            0     False  1403   \n",
       "78800        1399/06/03                  55            0     False  1403   \n",
       "\n",
       "      Installation_Year Installation_Month  \n",
       "1                  1400                 02  \n",
       "3                  1400                 02  \n",
       "10                 1400                 04  \n",
       "13                 1400                 08  \n",
       "17                 1400                 03  \n",
       "...                 ...                ...  \n",
       "78794              1399                 10  \n",
       "78795              1403                 04  \n",
       "78797              1401                 12  \n",
       "78798              1400                 09  \n",
       "78800              1399                 06  \n",
       "\n",
       "[23266 rows x 18 columns]"
      ]
     },
     "execution_count": 61,
     "metadata": {},
     "output_type": "execute_result"
    }
   ],
   "source": [
    "farmers"
   ]
  },
  {
   "cell_type": "code",
   "execution_count": 62,
   "id": "cec57701",
   "metadata": {},
   "outputs": [],
   "source": [
    "# import plotly.express as px\n",
    "# import plotly.graph_objects as go # این ایمپورت ممکنه لازم باشه، مطمئن نیستم از قبل هست یا نه\n",
    "\n",
    "# # گروه‌بندی و جمع مصرف بر اساس سال، ماه و شهر\n",
    "# df_copy['year'] = df_copy['month'].str.split('/').str[0]\n",
    "# df_copy['month_num'] = df_copy['month'].str.split('/').str[1]\n",
    "\n",
    "# # جمع مصرف به تفکیک سال، ماه و شهر\n",
    "# grouped = df_copy.groupby(['year', 'month_num', 'County'])['Consumption (m³)'].sum().reset_index()\n",
    "\n",
    "# # مرتب‌سازی بر اساس سال و ماه\n",
    "# grouped = grouped.sort_values(['year', 'month_num', 'County'])\n",
    "\n",
    "# # رسم نمودار خطی اولیه\n",
    "# fig = px.line(\n",
    "#     grouped,\n",
    "#     x='month_num',\n",
    "#     y='Consumption (m³)',\n",
    "#     color='County',\n",
    "#     color_discrete_sequence=px.colors.qualitative.Alphabet, # استفاده از پالت Alphabet\n",
    "#     line_group='year',\n",
    "#     facet_row='year',\n",
    "#     markers=True,\n",
    "#     height=1200, # افزایش ارتفاع کلی برای جا دادن فواصل بیشتر\n",
    "#     title='میزان مصرف آب در ماه‌های مختلف به تفکیک سال و شهر'\n",
    "# )\n",
    "\n",
    "# # افزایش فاصله بین سطرها با تنظیم دامنه محورهای y\n",
    "# # تعداد سطرها (سال‌ها) را بدست می‌آوریم\n",
    "# years = grouped['year'].unique()\n",
    "# num_years = len(years)\n",
    "\n",
    "# # محاسبه دامنه جدید برای محورهای y با فاصله بیشتر\n",
    "# # فرض می‌کنیم فاصله مورد نظر بین نمودارها 0.08 باشد (در مقیاس 0 تا 1)\n",
    "# gap = 0.08\n",
    "# # محاسبه ارتفاع هر نمودار فرعی\n",
    "# plot_height = (1 - (num_years - 1) * gap) / num_years\n",
    "\n",
    "# # تنظیم دامنه برای هر محور y\n",
    "# for i in range(num_years):\n",
    "#     bottom = i * (plot_height + gap)\n",
    "#     top = bottom + plot_height\n",
    "#     # Plotly axes are named yaxis, yaxis2, yaxis3, etc.\n",
    "#     # The first yaxis corresponds to the top facet in facet_row\n",
    "#     # yaxis_name = 'yaxis' if i == 0 else f'yaxis{i + 1}\n",
    "#     fig.layout[yaxis_name].domain = [1 - top, 1 - bottom] # تنظیم از بالا به پایین\n",
    "\n",
    "# fig.update_xaxes(type='category', title='ماه')\n",
    "# fig.update_yaxes(title='مصرف (متر مکعب)')\n",
    "\n",
    "# fig.show()"
   ]
  },
  {
   "cell_type": "code",
   "execution_count": 63,
   "id": "49d1924a",
   "metadata": {},
   "outputs": [],
   "source": [
    "# # رسم نمودار مساحتی انباشته\n",
    "# fig_area = px.area(\n",
    "#     grouped,\n",
    "#     x='month_num',\n",
    "#     y='Consumption (m³)',\n",
    "#     color='County',\n",
    "#     color_discrete_sequence=px.colors.qualitative.Alphabet, # استفاده از پالت Alphabet\n",
    "#     facet_row='year',\n",
    "#     height=1000,\n",
    "#     title='میزان مصرف آب در ماه‌های مختلف به تفکیک سال و شهر (نمودار مساحتی انباشته)'\n",
    "# )\n",
    "\n",
    "# fig_area.update_xaxes(type='category', title='ماه')\n",
    "# fig_area.update_yaxes(title='مصرف (متر مکعب)')\n",
    "# fig_area.show()"
   ]
  },
  {
   "cell_type": "code",
   "execution_count": 64,
   "id": "a125c292",
   "metadata": {},
   "outputs": [],
   "source": [
    "# fig_area.save_html(\"fig_area.html\")"
   ]
  },
  {
   "cell_type": "code",
   "execution_count": 65,
   "id": "57e785f8",
   "metadata": {},
   "outputs": [],
   "source": [
    "# fig_area.to_html('fig_area.html')"
   ]
  },
  {
   "cell_type": "code",
   "execution_count": 66,
   "id": "81ab49e2",
   "metadata": {},
   "outputs": [],
   "source": [
    "\n",
    "# farmers['year'] = farmers['month'].str.split('/').str[0]\n",
    "# farmers['month_num'] = farmers['month'].str.split('/').str[1]\n",
    "\n",
    "# # جمع مصرف به تفکیک سال، ماه و شهر\n",
    "# grouped = farmers.groupby(['year', 'month_num', 'County'])['Consumption (m³)'].sum().reset_index()\n",
    "\n",
    "# # مرتب‌سازی بر اساس سال و ماه\n",
    "# grouped = farmers.sort_values(['year', 'month_num', 'County'])\n",
    "\n",
    "# # رسم نمودار خطی\n",
    "# fig = px.line(\n",
    "#     grouped,\n",
    "#     x='month_num',\n",
    "#     y='Consumption (m³)',\n",
    "#     color='County',\n",
    "#     color_discrete_sequence=px.colors.qualitative.Plotly,\n",
    "#     line_group='year',\n",
    "#     facet_row='year',\n",
    "#     markers=True,\n",
    "#     height=1000,\n",
    "#     title='میزان مصرف آب در ماه‌های مختلف به تفکیک سال و شهر'\n",
    "# )\n",
    "# fig.update_xaxes(type='category', title='ماه')\n",
    "# fig.update_yaxes(title='مصرف (متر مکعب)')\n",
    "# fig.show()"
   ]
  },
  {
   "cell_type": "code",
   "execution_count": 67,
   "id": "b2b98dce-6a89-4d46-93d4-55cee88b234f",
   "metadata": {},
   "outputs": [],
   "source": [
    "info_copy['Meter Size'] = info_copy['Meter Size'].astype(\"int\")"
   ]
  },
  {
   "cell_type": "code",
   "execution_count": 68,
   "id": "b98eadde-b0b0-40ce-a934-2405346b903b",
   "metadata": {},
   "outputs": [
    {
     "data": {
      "application/vnd.microsoft.datawrangler.viewer.v0+json": {
       "columns": [
        {
         "name": "Meter Size",
         "rawType": "int64",
         "type": "integer"
        },
        {
         "name": "count",
         "rawType": "int64",
         "type": "integer"
        }
       ],
       "ref": "c4bb181d-c381-46c2-b5e4-d1c2fbca15a4",
       "rows": [
        [
         "50",
         "717"
        ],
        [
         "150",
         "479"
        ],
        [
         "100",
         "263"
        ],
        [
         "125",
         "242"
        ],
        [
         "80",
         "180"
        ],
        [
         "200",
         "143"
        ],
        [
         "15",
         "93"
        ],
        [
         "25",
         "22"
        ],
        [
         "20",
         "21"
        ],
        [
         "40",
         "12"
        ],
        [
         "250",
         "8"
        ],
        [
         "300",
         "5"
        ],
        [
         "400",
         "3"
        ],
        [
         "350",
         "1"
        ]
       ],
       "shape": {
        "columns": 1,
        "rows": 14
       }
      },
      "text/plain": [
       "Meter Size\n",
       "50     717\n",
       "150    479\n",
       "100    263\n",
       "125    242\n",
       "80     180\n",
       "200    143\n",
       "15      93\n",
       "25      22\n",
       "20      21\n",
       "40      12\n",
       "250      8\n",
       "300      5\n",
       "400      3\n",
       "350      1\n",
       "Name: count, dtype: int64"
      ]
     },
     "execution_count": 68,
     "metadata": {},
     "output_type": "execute_result"
    }
   ],
   "source": [
    "info_copy['Meter Size'].value_counts()"
   ]
  },
  {
   "cell_type": "code",
   "execution_count": 69,
   "id": "013da991-4122-47a1-b593-cbf64c8b3e5e",
   "metadata": {},
   "outputs": [],
   "source": [
    "info_copy = info_copy[info_copy['Meter Size'] < 250 ]"
   ]
  },
  {
   "cell_type": "code",
   "execution_count": 70,
   "id": "02682ba1",
   "metadata": {},
   "outputs": [
    {
     "data": {
      "application/vnd.plotly.v1+json": {
       "config": {
        "plotlyServerURL": "https://plot.ly"
       },
       "data": [
        {
         "bingroup": "x",
         "hovertemplate": "Meter Size=%{x}<br>count=%{y}<extra></extra>",
         "legendgroup": "",
         "marker": {
          "color": "#636efa",
          "pattern": {
           "shape": ""
          }
         },
         "name": "",
         "orientation": "v",
         "showlegend": false,
         "type": "histogram",
         "x": {
          "bdata": "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",
          "dtype": "i2"
         },
         "xaxis": "x",
         "yaxis": "y"
        }
       ],
       "layout": {
        "autosize": false,
        "barmode": "group",
        "height": 500,
        "legend": {
         "tracegroupgap": 0
        },
        "margin": {
         "t": 60
        },
        "template": {
         "data": {
          "bar": [
           {
            "error_x": {
             "color": "rgb(36,36,36)"
            },
            "error_y": {
             "color": "rgb(36,36,36)"
            },
            "marker": {
             "line": {
              "color": "white",
              "width": 0.5
             },
             "pattern": {
              "fillmode": "overlay",
              "size": 10,
              "solidity": 0.2
             }
            },
            "type": "bar"
           }
          ],
          "barpolar": [
           {
            "marker": {
             "line": {
              "color": "white",
              "width": 0.5
             },
             "pattern": {
              "fillmode": "overlay",
              "size": 10,
              "solidity": 0.2
             }
            },
            "type": "barpolar"
           }
          ],
          "carpet": [
           {
            "aaxis": {
             "endlinecolor": "rgb(36,36,36)",
             "gridcolor": "white",
             "linecolor": "white",
             "minorgridcolor": "white",
             "startlinecolor": "rgb(36,36,36)"
            },
            "baxis": {
             "endlinecolor": "rgb(36,36,36)",
             "gridcolor": "white",
             "linecolor": "white",
             "minorgridcolor": "white",
             "startlinecolor": "rgb(36,36,36)"
            },
            "type": "carpet"
           }
          ],
          "choropleth": [
           {
            "colorbar": {
             "outlinewidth": 1,
             "tickcolor": "rgb(36,36,36)",
             "ticks": "outside"
            },
            "type": "choropleth"
           }
          ],
          "contour": [
           {
            "colorbar": {
             "outlinewidth": 1,
             "tickcolor": "rgb(36,36,36)",
             "ticks": "outside"
            },
            "colorscale": [
             [
              0,
              "#440154"
             ],
             [
              0.1111111111111111,
              "#482878"
             ],
             [
              0.2222222222222222,
              "#3e4989"
             ],
             [
              0.3333333333333333,
              "#31688e"
             ],
             [
              0.4444444444444444,
              "#26828e"
             ],
             [
              0.5555555555555556,
              "#1f9e89"
             ],
             [
              0.6666666666666666,
              "#35b779"
             ],
             [
              0.7777777777777778,
              "#6ece58"
             ],
             [
              0.8888888888888888,
              "#b5de2b"
             ],
             [
              1,
              "#fde725"
             ]
            ],
            "type": "contour"
           }
          ],
          "contourcarpet": [
           {
            "colorbar": {
             "outlinewidth": 1,
             "tickcolor": "rgb(36,36,36)",
             "ticks": "outside"
            },
            "type": "contourcarpet"
           }
          ],
          "heatmap": [
           {
            "colorbar": {
             "outlinewidth": 1,
             "tickcolor": "rgb(36,36,36)",
             "ticks": "outside"
            },
            "colorscale": [
             [
              0,
              "#440154"
             ],
             [
              0.1111111111111111,
              "#482878"
             ],
             [
              0.2222222222222222,
              "#3e4989"
             ],
             [
              0.3333333333333333,
              "#31688e"
             ],
             [
              0.4444444444444444,
              "#26828e"
             ],
             [
              0.5555555555555556,
              "#1f9e89"
             ],
             [
              0.6666666666666666,
              "#35b779"
             ],
             [
              0.7777777777777778,
              "#6ece58"
             ],
             [
              0.8888888888888888,
              "#b5de2b"
             ],
             [
              1,
              "#fde725"
             ]
            ],
            "type": "heatmap"
           }
          ],
          "histogram": [
           {
            "marker": {
             "line": {
              "color": "white",
              "width": 0.6
             }
            },
            "type": "histogram"
           }
          ],
          "histogram2d": [
           {
            "colorbar": {
             "outlinewidth": 1,
             "tickcolor": "rgb(36,36,36)",
             "ticks": "outside"
            },
            "colorscale": [
             [
              0,
              "#440154"
             ],
             [
              0.1111111111111111,
              "#482878"
             ],
             [
              0.2222222222222222,
              "#3e4989"
             ],
             [
              0.3333333333333333,
              "#31688e"
             ],
             [
              0.4444444444444444,
              "#26828e"
             ],
             [
              0.5555555555555556,
              "#1f9e89"
             ],
             [
              0.6666666666666666,
              "#35b779"
             ],
             [
              0.7777777777777778,
              "#6ece58"
             ],
             [
              0.8888888888888888,
              "#b5de2b"
             ],
             [
              1,
              "#fde725"
             ]
            ],
            "type": "histogram2d"
           }
          ],
          "histogram2dcontour": [
           {
            "colorbar": {
             "outlinewidth": 1,
             "tickcolor": "rgb(36,36,36)",
             "ticks": "outside"
            },
            "colorscale": [
             [
              0,
              "#440154"
             ],
             [
              0.1111111111111111,
              "#482878"
             ],
             [
              0.2222222222222222,
              "#3e4989"
             ],
             [
              0.3333333333333333,
              "#31688e"
             ],
             [
              0.4444444444444444,
              "#26828e"
             ],
             [
              0.5555555555555556,
              "#1f9e89"
             ],
             [
              0.6666666666666666,
              "#35b779"
             ],
             [
              0.7777777777777778,
              "#6ece58"
             ],
             [
              0.8888888888888888,
              "#b5de2b"
             ],
             [
              1,
              "#fde725"
             ]
            ],
            "type": "histogram2dcontour"
           }
          ],
          "mesh3d": [
           {
            "colorbar": {
             "outlinewidth": 1,
             "tickcolor": "rgb(36,36,36)",
             "ticks": "outside"
            },
            "type": "mesh3d"
           }
          ],
          "parcoords": [
           {
            "line": {
             "colorbar": {
              "outlinewidth": 1,
              "tickcolor": "rgb(36,36,36)",
              "ticks": "outside"
             }
            },
            "type": "parcoords"
           }
          ],
          "pie": [
           {
            "automargin": true,
            "type": "pie"
           }
          ],
          "scatter": [
           {
            "fillpattern": {
             "fillmode": "overlay",
             "size": 10,
             "solidity": 0.2
            },
            "type": "scatter"
           }
          ],
          "scatter3d": [
           {
            "line": {
             "colorbar": {
              "outlinewidth": 1,
              "tickcolor": "rgb(36,36,36)",
              "ticks": "outside"
             }
            },
            "marker": {
             "colorbar": {
              "outlinewidth": 1,
              "tickcolor": "rgb(36,36,36)",
              "ticks": "outside"
             }
            },
            "type": "scatter3d"
           }
          ],
          "scattercarpet": [
           {
            "marker": {
             "colorbar": {
              "outlinewidth": 1,
              "tickcolor": "rgb(36,36,36)",
              "ticks": "outside"
             }
            },
            "type": "scattercarpet"
           }
          ],
          "scattergeo": [
           {
            "marker": {
             "colorbar": {
              "outlinewidth": 1,
              "tickcolor": "rgb(36,36,36)",
              "ticks": "outside"
             }
            },
            "type": "scattergeo"
           }
          ],
          "scattergl": [
           {
            "marker": {
             "colorbar": {
              "outlinewidth": 1,
              "tickcolor": "rgb(36,36,36)",
              "ticks": "outside"
             }
            },
            "type": "scattergl"
           }
          ],
          "scattermap": [
           {
            "marker": {
             "colorbar": {
              "outlinewidth": 1,
              "tickcolor": "rgb(36,36,36)",
              "ticks": "outside"
             }
            },
            "type": "scattermap"
           }
          ],
          "scattermapbox": [
           {
            "marker": {
             "colorbar": {
              "outlinewidth": 1,
              "tickcolor": "rgb(36,36,36)",
              "ticks": "outside"
             }
            },
            "type": "scattermapbox"
           }
          ],
          "scatterpolar": [
           {
            "marker": {
             "colorbar": {
              "outlinewidth": 1,
              "tickcolor": "rgb(36,36,36)",
              "ticks": "outside"
             }
            },
            "type": "scatterpolar"
           }
          ],
          "scatterpolargl": [
           {
            "marker": {
             "colorbar": {
              "outlinewidth": 1,
              "tickcolor": "rgb(36,36,36)",
              "ticks": "outside"
             }
            },
            "type": "scatterpolargl"
           }
          ],
          "scatterternary": [
           {
            "marker": {
             "colorbar": {
              "outlinewidth": 1,
              "tickcolor": "rgb(36,36,36)",
              "ticks": "outside"
             }
            },
            "type": "scatterternary"
           }
          ],
          "surface": [
           {
            "colorbar": {
             "outlinewidth": 1,
             "tickcolor": "rgb(36,36,36)",
             "ticks": "outside"
            },
            "colorscale": [
             [
              0,
              "#440154"
             ],
             [
              0.1111111111111111,
              "#482878"
             ],
             [
              0.2222222222222222,
              "#3e4989"
             ],
             [
              0.3333333333333333,
              "#31688e"
             ],
             [
              0.4444444444444444,
              "#26828e"
             ],
             [
              0.5555555555555556,
              "#1f9e89"
             ],
             [
              0.6666666666666666,
              "#35b779"
             ],
             [
              0.7777777777777778,
              "#6ece58"
             ],
             [
              0.8888888888888888,
              "#b5de2b"
             ],
             [
              1,
              "#fde725"
             ]
            ],
            "type": "surface"
           }
          ],
          "table": [
           {
            "cells": {
             "fill": {
              "color": "rgb(237,237,237)"
             },
             "line": {
              "color": "white"
             }
            },
            "header": {
             "fill": {
              "color": "rgb(217,217,217)"
             },
             "line": {
              "color": "white"
             }
            },
            "type": "table"
           }
          ]
         },
         "layout": {
          "annotationdefaults": {
           "arrowhead": 0,
           "arrowwidth": 1
          },
          "autotypenumbers": "strict",
          "coloraxis": {
           "colorbar": {
            "outlinewidth": 1,
            "tickcolor": "rgb(36,36,36)",
            "ticks": "outside"
           }
          },
          "colorscale": {
           "diverging": [
            [
             0,
             "rgb(103,0,31)"
            ],
            [
             0.1,
             "rgb(178,24,43)"
            ],
            [
             0.2,
             "rgb(214,96,77)"
            ],
            [
             0.3,
             "rgb(244,165,130)"
            ],
            [
             0.4,
             "rgb(253,219,199)"
            ],
            [
             0.5,
             "rgb(247,247,247)"
            ],
            [
             0.6,
             "rgb(209,229,240)"
            ],
            [
             0.7,
             "rgb(146,197,222)"
            ],
            [
             0.8,
             "rgb(67,147,195)"
            ],
            [
             0.9,
             "rgb(33,102,172)"
            ],
            [
             1,
             "rgb(5,48,97)"
            ]
           ],
           "sequential": [
            [
             0,
             "#440154"
            ],
            [
             0.1111111111111111,
             "#482878"
            ],
            [
             0.2222222222222222,
             "#3e4989"
            ],
            [
             0.3333333333333333,
             "#31688e"
            ],
            [
             0.4444444444444444,
             "#26828e"
            ],
            [
             0.5555555555555556,
             "#1f9e89"
            ],
            [
             0.6666666666666666,
             "#35b779"
            ],
            [
             0.7777777777777778,
             "#6ece58"
            ],
            [
             0.8888888888888888,
             "#b5de2b"
            ],
            [
             1,
             "#fde725"
            ]
           ],
           "sequentialminus": [
            [
             0,
             "#440154"
            ],
            [
             0.1111111111111111,
             "#482878"
            ],
            [
             0.2222222222222222,
             "#3e4989"
            ],
            [
             0.3333333333333333,
             "#31688e"
            ],
            [
             0.4444444444444444,
             "#26828e"
            ],
            [
             0.5555555555555556,
             "#1f9e89"
            ],
            [
             0.6666666666666666,
             "#35b779"
            ],
            [
             0.7777777777777778,
             "#6ece58"
            ],
            [
             0.8888888888888888,
             "#b5de2b"
            ],
            [
             1,
             "#fde725"
            ]
           ]
          },
          "colorway": [
           "#1F77B4",
           "#FF7F0E",
           "#2CA02C",
           "#D62728",
           "#9467BD",
           "#8C564B",
           "#E377C2",
           "#7F7F7F",
           "#BCBD22",
           "#17BECF"
          ],
          "font": {
           "color": "rgb(36,36,36)"
          },
          "geo": {
           "bgcolor": "white",
           "lakecolor": "white",
           "landcolor": "white",
           "showlakes": true,
           "showland": true,
           "subunitcolor": "white"
          },
          "hoverlabel": {
           "align": "left"
          },
          "hovermode": "closest",
          "mapbox": {
           "style": "light"
          },
          "paper_bgcolor": "white",
          "plot_bgcolor": "white",
          "polar": {
           "angularaxis": {
            "gridcolor": "rgb(232,232,232)",
            "linecolor": "rgb(36,36,36)",
            "showgrid": false,
            "showline": true,
            "ticks": "outside"
           },
           "bgcolor": "white",
           "radialaxis": {
            "gridcolor": "rgb(232,232,232)",
            "linecolor": "rgb(36,36,36)",
            "showgrid": false,
            "showline": true,
            "ticks": "outside"
           }
          },
          "scene": {
           "xaxis": {
            "backgroundcolor": "white",
            "gridcolor": "rgb(232,232,232)",
            "gridwidth": 2,
            "linecolor": "rgb(36,36,36)",
            "showbackground": true,
            "showgrid": false,
            "showline": true,
            "ticks": "outside",
            "zeroline": false,
            "zerolinecolor": "rgb(36,36,36)"
           },
           "yaxis": {
            "backgroundcolor": "white",
            "gridcolor": "rgb(232,232,232)",
            "gridwidth": 2,
            "linecolor": "rgb(36,36,36)",
            "showbackground": true,
            "showgrid": false,
            "showline": true,
            "ticks": "outside",
            "zeroline": false,
            "zerolinecolor": "rgb(36,36,36)"
           },
           "zaxis": {
            "backgroundcolor": "white",
            "gridcolor": "rgb(232,232,232)",
            "gridwidth": 2,
            "linecolor": "rgb(36,36,36)",
            "showbackground": true,
            "showgrid": false,
            "showline": true,
            "ticks": "outside",
            "zeroline": false,
            "zerolinecolor": "rgb(36,36,36)"
           }
          },
          "shapedefaults": {
           "fillcolor": "black",
           "line": {
            "width": 0
           },
           "opacity": 0.3
          },
          "ternary": {
           "aaxis": {
            "gridcolor": "rgb(232,232,232)",
            "linecolor": "rgb(36,36,36)",
            "showgrid": false,
            "showline": true,
            "ticks": "outside"
           },
           "baxis": {
            "gridcolor": "rgb(232,232,232)",
            "linecolor": "rgb(36,36,36)",
            "showgrid": false,
            "showline": true,
            "ticks": "outside"
           },
           "bgcolor": "white",
           "caxis": {
            "gridcolor": "rgb(232,232,232)",
            "linecolor": "rgb(36,36,36)",
            "showgrid": false,
            "showline": true,
            "ticks": "outside"
           }
          },
          "title": {
           "x": 0.05
          },
          "xaxis": {
           "automargin": true,
           "gridcolor": "rgb(232,232,232)",
           "linecolor": "rgb(36,36,36)",
           "showgrid": false,
           "showline": true,
           "ticks": "outside",
           "title": {
            "standoff": 15
           },
           "zeroline": false,
           "zerolinecolor": "rgb(36,36,36)"
          },
          "yaxis": {
           "automargin": true,
           "gridcolor": "rgb(232,232,232)",
           "linecolor": "rgb(36,36,36)",
           "showgrid": false,
           "showline": true,
           "ticks": "outside",
           "title": {
            "standoff": 15
           },
           "zeroline": false,
           "zerolinecolor": "rgb(36,36,36)"
          }
         }
        },
        "title": {
         "text": "دسته بندی سایز کنتور ها بر اساس تعداد"
        },
        "width": 1800,
        "xaxis": {
         "anchor": "y",
         "domain": [
          0,
          1
         ],
         "title": {
          "text": "Meter Size"
         }
        },
        "yaxis": {
         "anchor": "x",
         "domain": [
          0,
          1
         ],
         "title": {
          "text": "تعداد"
         }
        }
       }
      }
     },
     "metadata": {},
     "output_type": "display_data"
    }
   ],
   "source": [
    "px.bar(info_copy['Meter Size'])\n",
    "fig = px.histogram(info_copy, x = info_copy['Meter Size'])\n",
    "fig.update_layout(\n",
    "    title='دسته بندی سایز کنتور ها بر اساس تعداد',\n",
    "    yaxis_title='تعداد',\n",
    "    template='simple_white',\n",
    "    barmode = \"group\",\n",
    "   \n",
    "    # font=dict(family=\"Tahoma\", size=12, color=\"#333\"\n",
    ")\n",
    "fig.update_layout(\n",
    "    \n",
    "    width=1800,\n",
    "    height=500,\n",
    "    \n",
    "    autosize=False\n",
    ")\n",
    "fig.show()"
   ]
  },
  {
   "cell_type": "code",
   "execution_count": 71,
   "id": "0906d612",
   "metadata": {},
   "outputs": [
    {
     "data": {
      "application/vnd.plotly.v1+json": {
       "config": {
        "plotlyServerURL": "https://plot.ly"
       },
       "data": [
        {
         "bingroup": "x",
         "hovertemplate": "Meter Size=%{x}<br>count=%{y}<extra></extra>",
         "legendgroup": "",
         "marker": {
          "color": "#636efa",
          "pattern": {
           "shape": ""
          }
         },
         "name": "",
         "orientation": "v",
         "showlegend": false,
         "type": "histogram",
         "x": {
          "bdata": "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",
          "dtype": "i2"
         },
         "xaxis": "x",
         "yaxis": "y"
        }
       ],
       "layout": {
        "autosize": false,
        "bargap": 0.001,
        "barmode": "group",
        "height": 500,
        "legend": {
         "tracegroupgap": 0
        },
        "margin": {
         "t": 60
        },
        "template": {
         "data": {
          "bar": [
           {
            "error_x": {
             "color": "rgb(36,36,36)"
            },
            "error_y": {
             "color": "rgb(36,36,36)"
            },
            "marker": {
             "line": {
              "color": "white",
              "width": 0.5
             },
             "pattern": {
              "fillmode": "overlay",
              "size": 10,
              "solidity": 0.2
             }
            },
            "type": "bar"
           }
          ],
          "barpolar": [
           {
            "marker": {
             "line": {
              "color": "white",
              "width": 0.5
             },
             "pattern": {
              "fillmode": "overlay",
              "size": 10,
              "solidity": 0.2
             }
            },
            "type": "barpolar"
           }
          ],
          "carpet": [
           {
            "aaxis": {
             "endlinecolor": "rgb(36,36,36)",
             "gridcolor": "white",
             "linecolor": "white",
             "minorgridcolor": "white",
             "startlinecolor": "rgb(36,36,36)"
            },
            "baxis": {
             "endlinecolor": "rgb(36,36,36)",
             "gridcolor": "white",
             "linecolor": "white",
             "minorgridcolor": "white",
             "startlinecolor": "rgb(36,36,36)"
            },
            "type": "carpet"
           }
          ],
          "choropleth": [
           {
            "colorbar": {
             "outlinewidth": 1,
             "tickcolor": "rgb(36,36,36)",
             "ticks": "outside"
            },
            "type": "choropleth"
           }
          ],
          "contour": [
           {
            "colorbar": {
             "outlinewidth": 1,
             "tickcolor": "rgb(36,36,36)",
             "ticks": "outside"
            },
            "colorscale": [
             [
              0,
              "#440154"
             ],
             [
              0.1111111111111111,
              "#482878"
             ],
             [
              0.2222222222222222,
              "#3e4989"
             ],
             [
              0.3333333333333333,
              "#31688e"
             ],
             [
              0.4444444444444444,
              "#26828e"
             ],
             [
              0.5555555555555556,
              "#1f9e89"
             ],
             [
              0.6666666666666666,
              "#35b779"
             ],
             [
              0.7777777777777778,
              "#6ece58"
             ],
             [
              0.8888888888888888,
              "#b5de2b"
             ],
             [
              1,
              "#fde725"
             ]
            ],
            "type": "contour"
           }
          ],
          "contourcarpet": [
           {
            "colorbar": {
             "outlinewidth": 1,
             "tickcolor": "rgb(36,36,36)",
             "ticks": "outside"
            },
            "type": "contourcarpet"
           }
          ],
          "heatmap": [
           {
            "colorbar": {
             "outlinewidth": 1,
             "tickcolor": "rgb(36,36,36)",
             "ticks": "outside"
            },
            "colorscale": [
             [
              0,
              "#440154"
             ],
             [
              0.1111111111111111,
              "#482878"
             ],
             [
              0.2222222222222222,
              "#3e4989"
             ],
             [
              0.3333333333333333,
              "#31688e"
             ],
             [
              0.4444444444444444,
              "#26828e"
             ],
             [
              0.5555555555555556,
              "#1f9e89"
             ],
             [
              0.6666666666666666,
              "#35b779"
             ],
             [
              0.7777777777777778,
              "#6ece58"
             ],
             [
              0.8888888888888888,
              "#b5de2b"
             ],
             [
              1,
              "#fde725"
             ]
            ],
            "type": "heatmap"
           }
          ],
          "histogram": [
           {
            "marker": {
             "line": {
              "color": "white",
              "width": 0.6
             }
            },
            "type": "histogram"
           }
          ],
          "histogram2d": [
           {
            "colorbar": {
             "outlinewidth": 1,
             "tickcolor": "rgb(36,36,36)",
             "ticks": "outside"
            },
            "colorscale": [
             [
              0,
              "#440154"
             ],
             [
              0.1111111111111111,
              "#482878"
             ],
             [
              0.2222222222222222,
              "#3e4989"
             ],
             [
              0.3333333333333333,
              "#31688e"
             ],
             [
              0.4444444444444444,
              "#26828e"
             ],
             [
              0.5555555555555556,
              "#1f9e89"
             ],
             [
              0.6666666666666666,
              "#35b779"
             ],
             [
              0.7777777777777778,
              "#6ece58"
             ],
             [
              0.8888888888888888,
              "#b5de2b"
             ],
             [
              1,
              "#fde725"
             ]
            ],
            "type": "histogram2d"
           }
          ],
          "histogram2dcontour": [
           {
            "colorbar": {
             "outlinewidth": 1,
             "tickcolor": "rgb(36,36,36)",
             "ticks": "outside"
            },
            "colorscale": [
             [
              0,
              "#440154"
             ],
             [
              0.1111111111111111,
              "#482878"
             ],
             [
              0.2222222222222222,
              "#3e4989"
             ],
             [
              0.3333333333333333,
              "#31688e"
             ],
             [
              0.4444444444444444,
              "#26828e"
             ],
             [
              0.5555555555555556,
              "#1f9e89"
             ],
             [
              0.6666666666666666,
              "#35b779"
             ],
             [
              0.7777777777777778,
              "#6ece58"
             ],
             [
              0.8888888888888888,
              "#b5de2b"
             ],
             [
              1,
              "#fde725"
             ]
            ],
            "type": "histogram2dcontour"
           }
          ],
          "mesh3d": [
           {
            "colorbar": {
             "outlinewidth": 1,
             "tickcolor": "rgb(36,36,36)",
             "ticks": "outside"
            },
            "type": "mesh3d"
           }
          ],
          "parcoords": [
           {
            "line": {
             "colorbar": {
              "outlinewidth": 1,
              "tickcolor": "rgb(36,36,36)",
              "ticks": "outside"
             }
            },
            "type": "parcoords"
           }
          ],
          "pie": [
           {
            "automargin": true,
            "type": "pie"
           }
          ],
          "scatter": [
           {
            "fillpattern": {
             "fillmode": "overlay",
             "size": 10,
             "solidity": 0.2
            },
            "type": "scatter"
           }
          ],
          "scatter3d": [
           {
            "line": {
             "colorbar": {
              "outlinewidth": 1,
              "tickcolor": "rgb(36,36,36)",
              "ticks": "outside"
             }
            },
            "marker": {
             "colorbar": {
              "outlinewidth": 1,
              "tickcolor": "rgb(36,36,36)",
              "ticks": "outside"
             }
            },
            "type": "scatter3d"
           }
          ],
          "scattercarpet": [
           {
            "marker": {
             "colorbar": {
              "outlinewidth": 1,
              "tickcolor": "rgb(36,36,36)",
              "ticks": "outside"
             }
            },
            "type": "scattercarpet"
           }
          ],
          "scattergeo": [
           {
            "marker": {
             "colorbar": {
              "outlinewidth": 1,
              "tickcolor": "rgb(36,36,36)",
              "ticks": "outside"
             }
            },
            "type": "scattergeo"
           }
          ],
          "scattergl": [
           {
            "marker": {
             "colorbar": {
              "outlinewidth": 1,
              "tickcolor": "rgb(36,36,36)",
              "ticks": "outside"
             }
            },
            "type": "scattergl"
           }
          ],
          "scattermap": [
           {
            "marker": {
             "colorbar": {
              "outlinewidth": 1,
              "tickcolor": "rgb(36,36,36)",
              "ticks": "outside"
             }
            },
            "type": "scattermap"
           }
          ],
          "scattermapbox": [
           {
            "marker": {
             "colorbar": {
              "outlinewidth": 1,
              "tickcolor": "rgb(36,36,36)",
              "ticks": "outside"
             }
            },
            "type": "scattermapbox"
           }
          ],
          "scatterpolar": [
           {
            "marker": {
             "colorbar": {
              "outlinewidth": 1,
              "tickcolor": "rgb(36,36,36)",
              "ticks": "outside"
             }
            },
            "type": "scatterpolar"
           }
          ],
          "scatterpolargl": [
           {
            "marker": {
             "colorbar": {
              "outlinewidth": 1,
              "tickcolor": "rgb(36,36,36)",
              "ticks": "outside"
             }
            },
            "type": "scatterpolargl"
           }
          ],
          "scatterternary": [
           {
            "marker": {
             "colorbar": {
              "outlinewidth": 1,
              "tickcolor": "rgb(36,36,36)",
              "ticks": "outside"
             }
            },
            "type": "scatterternary"
           }
          ],
          "surface": [
           {
            "colorbar": {
             "outlinewidth": 1,
             "tickcolor": "rgb(36,36,36)",
             "ticks": "outside"
            },
            "colorscale": [
             [
              0,
              "#440154"
             ],
             [
              0.1111111111111111,
              "#482878"
             ],
             [
              0.2222222222222222,
              "#3e4989"
             ],
             [
              0.3333333333333333,
              "#31688e"
             ],
             [
              0.4444444444444444,
              "#26828e"
             ],
             [
              0.5555555555555556,
              "#1f9e89"
             ],
             [
              0.6666666666666666,
              "#35b779"
             ],
             [
              0.7777777777777778,
              "#6ece58"
             ],
             [
              0.8888888888888888,
              "#b5de2b"
             ],
             [
              1,
              "#fde725"
             ]
            ],
            "type": "surface"
           }
          ],
          "table": [
           {
            "cells": {
             "fill": {
              "color": "rgb(237,237,237)"
             },
             "line": {
              "color": "white"
             }
            },
            "header": {
             "fill": {
              "color": "rgb(217,217,217)"
             },
             "line": {
              "color": "white"
             }
            },
            "type": "table"
           }
          ]
         },
         "layout": {
          "annotationdefaults": {
           "arrowhead": 0,
           "arrowwidth": 1
          },
          "autotypenumbers": "strict",
          "coloraxis": {
           "colorbar": {
            "outlinewidth": 1,
            "tickcolor": "rgb(36,36,36)",
            "ticks": "outside"
           }
          },
          "colorscale": {
           "diverging": [
            [
             0,
             "rgb(103,0,31)"
            ],
            [
             0.1,
             "rgb(178,24,43)"
            ],
            [
             0.2,
             "rgb(214,96,77)"
            ],
            [
             0.3,
             "rgb(244,165,130)"
            ],
            [
             0.4,
             "rgb(253,219,199)"
            ],
            [
             0.5,
             "rgb(247,247,247)"
            ],
            [
             0.6,
             "rgb(209,229,240)"
            ],
            [
             0.7,
             "rgb(146,197,222)"
            ],
            [
             0.8,
             "rgb(67,147,195)"
            ],
            [
             0.9,
             "rgb(33,102,172)"
            ],
            [
             1,
             "rgb(5,48,97)"
            ]
           ],
           "sequential": [
            [
             0,
             "#440154"
            ],
            [
             0.1111111111111111,
             "#482878"
            ],
            [
             0.2222222222222222,
             "#3e4989"
            ],
            [
             0.3333333333333333,
             "#31688e"
            ],
            [
             0.4444444444444444,
             "#26828e"
            ],
            [
             0.5555555555555556,
             "#1f9e89"
            ],
            [
             0.6666666666666666,
             "#35b779"
            ],
            [
             0.7777777777777778,
             "#6ece58"
            ],
            [
             0.8888888888888888,
             "#b5de2b"
            ],
            [
             1,
             "#fde725"
            ]
           ],
           "sequentialminus": [
            [
             0,
             "#440154"
            ],
            [
             0.1111111111111111,
             "#482878"
            ],
            [
             0.2222222222222222,
             "#3e4989"
            ],
            [
             0.3333333333333333,
             "#31688e"
            ],
            [
             0.4444444444444444,
             "#26828e"
            ],
            [
             0.5555555555555556,
             "#1f9e89"
            ],
            [
             0.6666666666666666,
             "#35b779"
            ],
            [
             0.7777777777777778,
             "#6ece58"
            ],
            [
             0.8888888888888888,
             "#b5de2b"
            ],
            [
             1,
             "#fde725"
            ]
           ]
          },
          "colorway": [
           "#1F77B4",
           "#FF7F0E",
           "#2CA02C",
           "#D62728",
           "#9467BD",
           "#8C564B",
           "#E377C2",
           "#7F7F7F",
           "#BCBD22",
           "#17BECF"
          ],
          "font": {
           "color": "rgb(36,36,36)"
          },
          "geo": {
           "bgcolor": "white",
           "lakecolor": "white",
           "landcolor": "white",
           "showlakes": true,
           "showland": true,
           "subunitcolor": "white"
          },
          "hoverlabel": {
           "align": "left"
          },
          "hovermode": "closest",
          "mapbox": {
           "style": "light"
          },
          "paper_bgcolor": "white",
          "plot_bgcolor": "white",
          "polar": {
           "angularaxis": {
            "gridcolor": "rgb(232,232,232)",
            "linecolor": "rgb(36,36,36)",
            "showgrid": false,
            "showline": true,
            "ticks": "outside"
           },
           "bgcolor": "white",
           "radialaxis": {
            "gridcolor": "rgb(232,232,232)",
            "linecolor": "rgb(36,36,36)",
            "showgrid": false,
            "showline": true,
            "ticks": "outside"
           }
          },
          "scene": {
           "xaxis": {
            "backgroundcolor": "white",
            "gridcolor": "rgb(232,232,232)",
            "gridwidth": 2,
            "linecolor": "rgb(36,36,36)",
            "showbackground": true,
            "showgrid": false,
            "showline": true,
            "ticks": "outside",
            "zeroline": false,
            "zerolinecolor": "rgb(36,36,36)"
           },
           "yaxis": {
            "backgroundcolor": "white",
            "gridcolor": "rgb(232,232,232)",
            "gridwidth": 2,
            "linecolor": "rgb(36,36,36)",
            "showbackground": true,
            "showgrid": false,
            "showline": true,
            "ticks": "outside",
            "zeroline": false,
            "zerolinecolor": "rgb(36,36,36)"
           },
           "zaxis": {
            "backgroundcolor": "white",
            "gridcolor": "rgb(232,232,232)",
            "gridwidth": 2,
            "linecolor": "rgb(36,36,36)",
            "showbackground": true,
            "showgrid": false,
            "showline": true,
            "ticks": "outside",
            "zeroline": false,
            "zerolinecolor": "rgb(36,36,36)"
           }
          },
          "shapedefaults": {
           "fillcolor": "black",
           "line": {
            "width": 0
           },
           "opacity": 0.3
          },
          "ternary": {
           "aaxis": {
            "gridcolor": "rgb(232,232,232)",
            "linecolor": "rgb(36,36,36)",
            "showgrid": false,
            "showline": true,
            "ticks": "outside"
           },
           "baxis": {
            "gridcolor": "rgb(232,232,232)",
            "linecolor": "rgb(36,36,36)",
            "showgrid": false,
            "showline": true,
            "ticks": "outside"
           },
           "bgcolor": "white",
           "caxis": {
            "gridcolor": "rgb(232,232,232)",
            "linecolor": "rgb(36,36,36)",
            "showgrid": false,
            "showline": true,
            "ticks": "outside"
           }
          },
          "title": {
           "x": 0.05
          },
          "xaxis": {
           "automargin": true,
           "gridcolor": "rgb(232,232,232)",
           "linecolor": "rgb(36,36,36)",
           "showgrid": false,
           "showline": true,
           "ticks": "outside",
           "title": {
            "standoff": 15
           },
           "zeroline": false,
           "zerolinecolor": "rgb(36,36,36)"
          },
          "yaxis": {
           "automargin": true,
           "gridcolor": "rgb(232,232,232)",
           "linecolor": "rgb(36,36,36)",
           "showgrid": false,
           "showline": true,
           "ticks": "outside",
           "title": {
            "standoff": 15
           },
           "zeroline": false,
           "zerolinecolor": "rgb(36,36,36)"
          }
         }
        },
        "title": {
         "text": "دسته بندی کنتور ها بر اساس سایز"
        },
        "width": 1800,
        "xaxis": {
         "anchor": "y",
         "domain": [
          0,
          1
         ],
         "title": {
          "text": "Meter Size"
         }
        },
        "yaxis": {
         "anchor": "x",
         "domain": [
          0,
          1
         ],
         "title": {
          "text": "تعداد"
         }
        }
       }
      }
     },
     "metadata": {},
     "output_type": "display_data"
    }
   ],
   "source": [
    "fig.update_layout(\n",
    "    bargap=0.001, # این مقدار را برای کم کردن فاصله تنظیم کنید\n",
    "    # اگر تنها یک سری داده دارید، bargroupgap معمولا نیازی به تغییر ندارد.\n",
    "    # bargroupgap=0.05, # فاصله بین گروه‌های میله‌ها (اگر چند سری داده دارید)\n",
    "    #width=[20,20,20,20,20, 18, 18, 18,18,18], # customize width here\n",
    "    \n",
    "    title_text='دسته بندی کنتور ها بر اساس سایز',\n",
    "    xaxis_title='Meter Size',\n",
    "    yaxis_title='تعداد'\n",
    "    \n",
    ")\n",
    "\n",
    "# 2. نمایش تعداد روی هر میله\n",
    "# fig.update_traces(\n",
    "#     text=counts,          # مقادیر \"تعداد\" را برای نمایش روی میله‌ها تنظیم کنید\n",
    "#     textposition='outside', # موقعیت متن (مثلاً 'outside' یا 'inside')\n",
    "#     textfont_size=10      # اندازه فونت (اختیاری)\n",
    "# )\n",
    "\n",
    "# اگر نمودار شما go.Histogram است، مقادیر y به صورت خودکار محاسبه می‌شوند.\n",
    "# در آن صورت، باید پس از محاسبه، آنها را استخراج کرده و به پارامتر text بدهید،\n",
    "# یا از قابلیت‌های خودکار آن استفاده کنید اگر موجود باشد (کمتر رایج برای go.Histogram).\n",
    "# برای go.Histogram، اغلب راحت‌تر است که ابتدا داده‌ها را با ابزاری مثل numpy.histogram\n",
    "# محاسبه کرده و سپس با go.Bar رسم کنید تا کنترل بیشتری روی متن داشته باشید.\n",
    "\n",
    "\n",
    "fig.show()"
   ]
  },
  {
   "cell_type": "code",
   "execution_count": null,
   "id": "763db061",
   "metadata": {},
   "outputs": [],
   "source": []
  },
  {
   "cell_type": "code",
   "execution_count": null,
   "id": "aab27398",
   "metadata": {},
   "outputs": [],
   "source": []
  },
  {
   "cell_type": "code",
   "execution_count": 72,
   "id": "995b93b7-d350-4b10-9bdd-b531d1f72a92",
   "metadata": {},
   "outputs": [
    {
     "data": {
      "text/plain": [
       "(Histogram({\n",
       "     'bingroup': 'x',\n",
       "     'hovertemplate': 'Meter Size=%{x}<br>count=%{y}<extra></extra>',\n",
       "     'legendgroup': '',\n",
       "     'marker': {'color': '#636efa', 'pattern': {'shape': ''}},\n",
       "     'name': '',\n",
       "     'orientation': 'v',\n",
       "     'showlegend': False,\n",
       "     'x': array([ 50,  80,  50, ...,  50, 100, 150]),\n",
       "     'xaxis': 'x',\n",
       "     'yaxis': 'y'\n",
       " }),)"
      ]
     },
     "execution_count": 72,
     "metadata": {},
     "output_type": "execute_result"
    }
   ],
   "source": [
    "fig.to_dict().keys()  # ساختار کلی\n",
    "fig['layout']         # بخش layout\n",
    "fig['data']  "
   ]
  },
  {
   "cell_type": "code",
   "execution_count": 73,
   "id": "944b8895-3bc7-457d-965a-9a0697289285",
   "metadata": {},
   "outputs": [
    {
     "data": {
      "text/plain": [
       "Layout({\n",
       "    'autosize': False,\n",
       "    'bargap': 0.001,\n",
       "    'barmode': 'group',\n",
       "    'height': 500,\n",
       "    'legend': {'tracegroupgap': 0},\n",
       "    'margin': {'t': 60},\n",
       "    'template': '...',\n",
       "    'title': {'text': 'دسته بندی کنتور ها بر اساس سایز'},\n",
       "    'width': 1800,\n",
       "    'xaxis': {'anchor': 'y', 'domain': [0.0, 1.0], 'title': {'text': 'Meter Size'}},\n",
       "    'yaxis': {'anchor': 'x', 'domain': [0.0, 1.0], 'title': {'text': 'تعداد'}}\n",
       "})"
      ]
     },
     "execution_count": 73,
     "metadata": {},
     "output_type": "execute_result"
    }
   ],
   "source": [
    "fig['layout']         # بخش layout\n"
   ]
  },
  {
   "cell_type": "code",
   "execution_count": 74,
   "id": "60c2c4a2",
   "metadata": {},
   "outputs": [
    {
     "data": {
      "application/vnd.plotly.v1+json": {
       "config": {
        "plotlyServerURL": "https://plot.ly"
       },
       "data": [
        {
         "bingroup": "x",
         "hovertemplate": "Meter Size=%{x}<br>count=%{y}<extra></extra>",
         "legendgroup": "",
         "marker": {
          "color": "#636efa",
          "pattern": {
           "shape": ""
          }
         },
         "name": "",
         "orientation": "v",
         "showlegend": false,
         "type": "histogram",
         "x": {
          "bdata": "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",
          "dtype": "i2"
         },
         "xaxis": "x",
         "yaxis": "y"
        }
       ],
       "layout": {
        "autosize": false,
        "bargap": 0.001,
        "barmode": "group",
        "height": 500,
        "legend": {
         "tracegroupgap": 0
        },
        "margin": {
         "t": 60
        },
        "template": {
         "data": {
          "bar": [
           {
            "error_x": {
             "color": "rgb(36,36,36)"
            },
            "error_y": {
             "color": "rgb(36,36,36)"
            },
            "marker": {
             "line": {
              "color": "white",
              "width": 0.5
             },
             "pattern": {
              "fillmode": "overlay",
              "size": 10,
              "solidity": 0.2
             }
            },
            "type": "bar"
           }
          ],
          "barpolar": [
           {
            "marker": {
             "line": {
              "color": "white",
              "width": 0.5
             },
             "pattern": {
              "fillmode": "overlay",
              "size": 10,
              "solidity": 0.2
             }
            },
            "type": "barpolar"
           }
          ],
          "carpet": [
           {
            "aaxis": {
             "endlinecolor": "rgb(36,36,36)",
             "gridcolor": "white",
             "linecolor": "white",
             "minorgridcolor": "white",
             "startlinecolor": "rgb(36,36,36)"
            },
            "baxis": {
             "endlinecolor": "rgb(36,36,36)",
             "gridcolor": "white",
             "linecolor": "white",
             "minorgridcolor": "white",
             "startlinecolor": "rgb(36,36,36)"
            },
            "type": "carpet"
           }
          ],
          "choropleth": [
           {
            "colorbar": {
             "outlinewidth": 1,
             "tickcolor": "rgb(36,36,36)",
             "ticks": "outside"
            },
            "type": "choropleth"
           }
          ],
          "contour": [
           {
            "colorbar": {
             "outlinewidth": 1,
             "tickcolor": "rgb(36,36,36)",
             "ticks": "outside"
            },
            "colorscale": [
             [
              0,
              "#440154"
             ],
             [
              0.1111111111111111,
              "#482878"
             ],
             [
              0.2222222222222222,
              "#3e4989"
             ],
             [
              0.3333333333333333,
              "#31688e"
             ],
             [
              0.4444444444444444,
              "#26828e"
             ],
             [
              0.5555555555555556,
              "#1f9e89"
             ],
             [
              0.6666666666666666,
              "#35b779"
             ],
             [
              0.7777777777777778,
              "#6ece58"
             ],
             [
              0.8888888888888888,
              "#b5de2b"
             ],
             [
              1,
              "#fde725"
             ]
            ],
            "type": "contour"
           }
          ],
          "contourcarpet": [
           {
            "colorbar": {
             "outlinewidth": 1,
             "tickcolor": "rgb(36,36,36)",
             "ticks": "outside"
            },
            "type": "contourcarpet"
           }
          ],
          "heatmap": [
           {
            "colorbar": {
             "outlinewidth": 1,
             "tickcolor": "rgb(36,36,36)",
             "ticks": "outside"
            },
            "colorscale": [
             [
              0,
              "#440154"
             ],
             [
              0.1111111111111111,
              "#482878"
             ],
             [
              0.2222222222222222,
              "#3e4989"
             ],
             [
              0.3333333333333333,
              "#31688e"
             ],
             [
              0.4444444444444444,
              "#26828e"
             ],
             [
              0.5555555555555556,
              "#1f9e89"
             ],
             [
              0.6666666666666666,
              "#35b779"
             ],
             [
              0.7777777777777778,
              "#6ece58"
             ],
             [
              0.8888888888888888,
              "#b5de2b"
             ],
             [
              1,
              "#fde725"
             ]
            ],
            "type": "heatmap"
           }
          ],
          "histogram": [
           {
            "marker": {
             "line": {
              "color": "white",
              "width": 0.6
             }
            },
            "type": "histogram"
           }
          ],
          "histogram2d": [
           {
            "colorbar": {
             "outlinewidth": 1,
             "tickcolor": "rgb(36,36,36)",
             "ticks": "outside"
            },
            "colorscale": [
             [
              0,
              "#440154"
             ],
             [
              0.1111111111111111,
              "#482878"
             ],
             [
              0.2222222222222222,
              "#3e4989"
             ],
             [
              0.3333333333333333,
              "#31688e"
             ],
             [
              0.4444444444444444,
              "#26828e"
             ],
             [
              0.5555555555555556,
              "#1f9e89"
             ],
             [
              0.6666666666666666,
              "#35b779"
             ],
             [
              0.7777777777777778,
              "#6ece58"
             ],
             [
              0.8888888888888888,
              "#b5de2b"
             ],
             [
              1,
              "#fde725"
             ]
            ],
            "type": "histogram2d"
           }
          ],
          "histogram2dcontour": [
           {
            "colorbar": {
             "outlinewidth": 1,
             "tickcolor": "rgb(36,36,36)",
             "ticks": "outside"
            },
            "colorscale": [
             [
              0,
              "#440154"
             ],
             [
              0.1111111111111111,
              "#482878"
             ],
             [
              0.2222222222222222,
              "#3e4989"
             ],
             [
              0.3333333333333333,
              "#31688e"
             ],
             [
              0.4444444444444444,
              "#26828e"
             ],
             [
              0.5555555555555556,
              "#1f9e89"
             ],
             [
              0.6666666666666666,
              "#35b779"
             ],
             [
              0.7777777777777778,
              "#6ece58"
             ],
             [
              0.8888888888888888,
              "#b5de2b"
             ],
             [
              1,
              "#fde725"
             ]
            ],
            "type": "histogram2dcontour"
           }
          ],
          "mesh3d": [
           {
            "colorbar": {
             "outlinewidth": 1,
             "tickcolor": "rgb(36,36,36)",
             "ticks": "outside"
            },
            "type": "mesh3d"
           }
          ],
          "parcoords": [
           {
            "line": {
             "colorbar": {
              "outlinewidth": 1,
              "tickcolor": "rgb(36,36,36)",
              "ticks": "outside"
             }
            },
            "type": "parcoords"
           }
          ],
          "pie": [
           {
            "automargin": true,
            "type": "pie"
           }
          ],
          "scatter": [
           {
            "fillpattern": {
             "fillmode": "overlay",
             "size": 10,
             "solidity": 0.2
            },
            "type": "scatter"
           }
          ],
          "scatter3d": [
           {
            "line": {
             "colorbar": {
              "outlinewidth": 1,
              "tickcolor": "rgb(36,36,36)",
              "ticks": "outside"
             }
            },
            "marker": {
             "colorbar": {
              "outlinewidth": 1,
              "tickcolor": "rgb(36,36,36)",
              "ticks": "outside"
             }
            },
            "type": "scatter3d"
           }
          ],
          "scattercarpet": [
           {
            "marker": {
             "colorbar": {
              "outlinewidth": 1,
              "tickcolor": "rgb(36,36,36)",
              "ticks": "outside"
             }
            },
            "type": "scattercarpet"
           }
          ],
          "scattergeo": [
           {
            "marker": {
             "colorbar": {
              "outlinewidth": 1,
              "tickcolor": "rgb(36,36,36)",
              "ticks": "outside"
             }
            },
            "type": "scattergeo"
           }
          ],
          "scattergl": [
           {
            "marker": {
             "colorbar": {
              "outlinewidth": 1,
              "tickcolor": "rgb(36,36,36)",
              "ticks": "outside"
             }
            },
            "type": "scattergl"
           }
          ],
          "scattermap": [
           {
            "marker": {
             "colorbar": {
              "outlinewidth": 1,
              "tickcolor": "rgb(36,36,36)",
              "ticks": "outside"
             }
            },
            "type": "scattermap"
           }
          ],
          "scattermapbox": [
           {
            "marker": {
             "colorbar": {
              "outlinewidth": 1,
              "tickcolor": "rgb(36,36,36)",
              "ticks": "outside"
             }
            },
            "type": "scattermapbox"
           }
          ],
          "scatterpolar": [
           {
            "marker": {
             "colorbar": {
              "outlinewidth": 1,
              "tickcolor": "rgb(36,36,36)",
              "ticks": "outside"
             }
            },
            "type": "scatterpolar"
           }
          ],
          "scatterpolargl": [
           {
            "marker": {
             "colorbar": {
              "outlinewidth": 1,
              "tickcolor": "rgb(36,36,36)",
              "ticks": "outside"
             }
            },
            "type": "scatterpolargl"
           }
          ],
          "scatterternary": [
           {
            "marker": {
             "colorbar": {
              "outlinewidth": 1,
              "tickcolor": "rgb(36,36,36)",
              "ticks": "outside"
             }
            },
            "type": "scatterternary"
           }
          ],
          "surface": [
           {
            "colorbar": {
             "outlinewidth": 1,
             "tickcolor": "rgb(36,36,36)",
             "ticks": "outside"
            },
            "colorscale": [
             [
              0,
              "#440154"
             ],
             [
              0.1111111111111111,
              "#482878"
             ],
             [
              0.2222222222222222,
              "#3e4989"
             ],
             [
              0.3333333333333333,
              "#31688e"
             ],
             [
              0.4444444444444444,
              "#26828e"
             ],
             [
              0.5555555555555556,
              "#1f9e89"
             ],
             [
              0.6666666666666666,
              "#35b779"
             ],
             [
              0.7777777777777778,
              "#6ece58"
             ],
             [
              0.8888888888888888,
              "#b5de2b"
             ],
             [
              1,
              "#fde725"
             ]
            ],
            "type": "surface"
           }
          ],
          "table": [
           {
            "cells": {
             "fill": {
              "color": "rgb(237,237,237)"
             },
             "line": {
              "color": "white"
             }
            },
            "header": {
             "fill": {
              "color": "rgb(217,217,217)"
             },
             "line": {
              "color": "white"
             }
            },
            "type": "table"
           }
          ]
         },
         "layout": {
          "annotationdefaults": {
           "arrowhead": 0,
           "arrowwidth": 1
          },
          "autotypenumbers": "strict",
          "coloraxis": {
           "colorbar": {
            "outlinewidth": 1,
            "tickcolor": "rgb(36,36,36)",
            "ticks": "outside"
           }
          },
          "colorscale": {
           "diverging": [
            [
             0,
             "rgb(103,0,31)"
            ],
            [
             0.1,
             "rgb(178,24,43)"
            ],
            [
             0.2,
             "rgb(214,96,77)"
            ],
            [
             0.3,
             "rgb(244,165,130)"
            ],
            [
             0.4,
             "rgb(253,219,199)"
            ],
            [
             0.5,
             "rgb(247,247,247)"
            ],
            [
             0.6,
             "rgb(209,229,240)"
            ],
            [
             0.7,
             "rgb(146,197,222)"
            ],
            [
             0.8,
             "rgb(67,147,195)"
            ],
            [
             0.9,
             "rgb(33,102,172)"
            ],
            [
             1,
             "rgb(5,48,97)"
            ]
           ],
           "sequential": [
            [
             0,
             "#440154"
            ],
            [
             0.1111111111111111,
             "#482878"
            ],
            [
             0.2222222222222222,
             "#3e4989"
            ],
            [
             0.3333333333333333,
             "#31688e"
            ],
            [
             0.4444444444444444,
             "#26828e"
            ],
            [
             0.5555555555555556,
             "#1f9e89"
            ],
            [
             0.6666666666666666,
             "#35b779"
            ],
            [
             0.7777777777777778,
             "#6ece58"
            ],
            [
             0.8888888888888888,
             "#b5de2b"
            ],
            [
             1,
             "#fde725"
            ]
           ],
           "sequentialminus": [
            [
             0,
             "#440154"
            ],
            [
             0.1111111111111111,
             "#482878"
            ],
            [
             0.2222222222222222,
             "#3e4989"
            ],
            [
             0.3333333333333333,
             "#31688e"
            ],
            [
             0.4444444444444444,
             "#26828e"
            ],
            [
             0.5555555555555556,
             "#1f9e89"
            ],
            [
             0.6666666666666666,
             "#35b779"
            ],
            [
             0.7777777777777778,
             "#6ece58"
            ],
            [
             0.8888888888888888,
             "#b5de2b"
            ],
            [
             1,
             "#fde725"
            ]
           ]
          },
          "colorway": [
           "#1F77B4",
           "#FF7F0E",
           "#2CA02C",
           "#D62728",
           "#9467BD",
           "#8C564B",
           "#E377C2",
           "#7F7F7F",
           "#BCBD22",
           "#17BECF"
          ],
          "font": {
           "color": "rgb(36,36,36)"
          },
          "geo": {
           "bgcolor": "white",
           "lakecolor": "white",
           "landcolor": "white",
           "showlakes": true,
           "showland": true,
           "subunitcolor": "white"
          },
          "hoverlabel": {
           "align": "left"
          },
          "hovermode": "closest",
          "mapbox": {
           "style": "light"
          },
          "paper_bgcolor": "white",
          "plot_bgcolor": "white",
          "polar": {
           "angularaxis": {
            "gridcolor": "rgb(232,232,232)",
            "linecolor": "rgb(36,36,36)",
            "showgrid": false,
            "showline": true,
            "ticks": "outside"
           },
           "bgcolor": "white",
           "radialaxis": {
            "gridcolor": "rgb(232,232,232)",
            "linecolor": "rgb(36,36,36)",
            "showgrid": false,
            "showline": true,
            "ticks": "outside"
           }
          },
          "scene": {
           "xaxis": {
            "backgroundcolor": "white",
            "gridcolor": "rgb(232,232,232)",
            "gridwidth": 2,
            "linecolor": "rgb(36,36,36)",
            "showbackground": true,
            "showgrid": false,
            "showline": true,
            "ticks": "outside",
            "zeroline": false,
            "zerolinecolor": "rgb(36,36,36)"
           },
           "yaxis": {
            "backgroundcolor": "white",
            "gridcolor": "rgb(232,232,232)",
            "gridwidth": 2,
            "linecolor": "rgb(36,36,36)",
            "showbackground": true,
            "showgrid": false,
            "showline": true,
            "ticks": "outside",
            "zeroline": false,
            "zerolinecolor": "rgb(36,36,36)"
           },
           "zaxis": {
            "backgroundcolor": "white",
            "gridcolor": "rgb(232,232,232)",
            "gridwidth": 2,
            "linecolor": "rgb(36,36,36)",
            "showbackground": true,
            "showgrid": false,
            "showline": true,
            "ticks": "outside",
            "zeroline": false,
            "zerolinecolor": "rgb(36,36,36)"
           }
          },
          "shapedefaults": {
           "fillcolor": "black",
           "line": {
            "width": 0
           },
           "opacity": 0.3
          },
          "ternary": {
           "aaxis": {
            "gridcolor": "rgb(232,232,232)",
            "linecolor": "rgb(36,36,36)",
            "showgrid": false,
            "showline": true,
            "ticks": "outside"
           },
           "baxis": {
            "gridcolor": "rgb(232,232,232)",
            "linecolor": "rgb(36,36,36)",
            "showgrid": false,
            "showline": true,
            "ticks": "outside"
           },
           "bgcolor": "white",
           "caxis": {
            "gridcolor": "rgb(232,232,232)",
            "linecolor": "rgb(36,36,36)",
            "showgrid": false,
            "showline": true,
            "ticks": "outside"
           }
          },
          "title": {
           "x": 0.05
          },
          "xaxis": {
           "automargin": true,
           "gridcolor": "rgb(232,232,232)",
           "linecolor": "rgb(36,36,36)",
           "showgrid": false,
           "showline": true,
           "ticks": "outside",
           "title": {
            "standoff": 15
           },
           "zeroline": false,
           "zerolinecolor": "rgb(36,36,36)"
          },
          "yaxis": {
           "automargin": true,
           "gridcolor": "rgb(232,232,232)",
           "linecolor": "rgb(36,36,36)",
           "showgrid": false,
           "showline": true,
           "ticks": "outside",
           "title": {
            "standoff": 15
           },
           "zeroline": false,
           "zerolinecolor": "rgb(36,36,36)"
          }
         }
        },
        "title": {
         "text": "دسته بندی کنتور ها بر اساس سایز"
        },
        "width": 1800,
        "xaxis": {
         "anchor": "y",
         "domain": [
          0,
          1
         ],
         "title": {
          "text": "Meter Size"
         }
        },
        "yaxis": {
         "anchor": "x",
         "domain": [
          0,
          1
         ],
         "title": {
          "text": "تعداد"
         }
        }
       }
      }
     },
     "metadata": {},
     "output_type": "display_data"
    }
   ],
   "source": [
    "fig.show()"
   ]
  },
  {
   "cell_type": "code",
   "execution_count": 75,
   "id": "671269c9",
   "metadata": {},
   "outputs": [],
   "source": [
    "import plotly.graph_objects as go\n",
    "\n",
    "fig = go.Figure(data=[go.Bar(\n",
    "    x = info_copy['Meter Size'],\n",
    "    y = info_copy['Meter Size'].value_counts().sort_values(),\n",
    "    width = [20,20,20,20,20, 10, 10, 10,10,10] # customize width here\n",
    ")])"
   ]
  },
  {
   "cell_type": "code",
   "execution_count": 76,
   "id": "bdb09ce7",
   "metadata": {},
   "outputs": [
    {
     "data": {
      "application/vnd.plotly.v1+json": {
       "config": {
        "plotlyServerURL": "https://plot.ly"
       },
       "data": [
        {
         "type": "bar",
         "width": [
          20,
          20,
          20,
          20,
          20,
          10,
          10,
          10,
          10,
          10
         ],
         "x": {
          "bdata": "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",
          "dtype": "i2"
         },
         "y": {
          "bdata": "DAAVABYAXQCPALQA8gAHAd8BzQI=",
          "dtype": "i2"
         }
        }
       ],
       "layout": {
        "template": {
         "data": {
          "bar": [
           {
            "error_x": {
             "color": "#2a3f5f"
            },
            "error_y": {
             "color": "#2a3f5f"
            },
            "marker": {
             "line": {
              "color": "#E5ECF6",
              "width": 0.5
             },
             "pattern": {
              "fillmode": "overlay",
              "size": 10,
              "solidity": 0.2
             }
            },
            "type": "bar"
           }
          ],
          "barpolar": [
           {
            "marker": {
             "line": {
              "color": "#E5ECF6",
              "width": 0.5
             },
             "pattern": {
              "fillmode": "overlay",
              "size": 10,
              "solidity": 0.2
             }
            },
            "type": "barpolar"
           }
          ],
          "carpet": [
           {
            "aaxis": {
             "endlinecolor": "#2a3f5f",
             "gridcolor": "white",
             "linecolor": "white",
             "minorgridcolor": "white",
             "startlinecolor": "#2a3f5f"
            },
            "baxis": {
             "endlinecolor": "#2a3f5f",
             "gridcolor": "white",
             "linecolor": "white",
             "minorgridcolor": "white",
             "startlinecolor": "#2a3f5f"
            },
            "type": "carpet"
           }
          ],
          "choropleth": [
           {
            "colorbar": {
             "outlinewidth": 0,
             "ticks": ""
            },
            "type": "choropleth"
           }
          ],
          "contour": [
           {
            "colorbar": {
             "outlinewidth": 0,
             "ticks": ""
            },
            "colorscale": [
             [
              0,
              "#0d0887"
             ],
             [
              0.1111111111111111,
              "#46039f"
             ],
             [
              0.2222222222222222,
              "#7201a8"
             ],
             [
              0.3333333333333333,
              "#9c179e"
             ],
             [
              0.4444444444444444,
              "#bd3786"
             ],
             [
              0.5555555555555556,
              "#d8576b"
             ],
             [
              0.6666666666666666,
              "#ed7953"
             ],
             [
              0.7777777777777778,
              "#fb9f3a"
             ],
             [
              0.8888888888888888,
              "#fdca26"
             ],
             [
              1,
              "#f0f921"
             ]
            ],
            "type": "contour"
           }
          ],
          "contourcarpet": [
           {
            "colorbar": {
             "outlinewidth": 0,
             "ticks": ""
            },
            "type": "contourcarpet"
           }
          ],
          "heatmap": [
           {
            "colorbar": {
             "outlinewidth": 0,
             "ticks": ""
            },
            "colorscale": [
             [
              0,
              "#0d0887"
             ],
             [
              0.1111111111111111,
              "#46039f"
             ],
             [
              0.2222222222222222,
              "#7201a8"
             ],
             [
              0.3333333333333333,
              "#9c179e"
             ],
             [
              0.4444444444444444,
              "#bd3786"
             ],
             [
              0.5555555555555556,
              "#d8576b"
             ],
             [
              0.6666666666666666,
              "#ed7953"
             ],
             [
              0.7777777777777778,
              "#fb9f3a"
             ],
             [
              0.8888888888888888,
              "#fdca26"
             ],
             [
              1,
              "#f0f921"
             ]
            ],
            "type": "heatmap"
           }
          ],
          "histogram": [
           {
            "marker": {
             "pattern": {
              "fillmode": "overlay",
              "size": 10,
              "solidity": 0.2
             }
            },
            "type": "histogram"
           }
          ],
          "histogram2d": [
           {
            "colorbar": {
             "outlinewidth": 0,
             "ticks": ""
            },
            "colorscale": [
             [
              0,
              "#0d0887"
             ],
             [
              0.1111111111111111,
              "#46039f"
             ],
             [
              0.2222222222222222,
              "#7201a8"
             ],
             [
              0.3333333333333333,
              "#9c179e"
             ],
             [
              0.4444444444444444,
              "#bd3786"
             ],
             [
              0.5555555555555556,
              "#d8576b"
             ],
             [
              0.6666666666666666,
              "#ed7953"
             ],
             [
              0.7777777777777778,
              "#fb9f3a"
             ],
             [
              0.8888888888888888,
              "#fdca26"
             ],
             [
              1,
              "#f0f921"
             ]
            ],
            "type": "histogram2d"
           }
          ],
          "histogram2dcontour": [
           {
            "colorbar": {
             "outlinewidth": 0,
             "ticks": ""
            },
            "colorscale": [
             [
              0,
              "#0d0887"
             ],
             [
              0.1111111111111111,
              "#46039f"
             ],
             [
              0.2222222222222222,
              "#7201a8"
             ],
             [
              0.3333333333333333,
              "#9c179e"
             ],
             [
              0.4444444444444444,
              "#bd3786"
             ],
             [
              0.5555555555555556,
              "#d8576b"
             ],
             [
              0.6666666666666666,
              "#ed7953"
             ],
             [
              0.7777777777777778,
              "#fb9f3a"
             ],
             [
              0.8888888888888888,
              "#fdca26"
             ],
             [
              1,
              "#f0f921"
             ]
            ],
            "type": "histogram2dcontour"
           }
          ],
          "mesh3d": [
           {
            "colorbar": {
             "outlinewidth": 0,
             "ticks": ""
            },
            "type": "mesh3d"
           }
          ],
          "parcoords": [
           {
            "line": {
             "colorbar": {
              "outlinewidth": 0,
              "ticks": ""
             }
            },
            "type": "parcoords"
           }
          ],
          "pie": [
           {
            "automargin": true,
            "type": "pie"
           }
          ],
          "scatter": [
           {
            "fillpattern": {
             "fillmode": "overlay",
             "size": 10,
             "solidity": 0.2
            },
            "type": "scatter"
           }
          ],
          "scatter3d": [
           {
            "line": {
             "colorbar": {
              "outlinewidth": 0,
              "ticks": ""
             }
            },
            "marker": {
             "colorbar": {
              "outlinewidth": 0,
              "ticks": ""
             }
            },
            "type": "scatter3d"
           }
          ],
          "scattercarpet": [
           {
            "marker": {
             "colorbar": {
              "outlinewidth": 0,
              "ticks": ""
             }
            },
            "type": "scattercarpet"
           }
          ],
          "scattergeo": [
           {
            "marker": {
             "colorbar": {
              "outlinewidth": 0,
              "ticks": ""
             }
            },
            "type": "scattergeo"
           }
          ],
          "scattergl": [
           {
            "marker": {
             "colorbar": {
              "outlinewidth": 0,
              "ticks": ""
             }
            },
            "type": "scattergl"
           }
          ],
          "scattermap": [
           {
            "marker": {
             "colorbar": {
              "outlinewidth": 0,
              "ticks": ""
             }
            },
            "type": "scattermap"
           }
          ],
          "scattermapbox": [
           {
            "marker": {
             "colorbar": {
              "outlinewidth": 0,
              "ticks": ""
             }
            },
            "type": "scattermapbox"
           }
          ],
          "scatterpolar": [
           {
            "marker": {
             "colorbar": {
              "outlinewidth": 0,
              "ticks": ""
             }
            },
            "type": "scatterpolar"
           }
          ],
          "scatterpolargl": [
           {
            "marker": {
             "colorbar": {
              "outlinewidth": 0,
              "ticks": ""
             }
            },
            "type": "scatterpolargl"
           }
          ],
          "scatterternary": [
           {
            "marker": {
             "colorbar": {
              "outlinewidth": 0,
              "ticks": ""
             }
            },
            "type": "scatterternary"
           }
          ],
          "surface": [
           {
            "colorbar": {
             "outlinewidth": 0,
             "ticks": ""
            },
            "colorscale": [
             [
              0,
              "#0d0887"
             ],
             [
              0.1111111111111111,
              "#46039f"
             ],
             [
              0.2222222222222222,
              "#7201a8"
             ],
             [
              0.3333333333333333,
              "#9c179e"
             ],
             [
              0.4444444444444444,
              "#bd3786"
             ],
             [
              0.5555555555555556,
              "#d8576b"
             ],
             [
              0.6666666666666666,
              "#ed7953"
             ],
             [
              0.7777777777777778,
              "#fb9f3a"
             ],
             [
              0.8888888888888888,
              "#fdca26"
             ],
             [
              1,
              "#f0f921"
             ]
            ],
            "type": "surface"
           }
          ],
          "table": [
           {
            "cells": {
             "fill": {
              "color": "#EBF0F8"
             },
             "line": {
              "color": "white"
             }
            },
            "header": {
             "fill": {
              "color": "#C8D4E3"
             },
             "line": {
              "color": "white"
             }
            },
            "type": "table"
           }
          ]
         },
         "layout": {
          "annotationdefaults": {
           "arrowcolor": "#2a3f5f",
           "arrowhead": 0,
           "arrowwidth": 1
          },
          "autotypenumbers": "strict",
          "coloraxis": {
           "colorbar": {
            "outlinewidth": 0,
            "ticks": ""
           }
          },
          "colorscale": {
           "diverging": [
            [
             0,
             "#8e0152"
            ],
            [
             0.1,
             "#c51b7d"
            ],
            [
             0.2,
             "#de77ae"
            ],
            [
             0.3,
             "#f1b6da"
            ],
            [
             0.4,
             "#fde0ef"
            ],
            [
             0.5,
             "#f7f7f7"
            ],
            [
             0.6,
             "#e6f5d0"
            ],
            [
             0.7,
             "#b8e186"
            ],
            [
             0.8,
             "#7fbc41"
            ],
            [
             0.9,
             "#4d9221"
            ],
            [
             1,
             "#276419"
            ]
           ],
           "sequential": [
            [
             0,
             "#0d0887"
            ],
            [
             0.1111111111111111,
             "#46039f"
            ],
            [
             0.2222222222222222,
             "#7201a8"
            ],
            [
             0.3333333333333333,
             "#9c179e"
            ],
            [
             0.4444444444444444,
             "#bd3786"
            ],
            [
             0.5555555555555556,
             "#d8576b"
            ],
            [
             0.6666666666666666,
             "#ed7953"
            ],
            [
             0.7777777777777778,
             "#fb9f3a"
            ],
            [
             0.8888888888888888,
             "#fdca26"
            ],
            [
             1,
             "#f0f921"
            ]
           ],
           "sequentialminus": [
            [
             0,
             "#0d0887"
            ],
            [
             0.1111111111111111,
             "#46039f"
            ],
            [
             0.2222222222222222,
             "#7201a8"
            ],
            [
             0.3333333333333333,
             "#9c179e"
            ],
            [
             0.4444444444444444,
             "#bd3786"
            ],
            [
             0.5555555555555556,
             "#d8576b"
            ],
            [
             0.6666666666666666,
             "#ed7953"
            ],
            [
             0.7777777777777778,
             "#fb9f3a"
            ],
            [
             0.8888888888888888,
             "#fdca26"
            ],
            [
             1,
             "#f0f921"
            ]
           ]
          },
          "colorway": [
           "#636efa",
           "#EF553B",
           "#00cc96",
           "#ab63fa",
           "#FFA15A",
           "#19d3f3",
           "#FF6692",
           "#B6E880",
           "#FF97FF",
           "#FECB52"
          ],
          "font": {
           "color": "#2a3f5f"
          },
          "geo": {
           "bgcolor": "white",
           "lakecolor": "white",
           "landcolor": "#E5ECF6",
           "showlakes": true,
           "showland": true,
           "subunitcolor": "white"
          },
          "hoverlabel": {
           "align": "left"
          },
          "hovermode": "closest",
          "mapbox": {
           "style": "light"
          },
          "paper_bgcolor": "white",
          "plot_bgcolor": "#E5ECF6",
          "polar": {
           "angularaxis": {
            "gridcolor": "white",
            "linecolor": "white",
            "ticks": ""
           },
           "bgcolor": "#E5ECF6",
           "radialaxis": {
            "gridcolor": "white",
            "linecolor": "white",
            "ticks": ""
           }
          },
          "scene": {
           "xaxis": {
            "backgroundcolor": "#E5ECF6",
            "gridcolor": "white",
            "gridwidth": 2,
            "linecolor": "white",
            "showbackground": true,
            "ticks": "",
            "zerolinecolor": "white"
           },
           "yaxis": {
            "backgroundcolor": "#E5ECF6",
            "gridcolor": "white",
            "gridwidth": 2,
            "linecolor": "white",
            "showbackground": true,
            "ticks": "",
            "zerolinecolor": "white"
           },
           "zaxis": {
            "backgroundcolor": "#E5ECF6",
            "gridcolor": "white",
            "gridwidth": 2,
            "linecolor": "white",
            "showbackground": true,
            "ticks": "",
            "zerolinecolor": "white"
           }
          },
          "shapedefaults": {
           "line": {
            "color": "#2a3f5f"
           }
          },
          "ternary": {
           "aaxis": {
            "gridcolor": "white",
            "linecolor": "white",
            "ticks": ""
           },
           "baxis": {
            "gridcolor": "white",
            "linecolor": "white",
            "ticks": ""
           },
           "bgcolor": "#E5ECF6",
           "caxis": {
            "gridcolor": "white",
            "linecolor": "white",
            "ticks": ""
           }
          },
          "title": {
           "x": 0.05
          },
          "xaxis": {
           "automargin": true,
           "gridcolor": "white",
           "linecolor": "white",
           "ticks": "",
           "title": {
            "standoff": 15
           },
           "zerolinecolor": "white",
           "zerolinewidth": 2
          },
          "yaxis": {
           "automargin": true,
           "gridcolor": "white",
           "linecolor": "white",
           "ticks": "",
           "title": {
            "standoff": 15
           },
           "zerolinecolor": "white",
           "zerolinewidth": 2
          }
         }
        }
       }
      }
     },
     "metadata": {},
     "output_type": "display_data"
    }
   ],
   "source": [
    "fig.show()"
   ]
  },
  {
   "cell_type": "code",
   "execution_count": 77,
   "id": "00a6fe51",
   "metadata": {},
   "outputs": [
    {
     "data": {
      "text/plain": [
       "(Bar({\n",
       "     'width': [20, 20, 20, 20, 20, 10, 10, 10, 10, 10],\n",
       "     'x': array([ 50,  80,  50, ...,  50, 100, 150]),\n",
       "     'y': array([ 12,  21,  22,  93, 143, 180, 242, 263, 479, 717])\n",
       " }),)"
      ]
     },
     "execution_count": 77,
     "metadata": {},
     "output_type": "execute_result"
    }
   ],
   "source": [
    "fig.to_dict().keys()  # ساختار کلی\n",
    "fig['layout']         # بخش layout\n",
    "fig['data']  "
   ]
  },
  {
   "cell_type": "code",
   "execution_count": 78,
   "id": "80644009",
   "metadata": {},
   "outputs": [],
   "source": [
    "info_copy['Meter Size'] = info_copy['Meter Size'].astype(\"object\") "
   ]
  },
  {
   "cell_type": "code",
   "execution_count": null,
   "id": "abe5e752",
   "metadata": {},
   "outputs": [
    {
     "data": {
      "application/vnd.plotly.v1+json": {
       "config": {
        "plotlyServerURL": "https://plot.ly"
       },
       "data": [
        {
         "alignmentgroup": "True",
         "hovertemplate": "County=باخرز<br>year=1401<br>month_num=%{x}<br>Consumption (m³)=%{y}<extra></extra>",
         "legendgroup": "باخرز",
         "marker": {
          "color": "#636efa",
          "pattern": {
           "shape": ""
          }
         },
         "name": "باخرز",
         "offsetgroup": "باخرز",
         "orientation": "v",
         "showlegend": true,
         "textposition": "auto",
         "texttemplate": "%{y}",
         "type": "bar",
         "x": [
          "01",
          "02",
          "03",
          "04",
          "05",
          "06",
          "07",
          "08",
          "09",
          "10",
          "11",
          "12"
         ],
         "xaxis": "x3",
         "y": {
          "bdata": "zczMzNxa7EBmZmZmhhvHQHsUrkfhepQ/MzMzM/3VHUEAAAAAAOrxQJqZmZl5u/RAMzMzMzPq80BmZmZmRtHSQHJoke186bFAmpmZmSmN4kCamZmZmfF3QJDC9ShECuBA",
          "dtype": "f8"
         },
         "yaxis": "y3"
        },
        {
         "alignmentgroup": "True",
         "hovertemplate": "County=باخرز<br>year=1402<br>month_num=%{x}<br>Consumption (m³)=%{y}<extra></extra>",
         "legendgroup": "باخرز",
         "marker": {
          "color": "#636efa",
          "pattern": {
           "shape": ""
          }
         },
         "name": "باخرز",
         "offsetgroup": "باخرز",
         "orientation": "v",
         "showlegend": false,
         "textposition": "auto",
         "texttemplate": "%{y}",
         "type": "bar",
         "x": [
          "01",
          "02",
          "03",
          "04",
          "05",
          "06",
          "07",
          "08",
          "09",
          "10",
          "11",
          "12"
         ],
         "xaxis": "x2",
         "y": {
          "bdata": "4XoUrq8u8EA3iUFgncLYQGDl0CLDiOhADAIrh+6Q7kDD9ShcLzfuQAAAAABQR+1AzczMzOx170AAAAAAUDjpQAAAAAAQsuhAmpmZmVnA1UAAAAAAwGPAQDMzMzMze4FA",
          "dtype": "f8"
         },
         "yaxis": "y2"
        },
        {
         "alignmentgroup": "True",
         "hovertemplate": "County=باخرز<br>year=1403<br>month_num=%{x}<br>Consumption (m³)=%{y}<extra></extra>",
         "legendgroup": "باخرز",
         "marker": {
          "color": "#636efa",
          "pattern": {
           "shape": ""
          }
         },
         "name": "باخرز",
         "offsetgroup": "باخرز",
         "orientation": "v",
         "showlegend": false,
         "textposition": "auto",
         "texttemplate": "%{y}",
         "type": "bar",
         "x": [
          "01",
          "02",
          "03",
          "04",
          "05",
          "06",
          "07",
          "08"
         ],
         "xaxis": "x",
         "y": {
          "bdata": "AAAAADBv5EAAAAAAcJrgQM3MzMyMEOZAXI/C9ZAS6EAOLbKde4bpQGIQWDnUJ8NAAAAAAAAAAAAAAAAAAAAAAA==",
          "dtype": "f8"
         },
         "yaxis": "y"
        },
        {
         "alignmentgroup": "True",
         "hovertemplate": "County=بجستان<br>year=1401<br>month_num=%{x}<br>Consumption (m³)=%{y}<extra></extra>",
         "legendgroup": "بجستان",
         "marker": {
          "color": "#EF553B",
          "pattern": {
           "shape": ""
          }
         },
         "name": "بجستان",
         "offsetgroup": "بجستان",
         "orientation": "v",
         "showlegend": true,
         "textposition": "auto",
         "texttemplate": "%{y}",
         "type": "bar",
         "x": [
          "01",
          "02",
          "03",
          "04",
          "05",
          "06",
          "07",
          "08",
          "10",
          "11",
          "12"
         ],
         "xaxis": "x3",
         "y": {
          "bdata": "7FG4HpX63UCamZmZ8V3yQM3MzMy8tfRAZmZmZv7280CamZmZmZfzQM3MzMzUX/RAzczMzEyvvEDNzMzMzAxUQJqZmZkJBuxAzczMzLT28UAAAAAACPHzQA==",
          "dtype": "f8"
         },
         "yaxis": "y3"
        },
        {
         "alignmentgroup": "True",
         "hovertemplate": "County=بجستان<br>year=1402<br>month_num=%{x}<br>Consumption (m³)=%{y}<extra></extra>",
         "legendgroup": "بجستان",
         "marker": {
          "color": "#EF553B",
          "pattern": {
           "shape": ""
          }
         },
         "name": "بجستان",
         "offsetgroup": "بجستان",
         "orientation": "v",
         "showlegend": false,
         "textposition": "auto",
         "texttemplate": "%{y}",
         "type": "bar",
         "x": [
          "01",
          "02",
          "03",
          "04",
          "05",
          "06",
          "07",
          "08",
          "09",
          "10",
          "12"
         ],
         "xaxis": "x2",
         "y": {
          "bdata": "ZmZmZpbz5kAzMzMzo73xQAAAAAAQjfRAMzMzM6PV80AAAAAAoCHwQAAAAABgEuhAAAAAAACGqEAAAAAAAAAAAAAAAAAAnc5AAAAAAGCy8kAAAAAAwK/vQA==",
          "dtype": "f8"
         },
         "yaxis": "y2"
        },
        {
         "alignmentgroup": "True",
         "hovertemplate": "County=بجستان<br>year=1403<br>month_num=%{x}<br>Consumption (m³)=%{y}<extra></extra>",
         "legendgroup": "بجستان",
         "marker": {
          "color": "#EF553B",
          "pattern": {
           "shape": ""
          }
         },
         "name": "بجستان",
         "offsetgroup": "بجستان",
         "orientation": "v",
         "showlegend": false,
         "textposition": "auto",
         "texttemplate": "%{y}",
         "type": "bar",
         "x": [
          "01",
          "02",
          "03",
          "04",
          "05",
          "06",
          "07",
          "08",
          "09",
          "10",
          "11",
          "12"
         ],
         "xaxis": "x",
         "y": {
          "bdata": "AAAAAIDo4UAAAAAAoPbjQAAAAACwB/NAAAAAAECU8UAAAAAA4FzwQAAAAAAwOfJAAAAAAADvsUAAAAAAAHB6QAAAAAAAAFVAAAAAALB48EAAAAAAYN3jQAAAAADgIfFA",
          "dtype": "f8"
         },
         "yaxis": "y"
        },
        {
         "alignmentgroup": "True",
         "hovertemplate": "County=تایباد<br>year=1401<br>month_num=%{x}<br>Consumption (m³)=%{y}<extra></extra>",
         "legendgroup": "تایباد",
         "marker": {
          "color": "#00cc96",
          "pattern": {
           "shape": ""
          }
         },
         "name": "تایباد",
         "offsetgroup": "تایباد",
         "orientation": "v",
         "showlegend": true,
         "textposition": "auto",
         "texttemplate": "%{y}",
         "type": "bar",
         "x": [
          "01",
          "02",
          "03",
          "04",
          "05",
          "06",
          "07",
          "08",
          "09",
          "10",
          "11",
          "12"
         ],
         "xaxis": "x3",
         "y": {
          "bdata": "cD0K1/sg9ED+1HjprvvrQGQ730+deNlADi2yndF68kD2KFyP6GH4QC/dJAaRNt9A9ihcj9Iz2UAW2c73A6vJQObQItu5lLJAKVyPwh3S00C+nxovjaTCQArXo3ANP9dA",
          "dtype": "f8"
         },
         "yaxis": "y3"
        },
        {
         "alignmentgroup": "True",
         "hovertemplate": "County=تایباد<br>year=1402<br>month_num=%{x}<br>Consumption (m³)=%{y}<extra></extra>",
         "legendgroup": "تایباد",
         "marker": {
          "color": "#00cc96",
          "pattern": {
           "shape": ""
          }
         },
         "name": "تایباد",
         "offsetgroup": "تایباد",
         "orientation": "v",
         "showlegend": false,
         "textposition": "auto",
         "texttemplate": "%{y}",
         "type": "bar",
         "x": [
          "01",
          "02",
          "03",
          "04",
          "05",
          "06",
          "07",
          "08",
          "09",
          "10",
          "11",
          "12"
         ],
         "xaxis": "x2",
         "y": {
          "bdata": "4XoUrjdx2ED2KFyPOobmQMQgsHLYMOtAmG4Sg4gt4EDsUbgelXntQKrx0k2q0NpAAAAAAEhG3UAEVg4tkFnyQNv5fmpsGs9AAAAAALhp3EAfhetRGNPfQN0kBoGVy9FA",
          "dtype": "f8"
         },
         "yaxis": "y2"
        },
        {
         "alignmentgroup": "True",
         "hovertemplate": "County=تایباد<br>year=1403<br>month_num=%{x}<br>Consumption (m³)=%{y}<extra></extra>",
         "legendgroup": "تایباد",
         "marker": {
          "color": "#00cc96",
          "pattern": {
           "shape": ""
          }
         },
         "name": "تایباد",
         "offsetgroup": "تایباد",
         "orientation": "v",
         "showlegend": false,
         "textposition": "auto",
         "texttemplate": "%{y}",
         "type": "bar",
         "x": [
          "01",
          "02",
          "03",
          "04",
          "05",
          "06",
          "07",
          "08",
          "09",
          "10",
          "11",
          "12"
         ],
         "xaxis": "x",
         "y": {
          "bdata": "TmIQWPGq3UBKDAIr76XZQIGVQ4tkA99A001iEBAL1kBWDi2ynUPeQC2yne8r2eBASgwCK5ul5ECyne+nhn7TQKrx0k2CDNZAgZVDiyRg10DqJjEILNS+QJDC9SjModJA",
          "dtype": "f8"
         },
         "yaxis": "y"
        },
        {
         "alignmentgroup": "True",
         "hovertemplate": "County=تربت جام<br>year=1401<br>month_num=%{x}<br>Consumption (m³)=%{y}<extra></extra>",
         "legendgroup": "تربت جام",
         "marker": {
          "color": "#ab63fa",
          "pattern": {
           "shape": ""
          }
         },
         "name": "تربت جام",
         "offsetgroup": "تربت جام",
         "orientation": "v",
         "showlegend": true,
         "textposition": "auto",
         "texttemplate": "%{y}",
         "type": "bar",
         "x": [
          "01",
          "02",
          "03",
          "04",
          "05",
          "06",
          "07",
          "08",
          "09",
          "10",
          "11",
          "12"
         ],
         "xaxis": "x3",
         "y": {
          "bdata": "9P3UeG+C/UCzne+nDijvQOBPjZdVCwJBdZMYBFw/80AMAiuHbDb3QMQgsHICSf5Aarx0091vL0FKDAIr25T1QNV46SaHfPVATmIQWG/l80Dwp8ZLOwTzQFTjpZvDaQNB",
          "dtype": "f8"
         },
         "yaxis": "y3"
        },
        {
         "alignmentgroup": "True",
         "hovertemplate": "County=تربت جام<br>year=1402<br>month_num=%{x}<br>Consumption (m³)=%{y}<extra></extra>",
         "legendgroup": "تربت جام",
         "marker": {
          "color": "#ab63fa",
          "pattern": {
           "shape": ""
          }
         },
         "name": "تربت جام",
         "offsetgroup": "تربت جام",
         "orientation": "v",
         "showlegend": false,
         "textposition": "auto",
         "texttemplate": "%{y}",
         "type": "bar",
         "x": [
          "01",
          "02",
          "03",
          "04",
          "05",
          "06",
          "07",
          "08",
          "09",
          "10",
          "11",
          "12"
         ],
         "xaxis": "x2",
         "y": {
          "bdata": "aJHtfDttAEF7FK5HPyAEQVg5tMg9GwBBlUOLbNXCAEEtsp3vbbkCQY2XbhLnhftA4XoUrgF2AkFU46WbI50CQXE9CtcXfgtBlkOLbF1T90AX2c739wgHQTZeukmouOVA",
          "dtype": "f8"
         },
         "yaxis": "y2"
        },
        {
         "alignmentgroup": "True",
         "hovertemplate": "County=تربت جام<br>year=1403<br>month_num=%{x}<br>Consumption (m³)=%{y}<extra></extra>",
         "legendgroup": "تربت جام",
         "marker": {
          "color": "#ab63fa",
          "pattern": {
           "shape": ""
          }
         },
         "name": "تربت جام",
         "offsetgroup": "تربت جام",
         "orientation": "v",
         "showlegend": false,
         "textposition": "auto",
         "texttemplate": "%{y}",
         "type": "bar",
         "x": [
          "01",
          "02",
          "03",
          "04",
          "05",
          "06",
          "07",
          "08",
          "09",
          "10",
          "11",
          "12"
         ],
         "xaxis": "x",
         "y": {
          "bdata": "16NwPfrsB0GR7Xw/J6kAQR1aZDsKkARBg8DKoQMw/0ApXI/CH8D/QEJg5dCqRvpASOF6FDhB8EDLoUW2Jf/wQFpkO9/vPOlAQDVeuilQ50AIrBxa3LTbQPLSTWLUDetA",
          "dtype": "f8"
         },
         "yaxis": "y"
        },
        {
         "alignmentgroup": "True",
         "hovertemplate": "County=تربت حیدریه<br>year=1401<br>month_num=%{x}<br>Consumption (m³)=%{y}<extra></extra>",
         "legendgroup": "تربت حیدریه",
         "marker": {
          "color": "#FFA15A",
          "pattern": {
           "shape": ""
          }
         },
         "name": "تربت حیدریه",
         "offsetgroup": "تربت حیدریه",
         "orientation": "v",
         "showlegend": true,
         "textposition": "auto",
         "texttemplate": "%{y}",
         "type": "bar",
         "x": [
          "01",
          "02",
          "03",
          "04",
          "05",
          "06",
          "07",
          "08",
          "09",
          "10",
          "11",
          "12"
         ],
         "xaxis": "x3",
         "y": {
          "bdata": "Rbbz/fLTREHP91PDHSFFQWIQWElMwENBnu+nRoIoREFU46V70dhDQYPAyoHLMEtBL90kxktqT0Gyne9HjIZAQU5iEBh78VFBL90k5hnLSEFkO99/7HFBQVTjpcsPfUlB",
          "dtype": "f8"
         },
         "yaxis": "y3"
        },
        {
         "alignmentgroup": "True",
         "hovertemplate": "County=تربت حیدریه<br>year=1402<br>month_num=%{x}<br>Consumption (m³)=%{y}<extra></extra>",
         "legendgroup": "تربت حیدریه",
         "marker": {
          "color": "#FFA15A",
          "pattern": {
           "shape": ""
          }
         },
         "name": "تربت حیدریه",
         "offsetgroup": "تربت حیدریه",
         "orientation": "v",
         "showlegend": false,
         "textposition": "auto",
         "texttemplate": "%{y}",
         "type": "bar",
         "x": [
          "01",
          "02",
          "03",
          "04",
          "05",
          "06",
          "07",
          "08",
          "09",
          "10",
          "11",
          "12"
         ],
         "xaxis": "x2",
         "y": {
          "bdata": "z/dT8xWoREHfT41XwjJMQTm0yOYtJE9BN4lBgNXgT0EK16PwBP1PQQaBlRvY/FJB30+N/wLbU0FYObT4njFRQdv5fqKC/VRBLbKdvznMVkE7309dX7dJQV66SewlKlFB",
          "dtype": "f8"
         },
         "yaxis": "y2"
        },
        {
         "alignmentgroup": "True",
         "hovertemplate": "County=تربت حیدریه<br>year=1403<br>month_num=%{x}<br>Consumption (m³)=%{y}<extra></extra>",
         "legendgroup": "تربت حیدریه",
         "marker": {
          "color": "#FFA15A",
          "pattern": {
           "shape": ""
          }
         },
         "name": "تربت حیدریه",
         "offsetgroup": "تربت حیدریه",
         "orientation": "v",
         "showlegend": false,
         "textposition": "auto",
         "texttemplate": "%{y}",
         "type": "bar",
         "x": [
          "01",
          "02",
          "03",
          "04",
          "05",
          "06",
          "07",
          "08",
          "09",
          "10",
          "11",
          "12"
         ],
         "xaxis": "x",
         "y": {
          "bdata": "iUFgPWekUkFkO9/PUehEQXWTGNQEhVdBH4XrwUHHVkE5tMhOo+NUQWDl0LqORVZBy6FF9mXdTEFeukmsVAlBQUw3iSHuPDlBdZMYJLB0TEEdWmQL6k1FQVK4HjXOxE9B",
          "dtype": "f8"
         },
         "yaxis": "y"
        },
        {
         "alignmentgroup": "True",
         "hovertemplate": "County=خواف<br>year=1401<br>month_num=%{x}<br>Consumption (m³)=%{y}<extra></extra>",
         "legendgroup": "خواف",
         "marker": {
          "color": "#19d3f3",
          "pattern": {
           "shape": ""
          }
         },
         "name": "خواف",
         "offsetgroup": "خواف",
         "orientation": "v",
         "showlegend": true,
         "textposition": "auto",
         "texttemplate": "%{y}",
         "type": "bar",
         "x": [
          "01",
          "02",
          "03",
          "04",
          "05",
          "06",
          "07",
          "08",
          "09",
          "10",
          "11",
          "12"
         ],
         "xaxis": "x3",
         "y": {
          "bdata": "Fa5H4RpKBEFg5dAirOEEQWiR7Tyh6yZBvHSTGIg6FkHo+6nxKZgEQZ7vp8bFgRNBqMZLt/9LE0E6tMh2OQESQZzEILAVbxNBmpmZmdgpCEFWDi2yiFsWQaJFtvOjQhBB",
          "dtype": "f8"
         },
         "yaxis": "y3"
        },
        {
         "alignmentgroup": "True",
         "hovertemplate": "County=خواف<br>year=1402<br>month_num=%{x}<br>Consumption (m³)=%{y}<extra></extra>",
         "legendgroup": "خواف",
         "marker": {
          "color": "#19d3f3",
          "pattern": {
           "shape": ""
          }
         },
         "name": "خواف",
         "offsetgroup": "خواف",
         "orientation": "v",
         "showlegend": false,
         "textposition": "auto",
         "texttemplate": "%{y}",
         "type": "bar",
         "x": [
          "01",
          "02",
          "03",
          "04",
          "05",
          "06",
          "07",
          "08",
          "09",
          "10",
          "11",
          "12"
         ],
         "xaxis": "x2",
         "y": {
          "bdata": "ObTI9tTCEUECK4cWvmEhQeSlm8Qi3RhBoBovXaxYFkGgGi9dH18UQarx0s1x4BhBdZMYhO6EFEHVeOmmIXouQbx0k5hAXh1Bx0s3iY6WGEErhxbZeqQYQYPAyqHJ1R5B",
          "dtype": "f8"
         },
         "yaxis": "y2"
        },
        {
         "alignmentgroup": "True",
         "hovertemplate": "County=خواف<br>year=1403<br>month_num=%{x}<br>Consumption (m³)=%{y}<extra></extra>",
         "legendgroup": "خواف",
         "marker": {
          "color": "#19d3f3",
          "pattern": {
           "shape": ""
          }
         },
         "name": "خواف",
         "offsetgroup": "خواف",
         "orientation": "v",
         "showlegend": false,
         "textposition": "auto",
         "texttemplate": "%{y}",
         "type": "bar",
         "x": [
          "01",
          "02",
          "03",
          "04",
          "05",
          "06",
          "07",
          "08",
          "09",
          "10",
          "11",
          "12"
         ],
         "xaxis": "x",
         "y": {
          "bdata": "30+NF2+tFUEhsHLo8u8ZQUA1XjpnBBtBlkOLbE0GFEE+CtcjgS0cQVTjpRtSfyBB/tR46XWdF0EAAACAXdQUQexRuB7jvhFBg8DKIZ9IEkFMN4nBo5oRQWzn+6m1xRNB",
          "dtype": "f8"
         },
         "yaxis": "y"
        },
        {
         "alignmentgroup": "True",
         "hovertemplate": "County=درگز<br>year=1401<br>month_num=%{x}<br>Consumption (m³)=%{y}<extra></extra>",
         "legendgroup": "درگز",
         "marker": {
          "color": "#FF6692",
          "pattern": {
           "shape": ""
          }
         },
         "name": "درگز",
         "offsetgroup": "درگز",
         "orientation": "v",
         "showlegend": true,
         "textposition": "auto",
         "texttemplate": "%{y}",
         "type": "bar",
         "x": [
          "01",
          "02",
          "03",
          "04",
          "05",
          "06",
          "07",
          "08",
          "09",
          "10",
          "11",
          "12"
         ],
         "xaxis": "x3",
         "y": {
          "bdata": "K4cW2U5nwUDrUbgeBQqyQEfhehSuXb9AFK5H4TruwEC4HoXrsQvBQBSuR+G6t8FAwvUoXM/avUDZzvdT41mIQAvXo3Adb7NAehSuR0HGtEBKDAIrh0CbQKabxCDQDL5A",
          "dtype": "f8"
         },
         "yaxis": "y3"
        },
        {
         "alignmentgroup": "True",
         "hovertemplate": "County=درگز<br>year=1402<br>month_num=%{x}<br>Consumption (m³)=%{y}<extra></extra>",
         "legendgroup": "درگز",
         "marker": {
          "color": "#FF6692",
          "pattern": {
           "shape": ""
          }
         },
         "name": "درگز",
         "offsetgroup": "درگز",
         "orientation": "v",
         "showlegend": false,
         "textposition": "auto",
         "texttemplate": "%{y}",
         "type": "bar",
         "x": [
          "01",
          "02",
          "03",
          "04",
          "05",
          "06",
          "07",
          "08",
          "09",
          "10",
          "11",
          "12"
         ],
         "xaxis": "x2",
         "y": {
          "bdata": "2c73UwNAxkCq8dJN0pvBQGZmZmYGzc5AQWDl0DL81EAv3SQG6eXvQHNoke1UNdxACtejcF3Ru0AdWmQ7j5DEQM3MzMxslcBAd76fGr+vwUDjpZvEwFDJQHNoke1EftRA",
          "dtype": "f8"
         },
         "yaxis": "y2"
        },
        {
         "alignmentgroup": "True",
         "hovertemplate": "County=درگز<br>year=1403<br>month_num=%{x}<br>Consumption (m³)=%{y}<extra></extra>",
         "legendgroup": "درگز",
         "marker": {
          "color": "#FF6692",
          "pattern": {
           "shape": ""
          }
         },
         "name": "درگز",
         "offsetgroup": "درگز",
         "orientation": "v",
         "showlegend": false,
         "textposition": "auto",
         "texttemplate": "%{y}",
         "type": "bar",
         "x": [
          "01",
          "02",
          "03",
          "04",
          "05",
          "06",
          "07",
          "08",
          "09",
          "10",
          "11",
          "12"
         ],
         "xaxis": "x",
         "y": {
          "bdata": "8KfGS+8J3UDZzvdTZTP4QCGwcmihguZAg8DKofnm9EBaZDvfUZf3QBsv3ST2mu5A16NwPSY24UBRjZduHgHiQFyPwvUIKd5Anu+nxiMH2EAUrkfh+jnJQBkEVg5JwOVA",
          "dtype": "f8"
         },
         "yaxis": "y"
        },
        {
         "alignmentgroup": "True",
         "hovertemplate": "County=سبزوار<br>year=1401<br>month_num=%{x}<br>Consumption (m³)=%{y}<extra></extra>",
         "legendgroup": "سبزوار",
         "marker": {
          "color": "#B6E880",
          "pattern": {
           "shape": ""
          }
         },
         "name": "سبزوار",
         "offsetgroup": "سبزوار",
         "orientation": "v",
         "showlegend": true,
         "textposition": "auto",
         "texttemplate": "%{y}",
         "type": "bar",
         "x": [
          "01",
          "02",
          "03",
          "04",
          "05",
          "06",
          "07",
          "08",
          "09",
          "10",
          "11",
          "12"
         ],
         "xaxis": "x3",
         "y": {
          "bdata": "8tJNYo01NUFqvHTTLCUsQd0kBgEngClBiUFgJWnyIUElBoF1tH41QYPAymEaEiNBmpmZWa48JUF56Sax1wwdQYPAyiEezxZBc2iR7biiDEESg8CK4t8wQUA1XrompxNB",
          "dtype": "f8"
         },
         "yaxis": "y3"
        },
        {
         "alignmentgroup": "True",
         "hovertemplate": "County=سبزوار<br>year=1402<br>month_num=%{x}<br>Consumption (m³)=%{y}<extra></extra>",
         "legendgroup": "سبزوار",
         "marker": {
          "color": "#B6E880",
          "pattern": {
           "shape": ""
          }
         },
         "name": "سبزوار",
         "offsetgroup": "سبزوار",
         "orientation": "v",
         "showlegend": false,
         "textposition": "auto",
         "texttemplate": "%{y}",
         "type": "bar",
         "x": [
          "01",
          "02",
          "03",
          "04",
          "05",
          "06",
          "07",
          "08",
          "09",
          "10",
          "11",
          "12"
         ],
         "xaxis": "x2",
         "y": {
          "bdata": "Fa5H4e3PFUGyne+nufEcQa5H4Tqh4itBGy/dZM1hKEFGtvM9BjQhQT81XrrLDx9BokW2MxQGNkE+CtcjWPkxQVpkO187YhxBsHJoETecEkG4HoVr3e0iQcP1KBzJ3jBB",
          "dtype": "f8"
         },
         "yaxis": "y2"
        },
        {
         "alignmentgroup": "True",
         "hovertemplate": "County=سبزوار<br>year=1403<br>month_num=%{x}<br>Consumption (m³)=%{y}<extra></extra>",
         "legendgroup": "سبزوار",
         "marker": {
          "color": "#B6E880",
          "pattern": {
           "shape": ""
          }
         },
         "name": "سبزوار",
         "offsetgroup": "سبزوار",
         "orientation": "v",
         "showlegend": false,
         "textposition": "auto",
         "texttemplate": "%{y}",
         "type": "bar",
         "x": [
          "01",
          "02",
          "03",
          "04",
          "05",
          "06",
          "07",
          "08",
          "09",
          "10",
          "11",
          "12"
         ],
         "xaxis": "x",
         "y": {
          "bdata": "g8DKISLNH0HByqHFqyglQcHKoQXcYiJBRrbzPSVVJkGyne8nXWcuQVpkO1/B0yNBIbByKA5TIUHjpZvEfsEYQbpJDALFog1BjZduEjEJCEH+1HjpAekSQZZDi2wc4RhB",
          "dtype": "f8"
         },
         "yaxis": "y"
        },
        {
         "alignmentgroup": "True",
         "hovertemplate": "County=سرخس<br>year=1401<br>month_num=%{x}<br>Consumption (m³)=%{y}<extra></extra>",
         "legendgroup": "سرخس",
         "marker": {
          "color": "#FF97FF",
          "pattern": {
           "shape": ""
          }
         },
         "name": "سرخس",
         "offsetgroup": "سرخس",
         "orientation": "v",
         "showlegend": true,
         "textposition": "auto",
         "texttemplate": "%{y}",
         "type": "bar",
         "x": [
          "01",
          "02",
          "03",
          "04",
          "05",
          "06",
          "07",
          "08",
          "09",
          "10",
          "11",
          "12"
         ],
         "xaxis": "x3",
         "y": {
          "bdata": "SOF6FOZa/UB7FK5HA6kBQdejcD2EoARBw/UoXHFkA0EAAAAAUMIDQZqZmZlRSvBAexSuR2FI90CamZmZeYLiQIXrUbgEWwJBrkfhegTx2UApXI/C9fSbQFK4HoUzkvNA",
          "dtype": "f8"
         },
         "yaxis": "y3"
        },
        {
         "alignmentgroup": "True",
         "hovertemplate": "County=سرخس<br>year=1402<br>month_num=%{x}<br>Consumption (m³)=%{y}<extra></extra>",
         "legendgroup": "سرخس",
         "marker": {
          "color": "#FF97FF",
          "pattern": {
           "shape": ""
          }
         },
         "name": "سرخس",
         "offsetgroup": "سرخس",
         "orientation": "v",
         "showlegend": false,
         "textposition": "auto",
         "texttemplate": "%{y}",
         "type": "bar",
         "x": [
          "01",
          "02",
          "03",
          "04",
          "05",
          "06",
          "07",
          "08",
          "09",
          "10",
          "11",
          "12"
         ],
         "xaxis": "x2",
         "y": {
          "bdata": "MzMzM2PH+EBmZmZmZh/1QGZmZmYipgBBmpmZmfRoK0Hb+X5qBkv9QAeBlUN5sv1AVOOlO0bNMEF3vp/a4GUnQQAAAABgf+hACtejcFU4/UCPwvUoXAf2QBsv3STtUQxB",
          "dtype": "f8"
         },
         "yaxis": "y2"
        },
        {
         "alignmentgroup": "True",
         "hovertemplate": "County=سرخس<br>year=1403<br>month_num=%{x}<br>Consumption (m³)=%{y}<extra></extra>",
         "legendgroup": "سرخس",
         "marker": {
          "color": "#FF97FF",
          "pattern": {
           "shape": ""
          }
         },
         "name": "سرخس",
         "offsetgroup": "سرخس",
         "orientation": "v",
         "showlegend": false,
         "textposition": "auto",
         "texttemplate": "%{y}",
         "type": "bar",
         "x": [
          "01",
          "02",
          "03",
          "04",
          "05",
          "06",
          "07",
          "08",
          "09",
          "10",
          "11",
          "12"
         ],
         "xaxis": "x",
         "y": {
          "bdata": "AAAAAIhaEEEUrkfhs9cSQSlcj8IQShVBw/UoXOdfDEFKDAIrXuEGQaJFtvMx9RZBpHA9ChnbFkHhehSueZPwQBODwMq9yOtAzczMzGzm1EC4HoXrbRjyQAisHFoK+fJA",
          "dtype": "f8"
         },
         "yaxis": "y"
        },
        {
         "alignmentgroup": "True",
         "hovertemplate": "County=قوچان<br>year=1401<br>month_num=%{x}<br>Consumption (m³)=%{y}<extra></extra>",
         "legendgroup": "قوچان",
         "marker": {
          "color": "#FECB52",
          "pattern": {
           "shape": ""
          }
         },
         "name": "قوچان",
         "offsetgroup": "قوچان",
         "orientation": "v",
         "showlegend": true,
         "textposition": "auto",
         "texttemplate": "%{y}",
         "type": "bar",
         "x": [
          "01",
          "02",
          "03",
          "04",
          "05",
          "06",
          "07",
          "08",
          "09",
          "10",
          "11",
          "12"
         ],
         "xaxis": "x3",
         "y": {
          "bdata": "jpduEp9E7UD6fmq8tub1QBODwMqlW/1ASOF6FMMbAkFiEFg5PkX8QJzEILCUWPZAhxbZzrNZ4kC28/3UeG/XQClcj8LJQudA6Pup8aJA2EBMN4lBgKvCQCuHFtm+l+JA",
          "dtype": "f8"
         },
         "yaxis": "y3"
        },
        {
         "alignmentgroup": "True",
         "hovertemplate": "County=قوچان<br>year=1402<br>month_num=%{x}<br>Consumption (m³)=%{y}<extra></extra>",
         "legendgroup": "قوچان",
         "marker": {
          "color": "#FECB52",
          "pattern": {
           "shape": ""
          }
         },
         "name": "قوچان",
         "offsetgroup": "قوچان",
         "orientation": "v",
         "showlegend": false,
         "textposition": "auto",
         "texttemplate": "%{y}",
         "type": "bar",
         "x": [
          "01",
          "02",
          "03",
          "04",
          "05",
          "06",
          "07",
          "08",
          "09",
          "10",
          "11",
          "12"
         ],
         "xaxis": "x2",
         "y": {
          "bdata": "MQisHGKK+kC28/3UPRsAQWmR7XwL0P5ABoGVQ80OA0Hx0k1iDPL8QESLbOdmHwJBAiuHFoFj8kAQWDm0sO3vQAaBlUNLu+1A+n5qvMwx9kB/arx0uz/RQEW28/00X89A",
          "dtype": "f8"
         },
         "yaxis": "y2"
        },
        {
         "alignmentgroup": "True",
         "hovertemplate": "County=قوچان<br>year=1403<br>month_num=%{x}<br>Consumption (m³)=%{y}<extra></extra>",
         "legendgroup": "قوچان",
         "marker": {
          "color": "#FECB52",
          "pattern": {
           "shape": ""
          }
         },
         "name": "قوچان",
         "offsetgroup": "قوچان",
         "orientation": "v",
         "showlegend": false,
         "textposition": "auto",
         "texttemplate": "%{y}",
         "type": "bar",
         "x": [
          "01",
          "02",
          "03",
          "04",
          "05",
          "06",
          "07",
          "08",
          "09",
          "10",
          "11",
          "12"
         ],
         "xaxis": "x",
         "y": {
          "bdata": "pHA9CmtJ40DfT42XKoLxQGQ730+f/PlAI9v5fo/rAUE/NV66fSz1QD81Xrr1Iv1AmG4Sg0iT8UAMAiuHSGfwQBsv3ST+PtpAPzVeuq7bAEGiRbbzDYHVQKwcWmQ7gNZA",
          "dtype": "f8"
         },
         "yaxis": "y"
        },
        {
         "alignmentgroup": "True",
         "hovertemplate": "County=مشهد<br>year=1401<br>month_num=%{x}<br>Consumption (m³)=%{y}<extra></extra>",
         "legendgroup": "مشهد",
         "marker": {
          "color": "#636efa",
          "pattern": {
           "shape": ""
          }
         },
         "name": "مشهد",
         "offsetgroup": "مشهد",
         "orientation": "v",
         "showlegend": true,
         "textposition": "auto",
         "texttemplate": "%{y}",
         "type": "bar",
         "x": [
          "01",
          "02",
          "03",
          "04",
          "05",
          "06",
          "07",
          "08",
          "09",
          "10",
          "11",
          "12"
         ],
         "xaxis": "x3",
         "y": {
          "bdata": "8KfG00v3d0EUrkdt3qJ2QTMzM3uN/W9BEFg55LHIa0GJQWARGSxpQUjhemiOZGxBz/dT1+8qZEEMAivjYdRkQRBYOSRpd2NBTmIQgKdnWkEdWmQbPtVgQTm0yB4MrWJB",
          "dtype": "f8"
         },
         "yaxis": "y3"
        },
        {
         "alignmentgroup": "True",
         "hovertemplate": "County=مشهد<br>year=1402<br>month_num=%{x}<br>Consumption (m³)=%{y}<extra></extra>",
         "legendgroup": "مشهد",
         "marker": {
          "color": "#636efa",
          "pattern": {
           "shape": ""
          }
         },
         "name": "مشهد",
         "offsetgroup": "مشهد",
         "orientation": "v",
         "showlegend": false,
         "textposition": "auto",
         "texttemplate": "%{y}",
         "type": "bar",
         "x": [
          "01",
          "02",
          "03",
          "04",
          "05",
          "06",
          "07",
          "08",
          "09",
          "10",
          "11",
          "12"
         ],
         "xaxis": "x2",
         "y": {
          "bdata": "EFg5ACKTY0FYObQMXWlrQS/dJM7SSmlB9P3UwNJbZUFkO9/PGWNoQS2ynWdmkGVBpHA9eseoZEE7309hCKpmQWDl0HYnoGNBIbByGJY8aEEOLbLJsqVhQUA1XnrHrFxB",
          "dtype": "f8"
         },
         "yaxis": "y2"
        },
        {
         "alignmentgroup": "True",
         "hovertemplate": "County=مشهد<br>year=1403<br>month_num=%{x}<br>Consumption (m³)=%{y}<extra></extra>",
         "legendgroup": "مشهد",
         "marker": {
          "color": "#636efa",
          "pattern": {
           "shape": ""
          }
         },
         "name": "مشهد",
         "offsetgroup": "مشهد",
         "orientation": "v",
         "showlegend": false,
         "textposition": "auto",
         "texttemplate": "%{y}",
         "type": "bar",
         "x": [
          "01",
          "02",
          "03",
          "04",
          "05",
          "06",
          "07",
          "08",
          "09",
          "10",
          "11",
          "12"
         ],
         "xaxis": "x",
         "y": {
          "bdata": "KVyPcjIXYUEW2c7HzclcQe58P50Lx2RBK4cWkct0ZkEQWDlI2axlQUa282X2hmRBd76fsqLTXkFI4Xr8qklVQQisHCJrBlRBg8DKwUTdS0FI4XoUmB5LQRBYOeQhiU1B",
          "dtype": "f8"
         },
         "yaxis": "y"
        },
        {
         "alignmentgroup": "True",
         "hovertemplate": "County=نیشابور<br>year=1401<br>month_num=%{x}<br>Consumption (m³)=%{y}<extra></extra>",
         "legendgroup": "نیشابور",
         "marker": {
          "color": "#EF553B",
          "pattern": {
           "shape": ""
          }
         },
         "name": "نیشابور",
         "offsetgroup": "نیشابور",
         "orientation": "v",
         "showlegend": true,
         "textposition": "auto",
         "texttemplate": "%{y}",
         "type": "bar",
         "x": [
          "01",
          "02",
          "03",
          "04",
          "05",
          "06",
          "07",
          "08",
          "09",
          "10",
          "11",
          "12"
         ],
         "xaxis": "x3",
         "y": {
          "bdata": "EFg5NFF+GUEK16NwwE4hQaJFtnPMthtBbOf7KelnEkGe76fG88QUQfp+ajyKjRlB7nw/Ne/KB0EnMQisnVEJQc3MzMxNzw9BOrTIdgvdAUEZBFYOIMwSQfYoXK9LaUNB",
          "dtype": "f8"
         },
         "yaxis": "y3"
        },
        {
         "alignmentgroup": "True",
         "hovertemplate": "County=نیشابور<br>year=1402<br>month_num=%{x}<br>Consumption (m³)=%{y}<extra></extra>",
         "legendgroup": "نیشابور",
         "marker": {
          "color": "#EF553B",
          "pattern": {
           "shape": ""
          }
         },
         "name": "نیشابور",
         "offsetgroup": "نیشابور",
         "orientation": "v",
         "showlegend": false,
         "textposition": "auto",
         "texttemplate": "%{y}",
         "type": "bar",
         "x": [
          "01",
          "02",
          "03",
          "04",
          "05",
          "06",
          "07",
          "08",
          "09",
          "10",
          "11",
          "12"
         ],
         "xaxis": "x2",
         "y": {
          "bdata": "CawcWmEBHEGsHFpkTTkhQVpkO99UTxRBBoGVQ2kdEUGHFtnOeiAbQfhT42WN0ylBBoGVw1nFHUEVrkdhD14WQVk5tGjWkDZBH4XrERihI0EX2c73hTz4QP/UeOlsjyVB",
          "dtype": "f8"
         },
         "yaxis": "y2"
        },
        {
         "alignmentgroup": "True",
         "hovertemplate": "County=نیشابور<br>year=1403<br>month_num=%{x}<br>Consumption (m³)=%{y}<extra></extra>",
         "legendgroup": "نیشابور",
         "marker": {
          "color": "#EF553B",
          "pattern": {
           "shape": ""
          }
         },
         "name": "نیشابور",
         "offsetgroup": "نیشابور",
         "orientation": "v",
         "showlegend": false,
         "textposition": "auto",
         "texttemplate": "%{y}",
         "type": "bar",
         "x": [
          "01",
          "02",
          "03",
          "04",
          "05",
          "06",
          "07",
          "08",
          "09",
          "10",
          "11",
          "12"
         ],
         "xaxis": "x",
         "y": {
          "bdata": "TmIQWNhBBkFQjZfuVM0dQVYOLbJIVCFB7FG43uBDI0FxPQqXBFQrQUjhelTYuChBSOF6lKarKEEUrkchZuAgQcdLN8lv4iBBZ2ZmZoE7FUGoxks39ScPQfT91PizaxNB",
          "dtype": "f8"
         },
         "yaxis": "y"
        },
        {
         "alignmentgroup": "True",
         "hovertemplate": "County=چناران<br>year=1401<br>month_num=%{x}<br>Consumption (m³)=%{y}<extra></extra>",
         "legendgroup": "چناران",
         "marker": {
          "color": "#00cc96",
          "pattern": {
           "shape": ""
          }
         },
         "name": "چناران",
         "offsetgroup": "چناران",
         "orientation": "v",
         "showlegend": true,
         "textposition": "auto",
         "texttemplate": "%{y}",
         "type": "bar",
         "x": [
          "01",
          "02",
          "03",
          "04",
          "05",
          "06",
          "07",
          "08",
          "09",
          "10",
          "11",
          "12"
         ],
         "xaxis": "x3",
         "y": {
          "bdata": "AAAAAJCl6EBmZmZmdu7tQMHKoUUCS+JAsHJokfmy8UAAAAAAAOv1QAAAAACANvNAAAAAAAD63UAAAAAAIEjjQAAAAAAA0t9AAAAAAAB8nUAAAAAAAAAAAAAAAABgEutA",
          "dtype": "f8"
         },
         "yaxis": "y3"
        },
        {
         "alignmentgroup": "True",
         "hovertemplate": "County=چناران<br>year=1402<br>month_num=%{x}<br>Consumption (m³)=%{y}<extra></extra>",
         "legendgroup": "چناران",
         "marker": {
          "color": "#00cc96",
          "pattern": {
           "shape": ""
          }
         },
         "name": "چناران",
         "offsetgroup": "چناران",
         "orientation": "v",
         "showlegend": false,
         "textposition": "auto",
         "texttemplate": "%{y}",
         "type": "bar",
         "x": [
          "01",
          "02",
          "03",
          "04",
          "05",
          "06",
          "07",
          "08",
          "09",
          "10"
         ],
         "xaxis": "x2",
         "y": {
          "bdata": "AAAAACAm80AAAAAAYKjyQAAAAAAAq+pAAAAAACDK50AAAAAAwFrzQAAAAADA2fBAAAAAAOBP40AAAAAAwAbkQAAAAADwZvNAAAAAAACd3EA=",
          "dtype": "f8"
         },
         "yaxis": "y2"
        },
        {
         "alignmentgroup": "True",
         "hovertemplate": "County=کاشمر<br>year=1401<br>month_num=%{x}<br>Consumption (m³)=%{y}<extra></extra>",
         "legendgroup": "کاشمر",
         "marker": {
          "color": "#ab63fa",
          "pattern": {
           "shape": ""
          }
         },
         "name": "کاشمر",
         "offsetgroup": "کاشمر",
         "orientation": "v",
         "showlegend": true,
         "textposition": "auto",
         "texttemplate": "%{y}",
         "type": "bar",
         "x": [
          "01",
          "02",
          "03",
          "04",
          "05",
          "06",
          "07",
          "08",
          "09",
          "10",
          "11",
          "12"
         ],
         "xaxis": "x3",
         "y": {
          "bdata": "/tR46Y0BBEGBlUOL/2UDQcL1KNyaDChBLbKd7+zQDkEzMzMzU4YOQQIrhxYlLwlBgZVDi3Rc/UBjEFi5DGgiQY/C9SjiNPlAXrpJDNgk+0ACK4cWFefrQHE9ClcQpxlB",
          "dtype": "f8"
         },
         "yaxis": "y3"
        },
        {
         "alignmentgroup": "True",
         "hovertemplate": "County=کاشمر<br>year=1402<br>month_num=%{x}<br>Consumption (m³)=%{y}<extra></extra>",
         "legendgroup": "کاشمر",
         "marker": {
          "color": "#ab63fa",
          "pattern": {
           "shape": ""
          }
         },
         "name": "کاشمر",
         "offsetgroup": "کاشمر",
         "orientation": "v",
         "showlegend": false,
         "textposition": "auto",
         "texttemplate": "%{y}",
         "type": "bar",
         "x": [
          "01",
          "02",
          "03",
          "04",
          "05",
          "06",
          "07",
          "08",
          "09",
          "10",
          "11",
          "12"
         ],
         "xaxis": "x2",
         "y": {
          "bdata": "UrgeRYu4IkGamZn5nLkwQSPb+Z4o0TBBWDm0aDscNUGiRbaTdZY0QbKd7+fakjFBXI/CVQp0PkGe76eGeDY2QdEi21mfYTRBsHJokVeYDEF1kxjEiwAuQWiR7Xx3yAxB",
          "dtype": "f8"
         },
         "yaxis": "y2"
        },
        {
         "alignmentgroup": "True",
         "hovertemplate": "County=کاشمر<br>year=1403<br>month_num=%{x}<br>Consumption (m³)=%{y}<extra></extra>",
         "legendgroup": "کاشمر",
         "marker": {
          "color": "#ab63fa",
          "pattern": {
           "shape": ""
          }
         },
         "name": "کاشمر",
         "offsetgroup": "کاشمر",
         "orientation": "v",
         "showlegend": false,
         "textposition": "auto",
         "texttemplate": "%{y}",
         "type": "bar",
         "x": [
          "01",
          "02",
          "03",
          "04",
          "05",
          "06",
          "07",
          "08",
          "09",
          "10",
          "11",
          "12"
         ],
         "xaxis": "x",
         "y": {
          "bdata": "GARWTn/CKUGS7Xw/I5oGQZqZmZmzixBBj8L1KGXgFkErhxZZ14EdQQRWDq34oB1B3SQGgWjuEEH6fmq8Fs//QNNNYhBd5QJBmG4SgzCsC0FqvHSTZTIJQUFg5dA4GRJB",
          "dtype": "f8"
         },
         "yaxis": "y"
        },
        {
         "alignmentgroup": "True",
         "hovertemplate": "County=کلات<br>year=1401<br>month_num=%{x}<br>Consumption (m³)=%{y}<extra></extra>",
         "legendgroup": "کلات",
         "marker": {
          "color": "#FFA15A",
          "pattern": {
           "shape": ""
          }
         },
         "name": "کلات",
         "offsetgroup": "کلات",
         "orientation": "v",
         "showlegend": true,
         "textposition": "auto",
         "texttemplate": "%{y}",
         "type": "bar",
         "x": [
          "01",
          "02",
          "03",
          "04",
          "05",
          "06",
          "07",
          "08",
          "09",
          "10",
          "11",
          "12"
         ],
         "xaxis": "x3",
         "y": {
          "bdata": "gZVDi2xDYUD2KFyPwuVPQBkEVg4timhANV66SQytikDTTWIQWK18QOF6FK5HwVxAokW28/0ES0AIrBxaZLskQNV46SYxiCRAKVyPwvUoG0CsHFpkO98tQBKDwMqhhUNA",
          "dtype": "f8"
         },
         "yaxis": "y3"
        },
        {
         "alignmentgroup": "True",
         "hovertemplate": "County=کلات<br>year=1402<br>month_num=%{x}<br>Consumption (m³)=%{y}<extra></extra>",
         "legendgroup": "کلات",
         "marker": {
          "color": "#FFA15A",
          "pattern": {
           "shape": ""
          }
         },
         "name": "کلات",
         "offsetgroup": "کلات",
         "orientation": "v",
         "showlegend": false,
         "textposition": "auto",
         "texttemplate": "%{y}",
         "type": "bar",
         "x": [
          "01",
          "02",
          "03",
          "04",
          "05",
          "06",
          "07",
          "08",
          "09",
          "10",
          "11",
          "12"
         ],
         "xaxis": "x2",
         "y": {
          "bdata": "7FG4HoXrO0A5tMh2vjuMQM3MzMzMIZFAUrgehevlj0AZBFYOLcWNQDVeukkMIlJABFYOLbLdMUBkO99PjUdBQI/C9Shcf0BAj8L1KFwWhkBoke18P51bQEoMAiuHljlA",
          "dtype": "f8"
         },
         "yaxis": "y2"
        },
        {
         "alignmentgroup": "True",
         "hovertemplate": "County=کلات<br>year=1403<br>month_num=%{x}<br>Consumption (m³)=%{y}<extra></extra>",
         "legendgroup": "کلات",
         "marker": {
          "color": "#FFA15A",
          "pattern": {
           "shape": ""
          }
         },
         "name": "کلات",
         "offsetgroup": "کلات",
         "orientation": "v",
         "showlegend": false,
         "textposition": "auto",
         "texttemplate": "%{y}",
         "type": "bar",
         "x": [
          "01",
          "02",
          "03",
          "04",
          "05",
          "06",
          "07",
          "08",
          "09",
          "10",
          "11",
          "12"
         ],
         "xaxis": "x",
         "y": {
          "bdata": "aJHtfD9/e0AfhetRuOaPQF66SQwC3pNANV66SQwykUDD9ShcjyZ/QJqZmZmZrYhAj8L1KFz7hEDXo3A9CkeEQPp+arx0HqNAgZVDi6xmoUAlBoGVg9O0QEjhehRu/rVA",
          "dtype": "f8"
         },
         "yaxis": "y"
        },
        {
         "alignmentgroup": "True",
         "hovertemplate": "County=گناباد<br>year=1401<br>month_num=%{x}<br>Consumption (m³)=%{y}<extra></extra>",
         "legendgroup": "گناباد",
         "marker": {
          "color": "#19d3f3",
          "pattern": {
           "shape": ""
          }
         },
         "name": "گناباد",
         "offsetgroup": "گناباد",
         "orientation": "v",
         "showlegend": true,
         "textposition": "auto",
         "texttemplate": "%{y}",
         "type": "bar",
         "x": [
          "01",
          "02",
          "03",
          "04",
          "05",
          "06",
          "07",
          "08",
          "09",
          "10",
          "11",
          "12"
         ],
         "xaxis": "x3",
         "y": {
          "bdata": "E4PAyhnn3UAIrBxakPXzQDm0yHbGo9NA7FG4Hjlh5UDLoUW2o0DRQBBYObQIRdFAhetRuDbW0kDjpZvE8CLTQIPAyqFF4MpASzeJQaCVx0DP91PjxZ7TQIts5/ubMftA",
          "dtype": "f8"
         },
         "yaxis": "y3"
        },
        {
         "alignmentgroup": "True",
         "hovertemplate": "County=گناباد<br>year=1402<br>month_num=%{x}<br>Consumption (m³)=%{y}<extra></extra>",
         "legendgroup": "گناباد",
         "marker": {
          "color": "#19d3f3",
          "pattern": {
           "shape": ""
          }
         },
         "name": "گناباد",
         "offsetgroup": "گناباد",
         "orientation": "v",
         "showlegend": false,
         "textposition": "auto",
         "texttemplate": "%{y}",
         "type": "bar",
         "x": [
          "01",
          "02",
          "03",
          "04",
          "05",
          "06",
          "07",
          "08",
          "09",
          "10",
          "11",
          "12"
         ],
         "xaxis": "x2",
         "y": {
          "bdata": "bOf7qSGo1kByaJHtRIP5QC/dJIaLxCdBukkMgghFF0Hy0k3iR+QgQS6ynS/m3zBBjZduEllCMUGHFtmuysQ3QeomMYhTrSRBNV66SXtzLkG7SQwC148KQVTjpRt+MRVB",
          "dtype": "f8"
         },
         "yaxis": "y2"
        },
        {
         "alignmentgroup": "True",
         "hovertemplate": "County=گناباد<br>year=1403<br>month_num=%{x}<br>Consumption (m³)=%{y}<extra></extra>",
         "legendgroup": "گناباد",
         "marker": {
          "color": "#19d3f3",
          "pattern": {
           "shape": ""
          }
         },
         "name": "گناباد",
         "offsetgroup": "گناباد",
         "orientation": "v",
         "showlegend": false,
         "textposition": "auto",
         "texttemplate": "%{y}",
         "type": "bar",
         "x": [
          "01",
          "02",
          "03",
          "04",
          "05",
          "06",
          "07",
          "08",
          "09",
          "10",
          "11",
          "12"
         ],
         "xaxis": "x",
         "y": {
          "bdata": "dZMYBGtPBUEUrkfh06wEQQrXo/BdHhpBVg4t8rCKIUEhsHLoDVUaQVK4HgUkBR1BGQRWDiw4CUErhxbZDt/rQLByaJGpfuVAH4Xr0U7eFEEW2c731iURQQrXo/D7KBlB",
          "dtype": "f8"
         },
         "yaxis": "y"
        },
        {
         "alignmentgroup": "True",
         "hovertemplate": "County=فیروزه<br>year=1401<br>month_num=%{x}<br>Consumption (m³)=%{y}<extra></extra>",
         "legendgroup": "فیروزه",
         "marker": {
          "color": "#FF6692",
          "pattern": {
           "shape": ""
          }
         },
         "name": "فیروزه",
         "offsetgroup": "فیروزه",
         "orientation": "v",
         "showlegend": true,
         "textposition": "auto",
         "texttemplate": "%{y}",
         "type": "bar",
         "x": [
          "06",
          "07",
          "08",
          "09",
          "10",
          "11",
          "12"
         ],
         "xaxis": "x3",
         "y": {
          "bdata": "AAAAAAAAAAAAAAAAAAAAAAAAAAAAAAAAAAAAAAAAAAAAAAAAAAAAAAAAAAAAAAAAAAAAAAAAAAA=",
          "dtype": "f8"
         },
         "yaxis": "y3"
        },
        {
         "alignmentgroup": "True",
         "hovertemplate": "County=فیروزه<br>year=1402<br>month_num=%{x}<br>Consumption (m³)=%{y}<extra></extra>",
         "legendgroup": "فیروزه",
         "marker": {
          "color": "#FF6692",
          "pattern": {
           "shape": ""
          }
         },
         "name": "فیروزه",
         "offsetgroup": "فیروزه",
         "orientation": "v",
         "showlegend": false,
         "textposition": "auto",
         "texttemplate": "%{y}",
         "type": "bar",
         "x": [
          "01",
          "02",
          "03",
          "04",
          "05",
          "06",
          "07",
          "08",
          "09",
          "10",
          "11",
          "12"
         ],
         "xaxis": "x2",
         "y": {
          "bdata": "AAAAAAAAAAAAAAAAAAAAAAAAAAAAAAAAAAAAAAAAAADn+6nx0l2rQMl2vp/aW8BAvHSTGHsiGkHMzMzMDFfZQHnpJjHYEdRAMzMzM7MA1EBmZmZmpjHQQDMzMzOzstJA",
          "dtype": "f8"
         },
         "yaxis": "y2"
        },
        {
         "alignmentgroup": "True",
         "hovertemplate": "County=احمدآبادصولت<br>year=1401<br>month_num=%{x}<br>Consumption (m³)=%{y}<extra></extra>",
         "legendgroup": "احمدآبادصولت",
         "marker": {
          "color": "#B6E880",
          "pattern": {
           "shape": ""
          }
         },
         "name": "احمدآبادصولت",
         "offsetgroup": "احمدآبادصولت",
         "orientation": "v",
         "showlegend": true,
         "textposition": "auto",
         "texttemplate": "%{y}",
         "type": "bar",
         "x": [
          "09",
          "10",
          "11",
          "12"
         ],
         "xaxis": "x3",
         "y": {
          "bdata": "AAAAAAAAAAAAAAAAAAAAAAAAAAAAAAAAAAAAAAAAAAA=",
          "dtype": "f8"
         },
         "yaxis": "y3"
        },
        {
         "alignmentgroup": "True",
         "hovertemplate": "County=احمدآبادصولت<br>year=1402<br>month_num=%{x}<br>Consumption (m³)=%{y}<extra></extra>",
         "legendgroup": "احمدآبادصولت",
         "marker": {
          "color": "#B6E880",
          "pattern": {
           "shape": ""
          }
         },
         "name": "احمدآبادصولت",
         "offsetgroup": "احمدآبادصولت",
         "orientation": "v",
         "showlegend": false,
         "textposition": "auto",
         "texttemplate": "%{y}",
         "type": "bar",
         "x": [
          "01",
          "02",
          "03",
          "04",
          "05",
          "06",
          "07",
          "08",
          "09",
          "10",
          "11",
          "12"
         ],
         "xaxis": "x2",
         "y": {
          "bdata": "AAAAAAAAAAAAAAAAAAAAAAAAAAAAAAAAAAAAAAAAAAAAAAAAAAAAAAAAAAAAAAAAAAAAAAAAAAAAAAAAAAAAAAAAAAAAAAAAAAAAAAAAAAAAAAAAAAAAAAAAAAAAAAAA",
          "dtype": "f8"
         },
         "yaxis": "y2"
        },
        {
         "alignmentgroup": "True",
         "hovertemplate": "County=احمدآبادصولت<br>year=1403<br>month_num=%{x}<br>Consumption (m³)=%{y}<extra></extra>",
         "legendgroup": "احمدآبادصولت",
         "marker": {
          "color": "#B6E880",
          "pattern": {
           "shape": ""
          }
         },
         "name": "احمدآبادصولت",
         "offsetgroup": "احمدآبادصولت",
         "orientation": "v",
         "showlegend": false,
         "textposition": "auto",
         "texttemplate": "%{y}",
         "type": "bar",
         "x": [
          "01",
          "02",
          "03",
          "04",
          "05",
          "06",
          "07",
          "08",
          "09",
          "10",
          "11",
          "12"
         ],
         "xaxis": "x",
         "y": {
          "bdata": "AAAAAAAAAAAAAAAAAAAAAAAAAAAAAAAAAAAAAAAAAAAAAAAAAAAAAAAAAAAAAAAAAAAAAAAAAAAAAAAAAAAAAPLSTWIQ2D9AqvHSTWIYUkCxcmiR7Tp0QFpkO9/vY7NA",
          "dtype": "f8"
         },
         "yaxis": "y"
        },
        {
         "alignmentgroup": "True",
         "hovertemplate": "County=خرو<br>year=1403<br>month_num=%{x}<br>Consumption (m³)=%{y}<extra></extra>",
         "legendgroup": "خرو",
         "marker": {
          "color": "#FF97FF",
          "pattern": {
           "shape": ""
          }
         },
         "name": "خرو",
         "offsetgroup": "خرو",
         "orientation": "v",
         "showlegend": true,
         "textposition": "auto",
         "texttemplate": "%{y}",
         "type": "bar",
         "x": [
          "03",
          "04",
          "05",
          "06",
          "07",
          "08",
          "09",
          "10"
         ],
         "xaxis": "x",
         "y": {
          "bdata": "jZduEkP/p0CiRbbzvRa6QJhuEoPgtrdASOF6FC4dvkA9CtejELDAQHsUrkehscNASOF6FG4Wx0DD9Shcz+fEQA==",
          "dtype": "f8"
         },
         "yaxis": "y"
        },
        {
         "alignmentgroup": "True",
         "hovertemplate": "County=فریمان<br>year=1403<br>month_num=%{x}<br>Consumption (m³)=%{y}<extra></extra>",
         "legendgroup": "فریمان",
         "marker": {
          "color": "#FECB52",
          "pattern": {
           "shape": ""
          }
         },
         "name": "فریمان",
         "offsetgroup": "فریمان",
         "orientation": "v",
         "showlegend": true,
         "textposition": "auto",
         "texttemplate": "%{y}",
         "type": "bar",
         "x": [
          "08",
          "09",
          "10",
          "11",
          "12"
         ],
         "xaxis": "x",
         "y": {
          "bdata": "MQisHFpCdkCiRbbzfayWQESLbOf7R5ZAYOXQIltFlEDdJAaBFfeVQA==",
          "dtype": "f8"
         },
         "yaxis": "y"
        }
       ],
       "layout": {
        "annotations": [
         {
          "font": {},
          "showarrow": false,
          "text": "year=1403",
          "textangle": 90,
          "x": 0.98,
          "xanchor": "left",
          "xref": "paper",
          "y": 0.15666666666666665,
          "yanchor": "middle",
          "yref": "paper"
         },
         {
          "font": {},
          "showarrow": false,
          "text": "year=1402",
          "textangle": 90,
          "x": 0.98,
          "xanchor": "left",
          "xref": "paper",
          "y": 0.4999999999999999,
          "yanchor": "middle",
          "yref": "paper"
         },
         {
          "font": {},
          "showarrow": false,
          "text": "year=1401",
          "textangle": 90,
          "x": 0.98,
          "xanchor": "left",
          "xref": "paper",
          "y": 0.8433333333333332,
          "yanchor": "middle",
          "yref": "paper"
         }
        ],
        "bargap": 0.2,
        "bargroupgap": 0.1,
        "barmode": "group",
        "height": 800,
        "legend": {
         "title": {
          "text": "County"
         },
         "tracegroupgap": 0
        },
        "template": {
         "data": {
          "bar": [
           {
            "error_x": {
             "color": "#2a3f5f"
            },
            "error_y": {
             "color": "#2a3f5f"
            },
            "marker": {
             "line": {
              "color": "#E5ECF6",
              "width": 0.5
             },
             "pattern": {
              "fillmode": "overlay",
              "size": 10,
              "solidity": 0.2
             }
            },
            "type": "bar"
           }
          ],
          "barpolar": [
           {
            "marker": {
             "line": {
              "color": "#E5ECF6",
              "width": 0.5
             },
             "pattern": {
              "fillmode": "overlay",
              "size": 10,
              "solidity": 0.2
             }
            },
            "type": "barpolar"
           }
          ],
          "carpet": [
           {
            "aaxis": {
             "endlinecolor": "#2a3f5f",
             "gridcolor": "white",
             "linecolor": "white",
             "minorgridcolor": "white",
             "startlinecolor": "#2a3f5f"
            },
            "baxis": {
             "endlinecolor": "#2a3f5f",
             "gridcolor": "white",
             "linecolor": "white",
             "minorgridcolor": "white",
             "startlinecolor": "#2a3f5f"
            },
            "type": "carpet"
           }
          ],
          "choropleth": [
           {
            "colorbar": {
             "outlinewidth": 0,
             "ticks": ""
            },
            "type": "choropleth"
           }
          ],
          "contour": [
           {
            "colorbar": {
             "outlinewidth": 0,
             "ticks": ""
            },
            "colorscale": [
             [
              0,
              "#0d0887"
             ],
             [
              0.1111111111111111,
              "#46039f"
             ],
             [
              0.2222222222222222,
              "#7201a8"
             ],
             [
              0.3333333333333333,
              "#9c179e"
             ],
             [
              0.4444444444444444,
              "#bd3786"
             ],
             [
              0.5555555555555556,
              "#d8576b"
             ],
             [
              0.6666666666666666,
              "#ed7953"
             ],
             [
              0.7777777777777778,
              "#fb9f3a"
             ],
             [
              0.8888888888888888,
              "#fdca26"
             ],
             [
              1,
              "#f0f921"
             ]
            ],
            "type": "contour"
           }
          ],
          "contourcarpet": [
           {
            "colorbar": {
             "outlinewidth": 0,
             "ticks": ""
            },
            "type": "contourcarpet"
           }
          ],
          "heatmap": [
           {
            "colorbar": {
             "outlinewidth": 0,
             "ticks": ""
            },
            "colorscale": [
             [
              0,
              "#0d0887"
             ],
             [
              0.1111111111111111,
              "#46039f"
             ],
             [
              0.2222222222222222,
              "#7201a8"
             ],
             [
              0.3333333333333333,
              "#9c179e"
             ],
             [
              0.4444444444444444,
              "#bd3786"
             ],
             [
              0.5555555555555556,
              "#d8576b"
             ],
             [
              0.6666666666666666,
              "#ed7953"
             ],
             [
              0.7777777777777778,
              "#fb9f3a"
             ],
             [
              0.8888888888888888,
              "#fdca26"
             ],
             [
              1,
              "#f0f921"
             ]
            ],
            "type": "heatmap"
           }
          ],
          "histogram": [
           {
            "marker": {
             "pattern": {
              "fillmode": "overlay",
              "size": 10,
              "solidity": 0.2
             }
            },
            "type": "histogram"
           }
          ],
          "histogram2d": [
           {
            "colorbar": {
             "outlinewidth": 0,
             "ticks": ""
            },
            "colorscale": [
             [
              0,
              "#0d0887"
             ],
             [
              0.1111111111111111,
              "#46039f"
             ],
             [
              0.2222222222222222,
              "#7201a8"
             ],
             [
              0.3333333333333333,
              "#9c179e"
             ],
             [
              0.4444444444444444,
              "#bd3786"
             ],
             [
              0.5555555555555556,
              "#d8576b"
             ],
             [
              0.6666666666666666,
              "#ed7953"
             ],
             [
              0.7777777777777778,
              "#fb9f3a"
             ],
             [
              0.8888888888888888,
              "#fdca26"
             ],
             [
              1,
              "#f0f921"
             ]
            ],
            "type": "histogram2d"
           }
          ],
          "histogram2dcontour": [
           {
            "colorbar": {
             "outlinewidth": 0,
             "ticks": ""
            },
            "colorscale": [
             [
              0,
              "#0d0887"
             ],
             [
              0.1111111111111111,
              "#46039f"
             ],
             [
              0.2222222222222222,
              "#7201a8"
             ],
             [
              0.3333333333333333,
              "#9c179e"
             ],
             [
              0.4444444444444444,
              "#bd3786"
             ],
             [
              0.5555555555555556,
              "#d8576b"
             ],
             [
              0.6666666666666666,
              "#ed7953"
             ],
             [
              0.7777777777777778,
              "#fb9f3a"
             ],
             [
              0.8888888888888888,
              "#fdca26"
             ],
             [
              1,
              "#f0f921"
             ]
            ],
            "type": "histogram2dcontour"
           }
          ],
          "mesh3d": [
           {
            "colorbar": {
             "outlinewidth": 0,
             "ticks": ""
            },
            "type": "mesh3d"
           }
          ],
          "parcoords": [
           {
            "line": {
             "colorbar": {
              "outlinewidth": 0,
              "ticks": ""
             }
            },
            "type": "parcoords"
           }
          ],
          "pie": [
           {
            "automargin": true,
            "type": "pie"
           }
          ],
          "scatter": [
           {
            "fillpattern": {
             "fillmode": "overlay",
             "size": 10,
             "solidity": 0.2
            },
            "type": "scatter"
           }
          ],
          "scatter3d": [
           {
            "line": {
             "colorbar": {
              "outlinewidth": 0,
              "ticks": ""
             }
            },
            "marker": {
             "colorbar": {
              "outlinewidth": 0,
              "ticks": ""
             }
            },
            "type": "scatter3d"
           }
          ],
          "scattercarpet": [
           {
            "marker": {
             "colorbar": {
              "outlinewidth": 0,
              "ticks": ""
             }
            },
            "type": "scattercarpet"
           }
          ],
          "scattergeo": [
           {
            "marker": {
             "colorbar": {
              "outlinewidth": 0,
              "ticks": ""
             }
            },
            "type": "scattergeo"
           }
          ],
          "scattergl": [
           {
            "marker": {
             "colorbar": {
              "outlinewidth": 0,
              "ticks": ""
             }
            },
            "type": "scattergl"
           }
          ],
          "scattermap": [
           {
            "marker": {
             "colorbar": {
              "outlinewidth": 0,
              "ticks": ""
             }
            },
            "type": "scattermap"
           }
          ],
          "scattermapbox": [
           {
            "marker": {
             "colorbar": {
              "outlinewidth": 0,
              "ticks": ""
             }
            },
            "type": "scattermapbox"
           }
          ],
          "scatterpolar": [
           {
            "marker": {
             "colorbar": {
              "outlinewidth": 0,
              "ticks": ""
             }
            },
            "type": "scatterpolar"
           }
          ],
          "scatterpolargl": [
           {
            "marker": {
             "colorbar": {
              "outlinewidth": 0,
              "ticks": ""
             }
            },
            "type": "scatterpolargl"
           }
          ],
          "scatterternary": [
           {
            "marker": {
             "colorbar": {
              "outlinewidth": 0,
              "ticks": ""
             }
            },
            "type": "scatterternary"
           }
          ],
          "surface": [
           {
            "colorbar": {
             "outlinewidth": 0,
             "ticks": ""
            },
            "colorscale": [
             [
              0,
              "#0d0887"
             ],
             [
              0.1111111111111111,
              "#46039f"
             ],
             [
              0.2222222222222222,
              "#7201a8"
             ],
             [
              0.3333333333333333,
              "#9c179e"
             ],
             [
              0.4444444444444444,
              "#bd3786"
             ],
             [
              0.5555555555555556,
              "#d8576b"
             ],
             [
              0.6666666666666666,
              "#ed7953"
             ],
             [
              0.7777777777777778,
              "#fb9f3a"
             ],
             [
              0.8888888888888888,
              "#fdca26"
             ],
             [
              1,
              "#f0f921"
             ]
            ],
            "type": "surface"
           }
          ],
          "table": [
           {
            "cells": {
             "fill": {
              "color": "#EBF0F8"
             },
             "line": {
              "color": "white"
             }
            },
            "header": {
             "fill": {
              "color": "#C8D4E3"
             },
             "line": {
              "color": "white"
             }
            },
            "type": "table"
           }
          ]
         },
         "layout": {
          "annotationdefaults": {
           "arrowcolor": "#2a3f5f",
           "arrowhead": 0,
           "arrowwidth": 1
          },
          "autotypenumbers": "strict",
          "coloraxis": {
           "colorbar": {
            "outlinewidth": 0,
            "ticks": ""
           }
          },
          "colorscale": {
           "diverging": [
            [
             0,
             "#8e0152"
            ],
            [
             0.1,
             "#c51b7d"
            ],
            [
             0.2,
             "#de77ae"
            ],
            [
             0.3,
             "#f1b6da"
            ],
            [
             0.4,
             "#fde0ef"
            ],
            [
             0.5,
             "#f7f7f7"
            ],
            [
             0.6,
             "#e6f5d0"
            ],
            [
             0.7,
             "#b8e186"
            ],
            [
             0.8,
             "#7fbc41"
            ],
            [
             0.9,
             "#4d9221"
            ],
            [
             1,
             "#276419"
            ]
           ],
           "sequential": [
            [
             0,
             "#0d0887"
            ],
            [
             0.1111111111111111,
             "#46039f"
            ],
            [
             0.2222222222222222,
             "#7201a8"
            ],
            [
             0.3333333333333333,
             "#9c179e"
            ],
            [
             0.4444444444444444,
             "#bd3786"
            ],
            [
             0.5555555555555556,
             "#d8576b"
            ],
            [
             0.6666666666666666,
             "#ed7953"
            ],
            [
             0.7777777777777778,
             "#fb9f3a"
            ],
            [
             0.8888888888888888,
             "#fdca26"
            ],
            [
             1,
             "#f0f921"
            ]
           ],
           "sequentialminus": [
            [
             0,
             "#0d0887"
            ],
            [
             0.1111111111111111,
             "#46039f"
            ],
            [
             0.2222222222222222,
             "#7201a8"
            ],
            [
             0.3333333333333333,
             "#9c179e"
            ],
            [
             0.4444444444444444,
             "#bd3786"
            ],
            [
             0.5555555555555556,
             "#d8576b"
            ],
            [
             0.6666666666666666,
             "#ed7953"
            ],
            [
             0.7777777777777778,
             "#fb9f3a"
            ],
            [
             0.8888888888888888,
             "#fdca26"
            ],
            [
             1,
             "#f0f921"
            ]
           ]
          },
          "colorway": [
           "#636efa",
           "#EF553B",
           "#00cc96",
           "#ab63fa",
           "#FFA15A",
           "#19d3f3",
           "#FF6692",
           "#B6E880",
           "#FF97FF",
           "#FECB52"
          ],
          "font": {
           "color": "#2a3f5f"
          },
          "geo": {
           "bgcolor": "white",
           "lakecolor": "white",
           "landcolor": "#E5ECF6",
           "showlakes": true,
           "showland": true,
           "subunitcolor": "white"
          },
          "hoverlabel": {
           "align": "left"
          },
          "hovermode": "closest",
          "mapbox": {
           "style": "light"
          },
          "paper_bgcolor": "white",
          "plot_bgcolor": "#E5ECF6",
          "polar": {
           "angularaxis": {
            "gridcolor": "white",
            "linecolor": "white",
            "ticks": ""
           },
           "bgcolor": "#E5ECF6",
           "radialaxis": {
            "gridcolor": "white",
            "linecolor": "white",
            "ticks": ""
           }
          },
          "scene": {
           "xaxis": {
            "backgroundcolor": "#E5ECF6",
            "gridcolor": "white",
            "gridwidth": 2,
            "linecolor": "white",
            "showbackground": true,
            "ticks": "",
            "zerolinecolor": "white"
           },
           "yaxis": {
            "backgroundcolor": "#E5ECF6",
            "gridcolor": "white",
            "gridwidth": 2,
            "linecolor": "white",
            "showbackground": true,
            "ticks": "",
            "zerolinecolor": "white"
           },
           "zaxis": {
            "backgroundcolor": "#E5ECF6",
            "gridcolor": "white",
            "gridwidth": 2,
            "linecolor": "white",
            "showbackground": true,
            "ticks": "",
            "zerolinecolor": "white"
           }
          },
          "shapedefaults": {
           "line": {
            "color": "#2a3f5f"
           }
          },
          "ternary": {
           "aaxis": {
            "gridcolor": "white",
            "linecolor": "white",
            "ticks": ""
           },
           "baxis": {
            "gridcolor": "white",
            "linecolor": "white",
            "ticks": ""
           },
           "bgcolor": "#E5ECF6",
           "caxis": {
            "gridcolor": "white",
            "linecolor": "white",
            "ticks": ""
           }
          },
          "title": {
           "x": 0.05
          },
          "xaxis": {
           "automargin": true,
           "gridcolor": "white",
           "linecolor": "white",
           "ticks": "",
           "title": {
            "standoff": 15
           },
           "zerolinecolor": "white",
           "zerolinewidth": 2
          },
          "yaxis": {
           "automargin": true,
           "gridcolor": "white",
           "linecolor": "white",
           "ticks": "",
           "title": {
            "standoff": 15
           },
           "zerolinecolor": "white",
           "zerolinewidth": 2
          }
         }
        },
        "title": {
         "text": "میزان مصرف آب به تفکیک شهر و ماه"
        },
        "xaxis": {
         "anchor": "y",
         "domain": [
          0,
          0.98
         ],
         "tickangle": 45,
         "tickmode": "array",
         "ticktext": [
          "فروردین",
          "اردیبهشت",
          "خرداد",
          "تیر",
          "مرداد",
          "شهریور",
          "مهر",
          "آبان",
          "آذر",
          "دی",
          "بهمن",
          "اسفند"
         ],
         "tickvals": [
          "01",
          "02",
          "03",
          "04",
          "05",
          "06",
          "07",
          "08",
          "09",
          "10",
          "11",
          "12"
         ],
         "title": {
          "text": "ماه"
         },
         "type": "category"
        },
        "xaxis2": {
         "anchor": "y2",
         "domain": [
          0,
          0.98
         ],
         "matches": "x",
         "showticklabels": false,
         "tickangle": 45,
         "tickmode": "array",
         "ticktext": [
          "فروردین",
          "اردیبهشت",
          "خرداد",
          "تیر",
          "مرداد",
          "شهریور",
          "مهر",
          "آبان",
          "آذر",
          "دی",
          "بهمن",
          "اسفند"
         ],
         "tickvals": [
          "01",
          "02",
          "03",
          "04",
          "05",
          "06",
          "07",
          "08",
          "09",
          "10",
          "11",
          "12"
         ],
         "type": "category"
        },
        "xaxis3": {
         "anchor": "y3",
         "domain": [
          0,
          0.98
         ],
         "matches": "x",
         "showticklabels": false,
         "tickangle": 45,
         "tickmode": "array",
         "ticktext": [
          "فروردین",
          "اردیبهشت",
          "خرداد",
          "تیر",
          "مرداد",
          "شهریور",
          "مهر",
          "آبان",
          "آذر",
          "دی",
          "بهمن",
          "اسفند"
         ],
         "tickvals": [
          "01",
          "02",
          "03",
          "04",
          "05",
          "06",
          "07",
          "08",
          "09",
          "10",
          "11",
          "12"
         ],
         "type": "category"
        },
        "yaxis": {
         "anchor": "x",
         "domain": [
          0,
          0.3133333333333333
         ],
         "title": {
          "text": "مصرف (متر مکعب)"
         }
        },
        "yaxis2": {
         "anchor": "x2",
         "domain": [
          0.34333333333333327,
          0.6566666666666665
         ],
         "matches": "y",
         "title": {
          "text": "Consumption (m³)"
         }
        },
        "yaxis3": {
         "anchor": "x3",
         "domain": [
          0.6866666666666665,
          0.9999999999999998
         ],
         "matches": "y",
         "title": {
          "text": "Consumption (m³)"
         }
        }
       }
      }
     },
     "metadata": {},
     "output_type": "display_data"
    }
   ],
   "source": [
    "import plotly.express as px\n",
    "import plotly.graph_objects as go\n",
    "\n",
    "# آماده‌سازی داده‌ها\n",
    "df_copy['year'] = df_copy['month'].str.split('/').str[0]\n",
    "df_copy['month_num'] = df_copy['month'].str.split('/').str[1]\n",
    "\n",
    "# جمع مصرف به تفکیک سال، ماه و شهر\n",
    "grouped = df_copy.groupby(['year', 'month_num', 'County'])['Consumption (m³)'].sum().reset_index()\n",
    "\n",
    "# مرتب‌سازی بر اساس سال و ماه\n",
    "grouped = grouped.sort_values(['year', 'month_num', 'County'])\n",
    "\n",
    "# رسم نمودار ستونی\n",
    "fig = px.bar(\n",
    "    grouped,\n",
    "    x='month_num',\n",
    "    y='Consumption (m³)',\n",
    "    color='County',\n",
    "    barmode='group',\n",
    "    facet_row='year',\n",
    "    height=800,\n",
    "    text_auto=True,  # نمایش مقادیر روی نمودار\n",
    "    title='میزان مصرف آب به تفکیک شهر و ماه'\n",
    ")\n",
    "\n",
    "# تنظیمات بیشتر نمودار\n",
    "fig.update_layout(\n",
    "    yaxis_title='مصرف (متر مکعب)',\n",
    "    xaxis_title='ماه',\n",
    "    bargap=0.2,      # فاصله بین ستون‌های هر گروه\n",
    "    bargroupgap=0.1  # فاصله بین گروه‌های ستونی\n",
    ")\n",
    "\n",
    "# بهبود نمایش محور X\n",
    "fig.update_xaxes(\n",
    "    type='category',\n",
    "    tickangle=45,    # چرخش برچسب‌های محور X\n",
    "    tickmode='array',\n",
    "    ticktext=['فروردین', 'اردیبهشت', 'خرداد', 'تیر', 'مرداد', 'شهریور', \n",
    "              'مهر', 'آبان', 'آذر', 'دی', 'بهمن', 'اسفند'],\n",
    "    tickvals=grouped['month_num'].unique()\n",
    ")\n",
    "\n",
    "fig.show()"
   ]
  },
  {
   "cell_type": "code",
   "execution_count": null,
   "id": "3e924dc8",
   "metadata": {},
   "outputs": [],
   "source": []
  }
 ],
 "metadata": {
  "kernelspec": {
   "display_name": "tf-gpu",
   "language": "python",
   "name": "python3"
  },
  "language_info": {
   "codemirror_mode": {
    "name": "ipython",
    "version": 3
   },
   "file_extension": ".py",
   "mimetype": "text/x-python",
   "name": "python",
   "nbconvert_exporter": "python",
   "pygments_lexer": "ipython3",
   "version": "3.12.11"
  }
 },
 "nbformat": 4,
 "nbformat_minor": 5
}
